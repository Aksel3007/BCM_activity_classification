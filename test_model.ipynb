{
 "cells": [
  {
   "cell_type": "markdown",
   "metadata": {},
   "source": [
    "# Create Confusion Matrix"
   ]
  },
  {
   "cell_type": "code",
   "execution_count": 1,
   "metadata": {},
   "outputs": [
    {
     "name": "stdout",
     "output_type": "stream",
     "text": [
      "Dataset version: 2.0\n"
     ]
    }
   ],
   "source": [
    "from BCM_dataset_v2 import bcmDataset\n",
    "from torch.utils.data import DataLoader\n",
    "import torch\n",
    "from sklearn.metrics import confusion_matrix, ConfusionMatrixDisplay\n",
    "import numpy as np\n",
    "import matplotlib.pyplot as plt\n"
   ]
  },
  {
   "cell_type": "code",
   "execution_count": 2,
   "metadata": {},
   "outputs": [
    {
     "name": "stdout",
     "output_type": "stream",
     "text": [
      "Validation set\n",
      "data/bcm/validation/0.npy\n",
      "data/bcm/validation/1.npy\n",
      "data/bcm/validation/2.npy\n",
      "data/bcm/validation/3.npy\n",
      "data/bcm/validation/4.npy\n",
      "Training set\n",
      "data/bcm/train/0.npy\n",
      "data/bcm/train/1.npy\n",
      "data/bcm/train/2.npy\n",
      "data/bcm/train/3.npy\n",
      "data/bcm/train/4.npy\n"
     ]
    }
   ],
   "source": [
    "# Load a previously trained model\n",
    "\n",
    "from BCM_dataset_v2 import concat_train_test_datasets\n",
    "\n",
    "\n",
    "model_loaded = torch.jit.load('trained_models/oct_6_3_sec_window')\n",
    "model_loaded.eval()\n",
    "\n",
    "# Create a dataset\n",
    "#ds = bcmDataset('data/bcm/4.npy', class_id = 4, window_size = 3, stride = 3, MFCC_stride = 0.032)\n",
    "_, ds = concat_train_test_datasets('data/bcm', window_size = 3, MFCC_stride = 0.032)\n"
   ]
  },
  {
   "cell_type": "code",
   "execution_count": 14,
   "metadata": {},
   "outputs": [
    {
     "ename": "KeyboardInterrupt",
     "evalue": "",
     "output_type": "error",
     "traceback": [
      "\u001b[0;31m---------------------------------------------------------------------------\u001b[0m",
      "\u001b[0;31mKeyboardInterrupt\u001b[0m                         Traceback (most recent call last)",
      "\u001b[1;32m/home/aron/BCM_activity_classification/test_model.ipynb Cell 4\u001b[0m in \u001b[0;36m<module>\u001b[0;34m\u001b[0m\n\u001b[1;32m      <a href='vscode-notebook-cell://ssh-remote%2Bgpucluster.st.lab.au.dk/home/aron/BCM_activity_classification/test_model.ipynb#W3sdnNjb2RlLXJlbW90ZQ%3D%3D?line=7'>8</a>\u001b[0m test \u001b[39m=\u001b[39m ds[i][\u001b[39m0\u001b[39m]\n\u001b[1;32m      <a href='vscode-notebook-cell://ssh-remote%2Bgpucluster.st.lab.au.dk/home/aron/BCM_activity_classification/test_model.ipynb#W3sdnNjb2RlLXJlbW90ZQ%3D%3D?line=8'>9</a>\u001b[0m test \u001b[39m=\u001b[39m test[\u001b[39mNone\u001b[39;00m,:,:]\n\u001b[0;32m---> <a href='vscode-notebook-cell://ssh-remote%2Bgpucluster.st.lab.au.dk/home/aron/BCM_activity_classification/test_model.ipynb#W3sdnNjb2RlLXJlbW90ZQ%3D%3D?line=9'>10</a>\u001b[0m preds[i] \u001b[39m=\u001b[39m model_loaded(test)\u001b[39m.\u001b[39margmax()\n\u001b[1;32m     <a href='vscode-notebook-cell://ssh-remote%2Bgpucluster.st.lab.au.dk/home/aron/BCM_activity_classification/test_model.ipynb#W3sdnNjb2RlLXJlbW90ZQ%3D%3D?line=10'>11</a>\u001b[0m y[i] \u001b[39m=\u001b[39m ds[i][\u001b[39m1\u001b[39m]\u001b[39m.\u001b[39margmax()\n",
      "File \u001b[0;32m~/.local/lib/python3.8/site-packages/torch/nn/modules/module.py:1110\u001b[0m, in \u001b[0;36mModule._call_impl\u001b[0;34m(self, *input, **kwargs)\u001b[0m\n\u001b[1;32m   1106\u001b[0m \u001b[39m# If we don't have any hooks, we want to skip the rest of the logic in\u001b[39;00m\n\u001b[1;32m   1107\u001b[0m \u001b[39m# this function, and just call forward.\u001b[39;00m\n\u001b[1;32m   1108\u001b[0m \u001b[39mif\u001b[39;00m \u001b[39mnot\u001b[39;00m (\u001b[39mself\u001b[39m\u001b[39m.\u001b[39m_backward_hooks \u001b[39mor\u001b[39;00m \u001b[39mself\u001b[39m\u001b[39m.\u001b[39m_forward_hooks \u001b[39mor\u001b[39;00m \u001b[39mself\u001b[39m\u001b[39m.\u001b[39m_forward_pre_hooks \u001b[39mor\u001b[39;00m _global_backward_hooks\n\u001b[1;32m   1109\u001b[0m         \u001b[39mor\u001b[39;00m _global_forward_hooks \u001b[39mor\u001b[39;00m _global_forward_pre_hooks):\n\u001b[0;32m-> 1110\u001b[0m     \u001b[39mreturn\u001b[39;00m forward_call(\u001b[39m*\u001b[39;49m\u001b[39minput\u001b[39;49m, \u001b[39m*\u001b[39;49m\u001b[39m*\u001b[39;49mkwargs)\n\u001b[1;32m   1111\u001b[0m \u001b[39m# Do not call functions when jit is used\u001b[39;00m\n\u001b[1;32m   1112\u001b[0m full_backward_hooks, non_full_backward_hooks \u001b[39m=\u001b[39m [], []\n",
      "\u001b[0;31mKeyboardInterrupt\u001b[0m: "
     ]
    }
   ],
   "source": [
    "\n",
    "preds = np.zeros(len(ds))\n",
    "y = np.zeros(len(ds))\n",
    "\n",
    "\n",
    "for i in range(0, len(ds)):\n",
    "    # Remeber to insert empty/None dimension to test a single datapoint!!!!!!!!!\n",
    "    test = ds[i][0]\n",
    "    test = test[None,:,:]\n",
    "    preds[i] = model_loaded(test).argmax()\n",
    "    y[i] = ds[i][1].argmax()\n",
    "    \n",
    "# Cell takes approx 6 mins to run\n"
   ]
  },
  {
   "cell_type": "code",
   "execution_count": 4,
   "metadata": {},
   "outputs": [
    {
     "data": {
      "text/plain": [
       "<sklearn.metrics._plot.confusion_matrix.ConfusionMatrixDisplay at 0x7f9028357be0>"
      ]
     },
     "execution_count": 4,
     "metadata": {},
     "output_type": "execute_result"
    },
    {
     "data": {
      "image/png": "[encoded data removed]",
      "text/plain": [
       "<Figure size 720x720 with 2 Axes>"
      ]
     },
     "metadata": {},
     "output_type": "display_data"
    }
   ],
   "source": [
    "conf_mat = confusion_matrix(y, preds)\n",
    "fig, ax = plt.subplots(figsize=(10, 10))\n",
    "\n",
    "cm = confusion_matrix(y, preds, labels=[0,1,2,3,4])\n",
    "disp = ConfusionMatrixDisplay(confusion_matrix=cm, display_labels=['Breathing','Snoring','Held Breath','Chewing','Speaking'])\n",
    "fig.patch.set_facecolor('white')\n",
    "disp.plot(ax = ax)\n",
    "\n"
   ]
  },
  {
   "cell_type": "markdown",
   "metadata": {},
   "source": []
  },
  {
   "cell_type": "markdown",
   "metadata": {},
   "source": [
    "# Traceable dataset"
   ]
  },
  {
   "cell_type": "code",
   "execution_count": 5,
   "metadata": {},
   "outputs": [],
   "source": [
    "import os\n",
    "import torch\n",
    "from torch.utils.data import Dataset, DataLoader\n",
    "import numpy as np\n",
    "import h5py\n",
    "from python_speech_features import mfcc\n",
    "import matplotlib.pyplot as plt\n",
    "import tracemalloc\n",
    "from SerialTriggerDecoder import SerialTriggerDecoder\n",
    "from scipy import signal"
   ]
  },
  {
   "cell_type": "code",
   "execution_count": 6,
   "metadata": {},
   "outputs": [
    {
     "name": "stdout",
     "output_type": "stream",
     "text": [
      "i: 19492\n",
      "Time: 0.38984 s\n",
      "i: 519489\n",
      "Time: 10.38978 s\n",
      "i: 1019486\n",
      "Time: 20.38972 s\n",
      "i: 1519483\n",
      "Time: 30.38966 s\n",
      "i: 2019481\n",
      "Time: 40.38962 s\n",
      "i: 2519478\n",
      "Time: 50.38956 s\n",
      "i: 3019475\n",
      "Time: 60.3895 s\n",
      "i: 3519472\n",
      "Time: 70.38944 s\n",
      "i: 4019470\n",
      "Time: 80.3894 s\n",
      "i: 4519467\n",
      "Time: 90.38934 s\n",
      "i: 5020452\n",
      "Time: 100.40904 s\n",
      "i: 5520449\n",
      "Time: 110.40898 s\n",
      "i: 6020446\n",
      "Time: 120.40892 s\n",
      "i: 6520443\n",
      "Time: 130.40886 s\n",
      "i: 7020440\n",
      "Time: 140.4088 s\n",
      "i: 7520438\n",
      "Time: 150.40876 s\n",
      "i: 8020435\n",
      "Time: 160.4087 s\n",
      "i: 8520432\n",
      "Time: 170.40864 s\n",
      "i: 9020429\n",
      "Time: 180.40858 s\n",
      "i: 9520427\n",
      "Time: 190.40854 s\n",
      "i: 10022045\n",
      "Time: 200.4409 s\n",
      "i: 10522042\n",
      "Time: 210.44084 s\n",
      "i: 11022039\n",
      "Time: 220.44078 s\n",
      "i: 11522036\n",
      "Time: 230.44072 s\n",
      "i: 12022033\n",
      "Time: 240.44066 s\n",
      "i: 12522031\n",
      "Time: 250.44062 s\n",
      "i: 13022028\n",
      "Time: 260.44056 s\n",
      "i: 13522025\n",
      "Time: 270.4405 s\n",
      "i: 14022022\n",
      "Time: 280.44044 s\n",
      "i: 14522019\n",
      "Time: 290.44038 s\n",
      "i: 15023764\n",
      "Time: 300.47528 s\n",
      "i: 15523762\n",
      "Time: 310.47524 s\n",
      "i: 16009096\n",
      "Time: 320.18192 s\n",
      "i: 16523756\n",
      "Time: 330.47512 s\n",
      "i: 17023753\n",
      "Time: 340.47506 s\n",
      "i: 17523750\n",
      "Time: 350.475 s\n",
      "i: 18023748\n",
      "Time: 360.47496 s\n",
      "i: 18523745\n",
      "Time: 370.4749 s\n",
      "i: 19023742\n",
      "Time: 380.47484 s\n",
      "i: 19523739\n",
      "Time: 390.47478 s\n",
      "i: 20018870\n",
      "Time: 400.3774 s\n",
      "i: 20518868\n",
      "Time: 410.37736 s\n",
      "i: 21018865\n",
      "Time: 420.3773 s\n",
      "i: 21518862\n",
      "Time: 430.37724 s\n",
      "i: 22018859\n",
      "Time: 440.37718 s\n",
      "i: 22518856\n",
      "Time: 450.37712 s\n",
      "i: 23018854\n",
      "Time: 460.37708 s\n",
      "i: 23518851\n",
      "Time: 470.37702 s\n",
      "i: 24018848\n",
      "Time: 480.37696 s\n",
      "i: 24518845\n",
      "Time: 490.3769 s\n",
      "i: 25022731\n",
      "Time: 500.45462 s\n",
      "i: 25522729\n",
      "Time: 510.45458 s\n",
      "i: 26022726\n",
      "Time: 520.45452 s\n",
      "i: 26430000\n",
      "Time: 528.6 s\n",
      "i: 27022720\n",
      "Time: 540.4544 s\n",
      "i: 27522717\n",
      "Time: 550.45434 s\n",
      "i: 28022715\n",
      "Time: 560.4543 s\n",
      "i: 28522712\n",
      "Time: 570.45424 s\n",
      "i: 29022709\n",
      "Time: 580.45418 s\n",
      "i: 29522706\n",
      "Time: 590.45412 s\n",
      "i: 30034784\n",
      "Time: 600.69568 s\n",
      "i: 30534781\n",
      "Time: 610.69562 s\n",
      "i: 31034779\n",
      "Time: 620.69558 s\n",
      "i: 31534776\n",
      "Time: 630.69552 s\n",
      "i: 32034773\n",
      "Time: 640.69546 s\n",
      "i: 32534770\n",
      "Time: 650.6954 s\n",
      "i: 33034767\n",
      "Time: 660.69534 s\n",
      "i: 33534765\n",
      "Time: 670.6953 s\n",
      "i: 34034762\n",
      "Time: 680.69524 s\n",
      "i: 34534759\n",
      "Time: 690.69518 s\n",
      "i: 35034756\n",
      "Time: 700.69512 s\n",
      "i: 35534753\n",
      "Time: 710.69506 s\n",
      "i: 36034751\n",
      "Time: 720.69502 s\n",
      "i: 36534748\n",
      "Time: 730.69496 s\n",
      "i: 37034745\n",
      "Time: 740.6949 s\n",
      "i: 37534742\n",
      "Time: 750.69484 s\n",
      "i: 38034739\n",
      "Time: 760.69478 s\n",
      "i: 38534736\n",
      "Time: 770.69472 s\n",
      "i: 39034734\n",
      "Time: 780.69468 s\n",
      "i: 39592263\n",
      "Time: 791.84526 s\n",
      "i: 40092261\n",
      "Time: 801.84522 s\n",
      "i: 40592258\n",
      "Time: 811.84516 s\n",
      "i: 41092255\n",
      "Time: 821.8451 s\n",
      "i: 41592252\n",
      "Time: 831.84504 s\n",
      "i: 42092249\n",
      "Time: 841.84498 s\n",
      "i: 42592246\n",
      "Time: 851.84492 s\n",
      "i: 43092244\n",
      "Time: 861.84488 s\n",
      "i: 43592241\n",
      "Time: 871.84482 s\n",
      "i: 44092238\n",
      "Time: 881.84476 s\n",
      "i: 44592235\n",
      "Time: 891.8447 s\n",
      "i: 45092232\n",
      "Time: 901.84464 s\n",
      "i: 45592229\n",
      "Time: 911.84458 s\n",
      "i: 46092227\n",
      "Time: 921.84454 s\n",
      "i: 46592224\n",
      "Time: 931.84448 s\n",
      "i: 47092221\n",
      "Time: 941.84442 s\n",
      "i: 47592218\n",
      "Time: 951.84436 s\n",
      "i: 48092215\n",
      "Time: 961.8443 s\n",
      "i: 48592212\n",
      "Time: 971.84424 s\n"
     ]
    }
   ],
   "source": [
    "raw_file = h5py.File('bcm_activity_dataset/2022-09-20_14-58-39.hdf5', 'r')\n",
    "data_full = np.array(raw_file['DAQ970A']['data'])\n",
    "data_ear_1 = data_full[:,0]\n",
    "data_ear_2 = data_full[:,1]\n",
    "labels = data_full[:,3]\n",
    "\n",
    "last_decoded = -500000\n",
    "label_index_list = [] # List of the indices of the labels\n",
    "for i, j in enumerate(np.rint(labels)):\n",
    "    \n",
    "    if int(j) and (i > last_decoded+50000*8):\n",
    "        print(f\"i: {i}\")\n",
    "        print(f\"Time: {i/50000} s\")\n",
    "        last_decoded = i\n",
    "        \n",
    "        label_index_list.append(i)"
   ]
  },
  {
   "cell_type": "code",
   "execution_count": 7,
   "metadata": {},
   "outputs": [],
   "source": [
    "index_labels = [] # A list of labels for the indexes in label_index_list\n",
    "\n",
    "for i in range(6):\n",
    "    index_labels.extend([0,0,0,1,1,1,2,2,2,-1])\n",
    "\n",
    "for i in range(18): index_labels.append(3)\n",
    "index_labels.append(-1)\n",
    "\n",
    "for i in range(18): index_labels.append(4)\n",
    "index_labels.append(-1)\n",
    "\n",
    "labels_np = np.array(index_labels)\n",
    "labels_np = np.repeat(labels_np, 500000)\n",
    "\n",
    "labels_np = np.hstack((np.zeros(label_index_list[0]), labels_np))\n",
    "\n",
    "\n"
   ]
  },
  {
   "cell_type": "code",
   "execution_count": 8,
   "metadata": {},
   "outputs": [
    {
     "name": "stdout",
     "output_type": "stream",
     "text": [
      "(49019492,)\n",
      "(49000000,)\n"
     ]
    }
   ],
   "source": [
    "print(labels_np.shape)\n",
    "print(data_ear_1.shape)\n"
   ]
  },
  {
   "cell_type": "code",
   "execution_count": 10,
   "metadata": {},
   "outputs": [
    {
     "name": "stdout",
     "output_type": "stream",
     "text": [
      "(30625, 16)\n",
      "(30638,)\n"
     ]
    }
   ],
   "source": [
    "# Create mfccs and labels\n",
    "fs = 50000\n",
    "data_mfcc = mfcc(data_ear_1, samplerate = fs, nfft = 1600, winlen=0.032, winstep=0.032, numcep=16)\n",
    "labels_mfcc = labels_np[::1600]\n",
    "\n",
    "print(data_mfcc.shape)\n",
    "print(labels_mfcc.shape)\n"
   ]
  },
  {
   "cell_type": "code",
   "execution_count": 17,
   "metadata": {},
   "outputs": [],
   "source": [
    "# Use the model to predict the labels\n",
    "preds_list = []\n",
    "for i in range(0, len(data_mfcc)):\n",
    "    # Remeber to insert empty/None dimension to test a single datapoint!!!!!!!!!\n",
    "    if i + 93 > len(data_mfcc):\n",
    "        break\n",
    "    \n",
    "    test = data_mfcc[i:i+93]\n",
    "    test = torch.from_numpy(test[None,:,:]).float()\n",
    "    preds_list.append(model_loaded(test).argmax())\n",
    "    \n"
   ]
  },
  {
   "cell_type": "code",
   "execution_count": 34,
   "metadata": {},
   "outputs": [
    {
     "data": {
      "image/png": "[encoded data removed]",
      "text/plain": [
       "<Figure size 2160x360 with 1 Axes>"
      ]
     },
     "metadata": {
      "needs_background": "light"
     },
     "output_type": "display_data"
    }
   ],
   "source": [
    "seg_len = 50000\n",
    "seg_pos = 0\n",
    "\n",
    "w = 100\n",
    "smoothed_preds = np.convolve(np.array(preds_list), np.ones(w), 'valid') / w\n",
    "\n",
    "\n",
    "# Plot preds_list\n",
    "fig = plt.figure(figsize=(30, 5))\n",
    "#plt.plot(preds_list[seg_pos:seg_pos+seg_len])\n",
    "plt.plot(np.round(smoothed_preds[seg_pos:seg_pos+seg_len]))\n",
    "plt.plot(labels_mfcc[seg_pos:seg_pos+seg_len])\n",
    "plt.show()"
   ]
  }
 ],
 "metadata": {
  "kernelspec": {
   "display_name": "Python 3.8.10 64-bit",
   "language": "python",
   "name": "python3"
  },
  "language_info": {
   "codemirror_mode": {
    "name": "ipython",
    "version": 3
   },
   "file_extension": ".py",
   "mimetype": "text/x-python",
   "name": "python",
   "nbconvert_exporter": "python",
   "pygments_lexer": "ipython3",
   "version": "3.8.10"
  },
  "orig_nbformat": 4,
  "vscode": {
   "interpreter": {
    "hash": "916dbcbb3f70747c44a77c7bcd40155683ae19c65e1c03b4aa3499c5328201f1"
   }
  }
 },
 "nbformat": 4,
 "nbformat_minor": 2
}
