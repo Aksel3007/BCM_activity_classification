{
 "cells": [
  {
   "cell_type": "code",
   "execution_count": 1,
   "metadata": {},
   "outputs": [
    {
     "name": "stdout",
     "output_type": "stream",
     "text": [
      "Dataset version: 3\n"
     ]
    }
   ],
   "source": [
    "\n",
    "#!python3 -m pip install pytorch_lightning\n",
    "#!pip3 install torch torchvision torchaudio --extra-index-url https://download.pytorch.org/whl/cu113\n",
    "import torch\n",
    "import torch.nn as nn\n",
    "import torch.nn.functional as F\n",
    "import torch.optim as optim\n",
    "from model import LSTM_Model\n",
    "from pytorch_lightning import seed_everything, LightningModule, Trainer\n",
    "from torch import save\n",
    "from pytorch_lightning.callbacks import EarlyStopping\n",
    "from torch.utils.data import DataLoader\n",
    "import neptune.new as neptune\n",
    "from pytorch_lightning.loggers import NeptuneLogger\n",
    "import numpy as np\n",
    "from pytorch_lightning.callbacks import ModelCheckpoint\n",
    "from BCM_dataset_v2 import bcmDataset, concat_train_test_datasets\n",
    "import glob\n",
    "import os\n",
    "import sys\n",
    "from collect_dataset import*"
   ]
  },
  {
   "cell_type": "code",
   "execution_count": 2,
   "metadata": {},
   "outputs": [
    {
     "name": "stdout",
     "output_type": "stream",
     "text": [
      "\n",
      "loso_datasets:\n",
      "\n",
      "train\n",
      "\n",
      "0\n",
      "bcm_behaviour_data_multi_subject/subject2/2022-11-09_14-34-16\n",
      "bcm_behaviour_data_multi_subject/subject2/2022-11-09_14-52-7\n",
      "bcm_behaviour_data_multi_subject/subject2/2022-11-09_14-15-6\n",
      "bcm_behaviour_data_multi_subject/subject2/2022-11-09_13-56-0\n",
      "bcm_behaviour_data_multi_subject/subject3/2022-11-09_15-47-1\n",
      "bcm_behaviour_data_multi_subject/subject3/2022-11-09_16-26-13\n",
      "bcm_behaviour_data_multi_subject/subject3/2022-11-09_15-27-14\n",
      "bcm_behaviour_data_multi_subject/subject3/2022-11-09_16-7-9\n",
      "1\n",
      "bcm_behaviour_data_multi_subject/subject3/2022-11-09_15-47-1\n",
      "bcm_behaviour_data_multi_subject/subject3/2022-11-09_16-26-13\n",
      "bcm_behaviour_data_multi_subject/subject3/2022-11-09_15-27-14\n",
      "bcm_behaviour_data_multi_subject/subject3/2022-11-09_16-7-9\n",
      "bcm_behaviour_data_multi_subject/subject1/2022-09-20_15-38-11\n",
      "bcm_behaviour_data_multi_subject/subject1/2022-09-20_14-58-39\n",
      "bcm_behaviour_data_multi_subject/subject1/2022-09-20_15-18-27\n",
      "bcm_behaviour_data_multi_subject/subject1/2022-09-20_15-57-37\n",
      "2\n",
      "bcm_behaviour_data_multi_subject/subject1/2022-09-20_15-38-11\n",
      "bcm_behaviour_data_multi_subject/subject1/2022-09-20_14-58-39\n",
      "bcm_behaviour_data_multi_subject/subject1/2022-09-20_15-18-27\n",
      "bcm_behaviour_data_multi_subject/subject1/2022-09-20_15-57-37\n",
      "bcm_behaviour_data_multi_subject/subject2/2022-11-09_14-34-16\n",
      "bcm_behaviour_data_multi_subject/subject2/2022-11-09_14-52-7\n",
      "bcm_behaviour_data_multi_subject/subject2/2022-11-09_14-15-6\n",
      "bcm_behaviour_data_multi_subject/subject2/2022-11-09_13-56-0\n",
      "\n",
      "val\n",
      "\n",
      "0\n",
      "bcm_behaviour_data_multi_subject/subject1/2022-09-20_15-38-11\n",
      "bcm_behaviour_data_multi_subject/subject1/2022-09-20_14-58-39\n",
      "bcm_behaviour_data_multi_subject/subject1/2022-09-20_15-18-27\n",
      "bcm_behaviour_data_multi_subject/subject1/2022-09-20_15-57-37\n",
      "1\n",
      "bcm_behaviour_data_multi_subject/subject2/2022-11-09_14-34-16\n",
      "bcm_behaviour_data_multi_subject/subject2/2022-11-09_14-52-7\n",
      "bcm_behaviour_data_multi_subject/subject2/2022-11-09_14-15-6\n",
      "bcm_behaviour_data_multi_subject/subject2/2022-11-09_13-56-0\n",
      "2\n",
      "bcm_behaviour_data_multi_subject/subject3/2022-11-09_15-47-1\n",
      "bcm_behaviour_data_multi_subject/subject3/2022-11-09_16-26-13\n",
      "bcm_behaviour_data_multi_subject/subject3/2022-11-09_15-27-14\n",
      "bcm_behaviour_data_multi_subject/subject3/2022-11-09_16-7-9\n"
     ]
    }
   ],
   "source": [
    "loso_datasets = create_loso_datasets()\n",
    "#indiv_datasets = create_indiv_datasets()\n",
    "#full_datasets = create_indiv_datasets()\n",
    "#ft_datasets = create_ft_datasets()"
   ]
  },
  {
   "cell_type": "code",
   "execution_count": 4,
   "metadata": {},
   "outputs": [
    {
     "name": "stderr",
     "output_type": "stream",
     "text": [
      "Global seed set to 1\n"
     ]
    },
    {
     "name": "stdout",
     "output_type": "stream",
     "text": [
      "_____________________\n",
      "<class 'list'>\n",
      "_____________________\n",
      "Validation set\n",
      "bcm_behaviour_data_multi_subject/subject1/2022-09-20_15-38-11/0.npy\n",
      "bcm_behaviour_data_multi_subject/subject1/2022-09-20_15-38-11/1.npy\n",
      "bcm_behaviour_data_multi_subject/subject1/2022-09-20_15-38-11/2.npy\n",
      "bcm_behaviour_data_multi_subject/subject1/2022-09-20_15-38-11/3.npy\n",
      "bcm_behaviour_data_multi_subject/subject1/2022-09-20_15-38-11/4.npy\n",
      "bcm_behaviour_data_multi_subject/subject1/2022-09-20_14-58-39/0.npy\n",
      "bcm_behaviour_data_multi_subject/subject1/2022-09-20_14-58-39/1.npy\n",
      "bcm_behaviour_data_multi_subject/subject1/2022-09-20_14-58-39/2.npy\n",
      "bcm_behaviour_data_multi_subject/subject1/2022-09-20_14-58-39/3.npy\n",
      "bcm_behaviour_data_multi_subject/subject1/2022-09-20_14-58-39/4.npy\n",
      "bcm_behaviour_data_multi_subject/subject1/2022-09-20_15-18-27/0.npy\n",
      "bcm_behaviour_data_multi_subject/subject1/2022-09-20_15-18-27/1.npy\n",
      "bcm_behaviour_data_multi_subject/subject1/2022-09-20_15-18-27/2.npy\n",
      "bcm_behaviour_data_multi_subject/subject1/2022-09-20_15-18-27/3.npy\n",
      "bcm_behaviour_data_multi_subject/subject1/2022-09-20_15-18-27/4.npy\n",
      "bcm_behaviour_data_multi_subject/subject1/2022-09-20_15-57-37/0.npy\n",
      "bcm_behaviour_data_multi_subject/subject1/2022-09-20_15-57-37/1.npy\n",
      "bcm_behaviour_data_multi_subject/subject1/2022-09-20_15-57-37/2.npy\n",
      "bcm_behaviour_data_multi_subject/subject1/2022-09-20_15-57-37/3.npy\n",
      "bcm_behaviour_data_multi_subject/subject1/2022-09-20_15-57-37/4.npy\n",
      "Training set\n",
      "bcm_behaviour_data_multi_subject/subject2/2022-11-09_14-34-16/0.npy\n",
      "bcm_behaviour_data_multi_subject/subject2/2022-11-09_14-34-16/1.npy\n",
      "bcm_behaviour_data_multi_subject/subject2/2022-11-09_14-34-16/2.npy\n",
      "bcm_behaviour_data_multi_subject/subject2/2022-11-09_14-34-16/3.npy\n",
      "bcm_behaviour_data_multi_subject/subject2/2022-11-09_14-34-16/4.npy\n",
      "bcm_behaviour_data_multi_subject/subject2/2022-11-09_14-52-7/0.npy\n",
      "bcm_behaviour_data_multi_subject/subject2/2022-11-09_14-52-7/1.npy\n",
      "bcm_behaviour_data_multi_subject/subject2/2022-11-09_14-52-7/2.npy\n",
      "bcm_behaviour_data_multi_subject/subject2/2022-11-09_14-52-7/3.npy\n",
      "bcm_behaviour_data_multi_subject/subject2/2022-11-09_14-52-7/4.npy\n",
      "bcm_behaviour_data_multi_subject/subject2/2022-11-09_14-15-6/0.npy\n",
      "bcm_behaviour_data_multi_subject/subject2/2022-11-09_14-15-6/1.npy\n",
      "bcm_behaviour_data_multi_subject/subject2/2022-11-09_14-15-6/2.npy\n",
      "bcm_behaviour_data_multi_subject/subject2/2022-11-09_14-15-6/3.npy\n",
      "bcm_behaviour_data_multi_subject/subject2/2022-11-09_14-15-6/4.npy\n",
      "bcm_behaviour_data_multi_subject/subject2/2022-11-09_13-56-0/0.npy\n",
      "bcm_behaviour_data_multi_subject/subject2/2022-11-09_13-56-0/1.npy\n",
      "bcm_behaviour_data_multi_subject/subject2/2022-11-09_13-56-0/2.npy\n",
      "bcm_behaviour_data_multi_subject/subject2/2022-11-09_13-56-0/3.npy\n",
      "bcm_behaviour_data_multi_subject/subject2/2022-11-09_13-56-0/4.npy\n",
      "bcm_behaviour_data_multi_subject/subject3/2022-11-09_15-47-1/0.npy\n",
      "bcm_behaviour_data_multi_subject/subject3/2022-11-09_15-47-1/1.npy\n",
      "bcm_behaviour_data_multi_subject/subject3/2022-11-09_15-47-1/2.npy\n",
      "bcm_behaviour_data_multi_subject/subject3/2022-11-09_15-47-1/3.npy\n",
      "bcm_behaviour_data_multi_subject/subject3/2022-11-09_15-47-1/4.npy\n",
      "bcm_behaviour_data_multi_subject/subject3/2022-11-09_16-26-13/0.npy\n",
      "bcm_behaviour_data_multi_subject/subject3/2022-11-09_16-26-13/1.npy\n",
      "bcm_behaviour_data_multi_subject/subject3/2022-11-09_16-26-13/2.npy\n",
      "bcm_behaviour_data_multi_subject/subject3/2022-11-09_16-26-13/3.npy\n",
      "bcm_behaviour_data_multi_subject/subject3/2022-11-09_16-26-13/4.npy\n",
      "bcm_behaviour_data_multi_subject/subject3/2022-11-09_15-27-14/0.npy\n",
      "bcm_behaviour_data_multi_subject/subject3/2022-11-09_15-27-14/1.npy\n",
      "bcm_behaviour_data_multi_subject/subject3/2022-11-09_15-27-14/2.npy\n",
      "bcm_behaviour_data_multi_subject/subject3/2022-11-09_15-27-14/3.npy\n",
      "bcm_behaviour_data_multi_subject/subject3/2022-11-09_15-27-14/4.npy\n",
      "bcm_behaviour_data_multi_subject/subject3/2022-11-09_16-7-9/0.npy\n",
      "bcm_behaviour_data_multi_subject/subject3/2022-11-09_16-7-9/1.npy\n",
      "bcm_behaviour_data_multi_subject/subject3/2022-11-09_16-7-9/2.npy\n",
      "bcm_behaviour_data_multi_subject/subject3/2022-11-09_16-7-9/3.npy\n",
      "bcm_behaviour_data_multi_subject/subject3/2022-11-09_16-7-9/4.npy\n"
     ]
    },
    {
     "name": "stderr",
     "output_type": "stream",
     "text": [
      "GPU available: True (cuda), used: True\n",
      "TPU available: False, using: 0 TPU cores\n",
      "IPU available: False, using: 0 IPUs\n",
      "HPU available: False, using: 0 HPUs\n",
      "LOCAL_RANK: 0 - CUDA_VISIBLE_DEVICES: [0,1]\n"
     ]
    },
    {
     "name": "stdout",
     "output_type": "stream",
     "text": [
      "https://app.neptune.ai/NTLAB/BCM-activity-classification/e/BCMAC-668\n",
      "Remember to stop your run once you’ve finished logging your metadata (https://docs.neptune.ai/api-reference/run#.stop). It will be stopped automatically only when the notebook kernel/interactive console is terminated.\n"
     ]
    },
    {
     "name": "stderr",
     "output_type": "stream",
     "text": [
      "\n",
      "  | Name         | Type             | Params\n",
      "--------------------------------------------------\n",
      "0 | lstm         | LSTM             | 149 K \n",
      "1 | flatten      | Flatten          | 0     \n",
      "2 | fc           | Linear           | 1.3 K \n",
      "3 | output       | Sigmoid          | 0     \n",
      "4 | sm           | Softmax          | 0     \n",
      "5 | loss         | CrossEntropyLoss | 0     \n",
      "6 | accuracy     | Accuracy         | 0     \n",
      "7 | val_accuracy | Accuracy         | 0     \n",
      "--------------------------------------------------\n",
      "150 K     Trainable params\n",
      "0         Non-trainable params\n",
      "150 K     Total params\n",
      "0.603     Total estimated model params size (MB)\n"
     ]
    },
    {
     "data": {
      "application/vnd.jupyter.widget-view+json": {
       "model_id": "",
       "version_major": 2,
       "version_minor": 0
      },
      "text/plain": [
       "Sanity Checking: 0it [00:00, ?it/s]"
      ]
     },
     "metadata": {},
     "output_type": "display_data"
    },
    {
     "name": "stdout",
     "output_type": "stream",
     "text": [
      "{'progress_bar': {'val_loss': 1.6149694919586182}, 'log': {'val_loss': 1.6149694919586182}, 'val_loss': 1.6149694919586182}\n",
      "Accuracy: 0.0\n"
     ]
    },
    {
     "name": "stderr",
     "output_type": "stream",
     "text": [
      "/home/aron/.local/lib/python3.9/site-packages/pytorch_lightning/core/module.py:555: UserWarning: To copy construct from a tensor, it is recommended to use sourceTensor.clone().detach() or sourceTensor.clone().detach().requires_grad_(True), rather than torch.tensor(sourceTensor).\n",
      "  value = torch.tensor(value, device=self.device)\n"
     ]
    },
    {
     "data": {
      "application/vnd.jupyter.widget-view+json": {
       "model_id": "228e938a588240b191a72d64c64e843e",
       "version_major": 2,
       "version_minor": 0
      },
      "text/plain": [
       "Training: 0it [00:00, ?it/s]"
      ]
     },
     "metadata": {},
     "output_type": "display_data"
    },
    {
     "data": {
      "application/vnd.jupyter.widget-view+json": {
       "model_id": "",
       "version_major": 2,
       "version_minor": 0
      },
      "text/plain": [
       "Validation: 0it [00:00, ?it/s]"
      ]
     },
     "metadata": {},
     "output_type": "display_data"
    },
    {
     "name": "stdout",
     "output_type": "stream",
     "text": [
      "{'progress_bar': {'val_loss': 1.4601542949676514}, 'log': {'val_loss': 1.4601542949676514}, 'val_loss': 1.4601542949676514}\n",
      "Accuracy: 0.776323139667511\n",
      "Accuracy: 0.7241643667221069\n"
     ]
    },
    {
     "data": {
      "application/vnd.jupyter.widget-view+json": {
       "model_id": "",
       "version_major": 2,
       "version_minor": 0
      },
      "text/plain": [
       "Validation: 0it [00:00, ?it/s]"
      ]
     },
     "metadata": {},
     "output_type": "display_data"
    },
    {
     "name": "stdout",
     "output_type": "stream",
     "text": [
      "{'progress_bar': {'val_loss': 1.4557045698165894}, 'log': {'val_loss': 1.4557045698165894}, 'val_loss': 1.4557045698165894}\n",
      "Accuracy: 0.7837047576904297\n",
      "Accuracy: 0.7620473504066467\n"
     ]
    },
    {
     "data": {
      "application/vnd.jupyter.widget-view+json": {
       "model_id": "",
       "version_major": 2,
       "version_minor": 0
      },
      "text/plain": [
       "Validation: 0it [00:00, ?it/s]"
      ]
     },
     "metadata": {},
     "output_type": "display_data"
    },
    {
     "name": "stdout",
     "output_type": "stream",
     "text": [
      "{'progress_bar': {'val_loss': 1.453682541847229}, 'log': {'val_loss': 1.453682541847229}, 'val_loss': 1.453682541847229}\n",
      "Accuracy: 0.7798050045967102\n",
      "Accuracy: 0.7651114463806152\n"
     ]
    },
    {
     "data": {
      "application/vnd.jupyter.widget-view+json": {
       "model_id": "",
       "version_major": 2,
       "version_minor": 0
      },
      "text/plain": [
       "Validation: 0it [00:00, ?it/s]"
      ]
     },
     "metadata": {},
     "output_type": "display_data"
    },
    {
     "name": "stdout",
     "output_type": "stream",
     "text": [
      "{'progress_bar': {'val_loss': 1.457121729850769}, 'log': {'val_loss': 1.457121729850769}, 'val_loss': 1.457121729850769}\n",
      "Accuracy: 0.7591922283172607\n",
      "Accuracy: 0.7747910618782043\n"
     ]
    },
    {
     "data": {
      "application/vnd.jupyter.widget-view+json": {
       "model_id": "",
       "version_major": 2,
       "version_minor": 0
      },
      "text/plain": [
       "Validation: 0it [00:00, ?it/s]"
      ]
     },
     "metadata": {},
     "output_type": "display_data"
    },
    {
     "name": "stdout",
     "output_type": "stream",
     "text": [
      "{'progress_bar': {'val_loss': 1.4549353122711182}, 'log': {'val_loss': 1.4549353122711182}, 'val_loss': 1.4549353122711182}\n",
      "Accuracy: 0.7778551578521729\n",
      "Accuracy: 0.7777158617973328\n"
     ]
    },
    {
     "data": {
      "application/vnd.jupyter.widget-view+json": {
       "model_id": "",
       "version_major": 2,
       "version_minor": 0
      },
      "text/plain": [
       "Validation: 0it [00:00, ?it/s]"
      ]
     },
     "metadata": {},
     "output_type": "display_data"
    },
    {
     "name": "stdout",
     "output_type": "stream",
     "text": [
      "{'progress_bar': {'val_loss': 1.4544864892959595}, 'log': {'val_loss': 1.4544864892959595}, 'val_loss': 1.4544864892959595}\n",
      "Accuracy: 0.761002779006958\n",
      "Accuracy: 0.778342604637146\n"
     ]
    },
    {
     "data": {
      "application/vnd.jupyter.widget-view+json": {
       "model_id": "",
       "version_major": 2,
       "version_minor": 0
      },
      "text/plain": [
       "Validation: 0it [00:00, ?it/s]"
      ]
     },
     "metadata": {},
     "output_type": "display_data"
    },
    {
     "name": "stdout",
     "output_type": "stream",
     "text": [
      "{'progress_bar': {'val_loss': 1.454404354095459}, 'log': {'val_loss': 1.454404354095459}, 'val_loss': 1.454404354095459}\n",
      "Accuracy: 0.7704735398292542\n",
      "Accuracy: 0.780988872051239\n"
     ]
    },
    {
     "data": {
      "application/vnd.jupyter.widget-view+json": {
       "model_id": "",
       "version_major": 2,
       "version_minor": 0
      },
      "text/plain": [
       "Validation: 0it [00:00, ?it/s]"
      ]
     },
     "metadata": {},
     "output_type": "display_data"
    },
    {
     "name": "stdout",
     "output_type": "stream",
     "text": [
      "{'progress_bar': {'val_loss': 1.4556423425674438}, 'log': {'val_loss': 1.4556423425674438}, 'val_loss': 1.4556423425674438}\n",
      "Accuracy: 0.76267409324646\n",
      "Accuracy: 0.7857242226600647\n"
     ]
    },
    {
     "data": {
      "application/vnd.jupyter.widget-view+json": {
       "model_id": "",
       "version_major": 2,
       "version_minor": 0
      },
      "text/plain": [
       "Validation: 0it [00:00, ?it/s]"
      ]
     },
     "metadata": {},
     "output_type": "display_data"
    },
    {
     "name": "stdout",
     "output_type": "stream",
     "text": [
      "{'progress_bar': {'val_loss': 1.4649735689163208}, 'log': {'val_loss': 1.4649735689163208}, 'val_loss': 1.4649735689163208}\n",
      "Accuracy: 0.7229804992675781\n",
      "Accuracy: 0.7855849862098694\n"
     ]
    },
    {
     "data": {
      "application/vnd.jupyter.widget-view+json": {
       "model_id": "",
       "version_major": 2,
       "version_minor": 0
      },
      "text/plain": [
       "Validation: 0it [00:00, ?it/s]"
      ]
     },
     "metadata": {},
     "output_type": "display_data"
    },
    {
     "name": "stdout",
     "output_type": "stream",
     "text": [
      "{'progress_bar': {'val_loss': 1.4583383798599243}, 'log': {'val_loss': 1.4583383798599243}, 'val_loss': 1.4583383798599243}\n",
      "Accuracy: 0.7750696539878845\n",
      "Accuracy: 0.818314790725708\n"
     ]
    },
    {
     "data": {
      "application/vnd.jupyter.widget-view+json": {
       "model_id": "",
       "version_major": 2,
       "version_minor": 0
      },
      "text/plain": [
       "Validation: 0it [00:00, ?it/s]"
      ]
     },
     "metadata": {},
     "output_type": "display_data"
    },
    {
     "name": "stdout",
     "output_type": "stream",
     "text": [
      "{'progress_bar': {'val_loss': 1.4555041790008545}, 'log': {'val_loss': 1.4555041790008545}, 'val_loss': 1.4555041790008545}\n",
      "Accuracy: 0.8523676991462708\n",
      "Accuracy: 0.825835645198822\n"
     ]
    },
    {
     "data": {
      "application/vnd.jupyter.widget-view+json": {
       "model_id": "",
       "version_major": 2,
       "version_minor": 0
      },
      "text/plain": [
       "Validation: 0it [00:00, ?it/s]"
      ]
     },
     "metadata": {},
     "output_type": "display_data"
    },
    {
     "name": "stdout",
     "output_type": "stream",
     "text": [
      "{'progress_bar': {'val_loss': 1.4608683586120605}, 'log': {'val_loss': 1.4608683586120605}, 'val_loss': 1.4608683586120605}\n",
      "Accuracy: 0.7486072182655334\n",
      "Accuracy: 0.8245821595191956\n"
     ]
    },
    {
     "data": {
      "application/vnd.jupyter.widget-view+json": {
       "model_id": "",
       "version_major": 2,
       "version_minor": 0
      },
      "text/plain": [
       "Validation: 0it [00:00, ?it/s]"
      ]
     },
     "metadata": {},
     "output_type": "display_data"
    },
    {
     "name": "stdout",
     "output_type": "stream",
     "text": [
      "{'progress_bar': {'val_loss': 1.452782392501831}, 'log': {'val_loss': 1.452782392501831}, 'val_loss': 1.452782392501831}\n",
      "Accuracy: 0.799164354801178\n",
      "Accuracy: 0.8353760242462158\n"
     ]
    },
    {
     "data": {
      "application/vnd.jupyter.widget-view+json": {
       "model_id": "",
       "version_major": 2,
       "version_minor": 0
      },
      "text/plain": [
       "Validation: 0it [00:00, ?it/s]"
      ]
     },
     "metadata": {},
     "output_type": "display_data"
    },
    {
     "name": "stdout",
     "output_type": "stream",
     "text": [
      "{'progress_bar': {'val_loss': 1.4599889516830444}, 'log': {'val_loss': 1.4599889516830444}, 'val_loss': 1.4599889516830444}\n",
      "Accuracy: 0.7426183819770813\n",
      "Accuracy: 0.8220751881599426\n"
     ]
    },
    {
     "data": {
      "application/vnd.jupyter.widget-view+json": {
       "model_id": "",
       "version_major": 2,
       "version_minor": 0
      },
      "text/plain": [
       "Validation: 0it [00:00, ?it/s]"
      ]
     },
     "metadata": {},
     "output_type": "display_data"
    },
    {
     "name": "stdout",
     "output_type": "stream",
     "text": [
      "{'progress_bar': {'val_loss': 1.457032322883606}, 'log': {'val_loss': 1.457032322883606}, 'val_loss': 1.457032322883606}\n",
      "Accuracy: 0.8217270374298096\n",
      "Accuracy: 0.8881615400314331\n"
     ]
    },
    {
     "data": {
      "application/vnd.jupyter.widget-view+json": {
       "model_id": "",
       "version_major": 2,
       "version_minor": 0
      },
      "text/plain": [
       "Validation: 0it [00:00, ?it/s]"
      ]
     },
     "metadata": {},
     "output_type": "display_data"
    },
    {
     "name": "stdout",
     "output_type": "stream",
     "text": [
      "{'progress_bar': {'val_loss': 1.4616483449935913}, 'log': {'val_loss': 1.4616483449935913}, 'val_loss': 1.4616483449935913}\n",
      "Accuracy: 0.8001392483711243\n",
      "Accuracy: 0.9016016721725464\n"
     ]
    },
    {
     "data": {
      "application/vnd.jupyter.widget-view+json": {
       "model_id": "",
       "version_major": 2,
       "version_minor": 0
      },
      "text/plain": [
       "Validation: 0it [00:00, ?it/s]"
      ]
     },
     "metadata": {},
     "output_type": "display_data"
    },
    {
     "name": "stdout",
     "output_type": "stream",
     "text": [
      "{'progress_bar': {'val_loss': 1.459229826927185}, 'log': {'val_loss': 1.459229826927185}, 'val_loss': 1.459229826927185}\n",
      "Accuracy: 0.8160167336463928\n",
      "Accuracy: 0.932520866394043\n"
     ]
    },
    {
     "data": {
      "application/vnd.jupyter.widget-view+json": {
       "model_id": "",
       "version_major": 2,
       "version_minor": 0
      },
      "text/plain": [
       "Validation: 0it [00:00, ?it/s]"
      ]
     },
     "metadata": {},
     "output_type": "display_data"
    },
    {
     "name": "stdout",
     "output_type": "stream",
     "text": [
      "{'progress_bar': {'val_loss': 1.4608289003372192}, 'log': {'val_loss': 1.4608289003372192}, 'val_loss': 1.4608289003372192}\n",
      "Accuracy: 0.8150417804718018\n",
      "Accuracy: 0.9390668272972107\n"
     ]
    },
    {
     "data": {
      "application/vnd.jupyter.widget-view+json": {
       "model_id": "",
       "version_major": 2,
       "version_minor": 0
      },
      "text/plain": [
       "Validation: 0it [00:00, ?it/s]"
      ]
     },
     "metadata": {},
     "output_type": "display_data"
    },
    {
     "name": "stdout",
     "output_type": "stream",
     "text": [
      "{'progress_bar': {'val_loss': 1.4615753889083862}, 'log': {'val_loss': 1.4615753889083862}, 'val_loss': 1.4615753889083862}\n",
      "Accuracy: 0.7979108691215515\n",
      "Accuracy: 0.9399721622467041\n"
     ]
    },
    {
     "data": {
      "application/vnd.jupyter.widget-view+json": {
       "model_id": "",
       "version_major": 2,
       "version_minor": 0
      },
      "text/plain": [
       "Validation: 0it [00:00, ?it/s]"
      ]
     },
     "metadata": {},
     "output_type": "display_data"
    },
    {
     "name": "stdout",
     "output_type": "stream",
     "text": [
      "{'progress_bar': {'val_loss': 1.4677369594573975}, 'log': {'val_loss': 1.4677369594573975}, 'val_loss': 1.4677369594573975}\n",
      "Accuracy: 0.7692200541496277\n",
      "Accuracy: 0.9449164271354675\n"
     ]
    },
    {
     "data": {
      "application/vnd.jupyter.widget-view+json": {
       "model_id": "",
       "version_major": 2,
       "version_minor": 0
      },
      "text/plain": [
       "Validation: 0it [00:00, ?it/s]"
      ]
     },
     "metadata": {},
     "output_type": "display_data"
    },
    {
     "name": "stdout",
     "output_type": "stream",
     "text": [
      "{'progress_bar': {'val_loss': 1.4556241035461426}, 'log': {'val_loss': 1.4556241035461426}, 'val_loss': 1.4556241035461426}\n",
      "Accuracy: 0.8231197595596313\n",
      "Accuracy: 0.9465877413749695\n"
     ]
    },
    {
     "data": {
      "application/vnd.jupyter.widget-view+json": {
       "model_id": "",
       "version_major": 2,
       "version_minor": 0
      },
      "text/plain": [
       "Validation: 0it [00:00, ?it/s]"
      ]
     },
     "metadata": {},
     "output_type": "display_data"
    },
    {
     "name": "stdout",
     "output_type": "stream",
     "text": [
      "{'progress_bar': {'val_loss': 1.4518229961395264}, 'log': {'val_loss': 1.4518229961395264}, 'val_loss': 1.4518229961395264}\n",
      "Accuracy: 0.833844006061554\n",
      "Accuracy: 0.9458217024803162\n"
     ]
    },
    {
     "data": {
      "application/vnd.jupyter.widget-view+json": {
       "model_id": "",
       "version_major": 2,
       "version_minor": 0
      },
      "text/plain": [
       "Validation: 0it [00:00, ?it/s]"
      ]
     },
     "metadata": {},
     "output_type": "display_data"
    },
    {
     "name": "stdout",
     "output_type": "stream",
     "text": [
      "{'progress_bar': {'val_loss': 1.4593428373336792}, 'log': {'val_loss': 1.4593428373336792}, 'val_loss': 1.4593428373336792}\n",
      "Accuracy: 0.8002785444259644\n",
      "Accuracy: 0.9480501413345337\n"
     ]
    },
    {
     "data": {
      "application/vnd.jupyter.widget-view+json": {
       "model_id": "",
       "version_major": 2,
       "version_minor": 0
      },
      "text/plain": [
       "Validation: 0it [00:00, ?it/s]"
      ]
     },
     "metadata": {},
     "output_type": "display_data"
    },
    {
     "name": "stdout",
     "output_type": "stream",
     "text": [
      "{'progress_bar': {'val_loss': 1.4551448822021484}, 'log': {'val_loss': 1.4551448822021484}, 'val_loss': 1.4551448822021484}\n",
      "Accuracy: 0.822841227054596\n",
      "Accuracy: 0.9480501413345337\n"
     ]
    },
    {
     "data": {
      "application/vnd.jupyter.widget-view+json": {
       "model_id": "",
       "version_major": 2,
       "version_minor": 0
      },
      "text/plain": [
       "Validation: 0it [00:00, ?it/s]"
      ]
     },
     "metadata": {},
     "output_type": "display_data"
    },
    {
     "name": "stdout",
     "output_type": "stream",
     "text": [
      "{'progress_bar': {'val_loss': 1.4531028270721436}, 'log': {'val_loss': 1.4531028270721436}, 'val_loss': 1.4531028270721436}\n",
      "Accuracy: 0.8307799696922302\n",
      "Accuracy: 0.9483286738395691\n"
     ]
    },
    {
     "data": {
      "application/vnd.jupyter.widget-view+json": {
       "model_id": "",
       "version_major": 2,
       "version_minor": 0
      },
      "text/plain": [
       "Validation: 0it [00:00, ?it/s]"
      ]
     },
     "metadata": {},
     "output_type": "display_data"
    },
    {
     "name": "stdout",
     "output_type": "stream",
     "text": [
      "{'progress_bar': {'val_loss': 1.462141513824463}, 'log': {'val_loss': 1.462141513824463}, 'val_loss': 1.462141513824463}\n",
      "Accuracy: 0.7920612692832947\n",
      "Accuracy: 0.946169912815094\n"
     ]
    },
    {
     "data": {
      "application/vnd.jupyter.widget-view+json": {
       "model_id": "",
       "version_major": 2,
       "version_minor": 0
      },
      "text/plain": [
       "Validation: 0it [00:00, ?it/s]"
      ]
     },
     "metadata": {},
     "output_type": "display_data"
    },
    {
     "name": "stdout",
     "output_type": "stream",
     "text": [
      "{'progress_bar': {'val_loss': 1.4603443145751953}, 'log': {'val_loss': 1.4603443145751953}, 'val_loss': 1.4603443145751953}\n",
      "Accuracy: 0.7447075247764587\n",
      "Accuracy: 0.9029944539070129\n"
     ]
    },
    {
     "data": {
      "application/vnd.jupyter.widget-view+json": {
       "model_id": "",
       "version_major": 2,
       "version_minor": 0
      },
      "text/plain": [
       "Validation: 0it [00:00, ?it/s]"
      ]
     },
     "metadata": {},
     "output_type": "display_data"
    },
    {
     "name": "stdout",
     "output_type": "stream",
     "text": [
      "{'progress_bar': {'val_loss': 1.4485609531402588}, 'log': {'val_loss': 1.4485609531402588}, 'val_loss': 1.4485609531402588}\n",
      "Accuracy: 0.853342592716217\n",
      "Accuracy: 0.9190807938575745\n"
     ]
    },
    {
     "data": {
      "application/vnd.jupyter.widget-view+json": {
       "model_id": "",
       "version_major": 2,
       "version_minor": 0
      },
      "text/plain": [
       "Validation: 0it [00:00, ?it/s]"
      ]
     },
     "metadata": {},
     "output_type": "display_data"
    },
    {
     "name": "stdout",
     "output_type": "stream",
     "text": [
      "{'progress_bar': {'val_loss': 1.4649161100387573}, 'log': {'val_loss': 1.4649161100387573}, 'val_loss': 1.4649161100387573}\n",
      "Accuracy: 0.7814763188362122\n",
      "Accuracy: 0.947841227054596\n"
     ]
    },
    {
     "data": {
      "application/vnd.jupyter.widget-view+json": {
       "model_id": "",
       "version_major": 2,
       "version_minor": 0
      },
      "text/plain": [
       "Validation: 0it [00:00, ?it/s]"
      ]
     },
     "metadata": {},
     "output_type": "display_data"
    },
    {
     "name": "stdout",
     "output_type": "stream",
     "text": [
      "{'progress_bar': {'val_loss': 1.4604239463806152}, 'log': {'val_loss': 1.4604239463806152}, 'val_loss': 1.4604239463806152}\n",
      "Accuracy: 0.7955431938171387\n",
      "Accuracy: 0.9497910737991333\n"
     ]
    },
    {
     "data": {
      "application/vnd.jupyter.widget-view+json": {
       "model_id": "",
       "version_major": 2,
       "version_minor": 0
      },
      "text/plain": [
       "Validation: 0it [00:00, ?it/s]"
      ]
     },
     "metadata": {},
     "output_type": "display_data"
    },
    {
     "name": "stdout",
     "output_type": "stream",
     "text": [
      "{'progress_bar': {'val_loss': 1.4767473936080933}, 'log': {'val_loss': 1.4767473936080933}, 'val_loss': 1.4767473936080933}\n",
      "Accuracy: 0.7330083847045898\n",
      "Accuracy: 0.9484679698944092\n"
     ]
    },
    {
     "data": {
      "application/vnd.jupyter.widget-view+json": {
       "model_id": "",
       "version_major": 2,
       "version_minor": 0
      },
      "text/plain": [
       "Validation: 0it [00:00, ?it/s]"
      ]
     },
     "metadata": {},
     "output_type": "display_data"
    },
    {
     "name": "stdout",
     "output_type": "stream",
     "text": [
      "{'progress_bar': {'val_loss': 1.4529093503952026}, 'log': {'val_loss': 1.4529093503952026}, 'val_loss': 1.4529093503952026}\n",
      "Accuracy: 0.8286908268928528\n",
      "Accuracy: 0.9497214555740356\n"
     ]
    },
    {
     "data": {
      "application/vnd.jupyter.widget-view+json": {
       "model_id": "",
       "version_major": 2,
       "version_minor": 0
      },
      "text/plain": [
       "Validation: 0it [00:00, ?it/s]"
      ]
     },
     "metadata": {},
     "output_type": "display_data"
    },
    {
     "name": "stdout",
     "output_type": "stream",
     "text": [
      "{'progress_bar': {'val_loss': 1.4547524452209473}, 'log': {'val_loss': 1.4547524452209473}, 'val_loss': 1.4547524452209473}\n",
      "Accuracy: 0.8240947127342224\n",
      "Accuracy: 0.9518802165985107\n"
     ]
    },
    {
     "data": {
      "application/vnd.jupyter.widget-view+json": {
       "model_id": "",
       "version_major": 2,
       "version_minor": 0
      },
      "text/plain": [
       "Validation: 0it [00:00, ?it/s]"
      ]
     },
     "metadata": {},
     "output_type": "display_data"
    },
    {
     "name": "stdout",
     "output_type": "stream",
     "text": [
      "{'progress_bar': {'val_loss': 1.4594848155975342}, 'log': {'val_loss': 1.4594848155975342}, 'val_loss': 1.4594848155975342}\n",
      "Accuracy: 0.8077994585037231\n",
      "Accuracy: 0.9527854919433594\n"
     ]
    },
    {
     "data": {
      "application/vnd.jupyter.widget-view+json": {
       "model_id": "",
       "version_major": 2,
       "version_minor": 0
      },
      "text/plain": [
       "Validation: 0it [00:00, ?it/s]"
      ]
     },
     "metadata": {},
     "output_type": "display_data"
    },
    {
     "name": "stdout",
     "output_type": "stream",
     "text": [
      "{'progress_bar': {'val_loss': 1.4636775255203247}, 'log': {'val_loss': 1.4636775255203247}, 'val_loss': 1.4636775255203247}\n",
      "Accuracy: 0.7834261655807495\n",
      "Accuracy: 0.9531337022781372\n"
     ]
    },
    {
     "data": {
      "application/vnd.jupyter.widget-view+json": {
       "model_id": "",
       "version_major": 2,
       "version_minor": 0
      },
      "text/plain": [
       "Validation: 0it [00:00, ?it/s]"
      ]
     },
     "metadata": {},
     "output_type": "display_data"
    },
    {
     "name": "stdout",
     "output_type": "stream",
     "text": [
      "{'progress_bar': {'val_loss': 1.470653772354126}, 'log': {'val_loss': 1.470653772354126}, 'val_loss': 1.470653772354126}\n",
      "Accuracy: 0.7558495998382568\n",
      "Accuracy: 0.9530640840530396\n"
     ]
    },
    {
     "data": {
      "application/vnd.jupyter.widget-view+json": {
       "model_id": "",
       "version_major": 2,
       "version_minor": 0
      },
      "text/plain": [
       "Validation: 0it [00:00, ?it/s]"
      ]
     },
     "metadata": {},
     "output_type": "display_data"
    },
    {
     "name": "stdout",
     "output_type": "stream",
     "text": [
      "{'progress_bar': {'val_loss': 1.4605441093444824}, 'log': {'val_loss': 1.4605441093444824}, 'val_loss': 1.4605441093444824}\n",
      "Accuracy: 0.8005570769309998\n",
      "Accuracy: 0.9555710554122925\n"
     ]
    },
    {
     "data": {
      "application/vnd.jupyter.widget-view+json": {
       "model_id": "",
       "version_major": 2,
       "version_minor": 0
      },
      "text/plain": [
       "Validation: 0it [00:00, ?it/s]"
      ]
     },
     "metadata": {},
     "output_type": "display_data"
    },
    {
     "name": "stdout",
     "output_type": "stream",
     "text": [
      "{'progress_bar': {'val_loss': 1.4536634683609009}, 'log': {'val_loss': 1.4536634683609009}, 'val_loss': 1.4536634683609009}\n",
      "Accuracy: 0.8286908268928528\n",
      "Accuracy: 0.9535515308380127\n"
     ]
    },
    {
     "data": {
      "application/vnd.jupyter.widget-view+json": {
       "model_id": "",
       "version_major": 2,
       "version_minor": 0
      },
      "text/plain": [
       "Validation: 0it [00:00, ?it/s]"
      ]
     },
     "metadata": {},
     "output_type": "display_data"
    },
    {
     "name": "stdout",
     "output_type": "stream",
     "text": [
      "{'progress_bar': {'val_loss': 1.456371784210205}, 'log': {'val_loss': 1.456371784210205}, 'val_loss': 1.456371784210205}\n",
      "Accuracy: 0.819498598575592\n",
      "Accuracy: 0.9550139307975769\n"
     ]
    },
    {
     "data": {
      "application/vnd.jupyter.widget-view+json": {
       "model_id": "",
       "version_major": 2,
       "version_minor": 0
      },
      "text/plain": [
       "Validation: 0it [00:00, ?it/s]"
      ]
     },
     "metadata": {},
     "output_type": "display_data"
    },
    {
     "name": "stderr",
     "output_type": "stream",
     "text": [
      "`Trainer.fit` stopped: `max_epochs=40` reached.\n"
     ]
    },
    {
     "name": "stdout",
     "output_type": "stream",
     "text": [
      "{'progress_bar': {'val_loss': 1.4586786031723022}, 'log': {'val_loss': 1.4586786031723022}, 'val_loss': 1.4586786031723022}\n",
      "Accuracy: 0.8047353625297546\n",
      "Accuracy: 0.9546657204627991\n"
     ]
    },
    {
     "name": "stderr",
     "output_type": "stream",
     "text": [
      "/home/aron/.local/lib/python3.9/site-packages/torch/jit/_recursive.py:621: LightningDeprecationWarning: `LightningModule.use_amp` was deprecated in v1.6 and will be removed in v1.8. Please use `Trainer.amp_backend`.\n",
      "  item = getattr(mod, name, None)\n"
     ]
    },
    {
     "name": "stdout",
     "output_type": "stream",
     "text": [
      "Shutting down background jobs, please wait a moment...\n"
     ]
    },
    {
     "name": "stderr",
     "output_type": "stream",
     "text": [
      "/home/aron/.local/lib/python3.9/site-packages/torch/jit/_recursive.py:708: LightningDeprecationWarning: `LightningModule.use_amp` was deprecated in v1.6 and will be removed in v1.8. Please use `Trainer.amp_backend`.\n",
      "  item = getattr(nn_module, name, None)\n",
      "/home/aron/.local/lib/python3.9/site-packages/torch/jit/_recursive.py:508: LightningDeprecationWarning: `LightningModule.use_amp` was deprecated in v1.6 and will be removed in v1.8. Please use `Trainer.amp_backend`.\n",
      "  item = getattr(nn_module, name, None)\n",
      "/home/aron/.local/lib/python3.9/site-packages/torch/jit/_recursive.py:591: LightningDeprecationWarning: `LightningModule.use_amp` was deprecated in v1.6 and will be removed in v1.8. Please use `Trainer.amp_backend`.\n",
      "  item = getattr(nn_module, name, None)\n"
     ]
    },
    {
     "name": "stdout",
     "output_type": "stream",
     "text": [
      "Done!\n"
     ]
    },
    {
     "name": "stderr",
     "output_type": "stream",
     "text": [
      "Waiting for the remaining 57 operations to synchronize with Neptune. Do not kill this process.\n"
     ]
    },
    {
     "name": "stdout",
     "output_type": "stream",
     "text": [
      "All 57 operations synced, thanks for waiting!\n"
     ]
    },
    {
     "name": "stderr",
     "output_type": "stream",
     "text": [
      "Global seed set to 1\n"
     ]
    },
    {
     "name": "stdout",
     "output_type": "stream",
     "text": [
      "_____________________\n",
      "<class 'list'>\n",
      "_____________________\n",
      "Validation set\n",
      "bcm_behaviour_data_multi_subject/subject2/2022-11-09_14-34-16/0.npy\n",
      "bcm_behaviour_data_multi_subject/subject2/2022-11-09_14-34-16/1.npy\n",
      "bcm_behaviour_data_multi_subject/subject2/2022-11-09_14-34-16/2.npy\n",
      "bcm_behaviour_data_multi_subject/subject2/2022-11-09_14-34-16/3.npy\n",
      "bcm_behaviour_data_multi_subject/subject2/2022-11-09_14-34-16/4.npy\n",
      "bcm_behaviour_data_multi_subject/subject2/2022-11-09_14-52-7/0.npy\n",
      "bcm_behaviour_data_multi_subject/subject2/2022-11-09_14-52-7/1.npy\n",
      "bcm_behaviour_data_multi_subject/subject2/2022-11-09_14-52-7/2.npy\n",
      "bcm_behaviour_data_multi_subject/subject2/2022-11-09_14-52-7/3.npy\n",
      "bcm_behaviour_data_multi_subject/subject2/2022-11-09_14-52-7/4.npy\n",
      "bcm_behaviour_data_multi_subject/subject2/2022-11-09_14-15-6/0.npy\n",
      "bcm_behaviour_data_multi_subject/subject2/2022-11-09_14-15-6/1.npy\n",
      "bcm_behaviour_data_multi_subject/subject2/2022-11-09_14-15-6/2.npy\n",
      "bcm_behaviour_data_multi_subject/subject2/2022-11-09_14-15-6/3.npy\n",
      "bcm_behaviour_data_multi_subject/subject2/2022-11-09_14-15-6/4.npy\n",
      "bcm_behaviour_data_multi_subject/subject2/2022-11-09_13-56-0/0.npy\n",
      "bcm_behaviour_data_multi_subject/subject2/2022-11-09_13-56-0/1.npy\n",
      "bcm_behaviour_data_multi_subject/subject2/2022-11-09_13-56-0/2.npy\n",
      "bcm_behaviour_data_multi_subject/subject2/2022-11-09_13-56-0/3.npy\n",
      "bcm_behaviour_data_multi_subject/subject2/2022-11-09_13-56-0/4.npy\n",
      "Training set\n",
      "bcm_behaviour_data_multi_subject/subject3/2022-11-09_15-47-1/0.npy\n",
      "bcm_behaviour_data_multi_subject/subject3/2022-11-09_15-47-1/1.npy\n",
      "bcm_behaviour_data_multi_subject/subject3/2022-11-09_15-47-1/2.npy\n",
      "bcm_behaviour_data_multi_subject/subject3/2022-11-09_15-47-1/3.npy\n",
      "bcm_behaviour_data_multi_subject/subject3/2022-11-09_15-47-1/4.npy\n",
      "bcm_behaviour_data_multi_subject/subject3/2022-11-09_16-26-13/0.npy\n",
      "bcm_behaviour_data_multi_subject/subject3/2022-11-09_16-26-13/1.npy\n",
      "bcm_behaviour_data_multi_subject/subject3/2022-11-09_16-26-13/2.npy\n",
      "bcm_behaviour_data_multi_subject/subject3/2022-11-09_16-26-13/3.npy\n",
      "bcm_behaviour_data_multi_subject/subject3/2022-11-09_16-26-13/4.npy\n",
      "bcm_behaviour_data_multi_subject/subject3/2022-11-09_15-27-14/0.npy\n",
      "bcm_behaviour_data_multi_subject/subject3/2022-11-09_15-27-14/1.npy\n",
      "bcm_behaviour_data_multi_subject/subject3/2022-11-09_15-27-14/2.npy\n",
      "bcm_behaviour_data_multi_subject/subject3/2022-11-09_15-27-14/3.npy\n",
      "bcm_behaviour_data_multi_subject/subject3/2022-11-09_15-27-14/4.npy\n",
      "bcm_behaviour_data_multi_subject/subject3/2022-11-09_16-7-9/0.npy\n",
      "bcm_behaviour_data_multi_subject/subject3/2022-11-09_16-7-9/1.npy\n",
      "bcm_behaviour_data_multi_subject/subject3/2022-11-09_16-7-9/2.npy\n",
      "bcm_behaviour_data_multi_subject/subject3/2022-11-09_16-7-9/3.npy\n",
      "bcm_behaviour_data_multi_subject/subject3/2022-11-09_16-7-9/4.npy\n",
      "bcm_behaviour_data_multi_subject/subject1/2022-09-20_15-38-11/0.npy\n",
      "bcm_behaviour_data_multi_subject/subject1/2022-09-20_15-38-11/1.npy\n",
      "bcm_behaviour_data_multi_subject/subject1/2022-09-20_15-38-11/2.npy\n",
      "bcm_behaviour_data_multi_subject/subject1/2022-09-20_15-38-11/3.npy\n",
      "bcm_behaviour_data_multi_subject/subject1/2022-09-20_15-38-11/4.npy\n",
      "bcm_behaviour_data_multi_subject/subject1/2022-09-20_14-58-39/0.npy\n",
      "bcm_behaviour_data_multi_subject/subject1/2022-09-20_14-58-39/1.npy\n",
      "bcm_behaviour_data_multi_subject/subject1/2022-09-20_14-58-39/2.npy\n",
      "bcm_behaviour_data_multi_subject/subject1/2022-09-20_14-58-39/3.npy\n",
      "bcm_behaviour_data_multi_subject/subject1/2022-09-20_14-58-39/4.npy\n",
      "bcm_behaviour_data_multi_subject/subject1/2022-09-20_15-18-27/0.npy\n",
      "bcm_behaviour_data_multi_subject/subject1/2022-09-20_15-18-27/1.npy\n",
      "bcm_behaviour_data_multi_subject/subject1/2022-09-20_15-18-27/2.npy\n",
      "bcm_behaviour_data_multi_subject/subject1/2022-09-20_15-18-27/3.npy\n",
      "bcm_behaviour_data_multi_subject/subject1/2022-09-20_15-18-27/4.npy\n",
      "bcm_behaviour_data_multi_subject/subject1/2022-09-20_15-57-37/0.npy\n",
      "bcm_behaviour_data_multi_subject/subject1/2022-09-20_15-57-37/1.npy\n",
      "bcm_behaviour_data_multi_subject/subject1/2022-09-20_15-57-37/2.npy\n",
      "bcm_behaviour_data_multi_subject/subject1/2022-09-20_15-57-37/3.npy\n",
      "bcm_behaviour_data_multi_subject/subject1/2022-09-20_15-57-37/4.npy\n"
     ]
    },
    {
     "name": "stderr",
     "output_type": "stream",
     "text": [
      "GPU available: True (cuda), used: True\n",
      "TPU available: False, using: 0 TPU cores\n",
      "IPU available: False, using: 0 IPUs\n",
      "HPU available: False, using: 0 HPUs\n",
      "LOCAL_RANK: 0 - CUDA_VISIBLE_DEVICES: [0,1]\n"
     ]
    },
    {
     "name": "stdout",
     "output_type": "stream",
     "text": [
      "https://app.neptune.ai/NTLAB/BCM-activity-classification/e/BCMAC-669\n",
      "Remember to stop your run once you’ve finished logging your metadata (https://docs.neptune.ai/api-reference/run#.stop). It will be stopped automatically only when the notebook kernel/interactive console is terminated.\n"
     ]
    },
    {
     "name": "stderr",
     "output_type": "stream",
     "text": [
      "\n",
      "  | Name         | Type             | Params\n",
      "--------------------------------------------------\n",
      "0 | lstm         | LSTM             | 149 K \n",
      "1 | flatten      | Flatten          | 0     \n",
      "2 | fc           | Linear           | 1.3 K \n",
      "3 | output       | Sigmoid          | 0     \n",
      "4 | sm           | Softmax          | 0     \n",
      "5 | loss         | CrossEntropyLoss | 0     \n",
      "6 | accuracy     | Accuracy         | 0     \n",
      "7 | val_accuracy | Accuracy         | 0     \n",
      "--------------------------------------------------\n",
      "150 K     Trainable params\n",
      "0         Non-trainable params\n",
      "150 K     Total params\n",
      "0.603     Total estimated model params size (MB)\n"
     ]
    },
    {
     "data": {
      "application/vnd.jupyter.widget-view+json": {
       "model_id": "",
       "version_major": 2,
       "version_minor": 0
      },
      "text/plain": [
       "Sanity Checking: 0it [00:00, ?it/s]"
      ]
     },
     "metadata": {},
     "output_type": "display_data"
    },
    {
     "name": "stdout",
     "output_type": "stream",
     "text": [
      "{'progress_bar': {'val_loss': 1.615666389465332}, 'log': {'val_loss': 1.615666389465332}, 'val_loss': 1.615666389465332}\n",
      "Accuracy: 0.0\n"
     ]
    },
    {
     "name": "stderr",
     "output_type": "stream",
     "text": [
      "/home/aron/.local/lib/python3.9/site-packages/pytorch_lightning/core/module.py:555: UserWarning: To copy construct from a tensor, it is recommended to use sourceTensor.clone().detach() or sourceTensor.clone().detach().requires_grad_(True), rather than torch.tensor(sourceTensor).\n",
      "  value = torch.tensor(value, device=self.device)\n"
     ]
    },
    {
     "data": {
      "application/vnd.jupyter.widget-view+json": {
       "model_id": "2705e43ebcd64e258560a65933792826",
       "version_major": 2,
       "version_minor": 0
      },
      "text/plain": [
       "Training: 0it [00:00, ?it/s]"
      ]
     },
     "metadata": {},
     "output_type": "display_data"
    },
    {
     "data": {
      "application/vnd.jupyter.widget-view+json": {
       "model_id": "",
       "version_major": 2,
       "version_minor": 0
      },
      "text/plain": [
       "Validation: 0it [00:00, ?it/s]"
      ]
     },
     "metadata": {},
     "output_type": "display_data"
    },
    {
     "name": "stdout",
     "output_type": "stream",
     "text": [
      "{'progress_bar': {'val_loss': 1.4808484315872192}, 'log': {'val_loss': 1.4808484315872192}, 'val_loss': 1.4808484315872192}\n",
      "Accuracy: 0.7052924633026123\n",
      "Accuracy: 0.7613509893417358\n"
     ]
    },
    {
     "data": {
      "application/vnd.jupyter.widget-view+json": {
       "model_id": "",
       "version_major": 2,
       "version_minor": 0
      },
      "text/plain": [
       "Validation: 0it [00:00, ?it/s]"
      ]
     },
     "metadata": {},
     "output_type": "display_data"
    },
    {
     "name": "stdout",
     "output_type": "stream",
     "text": [
      "{'progress_bar': {'val_loss': 1.4695178270339966}, 'log': {'val_loss': 1.4695178270339966}, 'val_loss': 1.4695178270339966}\n",
      "Accuracy: 0.7208913564682007\n",
      "Accuracy: 0.7928969264030457\n"
     ]
    },
    {
     "data": {
      "application/vnd.jupyter.widget-view+json": {
       "model_id": "",
       "version_major": 2,
       "version_minor": 0
      },
      "text/plain": [
       "Validation: 0it [00:00, ?it/s]"
      ]
     },
     "metadata": {},
     "output_type": "display_data"
    },
    {
     "name": "stdout",
     "output_type": "stream",
     "text": [
      "{'progress_bar': {'val_loss': 1.474554181098938}, 'log': {'val_loss': 1.474554181098938}, 'val_loss': 1.474554181098938}\n",
      "Accuracy: 0.7383008599281311\n",
      "Accuracy: 0.7915738224983215\n"
     ]
    },
    {
     "data": {
      "application/vnd.jupyter.widget-view+json": {
       "model_id": "",
       "version_major": 2,
       "version_minor": 0
      },
      "text/plain": [
       "Validation: 0it [00:00, ?it/s]"
      ]
     },
     "metadata": {},
     "output_type": "display_data"
    },
    {
     "name": "stdout",
     "output_type": "stream",
     "text": [
      "{'progress_bar': {'val_loss': 1.4837770462036133}, 'log': {'val_loss': 1.4837770462036133}, 'val_loss': 1.4837770462036133}\n",
      "Accuracy: 0.6795264482498169\n",
      "Accuracy: 0.8105849623680115\n"
     ]
    },
    {
     "data": {
      "application/vnd.jupyter.widget-view+json": {
       "model_id": "",
       "version_major": 2,
       "version_minor": 0
      },
      "text/plain": [
       "Validation: 0it [00:00, ?it/s]"
      ]
     },
     "metadata": {},
     "output_type": "display_data"
    },
    {
     "name": "stdout",
     "output_type": "stream",
     "text": [
      "{'progress_bar': {'val_loss': 1.4874104261398315}, 'log': {'val_loss': 1.4874104261398315}, 'val_loss': 1.4874104261398315}\n",
      "Accuracy: 0.6728412508964539\n",
      "Accuracy: 0.7953342795372009\n"
     ]
    },
    {
     "data": {
      "application/vnd.jupyter.widget-view+json": {
       "model_id": "",
       "version_major": 2,
       "version_minor": 0
      },
      "text/plain": [
       "Validation: 0it [00:00, ?it/s]"
      ]
     },
     "metadata": {},
     "output_type": "display_data"
    },
    {
     "name": "stdout",
     "output_type": "stream",
     "text": [
      "{'progress_bar': {'val_loss': 1.4927468299865723}, 'log': {'val_loss': 1.4927468299865723}, 'val_loss': 1.4927468299865723}\n",
      "Accuracy: 0.6463788151741028\n",
      "Accuracy: 0.7831476330757141\n"
     ]
    },
    {
     "data": {
      "application/vnd.jupyter.widget-view+json": {
       "model_id": "",
       "version_major": 2,
       "version_minor": 0
      },
      "text/plain": [
       "Validation: 0it [00:00, ?it/s]"
      ]
     },
     "metadata": {},
     "output_type": "display_data"
    },
    {
     "name": "stdout",
     "output_type": "stream",
     "text": [
      "{'progress_bar': {'val_loss': 1.4784523248672485}, 'log': {'val_loss': 1.4784523248672485}, 'val_loss': 1.4784523248672485}\n",
      "Accuracy: 0.7006963491439819\n",
      "Accuracy: 0.7932451367378235\n"
     ]
    },
    {
     "data": {
      "application/vnd.jupyter.widget-view+json": {
       "model_id": "",
       "version_major": 2,
       "version_minor": 0
      },
      "text/plain": [
       "Validation: 0it [00:00, ?it/s]"
      ]
     },
     "metadata": {},
     "output_type": "display_data"
    },
    {
     "name": "stdout",
     "output_type": "stream",
     "text": [
      "{'progress_bar': {'val_loss': 1.4856091737747192}, 'log': {'val_loss': 1.4856091737747192}, 'val_loss': 1.4856091737747192}\n",
      "Accuracy: 0.6820334196090698\n",
      "Accuracy: 0.8007659912109375\n"
     ]
    },
    {
     "data": {
      "application/vnd.jupyter.widget-view+json": {
       "model_id": "",
       "version_major": 2,
       "version_minor": 0
      },
      "text/plain": [
       "Validation: 0it [00:00, ?it/s]"
      ]
     },
     "metadata": {},
     "output_type": "display_data"
    },
    {
     "name": "stdout",
     "output_type": "stream",
     "text": [
      "{'progress_bar': {'val_loss': 1.4784457683563232}, 'log': {'val_loss': 1.4784457683563232}, 'val_loss': 1.4784457683563232}\n",
      "Accuracy: 0.7174094915390015\n",
      "Accuracy: 0.8034122586250305\n"
     ]
    },
    {
     "data": {
      "application/vnd.jupyter.widget-view+json": {
       "model_id": "",
       "version_major": 2,
       "version_minor": 0
      },
      "text/plain": [
       "Validation: 0it [00:00, ?it/s]"
      ]
     },
     "metadata": {},
     "output_type": "display_data"
    },
    {
     "name": "stdout",
     "output_type": "stream",
     "text": [
      "{'progress_bar': {'val_loss': 1.4942604303359985}, 'log': {'val_loss': 1.4942604303359985}, 'val_loss': 1.4942604303359985}\n",
      "Accuracy: 0.665181040763855\n",
      "Accuracy: 0.8951253294944763\n"
     ]
    },
    {
     "data": {
      "application/vnd.jupyter.widget-view+json": {
       "model_id": "",
       "version_major": 2,
       "version_minor": 0
      },
      "text/plain": [
       "Validation: 0it [00:00, ?it/s]"
      ]
     },
     "metadata": {},
     "output_type": "display_data"
    },
    {
     "name": "stdout",
     "output_type": "stream",
     "text": [
      "{'progress_bar': {'val_loss': 1.4955154657363892}, 'log': {'val_loss': 1.4955154657363892}, 'val_loss': 1.4955154657363892}\n",
      "Accuracy: 0.6639275550842285\n",
      "Accuracy: 0.9376044273376465\n"
     ]
    },
    {
     "data": {
      "application/vnd.jupyter.widget-view+json": {
       "model_id": "",
       "version_major": 2,
       "version_minor": 0
      },
      "text/plain": [
       "Validation: 0it [00:00, ?it/s]"
      ]
     },
     "metadata": {},
     "output_type": "display_data"
    },
    {
     "name": "stdout",
     "output_type": "stream",
     "text": [
      "{'progress_bar': {'val_loss': 1.4956594705581665}, 'log': {'val_loss': 1.4956594705581665}, 'val_loss': 1.4956594705581665}\n",
      "Accuracy: 0.6604456901550293\n",
      "Accuracy: 0.9489554166793823\n"
     ]
    },
    {
     "data": {
      "application/vnd.jupyter.widget-view+json": {
       "model_id": "",
       "version_major": 2,
       "version_minor": 0
      },
      "text/plain": [
       "Validation: 0it [00:00, ?it/s]"
      ]
     },
     "metadata": {},
     "output_type": "display_data"
    },
    {
     "name": "stdout",
     "output_type": "stream",
     "text": [
      "{'progress_bar': {'val_loss': 1.4835920333862305}, 'log': {'val_loss': 1.4835920333862305}, 'val_loss': 1.4835920333862305}\n",
      "Accuracy: 0.7038997411727905\n",
      "Accuracy: 0.9479108452796936\n"
     ]
    },
    {
     "data": {
      "application/vnd.jupyter.widget-view+json": {
       "model_id": "",
       "version_major": 2,
       "version_minor": 0
      },
      "text/plain": [
       "Validation: 0it [00:00, ?it/s]"
      ]
     },
     "metadata": {},
     "output_type": "display_data"
    },
    {
     "name": "stdout",
     "output_type": "stream",
     "text": [
      "{'progress_bar': {'val_loss': 1.4869924783706665}, 'log': {'val_loss': 1.4869924783706665}, 'val_loss': 1.4869924783706665}\n",
      "Accuracy: 0.7001392841339111\n",
      "Accuracy: 0.9465877413749695\n"
     ]
    },
    {
     "data": {
      "application/vnd.jupyter.widget-view+json": {
       "model_id": "",
       "version_major": 2,
       "version_minor": 0
      },
      "text/plain": [
       "Validation: 0it [00:00, ?it/s]"
      ]
     },
     "metadata": {},
     "output_type": "display_data"
    },
    {
     "name": "stdout",
     "output_type": "stream",
     "text": [
      "{'progress_bar': {'val_loss': 1.4745880365371704}, 'log': {'val_loss': 1.4745880365371704}, 'val_loss': 1.4745880365371704}\n",
      "Accuracy: 0.7433147430419922\n",
      "Accuracy: 0.9509052634239197\n"
     ]
    },
    {
     "data": {
      "application/vnd.jupyter.widget-view+json": {
       "model_id": "",
       "version_major": 2,
       "version_minor": 0
      },
      "text/plain": [
       "Validation: 0it [00:00, ?it/s]"
      ]
     },
     "metadata": {},
     "output_type": "display_data"
    },
    {
     "name": "stdout",
     "output_type": "stream",
     "text": [
      "{'progress_bar': {'val_loss': 1.4660953283309937}, 'log': {'val_loss': 1.4660953283309937}, 'val_loss': 1.4660953283309937}\n",
      "Accuracy: 0.7799443006515503\n",
      "Accuracy: 0.9531337022781372\n"
     ]
    },
    {
     "data": {
      "application/vnd.jupyter.widget-view+json": {
       "model_id": "",
       "version_major": 2,
       "version_minor": 0
      },
      "text/plain": [
       "Validation: 0it [00:00, ?it/s]"
      ]
     },
     "metadata": {},
     "output_type": "display_data"
    },
    {
     "name": "stdout",
     "output_type": "stream",
     "text": [
      "{'progress_bar': {'val_loss': 1.4859282970428467}, 'log': {'val_loss': 1.4859282970428467}, 'val_loss': 1.4859282970428467}\n",
      "Accuracy: 0.7011141777038574\n",
      "Accuracy: 0.9522284269332886\n"
     ]
    },
    {
     "data": {
      "application/vnd.jupyter.widget-view+json": {
       "model_id": "",
       "version_major": 2,
       "version_minor": 0
      },
      "text/plain": [
       "Validation: 0it [00:00, ?it/s]"
      ]
     },
     "metadata": {},
     "output_type": "display_data"
    },
    {
     "name": "stdout",
     "output_type": "stream",
     "text": [
      "{'progress_bar': {'val_loss': 1.483067512512207}, 'log': {'val_loss': 1.483067512512207}, 'val_loss': 1.483067512512207}\n",
      "Accuracy: 0.7115598917007446\n",
      "Accuracy: 0.958008348941803\n"
     ]
    },
    {
     "data": {
      "application/vnd.jupyter.widget-view+json": {
       "model_id": "",
       "version_major": 2,
       "version_minor": 0
      },
      "text/plain": [
       "Validation: 0it [00:00, ?it/s]"
      ]
     },
     "metadata": {},
     "output_type": "display_data"
    },
    {
     "name": "stdout",
     "output_type": "stream",
     "text": [
      "{'progress_bar': {'val_loss': 1.4636614322662354}, 'log': {'val_loss': 1.4636614322662354}, 'val_loss': 1.4636614322662354}\n",
      "Accuracy: 0.7834261655807495\n",
      "Accuracy: 0.9587743878364563\n"
     ]
    },
    {
     "data": {
      "application/vnd.jupyter.widget-view+json": {
       "model_id": "",
       "version_major": 2,
       "version_minor": 0
      },
      "text/plain": [
       "Validation: 0it [00:00, ?it/s]"
      ]
     },
     "metadata": {},
     "output_type": "display_data"
    },
    {
     "name": "stdout",
     "output_type": "stream",
     "text": [
      "{'progress_bar': {'val_loss': 1.4786897897720337}, 'log': {'val_loss': 1.4786897897720337}, 'val_loss': 1.4786897897720337}\n",
      "Accuracy: 0.7415041923522949\n",
      "Accuracy: 0.9564763307571411\n"
     ]
    },
    {
     "data": {
      "application/vnd.jupyter.widget-view+json": {
       "model_id": "",
       "version_major": 2,
       "version_minor": 0
      },
      "text/plain": [
       "Validation: 0it [00:00, ?it/s]"
      ]
     },
     "metadata": {},
     "output_type": "display_data"
    },
    {
     "name": "stdout",
     "output_type": "stream",
     "text": [
      "{'progress_bar': {'val_loss': 1.4826748371124268}, 'log': {'val_loss': 1.4826748371124268}, 'val_loss': 1.4826748371124268}\n",
      "Accuracy: 0.7174094915390015\n",
      "Accuracy: 0.9582868814468384\n"
     ]
    },
    {
     "data": {
      "application/vnd.jupyter.widget-view+json": {
       "model_id": "",
       "version_major": 2,
       "version_minor": 0
      },
      "text/plain": [
       "Validation: 0it [00:00, ?it/s]"
      ]
     },
     "metadata": {},
     "output_type": "display_data"
    },
    {
     "name": "stdout",
     "output_type": "stream",
     "text": [
      "{'progress_bar': {'val_loss': 1.4751633405685425}, 'log': {'val_loss': 1.4751633405685425}, 'val_loss': 1.4751633405685425}\n",
      "Accuracy: 0.7490250468254089\n",
      "Accuracy: 0.9611420631408691\n"
     ]
    },
    {
     "data": {
      "application/vnd.jupyter.widget-view+json": {
       "model_id": "",
       "version_major": 2,
       "version_minor": 0
      },
      "text/plain": [
       "Validation: 0it [00:00, ?it/s]"
      ]
     },
     "metadata": {},
     "output_type": "display_data"
    },
    {
     "name": "stdout",
     "output_type": "stream",
     "text": [
      "{'progress_bar': {'val_loss': 1.4714510440826416}, 'log': {'val_loss': 1.4714510440826416}, 'val_loss': 1.4714510440826416}\n",
      "Accuracy: 0.7522284388542175\n",
      "Accuracy: 0.9531337022781372\n"
     ]
    },
    {
     "data": {
      "application/vnd.jupyter.widget-view+json": {
       "model_id": "",
       "version_major": 2,
       "version_minor": 0
      },
      "text/plain": [
       "Validation: 0it [00:00, ?it/s]"
      ]
     },
     "metadata": {},
     "output_type": "display_data"
    },
    {
     "name": "stdout",
     "output_type": "stream",
     "text": [
      "{'progress_bar': {'val_loss': 1.4782758951187134}, 'log': {'val_loss': 1.4782758951187134}, 'val_loss': 1.4782758951187134}\n",
      "Accuracy: 0.726323127746582\n",
      "Accuracy: 0.9545264840126038\n"
     ]
    },
    {
     "data": {
      "application/vnd.jupyter.widget-view+json": {
       "model_id": "",
       "version_major": 2,
       "version_minor": 0
      },
      "text/plain": [
       "Validation: 0it [00:00, ?it/s]"
      ]
     },
     "metadata": {},
     "output_type": "display_data"
    },
    {
     "name": "stdout",
     "output_type": "stream",
     "text": [
      "{'progress_bar': {'val_loss': 1.4931975603103638}, 'log': {'val_loss': 1.4931975603103638}, 'val_loss': 1.4931975603103638}\n",
      "Accuracy: 0.6781337261199951\n",
      "Accuracy: 0.9598885774612427\n"
     ]
    },
    {
     "data": {
      "application/vnd.jupyter.widget-view+json": {
       "model_id": "",
       "version_major": 2,
       "version_minor": 0
      },
      "text/plain": [
       "Validation: 0it [00:00, ?it/s]"
      ]
     },
     "metadata": {},
     "output_type": "display_data"
    },
    {
     "name": "stdout",
     "output_type": "stream",
     "text": [
      "{'progress_bar': {'val_loss': 1.4841941595077515}, 'log': {'val_loss': 1.4841941595077515}, 'val_loss': 1.4841941595077515}\n",
      "Accuracy: 0.7111420631408691\n",
      "Accuracy: 0.9634401202201843\n"
     ]
    },
    {
     "data": {
      "application/vnd.jupyter.widget-view+json": {
       "model_id": "",
       "version_major": 2,
       "version_minor": 0
      },
      "text/plain": [
       "Validation: 0it [00:00, ?it/s]"
      ]
     },
     "metadata": {},
     "output_type": "display_data"
    },
    {
     "name": "stdout",
     "output_type": "stream",
     "text": [
      "{'progress_bar': {'val_loss': 1.4780207872390747}, 'log': {'val_loss': 1.4780207872390747}, 'val_loss': 1.4780207872390747}\n",
      "Accuracy: 0.7396935820579529\n",
      "Accuracy: 0.9615598917007446\n"
     ]
    },
    {
     "data": {
      "application/vnd.jupyter.widget-view+json": {
       "model_id": "",
       "version_major": 2,
       "version_minor": 0
      },
      "text/plain": [
       "Validation: 0it [00:00, ?it/s]"
      ]
     },
     "metadata": {},
     "output_type": "display_data"
    },
    {
     "name": "stdout",
     "output_type": "stream",
     "text": [
      "{'progress_bar': {'val_loss': 1.489160180091858}, 'log': {'val_loss': 1.489160180091858}, 'val_loss': 1.489160180091858}\n",
      "Accuracy: 0.6962395310401917\n",
      "Accuracy: 0.9631615877151489\n"
     ]
    },
    {
     "data": {
      "application/vnd.jupyter.widget-view+json": {
       "model_id": "",
       "version_major": 2,
       "version_minor": 0
      },
      "text/plain": [
       "Validation: 0it [00:00, ?it/s]"
      ]
     },
     "metadata": {},
     "output_type": "display_data"
    },
    {
     "name": "stdout",
     "output_type": "stream",
     "text": [
      "{'progress_bar': {'val_loss': 1.4800212383270264}, 'log': {'val_loss': 1.4800212383270264}, 'val_loss': 1.4800212383270264}\n",
      "Accuracy: 0.7264624238014221\n",
      "Accuracy: 0.9637186527252197\n"
     ]
    },
    {
     "data": {
      "application/vnd.jupyter.widget-view+json": {
       "model_id": "",
       "version_major": 2,
       "version_minor": 0
      },
      "text/plain": [
       "Validation: 0it [00:00, ?it/s]"
      ]
     },
     "metadata": {},
     "output_type": "display_data"
    },
    {
     "name": "stdout",
     "output_type": "stream",
     "text": [
      "{'progress_bar': {'val_loss': 1.469650149345398}, 'log': {'val_loss': 1.469650149345398}, 'val_loss': 1.469650149345398}\n",
      "Accuracy: 0.7657381892204285\n",
      "Accuracy: 0.9630919098854065\n"
     ]
    },
    {
     "data": {
      "application/vnd.jupyter.widget-view+json": {
       "model_id": "",
       "version_major": 2,
       "version_minor": 0
      },
      "text/plain": [
       "Validation: 0it [00:00, ?it/s]"
      ]
     },
     "metadata": {},
     "output_type": "display_data"
    },
    {
     "name": "stdout",
     "output_type": "stream",
     "text": [
      "{'progress_bar': {'val_loss': 1.4630764722824097}, 'log': {'val_loss': 1.4630764722824097}, 'val_loss': 1.4630764722824097}\n",
      "Accuracy: 0.7954038977622986\n",
      "Accuracy: 0.969986081123352\n"
     ]
    },
    {
     "data": {
      "application/vnd.jupyter.widget-view+json": {
       "model_id": "",
       "version_major": 2,
       "version_minor": 0
      },
      "text/plain": [
       "Validation: 0it [00:00, ?it/s]"
      ]
     },
     "metadata": {},
     "output_type": "display_data"
    },
    {
     "name": "stdout",
     "output_type": "stream",
     "text": [
      "{'progress_bar': {'val_loss': 1.484250545501709}, 'log': {'val_loss': 1.484250545501709}, 'val_loss': 1.484250545501709}\n",
      "Accuracy: 0.7097492814064026\n",
      "Accuracy: 0.9558495879173279\n"
     ]
    },
    {
     "data": {
      "application/vnd.jupyter.widget-view+json": {
       "model_id": "",
       "version_major": 2,
       "version_minor": 0
      },
      "text/plain": [
       "Validation: 0it [00:00, ?it/s]"
      ]
     },
     "metadata": {},
     "output_type": "display_data"
    },
    {
     "name": "stdout",
     "output_type": "stream",
     "text": [
      "{'progress_bar': {'val_loss': 1.483593463897705}, 'log': {'val_loss': 1.483593463897705}, 'val_loss': 1.483593463897705}\n",
      "Accuracy: 0.7140668630599976\n",
      "Accuracy: 0.9681058526039124\n"
     ]
    },
    {
     "data": {
      "application/vnd.jupyter.widget-view+json": {
       "model_id": "",
       "version_major": 2,
       "version_minor": 0
      },
      "text/plain": [
       "Validation: 0it [00:00, ?it/s]"
      ]
     },
     "metadata": {},
     "output_type": "display_data"
    },
    {
     "name": "stdout",
     "output_type": "stream",
     "text": [
      "{'progress_bar': {'val_loss': 1.503714680671692}, 'log': {'val_loss': 1.503714680671692}, 'val_loss': 1.503714680671692}\n",
      "Accuracy: 0.6417827010154724\n",
      "Accuracy: 0.9646936058998108\n"
     ]
    },
    {
     "data": {
      "application/vnd.jupyter.widget-view+json": {
       "model_id": "",
       "version_major": 2,
       "version_minor": 0
      },
      "text/plain": [
       "Validation: 0it [00:00, ?it/s]"
      ]
     },
     "metadata": {},
     "output_type": "display_data"
    },
    {
     "name": "stdout",
     "output_type": "stream",
     "text": [
      "{'progress_bar': {'val_loss': 1.4899344444274902}, 'log': {'val_loss': 1.4899344444274902}, 'val_loss': 1.4899344444274902}\n",
      "Accuracy: 0.688997209072113\n",
      "Accuracy: 0.9679665565490723\n"
     ]
    },
    {
     "data": {
      "application/vnd.jupyter.widget-view+json": {
       "model_id": "",
       "version_major": 2,
       "version_minor": 0
      },
      "text/plain": [
       "Validation: 0it [00:00, ?it/s]"
      ]
     },
     "metadata": {},
     "output_type": "display_data"
    },
    {
     "name": "stdout",
     "output_type": "stream",
     "text": [
      "{'progress_bar': {'val_loss': 1.4754116535186768}, 'log': {'val_loss': 1.4754116535186768}, 'val_loss': 1.4754116535186768}\n",
      "Accuracy: 0.7504178285598755\n",
      "Accuracy: 0.9715180993080139\n"
     ]
    },
    {
     "data": {
      "application/vnd.jupyter.widget-view+json": {
       "model_id": "",
       "version_major": 2,
       "version_minor": 0
      },
      "text/plain": [
       "Validation: 0it [00:00, ?it/s]"
      ]
     },
     "metadata": {},
     "output_type": "display_data"
    },
    {
     "name": "stdout",
     "output_type": "stream",
     "text": [
      "{'progress_bar': {'val_loss': 1.4880133867263794}, 'log': {'val_loss': 1.4880133867263794}, 'val_loss': 1.4880133867263794}\n",
      "Accuracy: 0.7022284269332886\n",
      "Accuracy: 0.969011127948761\n"
     ]
    },
    {
     "data": {
      "application/vnd.jupyter.widget-view+json": {
       "model_id": "",
       "version_major": 2,
       "version_minor": 0
      },
      "text/plain": [
       "Validation: 0it [00:00, ?it/s]"
      ]
     },
     "metadata": {},
     "output_type": "display_data"
    },
    {
     "name": "stdout",
     "output_type": "stream",
     "text": [
      "{'progress_bar': {'val_loss': 1.4866174459457397}, 'log': {'val_loss': 1.4866174459457397}, 'val_loss': 1.4866174459457397}\n",
      "Accuracy: 0.6983286738395691\n",
      "Accuracy: 0.9658774137496948\n"
     ]
    },
    {
     "data": {
      "application/vnd.jupyter.widget-view+json": {
       "model_id": "",
       "version_major": 2,
       "version_minor": 0
      },
      "text/plain": [
       "Validation: 0it [00:00, ?it/s]"
      ]
     },
     "metadata": {},
     "output_type": "display_data"
    },
    {
     "name": "stdout",
     "output_type": "stream",
     "text": [
      "{'progress_bar': {'val_loss': 1.491966724395752}, 'log': {'val_loss': 1.491966724395752}, 'val_loss': 1.491966724395752}\n",
      "Accuracy: 0.6825905442237854\n",
      "Accuracy: 0.9738857746124268\n"
     ]
    },
    {
     "data": {
      "application/vnd.jupyter.widget-view+json": {
       "model_id": "",
       "version_major": 2,
       "version_minor": 0
      },
      "text/plain": [
       "Validation: 0it [00:00, ?it/s]"
      ]
     },
     "metadata": {},
     "output_type": "display_data"
    },
    {
     "name": "stderr",
     "output_type": "stream",
     "text": [
      "`Trainer.fit` stopped: `max_epochs=40` reached.\n"
     ]
    },
    {
     "name": "stdout",
     "output_type": "stream",
     "text": [
      "{'progress_bar': {'val_loss': 1.4790054559707642}, 'log': {'val_loss': 1.4790054559707642}, 'val_loss': 1.4790054559707642}\n",
      "Accuracy: 0.7275766134262085\n",
      "Accuracy: 0.9727715849876404\n",
      "Shutting down background jobs, please wait a moment...\n",
      "Done!\n"
     ]
    },
    {
     "name": "stderr",
     "output_type": "stream",
     "text": [
      "/home/aron/.local/lib/python3.9/site-packages/torch/jit/_recursive.py:621: LightningDeprecationWarning: `LightningModule.use_amp` was deprecated in v1.6 and will be removed in v1.8. Please use `Trainer.amp_backend`.\n",
      "  item = getattr(mod, name, None)\n",
      "/home/aron/.local/lib/python3.9/site-packages/torch/jit/_recursive.py:708: LightningDeprecationWarning: `LightningModule.use_amp` was deprecated in v1.6 and will be removed in v1.8. Please use `Trainer.amp_backend`.\n",
      "  item = getattr(nn_module, name, None)\n",
      "/home/aron/.local/lib/python3.9/site-packages/torch/jit/_recursive.py:508: LightningDeprecationWarning: `LightningModule.use_amp` was deprecated in v1.6 and will be removed in v1.8. Please use `Trainer.amp_backend`.\n",
      "  item = getattr(nn_module, name, None)\n",
      "/home/aron/.local/lib/python3.9/site-packages/torch/jit/_recursive.py:591: LightningDeprecationWarning: `LightningModule.use_amp` was deprecated in v1.6 and will be removed in v1.8. Please use `Trainer.amp_backend`.\n",
      "  item = getattr(nn_module, name, None)\n",
      "Waiting for the remaining 6 operations to synchronize with Neptune. Do not kill this process.\n"
     ]
    },
    {
     "name": "stdout",
     "output_type": "stream",
     "text": [
      "All 6 operations synced, thanks for waiting!\n"
     ]
    },
    {
     "name": "stderr",
     "output_type": "stream",
     "text": [
      "Global seed set to 1\n"
     ]
    },
    {
     "name": "stdout",
     "output_type": "stream",
     "text": [
      "_____________________\n",
      "<class 'list'>\n",
      "_____________________\n",
      "Validation set\n",
      "bcm_behaviour_data_multi_subject/subject3/2022-11-09_15-47-1/0.npy\n",
      "bcm_behaviour_data_multi_subject/subject3/2022-11-09_15-47-1/1.npy\n",
      "bcm_behaviour_data_multi_subject/subject3/2022-11-09_15-47-1/2.npy\n",
      "bcm_behaviour_data_multi_subject/subject3/2022-11-09_15-47-1/3.npy\n",
      "bcm_behaviour_data_multi_subject/subject3/2022-11-09_15-47-1/4.npy\n",
      "bcm_behaviour_data_multi_subject/subject3/2022-11-09_16-26-13/0.npy\n",
      "bcm_behaviour_data_multi_subject/subject3/2022-11-09_16-26-13/1.npy\n",
      "bcm_behaviour_data_multi_subject/subject3/2022-11-09_16-26-13/2.npy\n",
      "bcm_behaviour_data_multi_subject/subject3/2022-11-09_16-26-13/3.npy\n",
      "bcm_behaviour_data_multi_subject/subject3/2022-11-09_16-26-13/4.npy\n",
      "bcm_behaviour_data_multi_subject/subject3/2022-11-09_15-27-14/0.npy\n",
      "bcm_behaviour_data_multi_subject/subject3/2022-11-09_15-27-14/1.npy\n",
      "bcm_behaviour_data_multi_subject/subject3/2022-11-09_15-27-14/2.npy\n",
      "bcm_behaviour_data_multi_subject/subject3/2022-11-09_15-27-14/3.npy\n",
      "bcm_behaviour_data_multi_subject/subject3/2022-11-09_15-27-14/4.npy\n",
      "bcm_behaviour_data_multi_subject/subject3/2022-11-09_16-7-9/0.npy\n",
      "bcm_behaviour_data_multi_subject/subject3/2022-11-09_16-7-9/1.npy\n",
      "bcm_behaviour_data_multi_subject/subject3/2022-11-09_16-7-9/2.npy\n",
      "bcm_behaviour_data_multi_subject/subject3/2022-11-09_16-7-9/3.npy\n",
      "bcm_behaviour_data_multi_subject/subject3/2022-11-09_16-7-9/4.npy\n",
      "Training set\n",
      "bcm_behaviour_data_multi_subject/subject1/2022-09-20_15-38-11/0.npy\n",
      "bcm_behaviour_data_multi_subject/subject1/2022-09-20_15-38-11/1.npy\n",
      "bcm_behaviour_data_multi_subject/subject1/2022-09-20_15-38-11/2.npy\n",
      "bcm_behaviour_data_multi_subject/subject1/2022-09-20_15-38-11/3.npy\n",
      "bcm_behaviour_data_multi_subject/subject1/2022-09-20_15-38-11/4.npy\n",
      "bcm_behaviour_data_multi_subject/subject1/2022-09-20_14-58-39/0.npy\n",
      "bcm_behaviour_data_multi_subject/subject1/2022-09-20_14-58-39/1.npy\n",
      "bcm_behaviour_data_multi_subject/subject1/2022-09-20_14-58-39/2.npy\n",
      "bcm_behaviour_data_multi_subject/subject1/2022-09-20_14-58-39/3.npy\n",
      "bcm_behaviour_data_multi_subject/subject1/2022-09-20_14-58-39/4.npy\n",
      "bcm_behaviour_data_multi_subject/subject1/2022-09-20_15-18-27/0.npy\n",
      "bcm_behaviour_data_multi_subject/subject1/2022-09-20_15-18-27/1.npy\n",
      "bcm_behaviour_data_multi_subject/subject1/2022-09-20_15-18-27/2.npy\n",
      "bcm_behaviour_data_multi_subject/subject1/2022-09-20_15-18-27/3.npy\n",
      "bcm_behaviour_data_multi_subject/subject1/2022-09-20_15-18-27/4.npy\n",
      "bcm_behaviour_data_multi_subject/subject1/2022-09-20_15-57-37/0.npy\n",
      "bcm_behaviour_data_multi_subject/subject1/2022-09-20_15-57-37/1.npy\n",
      "bcm_behaviour_data_multi_subject/subject1/2022-09-20_15-57-37/2.npy\n",
      "bcm_behaviour_data_multi_subject/subject1/2022-09-20_15-57-37/3.npy\n",
      "bcm_behaviour_data_multi_subject/subject1/2022-09-20_15-57-37/4.npy\n",
      "bcm_behaviour_data_multi_subject/subject2/2022-11-09_14-34-16/0.npy\n",
      "bcm_behaviour_data_multi_subject/subject2/2022-11-09_14-34-16/1.npy\n",
      "bcm_behaviour_data_multi_subject/subject2/2022-11-09_14-34-16/2.npy\n",
      "bcm_behaviour_data_multi_subject/subject2/2022-11-09_14-34-16/3.npy\n",
      "bcm_behaviour_data_multi_subject/subject2/2022-11-09_14-34-16/4.npy\n",
      "bcm_behaviour_data_multi_subject/subject2/2022-11-09_14-52-7/0.npy\n",
      "bcm_behaviour_data_multi_subject/subject2/2022-11-09_14-52-7/1.npy\n",
      "bcm_behaviour_data_multi_subject/subject2/2022-11-09_14-52-7/2.npy\n",
      "bcm_behaviour_data_multi_subject/subject2/2022-11-09_14-52-7/3.npy\n",
      "bcm_behaviour_data_multi_subject/subject2/2022-11-09_14-52-7/4.npy\n",
      "bcm_behaviour_data_multi_subject/subject2/2022-11-09_14-15-6/0.npy\n",
      "bcm_behaviour_data_multi_subject/subject2/2022-11-09_14-15-6/1.npy\n",
      "bcm_behaviour_data_multi_subject/subject2/2022-11-09_14-15-6/2.npy\n",
      "bcm_behaviour_data_multi_subject/subject2/2022-11-09_14-15-6/3.npy\n",
      "bcm_behaviour_data_multi_subject/subject2/2022-11-09_14-15-6/4.npy\n",
      "bcm_behaviour_data_multi_subject/subject2/2022-11-09_13-56-0/0.npy\n",
      "bcm_behaviour_data_multi_subject/subject2/2022-11-09_13-56-0/1.npy\n",
      "bcm_behaviour_data_multi_subject/subject2/2022-11-09_13-56-0/2.npy\n",
      "bcm_behaviour_data_multi_subject/subject2/2022-11-09_13-56-0/3.npy\n",
      "bcm_behaviour_data_multi_subject/subject2/2022-11-09_13-56-0/4.npy\n"
     ]
    },
    {
     "name": "stderr",
     "output_type": "stream",
     "text": [
      "GPU available: True (cuda), used: True\n",
      "TPU available: False, using: 0 TPU cores\n",
      "IPU available: False, using: 0 IPUs\n",
      "HPU available: False, using: 0 HPUs\n",
      "LOCAL_RANK: 0 - CUDA_VISIBLE_DEVICES: [0,1]\n"
     ]
    },
    {
     "name": "stdout",
     "output_type": "stream",
     "text": [
      "https://app.neptune.ai/NTLAB/BCM-activity-classification/e/BCMAC-670\n",
      "Remember to stop your run once you’ve finished logging your metadata (https://docs.neptune.ai/api-reference/run#.stop). It will be stopped automatically only when the notebook kernel/interactive console is terminated.\n"
     ]
    },
    {
     "name": "stderr",
     "output_type": "stream",
     "text": [
      "\n",
      "  | Name         | Type             | Params\n",
      "--------------------------------------------------\n",
      "0 | lstm         | LSTM             | 149 K \n",
      "1 | flatten      | Flatten          | 0     \n",
      "2 | fc           | Linear           | 1.3 K \n",
      "3 | output       | Sigmoid          | 0     \n",
      "4 | sm           | Softmax          | 0     \n",
      "5 | loss         | CrossEntropyLoss | 0     \n",
      "6 | accuracy     | Accuracy         | 0     \n",
      "7 | val_accuracy | Accuracy         | 0     \n",
      "--------------------------------------------------\n",
      "150 K     Trainable params\n",
      "0         Non-trainable params\n",
      "150 K     Total params\n",
      "0.603     Total estimated model params size (MB)\n"
     ]
    },
    {
     "data": {
      "application/vnd.jupyter.widget-view+json": {
       "model_id": "",
       "version_major": 2,
       "version_minor": 0
      },
      "text/plain": [
       "Sanity Checking: 0it [00:00, ?it/s]"
      ]
     },
     "metadata": {},
     "output_type": "display_data"
    },
    {
     "name": "stdout",
     "output_type": "stream",
     "text": [
      "{'progress_bar': {'val_loss': 1.6153650283813477}, 'log': {'val_loss': 1.6153650283813477}, 'val_loss': 1.6153650283813477}\n",
      "Accuracy: 0.0\n"
     ]
    },
    {
     "name": "stderr",
     "output_type": "stream",
     "text": [
      "/home/aron/.local/lib/python3.9/site-packages/pytorch_lightning/core/module.py:555: UserWarning: To copy construct from a tensor, it is recommended to use sourceTensor.clone().detach() or sourceTensor.clone().detach().requires_grad_(True), rather than torch.tensor(sourceTensor).\n",
      "  value = torch.tensor(value, device=self.device)\n"
     ]
    },
    {
     "data": {
      "application/vnd.jupyter.widget-view+json": {
       "model_id": "a3f91783cd3844bbabcda0205277e81e",
       "version_major": 2,
       "version_minor": 0
      },
      "text/plain": [
       "Training: 0it [00:00, ?it/s]"
      ]
     },
     "metadata": {},
     "output_type": "display_data"
    },
    {
     "data": {
      "application/vnd.jupyter.widget-view+json": {
       "model_id": "",
       "version_major": 2,
       "version_minor": 0
      },
      "text/plain": [
       "Validation: 0it [00:00, ?it/s]"
      ]
     },
     "metadata": {},
     "output_type": "display_data"
    },
    {
     "name": "stdout",
     "output_type": "stream",
     "text": [
      "{'progress_bar': {'val_loss': 1.4804015159606934}, 'log': {'val_loss': 1.4804015159606934}, 'val_loss': 1.4804015159606934}\n",
      "Accuracy: 0.6506963968276978\n",
      "Accuracy: 0.7320334315299988\n"
     ]
    },
    {
     "data": {
      "application/vnd.jupyter.widget-view+json": {
       "model_id": "",
       "version_major": 2,
       "version_minor": 0
      },
      "text/plain": [
       "Validation: 0it [00:00, ?it/s]"
      ]
     },
     "metadata": {},
     "output_type": "display_data"
    },
    {
     "name": "stdout",
     "output_type": "stream",
     "text": [
      "{'progress_bar': {'val_loss': 1.4736827611923218}, 'log': {'val_loss': 1.4736827611923218}, 'val_loss': 1.4736827611923218}\n",
      "Accuracy: 0.7293871641159058\n",
      "Accuracy: 0.7828691005706787\n"
     ]
    },
    {
     "data": {
      "application/vnd.jupyter.widget-view+json": {
       "model_id": "",
       "version_major": 2,
       "version_minor": 0
      },
      "text/plain": [
       "Validation: 0it [00:00, ?it/s]"
      ]
     },
     "metadata": {},
     "output_type": "display_data"
    },
    {
     "name": "stdout",
     "output_type": "stream",
     "text": [
      "{'progress_bar': {'val_loss': 1.4601497650146484}, 'log': {'val_loss': 1.4601497650146484}, 'val_loss': 1.4601497650146484}\n",
      "Accuracy: 0.7735375761985779\n",
      "Accuracy: 0.7779944539070129\n"
     ]
    },
    {
     "data": {
      "application/vnd.jupyter.widget-view+json": {
       "model_id": "",
       "version_major": 2,
       "version_minor": 0
      },
      "text/plain": [
       "Validation: 0it [00:00, ?it/s]"
      ]
     },
     "metadata": {},
     "output_type": "display_data"
    },
    {
     "name": "stdout",
     "output_type": "stream",
     "text": [
      "{'progress_bar': {'val_loss': 1.4555690288543701}, 'log': {'val_loss': 1.4555690288543701}, 'val_loss': 1.4555690288543701}\n",
      "Accuracy: 0.760167121887207\n",
      "Accuracy: 0.788509726524353\n"
     ]
    },
    {
     "data": {
      "application/vnd.jupyter.widget-view+json": {
       "model_id": "",
       "version_major": 2,
       "version_minor": 0
      },
      "text/plain": [
       "Validation: 0it [00:00, ?it/s]"
      ]
     },
     "metadata": {},
     "output_type": "display_data"
    },
    {
     "name": "stdout",
     "output_type": "stream",
     "text": [
      "{'progress_bar': {'val_loss': 1.4709030389785767}, 'log': {'val_loss': 1.4709030389785767}, 'val_loss': 1.4709030389785767}\n",
      "Accuracy: 0.7423398494720459\n",
      "Accuracy: 0.7822423577308655\n"
     ]
    },
    {
     "data": {
      "application/vnd.jupyter.widget-view+json": {
       "model_id": "",
       "version_major": 2,
       "version_minor": 0
      },
      "text/plain": [
       "Validation: 0it [00:00, ?it/s]"
      ]
     },
     "metadata": {},
     "output_type": "display_data"
    },
    {
     "name": "stdout",
     "output_type": "stream",
     "text": [
      "{'progress_bar': {'val_loss': 1.4791332483291626}, 'log': {'val_loss': 1.4791332483291626}, 'val_loss': 1.4791332483291626}\n",
      "Accuracy: 0.677994430065155\n",
      "Accuracy: 0.7827298045158386\n"
     ]
    },
    {
     "data": {
      "application/vnd.jupyter.widget-view+json": {
       "model_id": "",
       "version_major": 2,
       "version_minor": 0
      },
      "text/plain": [
       "Validation: 0it [00:00, ?it/s]"
      ]
     },
     "metadata": {},
     "output_type": "display_data"
    },
    {
     "name": "stdout",
     "output_type": "stream",
     "text": [
      "{'progress_bar': {'val_loss': 1.459128499031067}, 'log': {'val_loss': 1.459128499031067}, 'val_loss': 1.459128499031067}\n",
      "Accuracy: 0.750835657119751\n",
      "Accuracy: 0.7896935939788818\n"
     ]
    },
    {
     "data": {
      "application/vnd.jupyter.widget-view+json": {
       "model_id": "",
       "version_major": 2,
       "version_minor": 0
      },
      "text/plain": [
       "Validation: 0it [00:00, ?it/s]"
      ]
     },
     "metadata": {},
     "output_type": "display_data"
    },
    {
     "name": "stdout",
     "output_type": "stream",
     "text": [
      "{'progress_bar': {'val_loss': 1.4612904787063599}, 'log': {'val_loss': 1.4612904787063599}, 'val_loss': 1.4612904787063599}\n",
      "Accuracy: 0.7438718676567078\n",
      "Accuracy: 0.7928969264030457\n"
     ]
    },
    {
     "data": {
      "application/vnd.jupyter.widget-view+json": {
       "model_id": "",
       "version_major": 2,
       "version_minor": 0
      },
      "text/plain": [
       "Validation: 0it [00:00, ?it/s]"
      ]
     },
     "metadata": {},
     "output_type": "display_data"
    },
    {
     "name": "stdout",
     "output_type": "stream",
     "text": [
      "{'progress_bar': {'val_loss': 1.4588016271591187}, 'log': {'val_loss': 1.4588016271591187}, 'val_loss': 1.4588016271591187}\n",
      "Accuracy: 0.7906685471534729\n",
      "Accuracy: 0.7957521080970764\n"
     ]
    },
    {
     "data": {
      "application/vnd.jupyter.widget-view+json": {
       "model_id": "",
       "version_major": 2,
       "version_minor": 0
      },
      "text/plain": [
       "Validation: 0it [00:00, ?it/s]"
      ]
     },
     "metadata": {},
     "output_type": "display_data"
    },
    {
     "name": "stdout",
     "output_type": "stream",
     "text": [
      "{'progress_bar': {'val_loss': 1.4673644304275513}, 'log': {'val_loss': 1.4673644304275513}, 'val_loss': 1.4673644304275513}\n",
      "Accuracy: 0.7199164628982544\n",
      "Accuracy: 0.7899025082588196\n"
     ]
    },
    {
     "data": {
      "application/vnd.jupyter.widget-view+json": {
       "model_id": "",
       "version_major": 2,
       "version_minor": 0
      },
      "text/plain": [
       "Validation: 0it [00:00, ?it/s]"
      ]
     },
     "metadata": {},
     "output_type": "display_data"
    },
    {
     "name": "stdout",
     "output_type": "stream",
     "text": [
      "{'progress_bar': {'val_loss': 1.465322732925415}, 'log': {'val_loss': 1.465322732925415}, 'val_loss': 1.465322732925415}\n",
      "Accuracy: 0.7252089381217957\n",
      "Accuracy: 0.793175458908081\n"
     ]
    },
    {
     "data": {
      "application/vnd.jupyter.widget-view+json": {
       "model_id": "",
       "version_major": 2,
       "version_minor": 0
      },
      "text/plain": [
       "Validation: 0it [00:00, ?it/s]"
      ]
     },
     "metadata": {},
     "output_type": "display_data"
    },
    {
     "name": "stdout",
     "output_type": "stream",
     "text": [
      "{'progress_bar': {'val_loss': 1.4664053916931152}, 'log': {'val_loss': 1.4664053916931152}, 'val_loss': 1.4664053916931152}\n",
      "Accuracy: 0.7207520604133606\n",
      "Accuracy: 0.7861420512199402\n"
     ]
    },
    {
     "data": {
      "application/vnd.jupyter.widget-view+json": {
       "model_id": "",
       "version_major": 2,
       "version_minor": 0
      },
      "text/plain": [
       "Validation: 0it [00:00, ?it/s]"
      ]
     },
     "metadata": {},
     "output_type": "display_data"
    },
    {
     "name": "stdout",
     "output_type": "stream",
     "text": [
      "{'progress_bar': {'val_loss': 1.4636483192443848}, 'log': {'val_loss': 1.4636483192443848}, 'val_loss': 1.4636483192443848}\n",
      "Accuracy: 0.727994441986084\n",
      "Accuracy: 0.7887883186340332\n"
     ]
    },
    {
     "data": {
      "application/vnd.jupyter.widget-view+json": {
       "model_id": "",
       "version_major": 2,
       "version_minor": 0
      },
      "text/plain": [
       "Validation: 0it [00:00, ?it/s]"
      ]
     },
     "metadata": {},
     "output_type": "display_data"
    },
    {
     "name": "stdout",
     "output_type": "stream",
     "text": [
      "{'progress_bar': {'val_loss': 1.461418628692627}, 'log': {'val_loss': 1.461418628692627}, 'val_loss': 1.461418628692627}\n",
      "Accuracy: 0.7422005534172058\n",
      "Accuracy: 0.7979804873466492\n"
     ]
    },
    {
     "data": {
      "application/vnd.jupyter.widget-view+json": {
       "model_id": "",
       "version_major": 2,
       "version_minor": 0
      },
      "text/plain": [
       "Validation: 0it [00:00, ?it/s]"
      ]
     },
     "metadata": {},
     "output_type": "display_data"
    },
    {
     "name": "stdout",
     "output_type": "stream",
     "text": [
      "{'progress_bar': {'val_loss': 1.4657026529312134}, 'log': {'val_loss': 1.4657026529312134}, 'val_loss': 1.4657026529312134}\n",
      "Accuracy: 0.7238161563873291\n",
      "Accuracy: 0.7857939004898071\n"
     ]
    },
    {
     "data": {
      "application/vnd.jupyter.widget-view+json": {
       "model_id": "",
       "version_major": 2,
       "version_minor": 0
      },
      "text/plain": [
       "Validation: 0it [00:00, ?it/s]"
      ]
     },
     "metadata": {},
     "output_type": "display_data"
    },
    {
     "name": "stdout",
     "output_type": "stream",
     "text": [
      "{'progress_bar': {'val_loss': 1.4644596576690674}, 'log': {'val_loss': 1.4644596576690674}, 'val_loss': 1.4644596576690674}\n",
      "Accuracy: 0.7324512600898743\n",
      "Accuracy: 0.7836350798606873\n"
     ]
    },
    {
     "data": {
      "application/vnd.jupyter.widget-view+json": {
       "model_id": "",
       "version_major": 2,
       "version_minor": 0
      },
      "text/plain": [
       "Validation: 0it [00:00, ?it/s]"
      ]
     },
     "metadata": {},
     "output_type": "display_data"
    },
    {
     "name": "stdout",
     "output_type": "stream",
     "text": [
      "{'progress_bar': {'val_loss': 1.4600237607955933}, 'log': {'val_loss': 1.4600237607955933}, 'val_loss': 1.4600237607955933}\n",
      "Accuracy: 0.7469359040260315\n",
      "Accuracy: 0.8067548871040344\n"
     ]
    },
    {
     "data": {
      "application/vnd.jupyter.widget-view+json": {
       "model_id": "",
       "version_major": 2,
       "version_minor": 0
      },
      "text/plain": [
       "Validation: 0it [00:00, ?it/s]"
      ]
     },
     "metadata": {},
     "output_type": "display_data"
    },
    {
     "name": "stdout",
     "output_type": "stream",
     "text": [
      "{'progress_bar': {'val_loss': 1.4588888883590698}, 'log': {'val_loss': 1.4588888883590698}, 'val_loss': 1.4588888883590698}\n",
      "Accuracy: 0.76267409324646\n",
      "Accuracy: 0.7997214198112488\n"
     ]
    },
    {
     "data": {
      "application/vnd.jupyter.widget-view+json": {
       "model_id": "",
       "version_major": 2,
       "version_minor": 0
      },
      "text/plain": [
       "Validation: 0it [00:00, ?it/s]"
      ]
     },
     "metadata": {},
     "output_type": "display_data"
    },
    {
     "name": "stdout",
     "output_type": "stream",
     "text": [
      "{'progress_bar': {'val_loss': 1.4616283178329468}, 'log': {'val_loss': 1.4616283178329468}, 'val_loss': 1.4616283178329468}\n",
      "Accuracy: 0.7548746466636658\n",
      "Accuracy: 0.807520866394043\n"
     ]
    },
    {
     "data": {
      "application/vnd.jupyter.widget-view+json": {
       "model_id": "",
       "version_major": 2,
       "version_minor": 0
      },
      "text/plain": [
       "Validation: 0it [00:00, ?it/s]"
      ]
     },
     "metadata": {},
     "output_type": "display_data"
    },
    {
     "name": "stdout",
     "output_type": "stream",
     "text": [
      "{'progress_bar': {'val_loss': 1.4616950750350952}, 'log': {'val_loss': 1.4616950750350952}, 'val_loss': 1.4616950750350952}\n",
      "Accuracy: 0.7583565711975098\n",
      "Accuracy: 0.7883704900741577\n"
     ]
    },
    {
     "data": {
      "application/vnd.jupyter.widget-view+json": {
       "model_id": "",
       "version_major": 2,
       "version_minor": 0
      },
      "text/plain": [
       "Validation: 0it [00:00, ?it/s]"
      ]
     },
     "metadata": {},
     "output_type": "display_data"
    },
    {
     "name": "stdout",
     "output_type": "stream",
     "text": [
      "{'progress_bar': {'val_loss': 1.4541633129119873}, 'log': {'val_loss': 1.4541633129119873}, 'val_loss': 1.4541633129119873}\n",
      "Accuracy: 0.7781336903572083\n",
      "Accuracy: 0.7887186408042908\n"
     ]
    },
    {
     "data": {
      "application/vnd.jupyter.widget-view+json": {
       "model_id": "",
       "version_major": 2,
       "version_minor": 0
      },
      "text/plain": [
       "Validation: 0it [00:00, ?it/s]"
      ]
     },
     "metadata": {},
     "output_type": "display_data"
    },
    {
     "name": "stdout",
     "output_type": "stream",
     "text": [
      "{'progress_bar': {'val_loss': 1.462267279624939}, 'log': {'val_loss': 1.462267279624939}, 'val_loss': 1.462267279624939}\n",
      "Accuracy: 0.734679639339447\n",
      "Accuracy: 0.7924094796180725\n"
     ]
    },
    {
     "data": {
      "application/vnd.jupyter.widget-view+json": {
       "model_id": "",
       "version_major": 2,
       "version_minor": 0
      },
      "text/plain": [
       "Validation: 0it [00:00, ?it/s]"
      ]
     },
     "metadata": {},
     "output_type": "display_data"
    },
    {
     "name": "stdout",
     "output_type": "stream",
     "text": [
      "{'progress_bar': {'val_loss': 1.4636398553848267}, 'log': {'val_loss': 1.4636398553848267}, 'val_loss': 1.4636398553848267}\n",
      "Accuracy: 0.7274373173713684\n",
      "Accuracy: 0.7869080901145935\n"
     ]
    },
    {
     "data": {
      "application/vnd.jupyter.widget-view+json": {
       "model_id": "",
       "version_major": 2,
       "version_minor": 0
      },
      "text/plain": [
       "Validation: 0it [00:00, ?it/s]"
      ]
     },
     "metadata": {},
     "output_type": "display_data"
    },
    {
     "name": "stdout",
     "output_type": "stream",
     "text": [
      "{'progress_bar': {'val_loss': 1.467245101928711}, 'log': {'val_loss': 1.467245101928711}, 'val_loss': 1.467245101928711}\n",
      "Accuracy: 0.7130919098854065\n",
      "Accuracy: 0.7853063941001892\n"
     ]
    },
    {
     "data": {
      "application/vnd.jupyter.widget-view+json": {
       "model_id": "",
       "version_major": 2,
       "version_minor": 0
      },
      "text/plain": [
       "Validation: 0it [00:00, ?it/s]"
      ]
     },
     "metadata": {},
     "output_type": "display_data"
    },
    {
     "name": "stdout",
     "output_type": "stream",
     "text": [
      "{'progress_bar': {'val_loss': 1.4601726531982422}, 'log': {'val_loss': 1.4601726531982422}, 'val_loss': 1.4601726531982422}\n",
      "Accuracy: 0.7278551459312439\n",
      "Accuracy: 0.7876044511795044\n"
     ]
    },
    {
     "data": {
      "application/vnd.jupyter.widget-view+json": {
       "model_id": "",
       "version_major": 2,
       "version_minor": 0
      },
      "text/plain": [
       "Validation: 0it [00:00, ?it/s]"
      ]
     },
     "metadata": {},
     "output_type": "display_data"
    },
    {
     "name": "stdout",
     "output_type": "stream",
     "text": [
      "{'progress_bar': {'val_loss': 1.460329532623291}, 'log': {'val_loss': 1.460329532623291}, 'val_loss': 1.460329532623291}\n",
      "Accuracy: 0.7707520723342896\n",
      "Accuracy: 0.7899721264839172\n"
     ]
    },
    {
     "data": {
      "application/vnd.jupyter.widget-view+json": {
       "model_id": "",
       "version_major": 2,
       "version_minor": 0
      },
      "text/plain": [
       "Validation: 0it [00:00, ?it/s]"
      ]
     },
     "metadata": {},
     "output_type": "display_data"
    },
    {
     "name": "stdout",
     "output_type": "stream",
     "text": [
      "{'progress_bar': {'val_loss': 1.4594273567199707}, 'log': {'val_loss': 1.4594273567199707}, 'val_loss': 1.4594273567199707}\n",
      "Accuracy: 0.7203342914581299\n",
      "Accuracy: 0.796657383441925\n"
     ]
    },
    {
     "data": {
      "application/vnd.jupyter.widget-view+json": {
       "model_id": "",
       "version_major": 2,
       "version_minor": 0
      },
      "text/plain": [
       "Validation: 0it [00:00, ?it/s]"
      ]
     },
     "metadata": {},
     "output_type": "display_data"
    },
    {
     "name": "stdout",
     "output_type": "stream",
     "text": [
      "{'progress_bar': {'val_loss': 1.4629848003387451}, 'log': {'val_loss': 1.4629848003387451}, 'val_loss': 1.4629848003387451}\n",
      "Accuracy: 0.7317548990249634\n",
      "Accuracy: 0.8103760480880737\n"
     ]
    },
    {
     "data": {
      "application/vnd.jupyter.widget-view+json": {
       "model_id": "",
       "version_major": 2,
       "version_minor": 0
      },
      "text/plain": [
       "Validation: 0it [00:00, ?it/s]"
      ]
     },
     "metadata": {},
     "output_type": "display_data"
    },
    {
     "name": "stdout",
     "output_type": "stream",
     "text": [
      "{'progress_bar': {'val_loss': 1.4618359804153442}, 'log': {'val_loss': 1.4618359804153442}, 'val_loss': 1.4618359804153442}\n",
      "Accuracy: 0.7345404028892517\n",
      "Accuracy: 0.8243732452392578\n"
     ]
    },
    {
     "data": {
      "application/vnd.jupyter.widget-view+json": {
       "model_id": "",
       "version_major": 2,
       "version_minor": 0
      },
      "text/plain": [
       "Validation: 0it [00:00, ?it/s]"
      ]
     },
     "metadata": {},
     "output_type": "display_data"
    },
    {
     "name": "stdout",
     "output_type": "stream",
     "text": [
      "{'progress_bar': {'val_loss': 1.4661738872528076}, 'log': {'val_loss': 1.4661738872528076}, 'val_loss': 1.4661738872528076}\n",
      "Accuracy: 0.7509749531745911\n",
      "Accuracy: 0.8263230919837952\n"
     ]
    },
    {
     "data": {
      "application/vnd.jupyter.widget-view+json": {
       "model_id": "",
       "version_major": 2,
       "version_minor": 0
      },
      "text/plain": [
       "Validation: 0it [00:00, ?it/s]"
      ]
     },
     "metadata": {},
     "output_type": "display_data"
    },
    {
     "name": "stdout",
     "output_type": "stream",
     "text": [
      "{'progress_bar': {'val_loss': 1.4607229232788086}, 'log': {'val_loss': 1.4607229232788086}, 'val_loss': 1.4607229232788086}\n",
      "Accuracy: 0.7438718676567078\n",
      "Accuracy: 0.8345403671264648\n"
     ]
    },
    {
     "data": {
      "application/vnd.jupyter.widget-view+json": {
       "model_id": "",
       "version_major": 2,
       "version_minor": 0
      },
      "text/plain": [
       "Validation: 0it [00:00, ?it/s]"
      ]
     },
     "metadata": {},
     "output_type": "display_data"
    },
    {
     "name": "stdout",
     "output_type": "stream",
     "text": [
      "{'progress_bar': {'val_loss': 1.468201756477356}, 'log': {'val_loss': 1.468201756477356}, 'val_loss': 1.468201756477356}\n",
      "Accuracy: 0.7532033324241638\n",
      "Accuracy: 0.8709610104560852\n"
     ]
    },
    {
     "data": {
      "application/vnd.jupyter.widget-view+json": {
       "model_id": "",
       "version_major": 2,
       "version_minor": 0
      },
      "text/plain": [
       "Validation: 0it [00:00, ?it/s]"
      ]
     },
     "metadata": {},
     "output_type": "display_data"
    },
    {
     "name": "stdout",
     "output_type": "stream",
     "text": [
      "{'progress_bar': {'val_loss': 1.4549802541732788}, 'log': {'val_loss': 1.4549802541732788}, 'val_loss': 1.4549802541732788}\n",
      "Accuracy: 0.8264623880386353\n",
      "Accuracy: 0.9013927578926086\n"
     ]
    },
    {
     "data": {
      "application/vnd.jupyter.widget-view+json": {
       "model_id": "",
       "version_major": 2,
       "version_minor": 0
      },
      "text/plain": [
       "Validation: 0it [00:00, ?it/s]"
      ]
     },
     "metadata": {},
     "output_type": "display_data"
    },
    {
     "name": "stdout",
     "output_type": "stream",
     "text": [
      "{'progress_bar': {'val_loss': 1.4547536373138428}, 'log': {'val_loss': 1.4547536373138428}, 'val_loss': 1.4547536373138428}\n",
      "Accuracy: 0.8240947127342224\n",
      "Accuracy: 0.9204735159873962\n"
     ]
    },
    {
     "data": {
      "application/vnd.jupyter.widget-view+json": {
       "model_id": "",
       "version_major": 2,
       "version_minor": 0
      },
      "text/plain": [
       "Validation: 0it [00:00, ?it/s]"
      ]
     },
     "metadata": {},
     "output_type": "display_data"
    },
    {
     "name": "stdout",
     "output_type": "stream",
     "text": [
      "{'progress_bar': {'val_loss': 1.450388789176941}, 'log': {'val_loss': 1.450388789176941}, 'val_loss': 1.450388789176941}\n",
      "Accuracy: 0.8362116813659668\n",
      "Accuracy: 0.9189414978027344\n"
     ]
    },
    {
     "data": {
      "application/vnd.jupyter.widget-view+json": {
       "model_id": "",
       "version_major": 2,
       "version_minor": 0
      },
      "text/plain": [
       "Validation: 0it [00:00, ?it/s]"
      ]
     },
     "metadata": {},
     "output_type": "display_data"
    },
    {
     "name": "stdout",
     "output_type": "stream",
     "text": [
      "{'progress_bar': {'val_loss': 1.4503211975097656}, 'log': {'val_loss': 1.4503211975097656}, 'val_loss': 1.4503211975097656}\n",
      "Accuracy: 0.8416434526443481\n",
      "Accuracy: 0.927158772945404\n"
     ]
    },
    {
     "data": {
      "application/vnd.jupyter.widget-view+json": {
       "model_id": "",
       "version_major": 2,
       "version_minor": 0
      },
      "text/plain": [
       "Validation: 0it [00:00, ?it/s]"
      ]
     },
     "metadata": {},
     "output_type": "display_data"
    },
    {
     "name": "stdout",
     "output_type": "stream",
     "text": [
      "{'progress_bar': {'val_loss': 1.4496262073516846}, 'log': {'val_loss': 1.4496262073516846}, 'val_loss': 1.4496262073516846}\n",
      "Accuracy: 0.8484679460525513\n",
      "Accuracy: 0.9272980690002441\n"
     ]
    },
    {
     "data": {
      "application/vnd.jupyter.widget-view+json": {
       "model_id": "",
       "version_major": 2,
       "version_minor": 0
      },
      "text/plain": [
       "Validation: 0it [00:00, ?it/s]"
      ]
     },
     "metadata": {},
     "output_type": "display_data"
    },
    {
     "name": "stdout",
     "output_type": "stream",
     "text": [
      "{'progress_bar': {'val_loss': 1.4469631910324097}, 'log': {'val_loss': 1.4469631910324097}, 'val_loss': 1.4469631910324097}\n",
      "Accuracy: 0.8555710315704346\n",
      "Accuracy: 0.930501401424408\n"
     ]
    },
    {
     "data": {
      "application/vnd.jupyter.widget-view+json": {
       "model_id": "",
       "version_major": 2,
       "version_minor": 0
      },
      "text/plain": [
       "Validation: 0it [00:00, ?it/s]"
      ]
     },
     "metadata": {},
     "output_type": "display_data"
    },
    {
     "name": "stdout",
     "output_type": "stream",
     "text": [
      "{'progress_bar': {'val_loss': 1.4448425769805908}, 'log': {'val_loss': 1.4448425769805908}, 'val_loss': 1.4448425769805908}\n",
      "Accuracy: 0.8619776964187622\n",
      "Accuracy: 0.9332869052886963\n"
     ]
    },
    {
     "data": {
      "application/vnd.jupyter.widget-view+json": {
       "model_id": "",
       "version_major": 2,
       "version_minor": 0
      },
      "text/plain": [
       "Validation: 0it [00:00, ?it/s]"
      ]
     },
     "metadata": {},
     "output_type": "display_data"
    },
    {
     "name": "stderr",
     "output_type": "stream",
     "text": [
      "`Trainer.fit` stopped: `max_epochs=40` reached.\n"
     ]
    },
    {
     "name": "stdout",
     "output_type": "stream",
     "text": [
      "{'progress_bar': {'val_loss': 1.4492766857147217}, 'log': {'val_loss': 1.4492766857147217}, 'val_loss': 1.4492766857147217}\n",
      "Accuracy: 0.8465180993080139\n",
      "Accuracy: 0.9362117052078247\n",
      "Shutting down background jobs, please wait a moment...\n",
      "Done!\n"
     ]
    },
    {
     "name": "stderr",
     "output_type": "stream",
     "text": [
      "/home/aron/.local/lib/python3.9/site-packages/torch/jit/_recursive.py:621: LightningDeprecationWarning: `LightningModule.use_amp` was deprecated in v1.6 and will be removed in v1.8. Please use `Trainer.amp_backend`.\n",
      "  item = getattr(mod, name, None)\n",
      "/home/aron/.local/lib/python3.9/site-packages/torch/jit/_recursive.py:708: LightningDeprecationWarning: `LightningModule.use_amp` was deprecated in v1.6 and will be removed in v1.8. Please use `Trainer.amp_backend`.\n",
      "  item = getattr(nn_module, name, None)\n",
      "/home/aron/.local/lib/python3.9/site-packages/torch/jit/_recursive.py:508: LightningDeprecationWarning: `LightningModule.use_amp` was deprecated in v1.6 and will be removed in v1.8. Please use `Trainer.amp_backend`.\n",
      "  item = getattr(nn_module, name, None)\n",
      "/home/aron/.local/lib/python3.9/site-packages/torch/jit/_recursive.py:591: LightningDeprecationWarning: `LightningModule.use_amp` was deprecated in v1.6 and will be removed in v1.8. Please use `Trainer.amp_backend`.\n",
      "  item = getattr(nn_module, name, None)\n",
      "Waiting for the remaining 57 operations to synchronize with Neptune. Do not kill this process.\n"
     ]
    },
    {
     "name": "stdout",
     "output_type": "stream",
     "text": [
      "All 57 operations synced, thanks for waiting!\n"
     ]
    }
   ],
   "source": [
    "\n",
    "for i, dataset in enumerate(loso_datasets):\n",
    "    seed = 1\n",
    "    seed_everything(seed)\n",
    "    \n",
    "    neptune_logger = NeptuneLogger(\n",
    "        project=\"NTLAB/BCM-activity-classification\",\n",
    "        api_token=\"eyJhcGlfYWRkcmVzcyI6Imh0dHBzOi8vYXBwLm5lcHR1bmUuYWkiLCJhcGlfdXJsIjoiaHR0cHM6Ly9hcHAubmVwdHVuZS5haSIsImFwaV9rZXkiOiIxYTA4NzcxMy1lYmQ2LTQ3NTctYjRhNC02Mzk1NjdjMWM0NmYifQ==\",\n",
    "        source_files=[\"train_model.ipynb\", \"model.py\", \"BCM_dataset_v2.py\"]\n",
    "    )\n",
    "\n",
    "    model = LSTM_Model(dataset, window_size = 3, stride = 1 ,lstm_hidden_size = 128, seed = seed)\n",
    "\n",
    "    trainer = Trainer(max_epochs=40, \n",
    "                    min_epochs=1, \n",
    "                    auto_lr_find=False, \n",
    "                    auto_scale_batch_size=False,\n",
    "                    enable_checkpointing=False, \n",
    "                    accelerator=\"gpu\", \n",
    "                    devices = 1, \n",
    "                    logger=neptune_logger)\n",
    "    trainer.tune(model)\n",
    "    trainer.fit(model)\n",
    "    \n",
    "    model_scripted = torch.jit.script(model) # Export to TorchScript\n",
    "    model_scripted.save(f\"trained_models/loso_model_val_subject_{i}\") # Save\n",
    "    \n",
    "    # Stop logging\n",
    "    neptune_logger.experiment.stop()"
   ]
  },
  {
   "cell_type": "raw",
   "metadata": {},
   "source": [
    "# Fine-tuning model\n",
    "\n",
    "for dataset in ft_datasets:\n",
    "    seed = 100\n",
    "    seed_everything(seed)\n",
    "    \n",
    "    neptune_logger = NeptuneLogger(\n",
    "        project=\"NTLAB/BCM-activity-classification\",\n",
    "        api_token=\"eyJhcGlfYWRkcmVzcyI6Imh0dHBzOi8vYXBwLm5lcHR1bmUuYWkiLCJhcGlfdXJsIjoiaHR0cHM6Ly9hcHAubmVwdHVuZS5haSIsImFwaV9rZXkiOiIxYTA4NzcxMy1lYmQ2LTQ3NTctYjRhNC02Mzk1NjdjMWM0NmYifQ==\",\n",
    "        source_files=[\"train_model.ipynb\", \"model.py\", \"BCM_dataset_v2.py\"]\n",
    "    )\n",
    "    \n",
    "    checkpoint_callback = ModelCheckpoint(dirpath = 'checkpoints/', filename = 'latest_checkpoint')\n",
    "\n",
    "    model = LSTM_Model(dataset, window_size = 3, stride = 1 ,lstm_hidden_size = 128, seed = seed)\n",
    "\n",
    "    trainer = Trainer(max_epochs=40, \n",
    "                    min_epochs=1, \n",
    "                    auto_lr_find=False, \n",
    "                    auto_scale_batch_size=False,\n",
    "                    enable_checkpointing=True, \n",
    "                    accelerator=\"gpu\", \n",
    "                    devices = 1, \n",
    "                    logger=neptune_logger,\n",
    "                    callbacks = [checkpoint_callback])\n",
    "    trainer.tune(model)\n",
    "    trainer.fit(model)\n",
    "    \n",
    "    # Find the latest checkpoint\n",
    "    list_of_checkpoints = glob.glob('checkpoints/*') \n",
    "    latest_checkpoint = max(list_of_checkpoints, key = os.path.getctime) \n",
    "    print(latest_checkpoint) # Sanity check\n",
    "    \n",
    "    \n",
    "    \n",
    "    trainer_finetune = Trainer(max_epochs=80, \n",
    "                    min_epochs=100, \n",
    "                    auto_lr_find=False, \n",
    "                    auto_scale_batch_size=False,\n",
    "                    enable_checkpointing=False, \n",
    "                    accelerator=\"gpu\", \n",
    "                    devices = 1, \n",
    "                    logger=neptune_logger)\n",
    "    trainer_finetune.tune(model)\n",
    "    \n",
    "    # Create a dataloader from the new subject specific data\n",
    "    dataset_finetune, _ = concat_train_test_datasets([dataset[2],dataset[2]], window_size = 3, stride = 1, fractional = 0.2)\n",
    "    \n",
    "    neptune_logger.experiment[\"metadata/train_set_length\"].log(len(dataset_finetune))\n",
    "    \n",
    "    finetuning_dataloader = DataLoader(dataset_finetune, batch_size=32, shuffle=True, num_workers = 8)\n",
    "    \n",
    "    trainer_finetune.fit(model, finetuning_dataloader, ckpt_path=latest_checkpoint)\n",
    "    \n",
    "    # Stop logging\n",
    "    neptune_logger.experiment.stop()"
   ]
  },
  {
   "cell_type": "code",
   "execution_count": null,
   "metadata": {},
   "outputs": [],
   "source": [
    "\n",
    "\n",
    "#model_scripted = torch.jit.script(model) # Export to TorchScript\n",
    "#model_scripted.save(\"trained_models/oct_31\") # Save"
   ]
  }
 ],
 "metadata": {
  "kernelspec": {
   "display_name": "Python 3 (ipykernel)",
   "language": "python",
   "name": "python3"
  },
  "language_info": {
   "codemirror_mode": {
    "name": "ipython",
    "version": 3
   },
   "file_extension": ".py",
   "mimetype": "text/x-python",
   "name": "python",
   "nbconvert_exporter": "python",
   "pygments_lexer": "ipython3",
   "version": "3.9.12"
  },
  "vscode": {
   "interpreter": {
    "hash": "8a5edab282632443219e051e4ade2d1d5bbc671c781051bf1437897cbdfea0f1"
   }
  }
 },
 "nbformat": 4,
 "nbformat_minor": 4
}
