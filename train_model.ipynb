{
 "cells": [
  {
   "cell_type": "code",
   "execution_count": 1,
   "metadata": {},
   "outputs": [
    {
     "name": "stdout",
     "output_type": "stream",
     "text": [
      "Dataset version: 5\n"
     ]
    }
   ],
   "source": [
    "\n",
    "#!python3 -m pip install pytorch_lightning\n",
    "#!pip3 install torch torchvision torchaudio --extra-index-url https://download.pytorch.org/whl/cu113\n",
    "import torch\n",
    "import torch.nn as nn\n",
    "import torch.nn.functional as F\n",
    "import torch.optim as optim\n",
    "from model import LSTM_Model\n",
    "from pytorch_lightning import seed_everything, LightningModule, Trainer\n",
    "from torch import save\n",
    "from pytorch_lightning.callbacks import EarlyStopping\n",
    "from torch.utils.data import DataLoader\n",
    "import neptune.new as neptune\n",
    "from pytorch_lightning.loggers import NeptuneLogger\n",
    "import numpy as np\n",
    "from pytorch_lightning.callbacks import ModelCheckpoint\n",
    "from BCM_dataset_v2 import bcmDataset, concat_train_test_datasets\n",
    "import glob\n",
    "import os\n",
    "import sys\n",
    "from collect_dataset import*"
   ]
  },
  {
   "cell_type": "code",
   "execution_count": 2,
   "metadata": {},
   "outputs": [
    {
     "name": "stdout",
     "output_type": "stream",
     "text": [
      "\n",
      "Fint-tuning datasets\n",
      "\n",
      "\n",
      "train\n",
      "\n",
      "0\n",
      "bcm_behaviour_data_multi_subject/subject2/2022-11-09_14-34-16\n",
      "bcm_behaviour_data_multi_subject/subject2/2022-11-09_14-52-7\n",
      "bcm_behaviour_data_multi_subject/subject2/2022-11-09_14-15-6\n",
      "bcm_behaviour_data_multi_subject/subject2/2022-11-09_13-56-0\n",
      "bcm_behaviour_data_multi_subject/subject3/2022-11-09_15-47-1\n",
      "bcm_behaviour_data_multi_subject/subject3/2022-11-09_16-26-13\n",
      "bcm_behaviour_data_multi_subject/subject3/2022-11-09_15-27-14\n",
      "bcm_behaviour_data_multi_subject/subject3/2022-11-09_16-7-9\n",
      "bcm_behaviour_data_multi_subject/subject2/2022-11-09_14-15-6speed\n",
      "bcm_behaviour_data_multi_subject/subject2/2022-11-09_13-56-0speed\n",
      "bcm_behaviour_data_multi_subject/subject2/2022-11-09_14-34-16speed\n",
      "bcm_behaviour_data_multi_subject/subject2/2022-11-09_14-52-7speed\n",
      "bcm_behaviour_data_multi_subject/subject3/2022-11-09_15-47-1speed\n",
      "bcm_behaviour_data_multi_subject/subject3/2022-11-09_16-26-13speed\n",
      "bcm_behaviour_data_multi_subject/subject3/2022-11-09_15-27-14speed\n",
      "bcm_behaviour_data_multi_subject/subject3/2022-11-09_16-7-9speed\n",
      "1\n",
      "bcm_behaviour_data_multi_subject/subject3/2022-11-09_15-47-1\n",
      "bcm_behaviour_data_multi_subject/subject3/2022-11-09_16-26-13\n",
      "bcm_behaviour_data_multi_subject/subject3/2022-11-09_15-27-14\n",
      "bcm_behaviour_data_multi_subject/subject3/2022-11-09_16-7-9\n",
      "bcm_behaviour_data_multi_subject/subject1/2022-09-20_15-38-11\n",
      "bcm_behaviour_data_multi_subject/subject1/2022-09-20_14-58-39\n",
      "bcm_behaviour_data_multi_subject/subject1/2022-09-20_15-18-27\n",
      "bcm_behaviour_data_multi_subject/subject1/2022-09-20_15-57-37\n",
      "bcm_behaviour_data_multi_subject/subject3/2022-11-09_15-47-1speed\n",
      "bcm_behaviour_data_multi_subject/subject3/2022-11-09_16-26-13speed\n",
      "bcm_behaviour_data_multi_subject/subject3/2022-11-09_15-27-14speed\n",
      "bcm_behaviour_data_multi_subject/subject3/2022-11-09_16-7-9speed\n",
      "bcm_behaviour_data_multi_subject/subject1/2022-09-20_14-58-39speed\n",
      "bcm_behaviour_data_multi_subject/subject1/2022-09-20_15-57-37speed\n",
      "bcm_behaviour_data_multi_subject/subject1/2022-09-20_15-38-11speed\n",
      "bcm_behaviour_data_multi_subject/subject1/2022-09-20_15-18-27speed\n",
      "2\n",
      "bcm_behaviour_data_multi_subject/subject1/2022-09-20_15-38-11\n",
      "bcm_behaviour_data_multi_subject/subject1/2022-09-20_14-58-39\n",
      "bcm_behaviour_data_multi_subject/subject1/2022-09-20_15-18-27\n",
      "bcm_behaviour_data_multi_subject/subject1/2022-09-20_15-57-37\n",
      "bcm_behaviour_data_multi_subject/subject2/2022-11-09_14-34-16\n",
      "bcm_behaviour_data_multi_subject/subject2/2022-11-09_14-52-7\n",
      "bcm_behaviour_data_multi_subject/subject2/2022-11-09_14-15-6\n",
      "bcm_behaviour_data_multi_subject/subject2/2022-11-09_13-56-0\n",
      "bcm_behaviour_data_multi_subject/subject1/2022-09-20_14-58-39speed\n",
      "bcm_behaviour_data_multi_subject/subject1/2022-09-20_15-57-37speed\n",
      "bcm_behaviour_data_multi_subject/subject1/2022-09-20_15-38-11speed\n",
      "bcm_behaviour_data_multi_subject/subject1/2022-09-20_15-18-27speed\n",
      "bcm_behaviour_data_multi_subject/subject2/2022-11-09_14-15-6speed\n",
      "bcm_behaviour_data_multi_subject/subject2/2022-11-09_13-56-0speed\n",
      "bcm_behaviour_data_multi_subject/subject2/2022-11-09_14-34-16speed\n",
      "bcm_behaviour_data_multi_subject/subject2/2022-11-09_14-52-7speed\n",
      "3\n",
      "bcm_behaviour_data_multi_subject/subject2/2022-11-09_14-34-16\n",
      "bcm_behaviour_data_multi_subject/subject2/2022-11-09_14-52-7\n",
      "bcm_behaviour_data_multi_subject/subject2/2022-11-09_14-15-6\n",
      "bcm_behaviour_data_multi_subject/subject2/2022-11-09_13-56-0\n",
      "bcm_behaviour_data_multi_subject/subject3/2022-11-09_15-47-1\n",
      "bcm_behaviour_data_multi_subject/subject3/2022-11-09_16-26-13\n",
      "bcm_behaviour_data_multi_subject/subject3/2022-11-09_15-27-14\n",
      "bcm_behaviour_data_multi_subject/subject3/2022-11-09_16-7-9\n",
      "bcm_behaviour_data_multi_subject/subject2/2022-11-09_14-15-6speed\n",
      "bcm_behaviour_data_multi_subject/subject2/2022-11-09_13-56-0speed\n",
      "bcm_behaviour_data_multi_subject/subject2/2022-11-09_14-34-16speed\n",
      "bcm_behaviour_data_multi_subject/subject2/2022-11-09_14-52-7speed\n",
      "bcm_behaviour_data_multi_subject/subject3/2022-11-09_15-47-1speed\n",
      "bcm_behaviour_data_multi_subject/subject3/2022-11-09_16-26-13speed\n",
      "bcm_behaviour_data_multi_subject/subject3/2022-11-09_15-27-14speed\n",
      "bcm_behaviour_data_multi_subject/subject3/2022-11-09_16-7-9speed\n",
      "4\n",
      "bcm_behaviour_data_multi_subject/subject3/2022-11-09_15-47-1\n",
      "bcm_behaviour_data_multi_subject/subject3/2022-11-09_16-26-13\n",
      "bcm_behaviour_data_multi_subject/subject3/2022-11-09_15-27-14\n",
      "bcm_behaviour_data_multi_subject/subject3/2022-11-09_16-7-9\n",
      "bcm_behaviour_data_multi_subject/subject1/2022-09-20_15-38-11\n",
      "bcm_behaviour_data_multi_subject/subject1/2022-09-20_14-58-39\n",
      "bcm_behaviour_data_multi_subject/subject1/2022-09-20_15-18-27\n",
      "bcm_behaviour_data_multi_subject/subject1/2022-09-20_15-57-37\n",
      "bcm_behaviour_data_multi_subject/subject3/2022-11-09_15-47-1speed\n",
      "bcm_behaviour_data_multi_subject/subject3/2022-11-09_16-26-13speed\n",
      "bcm_behaviour_data_multi_subject/subject3/2022-11-09_15-27-14speed\n",
      "bcm_behaviour_data_multi_subject/subject3/2022-11-09_16-7-9speed\n",
      "bcm_behaviour_data_multi_subject/subject1/2022-09-20_14-58-39speed\n",
      "bcm_behaviour_data_multi_subject/subject1/2022-09-20_15-57-37speed\n",
      "bcm_behaviour_data_multi_subject/subject1/2022-09-20_15-38-11speed\n",
      "bcm_behaviour_data_multi_subject/subject1/2022-09-20_15-18-27speed\n",
      "5\n",
      "bcm_behaviour_data_multi_subject/subject1/2022-09-20_15-38-11\n",
      "bcm_behaviour_data_multi_subject/subject1/2022-09-20_14-58-39\n",
      "bcm_behaviour_data_multi_subject/subject1/2022-09-20_15-18-27\n",
      "bcm_behaviour_data_multi_subject/subject1/2022-09-20_15-57-37\n",
      "bcm_behaviour_data_multi_subject/subject2/2022-11-09_14-34-16\n",
      "bcm_behaviour_data_multi_subject/subject2/2022-11-09_14-52-7\n",
      "bcm_behaviour_data_multi_subject/subject2/2022-11-09_14-15-6\n",
      "bcm_behaviour_data_multi_subject/subject2/2022-11-09_13-56-0\n",
      "bcm_behaviour_data_multi_subject/subject1/2022-09-20_14-58-39speed\n",
      "bcm_behaviour_data_multi_subject/subject1/2022-09-20_15-57-37speed\n",
      "bcm_behaviour_data_multi_subject/subject1/2022-09-20_15-38-11speed\n",
      "bcm_behaviour_data_multi_subject/subject1/2022-09-20_15-18-27speed\n",
      "bcm_behaviour_data_multi_subject/subject2/2022-11-09_14-15-6speed\n",
      "bcm_behaviour_data_multi_subject/subject2/2022-11-09_13-56-0speed\n",
      "bcm_behaviour_data_multi_subject/subject2/2022-11-09_14-34-16speed\n",
      "bcm_behaviour_data_multi_subject/subject2/2022-11-09_14-52-7speed\n",
      "6\n",
      "bcm_behaviour_data_multi_subject/subject2/2022-11-09_14-34-16\n",
      "bcm_behaviour_data_multi_subject/subject2/2022-11-09_14-52-7\n",
      "bcm_behaviour_data_multi_subject/subject2/2022-11-09_14-15-6\n",
      "bcm_behaviour_data_multi_subject/subject2/2022-11-09_13-56-0\n",
      "bcm_behaviour_data_multi_subject/subject3/2022-11-09_15-47-1\n",
      "bcm_behaviour_data_multi_subject/subject3/2022-11-09_16-26-13\n",
      "bcm_behaviour_data_multi_subject/subject3/2022-11-09_15-27-14\n",
      "bcm_behaviour_data_multi_subject/subject3/2022-11-09_16-7-9\n",
      "bcm_behaviour_data_multi_subject/subject2/2022-11-09_14-15-6speed\n",
      "bcm_behaviour_data_multi_subject/subject2/2022-11-09_13-56-0speed\n",
      "bcm_behaviour_data_multi_subject/subject2/2022-11-09_14-34-16speed\n",
      "bcm_behaviour_data_multi_subject/subject2/2022-11-09_14-52-7speed\n",
      "bcm_behaviour_data_multi_subject/subject3/2022-11-09_15-47-1speed\n",
      "bcm_behaviour_data_multi_subject/subject3/2022-11-09_16-26-13speed\n",
      "bcm_behaviour_data_multi_subject/subject3/2022-11-09_15-27-14speed\n",
      "bcm_behaviour_data_multi_subject/subject3/2022-11-09_16-7-9speed\n",
      "7\n",
      "bcm_behaviour_data_multi_subject/subject3/2022-11-09_15-47-1\n",
      "bcm_behaviour_data_multi_subject/subject3/2022-11-09_16-26-13\n",
      "bcm_behaviour_data_multi_subject/subject3/2022-11-09_15-27-14\n",
      "bcm_behaviour_data_multi_subject/subject3/2022-11-09_16-7-9\n",
      "bcm_behaviour_data_multi_subject/subject1/2022-09-20_15-38-11\n",
      "bcm_behaviour_data_multi_subject/subject1/2022-09-20_14-58-39\n",
      "bcm_behaviour_data_multi_subject/subject1/2022-09-20_15-18-27\n",
      "bcm_behaviour_data_multi_subject/subject1/2022-09-20_15-57-37\n",
      "bcm_behaviour_data_multi_subject/subject3/2022-11-09_15-47-1speed\n",
      "bcm_behaviour_data_multi_subject/subject3/2022-11-09_16-26-13speed\n",
      "bcm_behaviour_data_multi_subject/subject3/2022-11-09_15-27-14speed\n",
      "bcm_behaviour_data_multi_subject/subject3/2022-11-09_16-7-9speed\n",
      "bcm_behaviour_data_multi_subject/subject1/2022-09-20_14-58-39speed\n",
      "bcm_behaviour_data_multi_subject/subject1/2022-09-20_15-57-37speed\n",
      "bcm_behaviour_data_multi_subject/subject1/2022-09-20_15-38-11speed\n",
      "bcm_behaviour_data_multi_subject/subject1/2022-09-20_15-18-27speed\n",
      "8\n",
      "bcm_behaviour_data_multi_subject/subject1/2022-09-20_15-38-11\n",
      "bcm_behaviour_data_multi_subject/subject1/2022-09-20_14-58-39\n",
      "bcm_behaviour_data_multi_subject/subject1/2022-09-20_15-18-27\n",
      "bcm_behaviour_data_multi_subject/subject1/2022-09-20_15-57-37\n",
      "bcm_behaviour_data_multi_subject/subject2/2022-11-09_14-34-16\n",
      "bcm_behaviour_data_multi_subject/subject2/2022-11-09_14-52-7\n",
      "bcm_behaviour_data_multi_subject/subject2/2022-11-09_14-15-6\n",
      "bcm_behaviour_data_multi_subject/subject2/2022-11-09_13-56-0\n",
      "bcm_behaviour_data_multi_subject/subject1/2022-09-20_14-58-39speed\n",
      "bcm_behaviour_data_multi_subject/subject1/2022-09-20_15-57-37speed\n",
      "bcm_behaviour_data_multi_subject/subject1/2022-09-20_15-38-11speed\n",
      "bcm_behaviour_data_multi_subject/subject1/2022-09-20_15-18-27speed\n",
      "bcm_behaviour_data_multi_subject/subject2/2022-11-09_14-15-6speed\n",
      "bcm_behaviour_data_multi_subject/subject2/2022-11-09_13-56-0speed\n",
      "bcm_behaviour_data_multi_subject/subject2/2022-11-09_14-34-16speed\n",
      "bcm_behaviour_data_multi_subject/subject2/2022-11-09_14-52-7speed\n",
      "9\n",
      "bcm_behaviour_data_multi_subject/subject2/2022-11-09_14-34-16\n",
      "bcm_behaviour_data_multi_subject/subject2/2022-11-09_14-52-7\n",
      "bcm_behaviour_data_multi_subject/subject2/2022-11-09_14-15-6\n",
      "bcm_behaviour_data_multi_subject/subject2/2022-11-09_13-56-0\n",
      "bcm_behaviour_data_multi_subject/subject3/2022-11-09_15-47-1\n",
      "bcm_behaviour_data_multi_subject/subject3/2022-11-09_16-26-13\n",
      "bcm_behaviour_data_multi_subject/subject3/2022-11-09_15-27-14\n",
      "bcm_behaviour_data_multi_subject/subject3/2022-11-09_16-7-9\n",
      "bcm_behaviour_data_multi_subject/subject2/2022-11-09_14-15-6speed\n",
      "bcm_behaviour_data_multi_subject/subject2/2022-11-09_13-56-0speed\n",
      "bcm_behaviour_data_multi_subject/subject2/2022-11-09_14-34-16speed\n",
      "bcm_behaviour_data_multi_subject/subject2/2022-11-09_14-52-7speed\n",
      "bcm_behaviour_data_multi_subject/subject3/2022-11-09_15-47-1speed\n",
      "bcm_behaviour_data_multi_subject/subject3/2022-11-09_16-26-13speed\n",
      "bcm_behaviour_data_multi_subject/subject3/2022-11-09_15-27-14speed\n",
      "bcm_behaviour_data_multi_subject/subject3/2022-11-09_16-7-9speed\n",
      "10\n",
      "bcm_behaviour_data_multi_subject/subject3/2022-11-09_15-47-1\n",
      "bcm_behaviour_data_multi_subject/subject3/2022-11-09_16-26-13\n",
      "bcm_behaviour_data_multi_subject/subject3/2022-11-09_15-27-14\n",
      "bcm_behaviour_data_multi_subject/subject3/2022-11-09_16-7-9\n",
      "bcm_behaviour_data_multi_subject/subject1/2022-09-20_15-38-11\n",
      "bcm_behaviour_data_multi_subject/subject1/2022-09-20_14-58-39\n",
      "bcm_behaviour_data_multi_subject/subject1/2022-09-20_15-18-27\n",
      "bcm_behaviour_data_multi_subject/subject1/2022-09-20_15-57-37\n",
      "bcm_behaviour_data_multi_subject/subject3/2022-11-09_15-47-1speed\n",
      "bcm_behaviour_data_multi_subject/subject3/2022-11-09_16-26-13speed\n",
      "bcm_behaviour_data_multi_subject/subject3/2022-11-09_15-27-14speed\n",
      "bcm_behaviour_data_multi_subject/subject3/2022-11-09_16-7-9speed\n",
      "bcm_behaviour_data_multi_subject/subject1/2022-09-20_14-58-39speed\n",
      "bcm_behaviour_data_multi_subject/subject1/2022-09-20_15-57-37speed\n",
      "bcm_behaviour_data_multi_subject/subject1/2022-09-20_15-38-11speed\n",
      "bcm_behaviour_data_multi_subject/subject1/2022-09-20_15-18-27speed\n",
      "11\n",
      "bcm_behaviour_data_multi_subject/subject1/2022-09-20_15-38-11\n",
      "bcm_behaviour_data_multi_subject/subject1/2022-09-20_14-58-39\n",
      "bcm_behaviour_data_multi_subject/subject1/2022-09-20_15-18-27\n",
      "bcm_behaviour_data_multi_subject/subject1/2022-09-20_15-57-37\n",
      "bcm_behaviour_data_multi_subject/subject2/2022-11-09_14-34-16\n",
      "bcm_behaviour_data_multi_subject/subject2/2022-11-09_14-52-7\n",
      "bcm_behaviour_data_multi_subject/subject2/2022-11-09_14-15-6\n",
      "bcm_behaviour_data_multi_subject/subject2/2022-11-09_13-56-0\n",
      "bcm_behaviour_data_multi_subject/subject1/2022-09-20_14-58-39speed\n",
      "bcm_behaviour_data_multi_subject/subject1/2022-09-20_15-57-37speed\n",
      "bcm_behaviour_data_multi_subject/subject1/2022-09-20_15-38-11speed\n",
      "bcm_behaviour_data_multi_subject/subject1/2022-09-20_15-18-27speed\n",
      "bcm_behaviour_data_multi_subject/subject2/2022-11-09_14-15-6speed\n",
      "bcm_behaviour_data_multi_subject/subject2/2022-11-09_13-56-0speed\n",
      "bcm_behaviour_data_multi_subject/subject2/2022-11-09_14-34-16speed\n",
      "bcm_behaviour_data_multi_subject/subject2/2022-11-09_14-52-7speed\n",
      "\n",
      "val\n",
      "\n",
      "0\n",
      "bcm_behaviour_data_multi_subject/subject1/2022-09-20_14-58-39\n",
      "bcm_behaviour_data_multi_subject/subject1/2022-09-20_15-18-27\n",
      "bcm_behaviour_data_multi_subject/subject1/2022-09-20_15-57-37\n",
      "1\n",
      "bcm_behaviour_data_multi_subject/subject2/2022-11-09_14-52-7\n",
      "bcm_behaviour_data_multi_subject/subject2/2022-11-09_14-15-6\n",
      "bcm_behaviour_data_multi_subject/subject2/2022-11-09_13-56-0\n",
      "2\n",
      "bcm_behaviour_data_multi_subject/subject3/2022-11-09_16-26-13\n",
      "bcm_behaviour_data_multi_subject/subject3/2022-11-09_15-27-14\n",
      "bcm_behaviour_data_multi_subject/subject3/2022-11-09_16-7-9\n",
      "3\n",
      "bcm_behaviour_data_multi_subject/subject1/2022-09-20_15-38-11\n",
      "bcm_behaviour_data_multi_subject/subject1/2022-09-20_15-18-27\n",
      "bcm_behaviour_data_multi_subject/subject1/2022-09-20_15-57-37\n",
      "4\n",
      "bcm_behaviour_data_multi_subject/subject2/2022-11-09_14-34-16\n",
      "bcm_behaviour_data_multi_subject/subject2/2022-11-09_14-15-6\n",
      "bcm_behaviour_data_multi_subject/subject2/2022-11-09_13-56-0\n",
      "5\n",
      "bcm_behaviour_data_multi_subject/subject3/2022-11-09_15-47-1\n",
      "bcm_behaviour_data_multi_subject/subject3/2022-11-09_15-27-14\n",
      "bcm_behaviour_data_multi_subject/subject3/2022-11-09_16-7-9\n",
      "6\n",
      "bcm_behaviour_data_multi_subject/subject1/2022-09-20_15-38-11\n",
      "bcm_behaviour_data_multi_subject/subject1/2022-09-20_14-58-39\n",
      "bcm_behaviour_data_multi_subject/subject1/2022-09-20_15-57-37\n",
      "7\n",
      "bcm_behaviour_data_multi_subject/subject2/2022-11-09_14-34-16\n",
      "bcm_behaviour_data_multi_subject/subject2/2022-11-09_14-52-7\n",
      "bcm_behaviour_data_multi_subject/subject2/2022-11-09_13-56-0\n",
      "8\n",
      "bcm_behaviour_data_multi_subject/subject3/2022-11-09_15-47-1\n",
      "bcm_behaviour_data_multi_subject/subject3/2022-11-09_16-26-13\n",
      "bcm_behaviour_data_multi_subject/subject3/2022-11-09_16-7-9\n",
      "9\n",
      "bcm_behaviour_data_multi_subject/subject1/2022-09-20_15-38-11\n",
      "bcm_behaviour_data_multi_subject/subject1/2022-09-20_14-58-39\n",
      "bcm_behaviour_data_multi_subject/subject1/2022-09-20_15-18-27\n",
      "10\n",
      "bcm_behaviour_data_multi_subject/subject2/2022-11-09_14-34-16\n",
      "bcm_behaviour_data_multi_subject/subject2/2022-11-09_14-52-7\n",
      "bcm_behaviour_data_multi_subject/subject2/2022-11-09_14-15-6\n",
      "11\n",
      "bcm_behaviour_data_multi_subject/subject3/2022-11-09_15-47-1\n",
      "bcm_behaviour_data_multi_subject/subject3/2022-11-09_16-26-13\n",
      "bcm_behaviour_data_multi_subject/subject3/2022-11-09_15-27-14\n",
      "\n",
      "Finetune\n",
      "\n",
      "0\n",
      "bcm_behaviour_data_multi_subject/subject1/2022-09-20_15-38-11\n",
      "1\n",
      "bcm_behaviour_data_multi_subject/subject2/2022-11-09_14-34-16\n",
      "2\n",
      "bcm_behaviour_data_multi_subject/subject3/2022-11-09_15-47-1\n",
      "3\n",
      "bcm_behaviour_data_multi_subject/subject1/2022-09-20_14-58-39\n",
      "4\n",
      "bcm_behaviour_data_multi_subject/subject2/2022-11-09_14-52-7\n",
      "5\n",
      "bcm_behaviour_data_multi_subject/subject3/2022-11-09_16-26-13\n",
      "6\n",
      "bcm_behaviour_data_multi_subject/subject1/2022-09-20_15-18-27\n",
      "7\n",
      "bcm_behaviour_data_multi_subject/subject2/2022-11-09_14-15-6\n",
      "8\n",
      "bcm_behaviour_data_multi_subject/subject3/2022-11-09_15-27-14\n",
      "9\n",
      "bcm_behaviour_data_multi_subject/subject1/2022-09-20_15-57-37\n",
      "10\n",
      "bcm_behaviour_data_multi_subject/subject2/2022-11-09_13-56-0\n",
      "11\n",
      "bcm_behaviour_data_multi_subject/subject3/2022-11-09_16-7-9\n"
     ]
    }
   ],
   "source": [
    "\n",
    "ft_datasets = create_ft_datasets_da()\n",
    "                                                   \n",
    "\n",
    "#loso_datasets = create_loso_datasets()"
   ]
  },
  {
   "cell_type": "code",
   "execution_count": 3,
   "metadata": {
    "scrolled": true,
    "tags": []
   },
   "outputs": [
    {
     "name": "stderr",
     "output_type": "stream",
     "text": [
      "Global seed set to 555\n"
     ]
    },
    {
     "name": "stdout",
     "output_type": "stream",
     "text": [
      "_____________________\n",
      "<class 'list'>\n",
      "_____________________\n",
      "Validation set\n",
      "bcm_behaviour_data_multi_subject/subject2/2022-11-09_14-52-7/0.npy\n",
      "bcm_behaviour_data_multi_subject/subject2/2022-11-09_14-52-7/1.npy\n",
      "bcm_behaviour_data_multi_subject/subject2/2022-11-09_14-52-7/2.npy\n",
      "bcm_behaviour_data_multi_subject/subject2/2022-11-09_14-52-7/3.npy\n",
      "bcm_behaviour_data_multi_subject/subject2/2022-11-09_14-52-7/4.npy\n",
      "bcm_behaviour_data_multi_subject/subject2/2022-11-09_14-15-6/0.npy\n",
      "bcm_behaviour_data_multi_subject/subject2/2022-11-09_14-15-6/1.npy\n",
      "bcm_behaviour_data_multi_subject/subject2/2022-11-09_14-15-6/2.npy\n",
      "bcm_behaviour_data_multi_subject/subject2/2022-11-09_14-15-6/3.npy\n",
      "bcm_behaviour_data_multi_subject/subject2/2022-11-09_14-15-6/4.npy\n",
      "bcm_behaviour_data_multi_subject/subject2/2022-11-09_13-56-0/0.npy\n",
      "bcm_behaviour_data_multi_subject/subject2/2022-11-09_13-56-0/1.npy\n",
      "bcm_behaviour_data_multi_subject/subject2/2022-11-09_13-56-0/2.npy\n",
      "bcm_behaviour_data_multi_subject/subject2/2022-11-09_13-56-0/3.npy\n",
      "bcm_behaviour_data_multi_subject/subject2/2022-11-09_13-56-0/4.npy\n",
      "Training set\n",
      "bcm_behaviour_data_multi_subject/subject3/2022-11-09_15-47-1/0.npy\n",
      "bcm_behaviour_data_multi_subject/subject3/2022-11-09_15-47-1/1.npy\n",
      "bcm_behaviour_data_multi_subject/subject3/2022-11-09_15-47-1/2.npy\n",
      "bcm_behaviour_data_multi_subject/subject3/2022-11-09_15-47-1/3.npy\n",
      "bcm_behaviour_data_multi_subject/subject3/2022-11-09_15-47-1/4.npy\n",
      "bcm_behaviour_data_multi_subject/subject3/2022-11-09_16-26-13/0.npy\n",
      "bcm_behaviour_data_multi_subject/subject3/2022-11-09_16-26-13/1.npy\n",
      "bcm_behaviour_data_multi_subject/subject3/2022-11-09_16-26-13/2.npy\n",
      "bcm_behaviour_data_multi_subject/subject3/2022-11-09_16-26-13/3.npy\n",
      "bcm_behaviour_data_multi_subject/subject3/2022-11-09_16-26-13/4.npy\n",
      "bcm_behaviour_data_multi_subject/subject3/2022-11-09_15-27-14/0.npy\n",
      "bcm_behaviour_data_multi_subject/subject3/2022-11-09_15-27-14/1.npy\n",
      "bcm_behaviour_data_multi_subject/subject3/2022-11-09_15-27-14/2.npy\n",
      "bcm_behaviour_data_multi_subject/subject3/2022-11-09_15-27-14/3.npy\n",
      "bcm_behaviour_data_multi_subject/subject3/2022-11-09_15-27-14/4.npy\n",
      "bcm_behaviour_data_multi_subject/subject3/2022-11-09_16-7-9/0.npy\n",
      "bcm_behaviour_data_multi_subject/subject3/2022-11-09_16-7-9/1.npy\n",
      "bcm_behaviour_data_multi_subject/subject3/2022-11-09_16-7-9/2.npy\n",
      "bcm_behaviour_data_multi_subject/subject3/2022-11-09_16-7-9/3.npy\n",
      "bcm_behaviour_data_multi_subject/subject3/2022-11-09_16-7-9/4.npy\n",
      "bcm_behaviour_data_multi_subject/subject1/2022-09-20_15-38-11/0.npy\n",
      "bcm_behaviour_data_multi_subject/subject1/2022-09-20_15-38-11/1.npy\n",
      "bcm_behaviour_data_multi_subject/subject1/2022-09-20_15-38-11/2.npy\n",
      "bcm_behaviour_data_multi_subject/subject1/2022-09-20_15-38-11/3.npy\n",
      "bcm_behaviour_data_multi_subject/subject1/2022-09-20_15-38-11/4.npy\n",
      "bcm_behaviour_data_multi_subject/subject1/2022-09-20_14-58-39/0.npy\n",
      "bcm_behaviour_data_multi_subject/subject1/2022-09-20_14-58-39/1.npy\n",
      "bcm_behaviour_data_multi_subject/subject1/2022-09-20_14-58-39/2.npy\n",
      "bcm_behaviour_data_multi_subject/subject1/2022-09-20_14-58-39/3.npy\n",
      "bcm_behaviour_data_multi_subject/subject1/2022-09-20_14-58-39/4.npy\n",
      "bcm_behaviour_data_multi_subject/subject1/2022-09-20_15-18-27/0.npy\n",
      "bcm_behaviour_data_multi_subject/subject1/2022-09-20_15-18-27/1.npy\n",
      "bcm_behaviour_data_multi_subject/subject1/2022-09-20_15-18-27/2.npy\n",
      "bcm_behaviour_data_multi_subject/subject1/2022-09-20_15-18-27/3.npy\n",
      "bcm_behaviour_data_multi_subject/subject1/2022-09-20_15-18-27/4.npy\n",
      "bcm_behaviour_data_multi_subject/subject1/2022-09-20_15-57-37/0.npy\n",
      "bcm_behaviour_data_multi_subject/subject1/2022-09-20_15-57-37/1.npy\n",
      "bcm_behaviour_data_multi_subject/subject1/2022-09-20_15-57-37/2.npy\n",
      "bcm_behaviour_data_multi_subject/subject1/2022-09-20_15-57-37/3.npy\n",
      "bcm_behaviour_data_multi_subject/subject1/2022-09-20_15-57-37/4.npy\n",
      "bcm_behaviour_data_multi_subject/subject3/2022-11-09_15-47-1speed/0.npy\n",
      "bcm_behaviour_data_multi_subject/subject3/2022-11-09_15-47-1speed/1.npy\n",
      "bcm_behaviour_data_multi_subject/subject3/2022-11-09_15-47-1speed/2.npy\n",
      "bcm_behaviour_data_multi_subject/subject3/2022-11-09_15-47-1speed/3.npy\n",
      "bcm_behaviour_data_multi_subject/subject3/2022-11-09_15-47-1speed/4.npy\n",
      "bcm_behaviour_data_multi_subject/subject3/2022-11-09_16-26-13speed/0.npy\n",
      "bcm_behaviour_data_multi_subject/subject3/2022-11-09_16-26-13speed/1.npy\n",
      "bcm_behaviour_data_multi_subject/subject3/2022-11-09_16-26-13speed/2.npy\n",
      "bcm_behaviour_data_multi_subject/subject3/2022-11-09_16-26-13speed/3.npy\n",
      "bcm_behaviour_data_multi_subject/subject3/2022-11-09_16-26-13speed/4.npy\n",
      "bcm_behaviour_data_multi_subject/subject3/2022-11-09_15-27-14speed/0.npy\n",
      "bcm_behaviour_data_multi_subject/subject3/2022-11-09_15-27-14speed/1.npy\n",
      "bcm_behaviour_data_multi_subject/subject3/2022-11-09_15-27-14speed/2.npy\n",
      "bcm_behaviour_data_multi_subject/subject3/2022-11-09_15-27-14speed/3.npy\n",
      "bcm_behaviour_data_multi_subject/subject3/2022-11-09_15-27-14speed/4.npy\n",
      "bcm_behaviour_data_multi_subject/subject3/2022-11-09_16-7-9speed/0.npy\n",
      "bcm_behaviour_data_multi_subject/subject3/2022-11-09_16-7-9speed/1.npy\n",
      "bcm_behaviour_data_multi_subject/subject3/2022-11-09_16-7-9speed/2.npy\n",
      "bcm_behaviour_data_multi_subject/subject3/2022-11-09_16-7-9speed/3.npy\n",
      "bcm_behaviour_data_multi_subject/subject3/2022-11-09_16-7-9speed/4.npy\n",
      "bcm_behaviour_data_multi_subject/subject1/2022-09-20_14-58-39speed/0.npy\n",
      "bcm_behaviour_data_multi_subject/subject1/2022-09-20_14-58-39speed/1.npy\n",
      "bcm_behaviour_data_multi_subject/subject1/2022-09-20_14-58-39speed/2.npy\n",
      "bcm_behaviour_data_multi_subject/subject1/2022-09-20_14-58-39speed/3.npy\n",
      "bcm_behaviour_data_multi_subject/subject1/2022-09-20_14-58-39speed/4.npy\n",
      "bcm_behaviour_data_multi_subject/subject1/2022-09-20_15-57-37speed/0.npy\n",
      "bcm_behaviour_data_multi_subject/subject1/2022-09-20_15-57-37speed/1.npy\n",
      "bcm_behaviour_data_multi_subject/subject1/2022-09-20_15-57-37speed/2.npy\n",
      "bcm_behaviour_data_multi_subject/subject1/2022-09-20_15-57-37speed/3.npy\n",
      "bcm_behaviour_data_multi_subject/subject1/2022-09-20_15-57-37speed/4.npy\n",
      "bcm_behaviour_data_multi_subject/subject1/2022-09-20_15-38-11speed/0.npy\n",
      "bcm_behaviour_data_multi_subject/subject1/2022-09-20_15-38-11speed/1.npy\n",
      "bcm_behaviour_data_multi_subject/subject1/2022-09-20_15-38-11speed/2.npy\n",
      "bcm_behaviour_data_multi_subject/subject1/2022-09-20_15-38-11speed/3.npy\n",
      "bcm_behaviour_data_multi_subject/subject1/2022-09-20_15-38-11speed/4.npy\n",
      "bcm_behaviour_data_multi_subject/subject1/2022-09-20_15-18-27speed/0.npy\n",
      "bcm_behaviour_data_multi_subject/subject1/2022-09-20_15-18-27speed/1.npy\n",
      "bcm_behaviour_data_multi_subject/subject1/2022-09-20_15-18-27speed/2.npy\n",
      "bcm_behaviour_data_multi_subject/subject1/2022-09-20_15-18-27speed/3.npy\n",
      "bcm_behaviour_data_multi_subject/subject1/2022-09-20_15-18-27speed/4.npy\n"
     ]
    },
    {
     "name": "stderr",
     "output_type": "stream",
     "text": [
      "GPU available: True (cuda), used: True\n",
      "TPU available: False, using: 0 TPU cores\n",
      "IPU available: False, using: 0 IPUs\n",
      "HPU available: False, using: 0 HPUs\n",
      "/home/aron/.local/lib/python3.9/site-packages/pytorch_lightning/callbacks/model_checkpoint.py:616: UserWarning: Checkpoint directory /home/aron/BCM_activity_classification/checkpoints exists and is not empty.\n",
      "  rank_zero_warn(f\"Checkpoint directory {dirpath} exists and is not empty.\")\n",
      "LOCAL_RANK: 0 - CUDA_VISIBLE_DEVICES: [0,1]\n"
     ]
    },
    {
     "name": "stdout",
     "output_type": "stream",
     "text": [
      "https://app.neptune.ai/NTLAB/BCM-activity-classification/e/BCMAC-1367\n",
      "Remember to stop your run once you’ve finished logging your metadata (https://docs.neptune.ai/api-reference/run#.stop). It will be stopped automatically only when the notebook kernel/interactive console is terminated.\n"
     ]
    },
    {
     "name": "stderr",
     "output_type": "stream",
     "text": [
      "Warning: string series 'metadata/file_path' value was longer than 1000 characters and was truncated. This warning is printed only once per series.\n",
      "\n",
      "  | Name         | Type             | Params\n",
      "--------------------------------------------------\n",
      "0 | lstm         | LSTM             | 149 K \n",
      "1 | flatten      | Flatten          | 0     \n",
      "2 | fc           | Linear           | 1.3 K \n",
      "3 | output       | Sigmoid          | 0     \n",
      "4 | sm           | Softmax          | 0     \n",
      "5 | loss         | CrossEntropyLoss | 0     \n",
      "6 | accuracy     | Accuracy         | 0     \n",
      "7 | val_accuracy | Accuracy         | 0     \n",
      "--------------------------------------------------\n",
      "150 K     Trainable params\n",
      "0         Non-trainable params\n",
      "150 K     Total params\n",
      "0.603     Total estimated model params size (MB)\n"
     ]
    },
    {
     "data": {
      "application/vnd.jupyter.widget-view+json": {
       "model_id": "",
       "version_major": 2,
       "version_minor": 0
      },
      "text/plain": [
       "Sanity Checking: 0it [00:00, ?it/s]"
      ]
     },
     "metadata": {},
     "output_type": "display_data"
    },
    {
     "name": "stdout",
     "output_type": "stream",
     "text": [
      "{'progress_bar': {'val_loss': 1.5983238220214844}, 'log': {'val_loss': 1.5983238220214844}, 'val_loss': 1.5983238220214844}\n",
      "Accuracy: 0.125\n"
     ]
    },
    {
     "name": "stderr",
     "output_type": "stream",
     "text": [
      "/home/aron/.local/lib/python3.9/site-packages/pytorch_lightning/core/module.py:555: UserWarning: To copy construct from a tensor, it is recommended to use sourceTensor.clone().detach() or sourceTensor.clone().detach().requires_grad_(True), rather than torch.tensor(sourceTensor).\n",
      "  value = torch.tensor(value, device=self.device)\n"
     ]
    },
    {
     "data": {
      "application/vnd.jupyter.widget-view+json": {
       "model_id": "0084c5fabc7c470da60b89e84b2245ac",
       "version_major": 2,
       "version_minor": 0
      },
      "text/plain": [
       "Training: 0it [00:00, ?it/s]"
      ]
     },
     "metadata": {},
     "output_type": "display_data"
    },
    {
     "data": {
      "application/vnd.jupyter.widget-view+json": {
       "model_id": "",
       "version_major": 2,
       "version_minor": 0
      },
      "text/plain": [
       "Validation: 0it [00:00, ?it/s]"
      ]
     },
     "metadata": {},
     "output_type": "display_data"
    },
    {
     "name": "stdout",
     "output_type": "stream",
     "text": [
      "{'progress_bar': {'val_loss': 1.482253909111023}, 'log': {'val_loss': 1.482253909111023}, 'val_loss': 1.482253909111023}\n",
      "Accuracy: 0.6553388833999634\n",
      "Accuracy: 0.7784867882728577\n"
     ]
    },
    {
     "data": {
      "application/vnd.jupyter.widget-view+json": {
       "model_id": "",
       "version_major": 2,
       "version_minor": 0
      },
      "text/plain": [
       "Validation: 0it [00:00, ?it/s]"
      ]
     },
     "metadata": {},
     "output_type": "display_data"
    },
    {
     "name": "stdout",
     "output_type": "stream",
     "text": [
      "{'progress_bar': {'val_loss': 1.4672050476074219}, 'log': {'val_loss': 1.4672050476074219}, 'val_loss': 1.4672050476074219}\n",
      "Accuracy: 0.7311049103736877\n",
      "Accuracy: 0.7896360754966736\n"
     ]
    },
    {
     "data": {
      "application/vnd.jupyter.widget-view+json": {
       "model_id": "",
       "version_major": 2,
       "version_minor": 0
      },
      "text/plain": [
       "Validation: 0it [00:00, ?it/s]"
      ]
     },
     "metadata": {},
     "output_type": "display_data"
    },
    {
     "name": "stdout",
     "output_type": "stream",
     "text": [
      "{'progress_bar': {'val_loss': 1.492944359779358}, 'log': {'val_loss': 1.492944359779358}, 'val_loss': 1.492944359779358}\n",
      "Accuracy: 0.6711235046386719\n",
      "Accuracy: 0.8034148812294006\n"
     ]
    },
    {
     "data": {
      "application/vnd.jupyter.widget-view+json": {
       "model_id": "",
       "version_major": 2,
       "version_minor": 0
      },
      "text/plain": [
       "Validation: 0it [00:00, ?it/s]"
      ]
     },
     "metadata": {},
     "output_type": "display_data"
    },
    {
     "name": "stdout",
     "output_type": "stream",
     "text": [
      "{'progress_bar': {'val_loss': 1.4761008024215698}, 'log': {'val_loss': 1.4761008024215698}, 'val_loss': 1.4761008024215698}\n",
      "Accuracy: 0.6926648020744324\n",
      "Accuracy: 0.7978753447532654\n"
     ]
    },
    {
     "data": {
      "application/vnd.jupyter.widget-view+json": {
       "model_id": "",
       "version_major": 2,
       "version_minor": 0
      },
      "text/plain": [
       "Validation: 0it [00:00, ?it/s]"
      ]
     },
     "metadata": {},
     "output_type": "display_data"
    },
    {
     "name": "stdout",
     "output_type": "stream",
     "text": [
      "{'progress_bar': {'val_loss': 1.472238540649414}, 'log': {'val_loss': 1.472238540649414}, 'val_loss': 1.472238540649414}\n",
      "Accuracy: 0.7606313824653625\n",
      "Accuracy: 0.9038987159729004\n"
     ]
    },
    {
     "data": {
      "application/vnd.jupyter.widget-view+json": {
       "model_id": "",
       "version_major": 2,
       "version_minor": 0
      },
      "text/plain": [
       "Validation: 0it [00:00, ?it/s]"
      ]
     },
     "metadata": {},
     "output_type": "display_data"
    },
    {
     "name": "stdout",
     "output_type": "stream",
     "text": [
      "{'progress_bar': {'val_loss': 1.4785789251327515}, 'log': {'val_loss': 1.4785789251327515}, 'val_loss': 1.4785789251327515}\n",
      "Accuracy: 0.7335190176963806\n",
      "Accuracy: 0.9438678622245789\n"
     ]
    },
    {
     "data": {
      "application/vnd.jupyter.widget-view+json": {
       "model_id": "",
       "version_major": 2,
       "version_minor": 0
      },
      "text/plain": [
       "Validation: 0it [00:00, ?it/s]"
      ]
     },
     "metadata": {},
     "output_type": "display_data"
    },
    {
     "name": "stdout",
     "output_type": "stream",
     "text": [
      "{'progress_bar': {'val_loss': 1.4875829219818115}, 'log': {'val_loss': 1.4875829219818115}, 'val_loss': 1.4875829219818115}\n",
      "Accuracy: 0.6939647197723389\n",
      "Accuracy: 0.9503190517425537\n"
     ]
    },
    {
     "data": {
      "application/vnd.jupyter.widget-view+json": {
       "model_id": "",
       "version_major": 2,
       "version_minor": 0
      },
      "text/plain": [
       "Validation: 0it [00:00, ?it/s]"
      ]
     },
     "metadata": {},
     "output_type": "display_data"
    },
    {
     "name": "stdout",
     "output_type": "stream",
     "text": [
      "{'progress_bar': {'val_loss': 1.4770557880401611}, 'log': {'val_loss': 1.4770557880401611}, 'val_loss': 1.4770557880401611}\n",
      "Accuracy: 0.7439182996749878\n",
      "Accuracy: 0.952878475189209\n"
     ]
    },
    {
     "data": {
      "application/vnd.jupyter.widget-view+json": {
       "model_id": "",
       "version_major": 2,
       "version_minor": 0
      },
      "text/plain": [
       "Validation: 0it [00:00, ?it/s]"
      ]
     },
     "metadata": {},
     "output_type": "display_data"
    },
    {
     "name": "stdout",
     "output_type": "stream",
     "text": [
      "{'progress_bar': {'val_loss': 1.4634331464767456}, 'log': {'val_loss': 1.4634331464767456}, 'val_loss': 1.4634331464767456}\n",
      "Accuracy: 0.7909006476402283\n",
      "Accuracy: 0.9558936953544617\n"
     ]
    },
    {
     "data": {
      "application/vnd.jupyter.widget-view+json": {
       "model_id": "",
       "version_major": 2,
       "version_minor": 0
      },
      "text/plain": [
       "Validation: 0it [00:00, ?it/s]"
      ]
     },
     "metadata": {},
     "output_type": "display_data"
    },
    {
     "name": "stdout",
     "output_type": "stream",
     "text": [
      "{'progress_bar': {'val_loss': 1.4657660722732544}, 'log': {'val_loss': 1.4657660722732544}, 'val_loss': 1.4657660722732544}\n",
      "Accuracy: 0.7840297222137451\n",
      "Accuracy: 0.958698570728302\n"
     ]
    },
    {
     "data": {
      "application/vnd.jupyter.widget-view+json": {
       "model_id": "",
       "version_major": 2,
       "version_minor": 0
      },
      "text/plain": [
       "Validation: 0it [00:00, ?it/s]"
      ]
     },
     "metadata": {},
     "output_type": "display_data"
    },
    {
     "name": "stdout",
     "output_type": "stream",
     "text": [
      "{'progress_bar': {'val_loss': 1.4729593992233276}, 'log': {'val_loss': 1.4729593992233276}, 'val_loss': 1.4729593992233276}\n",
      "Accuracy: 0.7554317712783813\n",
      "Accuracy: 0.9603814482688904\n"
     ]
    },
    {
     "data": {
      "application/vnd.jupyter.widget-view+json": {
       "model_id": "",
       "version_major": 2,
       "version_minor": 0
      },
      "text/plain": [
       "Validation: 0it [00:00, ?it/s]"
      ]
     },
     "metadata": {},
     "output_type": "display_data"
    },
    {
     "name": "stdout",
     "output_type": "stream",
     "text": [
      "{'progress_bar': {'val_loss': 1.4794845581054688}, 'log': {'val_loss': 1.4794845581054688}, 'val_loss': 1.4794845581054688}\n",
      "Accuracy: 0.7309192419052124\n",
      "Accuracy: 0.9607320427894592\n"
     ]
    },
    {
     "data": {
      "application/vnd.jupyter.widget-view+json": {
       "model_id": "",
       "version_major": 2,
       "version_minor": 0
      },
      "text/plain": [
       "Validation: 0it [00:00, ?it/s]"
      ]
     },
     "metadata": {},
     "output_type": "display_data"
    },
    {
     "name": "stdout",
     "output_type": "stream",
     "text": [
      "{'progress_bar': {'val_loss': 1.4706857204437256}, 'log': {'val_loss': 1.4706857204437256}, 'val_loss': 1.4706857204437256}\n",
      "Accuracy: 0.761931300163269\n",
      "Accuracy: 0.9628707766532898\n"
     ]
    },
    {
     "data": {
      "application/vnd.jupyter.widget-view+json": {
       "model_id": "",
       "version_major": 2,
       "version_minor": 0
      },
      "text/plain": [
       "Validation: 0it [00:00, ?it/s]"
      ]
     },
     "metadata": {},
     "output_type": "display_data"
    },
    {
     "name": "stdout",
     "output_type": "stream",
     "text": [
      "{'progress_bar': {'val_loss': 1.4643951654434204}, 'log': {'val_loss': 1.4643951654434204}, 'val_loss': 1.4643951654434204}\n",
      "Accuracy: 0.7905292510986328\n",
      "Accuracy: 0.9646939039230347\n"
     ]
    },
    {
     "data": {
      "application/vnd.jupyter.widget-view+json": {
       "model_id": "",
       "version_major": 2,
       "version_minor": 0
      },
      "text/plain": [
       "Validation: 0it [00:00, ?it/s]"
      ]
     },
     "metadata": {},
     "output_type": "display_data"
    },
    {
     "name": "stdout",
     "output_type": "stream",
     "text": [
      "{'progress_bar': {'val_loss': 1.4824750423431396}, 'log': {'val_loss': 1.4824750423431396}, 'val_loss': 1.4824750423431396}\n",
      "Accuracy: 0.7084494233131409\n",
      "Accuracy: 0.9624149799346924\n"
     ]
    },
    {
     "data": {
      "application/vnd.jupyter.widget-view+json": {
       "model_id": "",
       "version_major": 2,
       "version_minor": 0
      },
      "text/plain": [
       "Validation: 0it [00:00, ?it/s]"
      ]
     },
     "metadata": {},
     "output_type": "display_data"
    },
    {
     "name": "stdout",
     "output_type": "stream",
     "text": [
      "{'progress_bar': {'val_loss': 1.4642525911331177}, 'log': {'val_loss': 1.4642525911331177}, 'val_loss': 1.4642525911331177}\n",
      "Accuracy: 0.7853296399116516\n",
      "Accuracy: 0.9673585295677185\n"
     ]
    },
    {
     "data": {
      "application/vnd.jupyter.widget-view+json": {
       "model_id": "",
       "version_major": 2,
       "version_minor": 0
      },
      "text/plain": [
       "Validation: 0it [00:00, ?it/s]"
      ]
     },
     "metadata": {},
     "output_type": "display_data"
    },
    {
     "name": "stdout",
     "output_type": "stream",
     "text": [
      "{'progress_bar': {'val_loss': 1.4748878479003906}, 'log': {'val_loss': 1.4748878479003906}, 'val_loss': 1.4748878479003906}\n",
      "Accuracy: 0.740761399269104\n",
      "Accuracy: 0.9668676853179932\n"
     ]
    },
    {
     "data": {
      "application/vnd.jupyter.widget-view+json": {
       "model_id": "",
       "version_major": 2,
       "version_minor": 0
      },
      "text/plain": [
       "Validation: 0it [00:00, ?it/s]"
      ]
     },
     "metadata": {},
     "output_type": "display_data"
    },
    {
     "name": "stdout",
     "output_type": "stream",
     "text": [
      "{'progress_bar': {'val_loss': 1.4750165939331055}, 'log': {'val_loss': 1.4750165939331055}, 'val_loss': 1.4750165939331055}\n",
      "Accuracy: 0.7519034147262573\n",
      "Accuracy: 0.9670780301094055\n"
     ]
    },
    {
     "data": {
      "application/vnd.jupyter.widget-view+json": {
       "model_id": "",
       "version_major": 2,
       "version_minor": 0
      },
      "text/plain": [
       "Validation: 0it [00:00, ?it/s]"
      ]
     },
     "metadata": {},
     "output_type": "display_data"
    },
    {
     "name": "stdout",
     "output_type": "stream",
     "text": [
      "{'progress_bar': {'val_loss': 1.4820294380187988}, 'log': {'val_loss': 1.4820294380187988}, 'val_loss': 1.4820294380187988}\n",
      "Accuracy: 0.7195914387702942\n",
      "Accuracy: 0.9670079350471497\n"
     ]
    },
    {
     "data": {
      "application/vnd.jupyter.widget-view+json": {
       "model_id": "",
       "version_major": 2,
       "version_minor": 0
      },
      "text/plain": [
       "Validation: 0it [00:00, ?it/s]"
      ]
     },
     "metadata": {},
     "output_type": "display_data"
    },
    {
     "name": "stdout",
     "output_type": "stream",
     "text": [
      "{'progress_bar': {'val_loss': 1.4820369482040405}, 'log': {'val_loss': 1.4820369482040405}, 'val_loss': 1.4820369482040405}\n",
      "Accuracy: 0.712720513343811\n",
      "Accuracy: 0.9673234820365906\n"
     ]
    },
    {
     "data": {
      "application/vnd.jupyter.widget-view+json": {
       "model_id": "",
       "version_major": 2,
       "version_minor": 0
      },
      "text/plain": [
       "Validation: 0it [00:00, ?it/s]"
      ]
     },
     "metadata": {},
     "output_type": "display_data"
    },
    {
     "name": "stdout",
     "output_type": "stream",
     "text": [
      "{'progress_bar': {'val_loss': 1.4634195566177368}, 'log': {'val_loss': 1.4634195566177368}, 'val_loss': 1.4634195566177368}\n",
      "Accuracy: 0.7951717972755432\n",
      "Accuracy: 0.9696374535560608\n"
     ]
    },
    {
     "data": {
      "application/vnd.jupyter.widget-view+json": {
       "model_id": "",
       "version_major": 2,
       "version_minor": 0
      },
      "text/plain": [
       "Validation: 0it [00:00, ?it/s]"
      ]
     },
     "metadata": {},
     "output_type": "display_data"
    },
    {
     "name": "stdout",
     "output_type": "stream",
     "text": [
      "{'progress_bar': {'val_loss': 1.464158296585083}, 'log': {'val_loss': 1.464158296585083}, 'val_loss': 1.464158296585083}\n",
      "Accuracy: 0.7933147549629211\n",
      "Accuracy: 0.970759391784668\n"
     ]
    },
    {
     "data": {
      "application/vnd.jupyter.widget-view+json": {
       "model_id": "",
       "version_major": 2,
       "version_minor": 0
      },
      "text/plain": [
       "Validation: 0it [00:00, ?it/s]"
      ]
     },
     "metadata": {},
     "output_type": "display_data"
    },
    {
     "name": "stdout",
     "output_type": "stream",
     "text": [
      "{'progress_bar': {'val_loss': 1.4717820882797241}, 'log': {'val_loss': 1.4717820882797241}, 'val_loss': 1.4717820882797241}\n",
      "Accuracy: 0.7656453251838684\n",
      "Accuracy: 0.9716008901596069\n"
     ]
    },
    {
     "data": {
      "application/vnd.jupyter.widget-view+json": {
       "model_id": "",
       "version_major": 2,
       "version_minor": 0
      },
      "text/plain": [
       "Validation: 0it [00:00, ?it/s]"
      ]
     },
     "metadata": {},
     "output_type": "display_data"
    },
    {
     "name": "stdout",
     "output_type": "stream",
     "text": [
      "{'progress_bar': {'val_loss': 1.4742846488952637}, 'log': {'val_loss': 1.4742846488952637}, 'val_loss': 1.4742846488952637}\n",
      "Accuracy: 0.7519034147262573\n",
      "Accuracy: 0.9728630781173706\n"
     ]
    },
    {
     "data": {
      "application/vnd.jupyter.widget-view+json": {
       "model_id": "",
       "version_major": 2,
       "version_minor": 0
      },
      "text/plain": [
       "Validation: 0it [00:00, ?it/s]"
      ]
     },
     "metadata": {},
     "output_type": "display_data"
    },
    {
     "name": "stdout",
     "output_type": "stream",
     "text": [
      "{'progress_bar': {'val_loss': 1.4749869108200073}, 'log': {'val_loss': 1.4749869108200073}, 'val_loss': 1.4749869108200073}\n",
      "Accuracy: 0.7435469031333923\n",
      "Accuracy: 0.9720566868782043\n"
     ]
    },
    {
     "data": {
      "application/vnd.jupyter.widget-view+json": {
       "model_id": "",
       "version_major": 2,
       "version_minor": 0
      },
      "text/plain": [
       "Validation: 0it [00:00, ?it/s]"
      ]
     },
     "metadata": {},
     "output_type": "display_data"
    },
    {
     "name": "stdout",
     "output_type": "stream",
     "text": [
      "{'progress_bar': {'val_loss': 1.4655961990356445}, 'log': {'val_loss': 1.4655961990356445}, 'val_loss': 1.4655961990356445}\n",
      "Accuracy: 0.785515308380127\n",
      "Accuracy: 0.9721968770027161\n"
     ]
    },
    {
     "data": {
      "application/vnd.jupyter.widget-view+json": {
       "model_id": "",
       "version_major": 2,
       "version_minor": 0
      },
      "text/plain": [
       "Validation: 0it [00:00, ?it/s]"
      ]
     },
     "metadata": {},
     "output_type": "display_data"
    },
    {
     "name": "stdout",
     "output_type": "stream",
     "text": [
      "{'progress_bar': {'val_loss': 1.4716131687164307}, 'log': {'val_loss': 1.4716131687164307}, 'val_loss': 1.4716131687164307}\n",
      "Accuracy: 0.7552460432052612\n",
      "Accuracy: 0.9744758605957031\n"
     ]
    },
    {
     "data": {
      "application/vnd.jupyter.widget-view+json": {
       "model_id": "",
       "version_major": 2,
       "version_minor": 0
      },
      "text/plain": [
       "Validation: 0it [00:00, ?it/s]"
      ]
     },
     "metadata": {},
     "output_type": "display_data"
    },
    {
     "name": "stdout",
     "output_type": "stream",
     "text": [
      "{'progress_bar': {'val_loss': 1.4676175117492676}, 'log': {'val_loss': 1.4676175117492676}, 'val_loss': 1.4676175117492676}\n",
      "Accuracy: 0.7799443006515503\n",
      "Accuracy: 0.9734590649604797\n"
     ]
    },
    {
     "data": {
      "application/vnd.jupyter.widget-view+json": {
       "model_id": "",
       "version_major": 2,
       "version_minor": 0
      },
      "text/plain": [
       "Validation: 0it [00:00, ?it/s]"
      ]
     },
     "metadata": {},
     "output_type": "display_data"
    },
    {
     "name": "stdout",
     "output_type": "stream",
     "text": [
      "{'progress_bar': {'val_loss': 1.461246132850647}, 'log': {'val_loss': 1.461246132850647}, 'val_loss': 1.461246132850647}\n",
      "Accuracy: 0.8070566654205322\n",
      "Accuracy: 0.9752472043037415\n"
     ]
    },
    {
     "data": {
      "application/vnd.jupyter.widget-view+json": {
       "model_id": "",
       "version_major": 2,
       "version_minor": 0
      },
      "text/plain": [
       "Validation: 0it [00:00, ?it/s]"
      ]
     },
     "metadata": {},
     "output_type": "display_data"
    },
    {
     "name": "stdout",
     "output_type": "stream",
     "text": [
      "{'progress_bar': {'val_loss': 1.4850071668624878}, 'log': {'val_loss': 1.4850071668624878}, 'val_loss': 1.4850071668624878}\n",
      "Accuracy: 0.710120677947998\n",
      "Accuracy: 0.9753873944282532\n"
     ]
    },
    {
     "data": {
      "application/vnd.jupyter.widget-view+json": {
       "model_id": "",
       "version_major": 2,
       "version_minor": 0
      },
      "text/plain": [
       "Validation: 0it [00:00, ?it/s]"
      ]
     },
     "metadata": {},
     "output_type": "display_data"
    },
    {
     "name": "stdout",
     "output_type": "stream",
     "text": [
      "{'progress_bar': {'val_loss': 1.488959789276123}, 'log': {'val_loss': 1.488959789276123}, 'val_loss': 1.488959789276123}\n",
      "Accuracy: 0.690622091293335\n",
      "Accuracy: 0.9750017523765564\n"
     ]
    },
    {
     "data": {
      "application/vnd.jupyter.widget-view+json": {
       "model_id": "",
       "version_major": 2,
       "version_minor": 0
      },
      "text/plain": [
       "Validation: 0it [00:00, ?it/s]"
      ]
     },
     "metadata": {},
     "output_type": "display_data"
    },
    {
     "name": "stdout",
     "output_type": "stream",
     "text": [
      "{'progress_bar': {'val_loss': 1.4730712175369263}, 'log': {'val_loss': 1.4730712175369263}, 'val_loss': 1.4730712175369263}\n",
      "Accuracy: 0.752646267414093\n",
      "Accuracy: 0.9759483933448792\n"
     ]
    },
    {
     "data": {
      "application/vnd.jupyter.widget-view+json": {
       "model_id": "",
       "version_major": 2,
       "version_minor": 0
      },
      "text/plain": [
       "Validation: 0it [00:00, ?it/s]"
      ]
     },
     "metadata": {},
     "output_type": "display_data"
    },
    {
     "name": "stdout",
     "output_type": "stream",
     "text": [
      "{'progress_bar': {'val_loss': 1.4697879552841187}, 'log': {'val_loss': 1.4697879552841187}, 'val_loss': 1.4697879552841187}\n",
      "Accuracy: 0.7637882828712463\n",
      "Accuracy: 0.97833251953125\n"
     ]
    },
    {
     "data": {
      "application/vnd.jupyter.widget-view+json": {
       "model_id": "",
       "version_major": 2,
       "version_minor": 0
      },
      "text/plain": [
       "Validation: 0it [00:00, ?it/s]"
      ]
     },
     "metadata": {},
     "output_type": "display_data"
    },
    {
     "name": "stdout",
     "output_type": "stream",
     "text": [
      "{'progress_bar': {'val_loss': 1.476915955543518}, 'log': {'val_loss': 1.476915955543518}, 'val_loss': 1.476915955543518}\n",
      "Accuracy: 0.7416898608207703\n",
      "Accuracy: 0.9778066277503967\n"
     ]
    },
    {
     "data": {
      "application/vnd.jupyter.widget-view+json": {
       "model_id": "",
       "version_major": 2,
       "version_minor": 0
      },
      "text/plain": [
       "Validation: 0it [00:00, ?it/s]"
      ]
     },
     "metadata": {},
     "output_type": "display_data"
    },
    {
     "name": "stdout",
     "output_type": "stream",
     "text": [
      "{'progress_bar': {'val_loss': 1.4769264459609985}, 'log': {'val_loss': 1.4769264459609985}, 'val_loss': 1.4769264459609985}\n",
      "Accuracy: 0.739832878112793\n",
      "Accuracy: 0.9775611758232117\n"
     ]
    },
    {
     "data": {
      "application/vnd.jupyter.widget-view+json": {
       "model_id": "",
       "version_major": 2,
       "version_minor": 0
      },
      "text/plain": [
       "Validation: 0it [00:00, ?it/s]"
      ]
     },
     "metadata": {},
     "output_type": "display_data"
    },
    {
     "name": "stdout",
     "output_type": "stream",
     "text": [
      "{'progress_bar': {'val_loss': 1.4821529388427734}, 'log': {'val_loss': 1.4821529388427734}, 'val_loss': 1.4821529388427734}\n",
      "Accuracy: 0.7242339849472046\n",
      "Accuracy: 0.9780169725418091\n"
     ]
    },
    {
     "data": {
      "application/vnd.jupyter.widget-view+json": {
       "model_id": "",
       "version_major": 2,
       "version_minor": 0
      },
      "text/plain": [
       "Validation: 0it [00:00, ?it/s]"
      ]
     },
     "metadata": {},
     "output_type": "display_data"
    },
    {
     "name": "stdout",
     "output_type": "stream",
     "text": [
      "{'progress_bar': {'val_loss': 1.475743293762207}, 'log': {'val_loss': 1.475743293762207}, 'val_loss': 1.475743293762207}\n",
      "Accuracy: 0.7461466789245605\n",
      "Accuracy: 0.9778066277503967\n"
     ]
    },
    {
     "data": {
      "application/vnd.jupyter.widget-view+json": {
       "model_id": "",
       "version_major": 2,
       "version_minor": 0
      },
      "text/plain": [
       "Validation: 0it [00:00, ?it/s]"
      ]
     },
     "metadata": {},
     "output_type": "display_data"
    },
    {
     "name": "stdout",
     "output_type": "stream",
     "text": [
      "{'progress_bar': {'val_loss': 1.481980800628662}, 'log': {'val_loss': 1.481980800628662}, 'val_loss': 1.481980800628662}\n",
      "Accuracy: 0.7255339026451111\n",
      "Accuracy: 0.9785779118537903\n"
     ]
    },
    {
     "data": {
      "application/vnd.jupyter.widget-view+json": {
       "model_id": "",
       "version_major": 2,
       "version_minor": 0
      },
      "text/plain": [
       "Validation: 0it [00:00, ?it/s]"
      ]
     },
     "metadata": {},
     "output_type": "display_data"
    },
    {
     "name": "stdout",
     "output_type": "stream",
     "text": [
      "{'progress_bar': {'val_loss': 1.4978891611099243}, 'log': {'val_loss': 1.4978891611099243}, 'val_loss': 1.4978891611099243}\n",
      "Accuracy: 0.6519963145256042\n",
      "Accuracy: 0.9769300818443298\n"
     ]
    },
    {
     "data": {
      "application/vnd.jupyter.widget-view+json": {
       "model_id": "",
       "version_major": 2,
       "version_minor": 0
      },
      "text/plain": [
       "Validation: 0it [00:00, ?it/s]"
      ]
     },
     "metadata": {},
     "output_type": "display_data"
    },
    {
     "name": "stderr",
     "output_type": "stream",
     "text": [
      "`Trainer.fit` stopped: `max_epochs=40` reached.\n"
     ]
    },
    {
     "name": "stdout",
     "output_type": "stream",
     "text": [
      "{'progress_bar': {'val_loss': 1.467482089996338}, 'log': {'val_loss': 1.467482089996338}, 'val_loss': 1.467482089996338}\n",
      "Accuracy: 0.7862581014633179\n",
      "Accuracy: 0.9791389107704163\n",
      "checkpoints/latest_checkpoint-v2.ckpt\n"
     ]
    },
    {
     "name": "stderr",
     "output_type": "stream",
     "text": [
      "GPU available: True (cuda), used: True\n",
      "TPU available: False, using: 0 TPU cores\n",
      "IPU available: False, using: 0 IPUs\n",
      "HPU available: False, using: 0 HPUs\n",
      "/home/aron/.local/lib/python3.9/site-packages/pytorch_lightning/callbacks/model_checkpoint.py:616: UserWarning: Checkpoint directory /home/aron/BCM_activity_classification/checkpoints exists and is not empty.\n",
      "  rank_zero_warn(f\"Checkpoint directory {dirpath} exists and is not empty.\")\n",
      "Restoring states from the checkpoint path at checkpoints/latest_checkpoint-v2.ckpt\n"
     ]
    },
    {
     "name": "stdout",
     "output_type": "stream",
     "text": [
      "_____________________\n",
      "<class 'list'>\n",
      "_____________________\n",
      "Validation set\n",
      "bcm_behaviour_data_multi_subject/subject2/2022-11-09_14-34-16/0.npy\n",
      "bcm_behaviour_data_multi_subject/subject2/2022-11-09_14-34-16/1.npy\n",
      "bcm_behaviour_data_multi_subject/subject2/2022-11-09_14-34-16/2.npy\n",
      "bcm_behaviour_data_multi_subject/subject2/2022-11-09_14-34-16/3.npy\n",
      "bcm_behaviour_data_multi_subject/subject2/2022-11-09_14-34-16/4.npy\n",
      "Training set\n",
      "bcm_behaviour_data_multi_subject/subject2/2022-11-09_14-34-16/0.npy\n",
      "bcm_behaviour_data_multi_subject/subject2/2022-11-09_14-34-16/1.npy\n",
      "bcm_behaviour_data_multi_subject/subject2/2022-11-09_14-34-16/2.npy\n",
      "bcm_behaviour_data_multi_subject/subject2/2022-11-09_14-34-16/3.npy\n",
      "bcm_behaviour_data_multi_subject/subject2/2022-11-09_14-34-16/4.npy\n"
     ]
    },
    {
     "name": "stderr",
     "output_type": "stream",
     "text": [
      "LOCAL_RANK: 0 - CUDA_VISIBLE_DEVICES: [0,1]\n",
      "\n",
      "  | Name         | Type             | Params\n",
      "--------------------------------------------------\n",
      "0 | lstm         | LSTM             | 149 K \n",
      "1 | flatten      | Flatten          | 0     \n",
      "2 | fc           | Linear           | 1.3 K \n",
      "3 | output       | Sigmoid          | 0     \n",
      "4 | sm           | Softmax          | 0     \n",
      "5 | loss         | CrossEntropyLoss | 0     \n",
      "6 | accuracy     | Accuracy         | 0     \n",
      "7 | val_accuracy | Accuracy         | 0     \n",
      "--------------------------------------------------\n",
      "150 K     Trainable params\n",
      "0         Non-trainable params\n",
      "150 K     Total params\n",
      "0.603     Total estimated model params size (MB)\n",
      "Restored all states from the checkpoint file at checkpoints/latest_checkpoint-v2.ckpt\n"
     ]
    },
    {
     "data": {
      "application/vnd.jupyter.widget-view+json": {
       "model_id": "",
       "version_major": 2,
       "version_minor": 0
      },
      "text/plain": [
       "Sanity Checking: 0it [00:00, ?it/s]"
      ]
     },
     "metadata": {},
     "output_type": "display_data"
    },
    {
     "name": "stdout",
     "output_type": "stream",
     "text": [
      "{'progress_bar': {'val_loss': 1.6289300918579102}, 'log': {'val_loss': 1.6289300918579102}, 'val_loss': 1.6289300918579102}\n",
      "Accuracy: 0.140625\n"
     ]
    },
    {
     "data": {
      "application/vnd.jupyter.widget-view+json": {
       "model_id": "360d83045fa7400fa6eb24f54b2d0390",
       "version_major": 2,
       "version_minor": 0
      },
      "text/plain": [
       "Training: 892it [00:00, ?it/s]"
      ]
     },
     "metadata": {},
     "output_type": "display_data"
    },
    {
     "data": {
      "application/vnd.jupyter.widget-view+json": {
       "model_id": "",
       "version_major": 2,
       "version_minor": 0
      },
      "text/plain": [
       "Validation: 0it [00:00, ?it/s]"
      ]
     },
     "metadata": {},
     "output_type": "display_data"
    },
    {
     "name": "stdout",
     "output_type": "stream",
     "text": [
      "{'progress_bar': {'val_loss': 1.4423420429229736}, 'log': {'val_loss': 1.4423420429229736}, 'val_loss': 1.4423420429229736}\n",
      "Accuracy: 0.8752089142799377\n",
      "Accuracy: 0.811142086982727\n"
     ]
    },
    {
     "data": {
      "application/vnd.jupyter.widget-view+json": {
       "model_id": "",
       "version_major": 2,
       "version_minor": 0
      },
      "text/plain": [
       "Validation: 0it [00:00, ?it/s]"
      ]
     },
     "metadata": {},
     "output_type": "display_data"
    },
    {
     "name": "stdout",
     "output_type": "stream",
     "text": [
      "{'progress_bar': {'val_loss': 1.4410871267318726}, 'log': {'val_loss': 1.4410871267318726}, 'val_loss': 1.4410871267318726}\n",
      "Accuracy: 0.8776230216026306\n",
      "Accuracy: 0.8679665923118591\n"
     ]
    },
    {
     "data": {
      "application/vnd.jupyter.widget-view+json": {
       "model_id": "",
       "version_major": 2,
       "version_minor": 0
      },
      "text/plain": [
       "Validation: 0it [00:00, ?it/s]"
      ]
     },
     "metadata": {},
     "output_type": "display_data"
    },
    {
     "name": "stdout",
     "output_type": "stream",
     "text": [
      "{'progress_bar': {'val_loss': 1.4393187761306763}, 'log': {'val_loss': 1.4393187761306763}, 'val_loss': 1.4393187761306763}\n",
      "Accuracy: 0.8820798397064209\n",
      "Accuracy: 0.8891364932060242\n"
     ]
    },
    {
     "data": {
      "application/vnd.jupyter.widget-view+json": {
       "model_id": "",
       "version_major": 2,
       "version_minor": 0
      },
      "text/plain": [
       "Validation: 0it [00:00, ?it/s]"
      ]
     },
     "metadata": {},
     "output_type": "display_data"
    },
    {
     "name": "stdout",
     "output_type": "stream",
     "text": [
      "{'progress_bar': {'val_loss': 1.439154028892517}, 'log': {'val_loss': 1.439154028892517}, 'val_loss': 1.439154028892517}\n",
      "Accuracy: 0.88133704662323\n",
      "Accuracy: 0.9013927578926086\n"
     ]
    },
    {
     "data": {
      "application/vnd.jupyter.widget-view+json": {
       "model_id": "",
       "version_major": 2,
       "version_minor": 0
      },
      "text/plain": [
       "Validation: 0it [00:00, ?it/s]"
      ]
     },
     "metadata": {},
     "output_type": "display_data"
    },
    {
     "name": "stdout",
     "output_type": "stream",
     "text": [
      "{'progress_bar': {'val_loss': 1.4413809776306152}, 'log': {'val_loss': 1.4413809776306152}, 'val_loss': 1.4413809776306152}\n",
      "Accuracy: 0.8763231039047241\n",
      "Accuracy: 0.9002785682678223\n"
     ]
    },
    {
     "data": {
      "application/vnd.jupyter.widget-view+json": {
       "model_id": "",
       "version_major": 2,
       "version_minor": 0
      },
      "text/plain": [
       "Validation: 0it [00:00, ?it/s]"
      ]
     },
     "metadata": {},
     "output_type": "display_data"
    },
    {
     "name": "stdout",
     "output_type": "stream",
     "text": [
      "{'progress_bar': {'val_loss': 1.4399555921554565}, 'log': {'val_loss': 1.4399555921554565}, 'val_loss': 1.4399555921554565}\n",
      "Accuracy: 0.8798514604568481\n",
      "Accuracy: 0.9114205837249756\n"
     ]
    },
    {
     "name": "stderr",
     "output_type": "stream",
     "text": [
      "Error occurred during asynchronous operation processing: Cannot delete training/model/checkpoints/latest_checkpoint-v2: Attribute does not exist\n"
     ]
    },
    {
     "data": {
      "application/vnd.jupyter.widget-view+json": {
       "model_id": "",
       "version_major": 2,
       "version_minor": 0
      },
      "text/plain": [
       "Validation: 0it [00:00, ?it/s]"
      ]
     },
     "metadata": {},
     "output_type": "display_data"
    },
    {
     "name": "stdout",
     "output_type": "stream",
     "text": [
      "{'progress_bar': {'val_loss': 1.4385569095611572}, 'log': {'val_loss': 1.4385569095611572}, 'val_loss': 1.4385569095611572}\n",
      "Accuracy: 0.8852367401123047\n",
      "Accuracy: 0.9019498825073242\n"
     ]
    },
    {
     "data": {
      "application/vnd.jupyter.widget-view+json": {
       "model_id": "",
       "version_major": 2,
       "version_minor": 0
      },
      "text/plain": [
       "Validation: 0it [00:00, ?it/s]"
      ]
     },
     "metadata": {},
     "output_type": "display_data"
    },
    {
     "name": "stdout",
     "output_type": "stream",
     "text": [
      "{'progress_bar': {'val_loss': 1.4369964599609375}, 'log': {'val_loss': 1.4369964599609375}, 'val_loss': 1.4369964599609375}\n",
      "Accuracy: 0.8921077251434326\n",
      "Accuracy: 0.9247910976409912\n"
     ]
    },
    {
     "data": {
      "application/vnd.jupyter.widget-view+json": {
       "model_id": "",
       "version_major": 2,
       "version_minor": 0
      },
      "text/plain": [
       "Validation: 0it [00:00, ?it/s]"
      ]
     },
     "metadata": {},
     "output_type": "display_data"
    },
    {
     "name": "stdout",
     "output_type": "stream",
     "text": [
      "{'progress_bar': {'val_loss': 1.4391727447509766}, 'log': {'val_loss': 1.4391727447509766}, 'val_loss': 1.4391727447509766}\n",
      "Accuracy: 0.8843082785606384\n",
      "Accuracy: 0.9303621053695679\n"
     ]
    },
    {
     "name": "stderr",
     "output_type": "stream",
     "text": [
      "Error occurred during asynchronous operation processing: Cannot upload file /home/aron/BCM_activity_classification/checkpoints/latest_checkpoint-v2.ckpt: Path not found or is a not a file.\n",
      "Error occurred during asynchronous operation processing: Cannot delete training/model/checkpoints/latest_checkpoint: Attribute does not exist\n"
     ]
    },
    {
     "data": {
      "application/vnd.jupyter.widget-view+json": {
       "model_id": "",
       "version_major": 2,
       "version_minor": 0
      },
      "text/plain": [
       "Validation: 0it [00:00, ?it/s]"
      ]
     },
     "metadata": {},
     "output_type": "display_data"
    },
    {
     "name": "stdout",
     "output_type": "stream",
     "text": [
      "{'progress_bar': {'val_loss': 1.437662124633789}, 'log': {'val_loss': 1.437662124633789}, 'val_loss': 1.437662124633789}\n",
      "Accuracy: 0.8917363286018372\n",
      "Accuracy: 0.9337047338485718\n"
     ]
    },
    {
     "data": {
      "application/vnd.jupyter.widget-view+json": {
       "model_id": "",
       "version_major": 2,
       "version_minor": 0
      },
      "text/plain": [
       "Validation: 0it [00:00, ?it/s]"
      ]
     },
     "metadata": {},
     "output_type": "display_data"
    },
    {
     "name": "stdout",
     "output_type": "stream",
     "text": [
      "{'progress_bar': {'val_loss': 1.441048264503479}, 'log': {'val_loss': 1.441048264503479}, 'val_loss': 1.441048264503479}\n",
      "Accuracy: 0.877065896987915\n",
      "Accuracy: 0.9381615519523621\n"
     ]
    },
    {
     "data": {
      "application/vnd.jupyter.widget-view+json": {
       "model_id": "",
       "version_major": 2,
       "version_minor": 0
      },
      "text/plain": [
       "Validation: 0it [00:00, ?it/s]"
      ]
     },
     "metadata": {},
     "output_type": "display_data"
    },
    {
     "name": "stdout",
     "output_type": "stream",
     "text": [
      "{'progress_bar': {'val_loss': 1.4370012283325195}, 'log': {'val_loss': 1.4370012283325195}, 'val_loss': 1.4370012283325195}\n",
      "Accuracy: 0.8937790393829346\n",
      "Accuracy: 0.9403899908065796\n"
     ]
    },
    {
     "data": {
      "application/vnd.jupyter.widget-view+json": {
       "model_id": "",
       "version_major": 2,
       "version_minor": 0
      },
      "text/plain": [
       "Validation: 0it [00:00, ?it/s]"
      ]
     },
     "metadata": {},
     "output_type": "display_data"
    },
    {
     "name": "stderr",
     "output_type": "stream",
     "text": [
      "Error occurred during asynchronous operation processing: Cannot upload file /home/aron/BCM_activity_classification/checkpoints/latest_checkpoint.ckpt: Path not found or is a not a file.\n",
      "Error occurred during asynchronous operation processing: Cannot delete training/model/checkpoints/latest_checkpoint: Attribute does not exist\n"
     ]
    },
    {
     "name": "stdout",
     "output_type": "stream",
     "text": [
      "{'progress_bar': {'val_loss': 1.438189148902893}, 'log': {'val_loss': 1.438189148902893}, 'val_loss': 1.438189148902893}\n",
      "Accuracy: 0.892293393611908\n",
      "Accuracy: 0.9437326192855835\n"
     ]
    },
    {
     "data": {
      "application/vnd.jupyter.widget-view+json": {
       "model_id": "",
       "version_major": 2,
       "version_minor": 0
      },
      "text/plain": [
       "Validation: 0it [00:00, ?it/s]"
      ]
     },
     "metadata": {},
     "output_type": "display_data"
    },
    {
     "name": "stdout",
     "output_type": "stream",
     "text": [
      "{'progress_bar': {'val_loss': 1.4387954473495483}, 'log': {'val_loss': 1.4387954473495483}, 'val_loss': 1.4387954473495483}\n",
      "Accuracy: 0.8904364109039307\n",
      "Accuracy: 0.9454038739204407\n"
     ]
    },
    {
     "data": {
      "application/vnd.jupyter.widget-view+json": {
       "model_id": "",
       "version_major": 2,
       "version_minor": 0
      },
      "text/plain": [
       "Validation: 0it [00:00, ?it/s]"
      ]
     },
     "metadata": {},
     "output_type": "display_data"
    },
    {
     "name": "stdout",
     "output_type": "stream",
     "text": [
      "{'progress_bar': {'val_loss': 1.4382727146148682}, 'log': {'val_loss': 1.4382727146148682}, 'val_loss': 1.4382727146148682}\n",
      "Accuracy: 0.890622079372406\n",
      "Accuracy: 0.9409470558166504\n"
     ]
    },
    {
     "data": {
      "application/vnd.jupyter.widget-view+json": {
       "model_id": "",
       "version_major": 2,
       "version_minor": 0
      },
      "text/plain": [
       "Validation: 0it [00:00, ?it/s]"
      ]
     },
     "metadata": {},
     "output_type": "display_data"
    },
    {
     "name": "stderr",
     "output_type": "stream",
     "text": [
      "Error occurred during asynchronous operation processing: Cannot delete training/model/checkpoints/latest_checkpoint-v2: Attribute does not exist\n"
     ]
    },
    {
     "name": "stdout",
     "output_type": "stream",
     "text": [
      "{'progress_bar': {'val_loss': 1.439329743385315}, 'log': {'val_loss': 1.439329743385315}, 'val_loss': 1.439329743385315}\n",
      "Accuracy: 0.8891364932060242\n",
      "Accuracy: 0.9420613050460815\n"
     ]
    },
    {
     "data": {
      "application/vnd.jupyter.widget-view+json": {
       "model_id": "",
       "version_major": 2,
       "version_minor": 0
      },
      "text/plain": [
       "Validation: 0it [00:00, ?it/s]"
      ]
     },
     "metadata": {},
     "output_type": "display_data"
    },
    {
     "name": "stdout",
     "output_type": "stream",
     "text": [
      "{'progress_bar': {'val_loss': 1.4377230405807495}, 'log': {'val_loss': 1.4377230405807495}, 'val_loss': 1.4377230405807495}\n",
      "Accuracy: 0.8904364109039307\n",
      "Accuracy: 0.9465181231498718\n"
     ]
    },
    {
     "data": {
      "application/vnd.jupyter.widget-view+json": {
       "model_id": "",
       "version_major": 2,
       "version_minor": 0
      },
      "text/plain": [
       "Validation: 0it [00:00, ?it/s]"
      ]
     },
     "metadata": {},
     "output_type": "display_data"
    },
    {
     "name": "stdout",
     "output_type": "stream",
     "text": [
      "{'progress_bar': {'val_loss': 1.4372014999389648}, 'log': {'val_loss': 1.4372014999389648}, 'val_loss': 1.4372014999389648}\n",
      "Accuracy: 0.8950788974761963\n",
      "Accuracy: 0.9532033205032349\n"
     ]
    },
    {
     "data": {
      "application/vnd.jupyter.widget-view+json": {
       "model_id": "",
       "version_major": 2,
       "version_minor": 0
      },
      "text/plain": [
       "Validation: 0it [00:00, ?it/s]"
      ]
     },
     "metadata": {},
     "output_type": "display_data"
    },
    {
     "name": "stdout",
     "output_type": "stream",
     "text": [
      "{'progress_bar': {'val_loss': 1.4386909008026123}, 'log': {'val_loss': 1.4386909008026123}, 'val_loss': 1.4386909008026123}\n",
      "Accuracy: 0.8876509070396423\n",
      "Accuracy: 0.961002767086029\n"
     ]
    },
    {
     "data": {
      "application/vnd.jupyter.widget-view+json": {
       "model_id": "",
       "version_major": 2,
       "version_minor": 0
      },
      "text/plain": [
       "Validation: 0it [00:00, ?it/s]"
      ]
     },
     "metadata": {},
     "output_type": "display_data"
    },
    {
     "name": "stdout",
     "output_type": "stream",
     "text": [
      "{'progress_bar': {'val_loss': 1.437795639038086}, 'log': {'val_loss': 1.437795639038086}, 'val_loss': 1.437795639038086}\n",
      "Accuracy: 0.8913649320602417\n",
      "Accuracy: 0.9571030735969543\n"
     ]
    },
    {
     "data": {
      "application/vnd.jupyter.widget-view+json": {
       "model_id": "",
       "version_major": 2,
       "version_minor": 0
      },
      "text/plain": [
       "Validation: 0it [00:00, ?it/s]"
      ]
     },
     "metadata": {},
     "output_type": "display_data"
    },
    {
     "name": "stdout",
     "output_type": "stream",
     "text": [
      "{'progress_bar': {'val_loss': 1.4381507635116577}, 'log': {'val_loss': 1.4381507635116577}, 'val_loss': 1.4381507635116577}\n",
      "Accuracy: 0.8917363286018372\n",
      "Accuracy: 0.9504178166389465\n"
     ]
    },
    {
     "data": {
      "application/vnd.jupyter.widget-view+json": {
       "model_id": "",
       "version_major": 2,
       "version_minor": 0
      },
      "text/plain": [
       "Validation: 0it [00:00, ?it/s]"
      ]
     },
     "metadata": {},
     "output_type": "display_data"
    },
    {
     "name": "stderr",
     "output_type": "stream",
     "text": [
      "Error occurred during asynchronous operation processing: Cannot upload file /home/aron/BCM_activity_classification/checkpoints/latest_checkpoint-v2.ckpt: Path not found or is a not a file.\n",
      "Error occurred during asynchronous operation processing: Cannot delete training/model/checkpoints/latest_checkpoint-v2: Attribute does not exist\n"
     ]
    },
    {
     "name": "stdout",
     "output_type": "stream",
     "text": [
      "{'progress_bar': {'val_loss': 1.4372844696044922}, 'log': {'val_loss': 1.4372844696044922}, 'val_loss': 1.4372844696044922}\n",
      "Accuracy: 0.8930361866950989\n",
      "Accuracy: 0.9532033205032349\n"
     ]
    },
    {
     "data": {
      "application/vnd.jupyter.widget-view+json": {
       "model_id": "",
       "version_major": 2,
       "version_minor": 0
      },
      "text/plain": [
       "Validation: 0it [00:00, ?it/s]"
      ]
     },
     "metadata": {},
     "output_type": "display_data"
    },
    {
     "name": "stdout",
     "output_type": "stream",
     "text": [
      "{'progress_bar': {'val_loss': 1.4373140335083008}, 'log': {'val_loss': 1.4373140335083008}, 'val_loss': 1.4373140335083008}\n",
      "Accuracy: 0.8960074186325073\n",
      "Accuracy: 0.9571030735969543\n"
     ]
    },
    {
     "data": {
      "application/vnd.jupyter.widget-view+json": {
       "model_id": "",
       "version_major": 2,
       "version_minor": 0
      },
      "text/plain": [
       "Validation: 0it [00:00, ?it/s]"
      ]
     },
     "metadata": {},
     "output_type": "display_data"
    },
    {
     "name": "stdout",
     "output_type": "stream",
     "text": [
      "{'progress_bar': {'val_loss': 1.4383440017700195}, 'log': {'val_loss': 1.4383440017700195}, 'val_loss': 1.4383440017700195}\n",
      "Accuracy: 0.891550600528717\n",
      "Accuracy: 0.9615598917007446\n"
     ]
    },
    {
     "data": {
      "application/vnd.jupyter.widget-view+json": {
       "model_id": "",
       "version_major": 2,
       "version_minor": 0
      },
      "text/plain": [
       "Validation: 0it [00:00, ?it/s]"
      ]
     },
     "metadata": {},
     "output_type": "display_data"
    },
    {
     "name": "stderr",
     "output_type": "stream",
     "text": [
      "Error occurred during asynchronous operation processing: Cannot delete training/model/checkpoints/latest_checkpoint: Attribute does not exist\n"
     ]
    },
    {
     "name": "stdout",
     "output_type": "stream",
     "text": [
      "{'progress_bar': {'val_loss': 1.4384630918502808}, 'log': {'val_loss': 1.4384630918502808}, 'val_loss': 1.4384630918502808}\n",
      "Accuracy: 0.8913649320602417\n",
      "Accuracy: 0.964345395565033\n"
     ]
    },
    {
     "data": {
      "application/vnd.jupyter.widget-view+json": {
       "model_id": "",
       "version_major": 2,
       "version_minor": 0
      },
      "text/plain": [
       "Validation: 0it [00:00, ?it/s]"
      ]
     },
     "metadata": {},
     "output_type": "display_data"
    },
    {
     "name": "stdout",
     "output_type": "stream",
     "text": [
      "{'progress_bar': {'val_loss': 1.4370781183242798}, 'log': {'val_loss': 1.4370781183242798}, 'val_loss': 1.4370781183242798}\n",
      "Accuracy: 0.8971216082572937\n",
      "Accuracy: 0.962674081325531\n"
     ]
    },
    {
     "data": {
      "application/vnd.jupyter.widget-view+json": {
       "model_id": "",
       "version_major": 2,
       "version_minor": 0
      },
      "text/plain": [
       "Validation: 0it [00:00, ?it/s]"
      ]
     },
     "metadata": {},
     "output_type": "display_data"
    },
    {
     "name": "stdout",
     "output_type": "stream",
     "text": [
      "{'progress_bar': {'val_loss': 1.4380793571472168}, 'log': {'val_loss': 1.4380793571472168}, 'val_loss': 1.4380793571472168}\n",
      "Accuracy: 0.895821750164032\n",
      "Accuracy: 0.9632312059402466\n"
     ]
    },
    {
     "data": {
      "application/vnd.jupyter.widget-view+json": {
       "model_id": "",
       "version_major": 2,
       "version_minor": 0
      },
      "text/plain": [
       "Validation: 0it [00:00, ?it/s]"
      ]
     },
     "metadata": {},
     "output_type": "display_data"
    },
    {
     "name": "stderr",
     "output_type": "stream",
     "text": [
      "Error occurred during asynchronous operation processing: Cannot delete training/model/checkpoints/latest_checkpoint-v2: Attribute does not exist\n"
     ]
    },
    {
     "name": "stdout",
     "output_type": "stream",
     "text": [
      "{'progress_bar': {'val_loss': 1.4375181198120117}, 'log': {'val_loss': 1.4375181198120117}, 'val_loss': 1.4375181198120117}\n",
      "Accuracy: 0.8961931467056274\n",
      "Accuracy: 0.9660167098045349\n"
     ]
    },
    {
     "data": {
      "application/vnd.jupyter.widget-view+json": {
       "model_id": "",
       "version_major": 2,
       "version_minor": 0
      },
      "text/plain": [
       "Validation: 0it [00:00, ?it/s]"
      ]
     },
     "metadata": {},
     "output_type": "display_data"
    },
    {
     "name": "stdout",
     "output_type": "stream",
     "text": [
      "{'progress_bar': {'val_loss': 1.4373152256011963}, 'log': {'val_loss': 1.4373152256011963}, 'val_loss': 1.4373152256011963}\n",
      "Accuracy: 0.8961931467056274\n",
      "Accuracy: 0.9660167098045349\n"
     ]
    },
    {
     "data": {
      "application/vnd.jupyter.widget-view+json": {
       "model_id": "",
       "version_major": 2,
       "version_minor": 0
      },
      "text/plain": [
       "Validation: 0it [00:00, ?it/s]"
      ]
     },
     "metadata": {},
     "output_type": "display_data"
    },
    {
     "name": "stdout",
     "output_type": "stream",
     "text": [
      "{'progress_bar': {'val_loss': 1.4388091564178467}, 'log': {'val_loss': 1.4388091564178467}, 'val_loss': 1.4388091564178467}\n",
      "Accuracy: 0.8928505182266235\n",
      "Accuracy: 0.9671308994293213\n"
     ]
    },
    {
     "data": {
      "application/vnd.jupyter.widget-view+json": {
       "model_id": "",
       "version_major": 2,
       "version_minor": 0
      },
      "text/plain": [
       "Validation: 0it [00:00, ?it/s]"
      ]
     },
     "metadata": {},
     "output_type": "display_data"
    },
    {
     "name": "stdout",
     "output_type": "stream",
     "text": [
      "{'progress_bar': {'val_loss': 1.437551498413086}, 'log': {'val_loss': 1.437551498413086}, 'val_loss': 1.437551498413086}\n",
      "Accuracy: 0.8971216082572937\n",
      "Accuracy: 0.9671308994293213\n"
     ]
    },
    {
     "name": "stderr",
     "output_type": "stream",
     "text": [
      "Error occurred during asynchronous operation processing: Cannot delete training/model/checkpoints/latest_checkpoint: Attribute does not exist\n"
     ]
    },
    {
     "data": {
      "application/vnd.jupyter.widget-view+json": {
       "model_id": "",
       "version_major": 2,
       "version_minor": 0
      },
      "text/plain": [
       "Validation: 0it [00:00, ?it/s]"
      ]
     },
     "metadata": {},
     "output_type": "display_data"
    },
    {
     "name": "stdout",
     "output_type": "stream",
     "text": [
      "{'progress_bar': {'val_loss': 1.4371505975723267}, 'log': {'val_loss': 1.4371505975723267}, 'val_loss': 1.4371505975723267}\n",
      "Accuracy: 0.8971216082572937\n",
      "Accuracy: 0.9671308994293213\n"
     ]
    },
    {
     "data": {
      "application/vnd.jupyter.widget-view+json": {
       "model_id": "",
       "version_major": 2,
       "version_minor": 0
      },
      "text/plain": [
       "Validation: 0it [00:00, ?it/s]"
      ]
     },
     "metadata": {},
     "output_type": "display_data"
    },
    {
     "name": "stdout",
     "output_type": "stream",
     "text": [
      "{'progress_bar': {'val_loss': 1.4370018243789673}, 'log': {'val_loss': 1.4370018243789673}, 'val_loss': 1.4370018243789673}\n",
      "Accuracy: 0.8974930644035339\n",
      "Accuracy: 0.9682451486587524\n"
     ]
    },
    {
     "data": {
      "application/vnd.jupyter.widget-view+json": {
       "model_id": "",
       "version_major": 2,
       "version_minor": 0
      },
      "text/plain": [
       "Validation: 0it [00:00, ?it/s]"
      ]
     },
     "metadata": {},
     "output_type": "display_data"
    },
    {
     "name": "stdout",
     "output_type": "stream",
     "text": [
      "{'progress_bar': {'val_loss': 1.438000202178955}, 'log': {'val_loss': 1.438000202178955}, 'val_loss': 1.438000202178955}\n",
      "Accuracy: 0.89415043592453\n",
      "Accuracy: 0.9676880240440369\n"
     ]
    },
    {
     "name": "stderr",
     "output_type": "stream",
     "text": [
      "Error occurred during asynchronous operation processing: Cannot upload file /home/aron/BCM_activity_classification/checkpoints/latest_checkpoint.ckpt: Path not found or is a not a file.\n",
      "Error occurred during asynchronous operation processing: Cannot delete training/model/checkpoints/latest_checkpoint: Attribute does not exist\n"
     ]
    },
    {
     "data": {
      "application/vnd.jupyter.widget-view+json": {
       "model_id": "",
       "version_major": 2,
       "version_minor": 0
      },
      "text/plain": [
       "Validation: 0it [00:00, ?it/s]"
      ]
     },
     "metadata": {},
     "output_type": "display_data"
    },
    {
     "name": "stdout",
     "output_type": "stream",
     "text": [
      "{'progress_bar': {'val_loss': 1.4380604028701782}, 'log': {'val_loss': 1.4380604028701782}, 'val_loss': 1.4380604028701782}\n",
      "Accuracy: 0.8943361043930054\n",
      "Accuracy: 0.9688022136688232\n"
     ]
    },
    {
     "data": {
      "application/vnd.jupyter.widget-view+json": {
       "model_id": "",
       "version_major": 2,
       "version_minor": 0
      },
      "text/plain": [
       "Validation: 0it [00:00, ?it/s]"
      ]
     },
     "metadata": {},
     "output_type": "display_data"
    },
    {
     "name": "stdout",
     "output_type": "stream",
     "text": [
      "{'progress_bar': {'val_loss': 1.4388337135314941}, 'log': {'val_loss': 1.4388337135314941}, 'val_loss': 1.4388337135314941}\n",
      "Accuracy: 0.8893221616744995\n",
      "Accuracy: 0.962674081325531\n"
     ]
    },
    {
     "data": {
      "application/vnd.jupyter.widget-view+json": {
       "model_id": "",
       "version_major": 2,
       "version_minor": 0
      },
      "text/plain": [
       "Validation: 0it [00:00, ?it/s]"
      ]
     },
     "metadata": {},
     "output_type": "display_data"
    },
    {
     "name": "stdout",
     "output_type": "stream",
     "text": [
      "{'progress_bar': {'val_loss': 1.4395543336868286}, 'log': {'val_loss': 1.4395543336868286}, 'val_loss': 1.4395543336868286}\n",
      "Accuracy: 0.888950765132904\n",
      "Accuracy: 0.962674081325531\n"
     ]
    },
    {
     "data": {
      "application/vnd.jupyter.widget-view+json": {
       "model_id": "",
       "version_major": 2,
       "version_minor": 0
      },
      "text/plain": [
       "Validation: 0it [00:00, ?it/s]"
      ]
     },
     "metadata": {},
     "output_type": "display_data"
    },
    {
     "name": "stderr",
     "output_type": "stream",
     "text": [
      "Error occurred during asynchronous operation processing: Cannot delete training/model/checkpoints/latest_checkpoint-v2: Attribute does not exist\n"
     ]
    },
    {
     "name": "stdout",
     "output_type": "stream",
     "text": [
      "{'progress_bar': {'val_loss': 1.4385360479354858}, 'log': {'val_loss': 1.4385360479354858}, 'val_loss': 1.4385360479354858}\n",
      "Accuracy: 0.8865366578102112\n",
      "Accuracy: 0.9465181231498718\n"
     ]
    },
    {
     "data": {
      "application/vnd.jupyter.widget-view+json": {
       "model_id": "",
       "version_major": 2,
       "version_minor": 0
      },
      "text/plain": [
       "Validation: 0it [00:00, ?it/s]"
      ]
     },
     "metadata": {},
     "output_type": "display_data"
    },
    {
     "name": "stdout",
     "output_type": "stream",
     "text": [
      "{'progress_bar': {'val_loss': 1.4398865699768066}, 'log': {'val_loss': 1.4398865699768066}, 'val_loss': 1.4398865699768066}\n",
      "Accuracy: 0.8870937824249268\n",
      "Accuracy: 0.9582172632217407\n"
     ]
    },
    {
     "data": {
      "application/vnd.jupyter.widget-view+json": {
       "model_id": "",
       "version_major": 2,
       "version_minor": 0
      },
      "text/plain": [
       "Validation: 0it [00:00, ?it/s]"
      ]
     },
     "metadata": {},
     "output_type": "display_data"
    },
    {
     "name": "stderr",
     "output_type": "stream",
     "text": [
      "`Trainer.fit` stopped: `max_epochs=80` reached.\n"
     ]
    },
    {
     "name": "stdout",
     "output_type": "stream",
     "text": [
      "{'progress_bar': {'val_loss': 1.4401581287384033}, 'log': {'val_loss': 1.4401581287384033}, 'val_loss': 1.4401581287384033}\n",
      "Accuracy: 0.8872794508934021\n",
      "Accuracy: 0.9660167098045349\n"
     ]
    },
    {
     "name": "stderr",
     "output_type": "stream",
     "text": [
      "/home/aron/.local/lib/python3.9/site-packages/torch/jit/_recursive.py:621: LightningDeprecationWarning: `LightningModule.use_amp` was deprecated in v1.6 and will be removed in v1.8. Please use `Trainer.amp_backend`.\n",
      "  item = getattr(mod, name, None)\n",
      "/home/aron/.local/lib/python3.9/site-packages/torch/jit/_recursive.py:708: LightningDeprecationWarning: `LightningModule.use_amp` was deprecated in v1.6 and will be removed in v1.8. Please use `Trainer.amp_backend`.\n",
      "  item = getattr(nn_module, name, None)\n"
     ]
    },
    {
     "name": "stdout",
     "output_type": "stream",
     "text": [
      "Shutting down background jobs, please wait a moment...\n",
      "Done!\n"
     ]
    },
    {
     "name": "stderr",
     "output_type": "stream",
     "text": [
      "/home/aron/.local/lib/python3.9/site-packages/torch/jit/_recursive.py:508: LightningDeprecationWarning: `LightningModule.use_amp` was deprecated in v1.6 and will be removed in v1.8. Please use `Trainer.amp_backend`.\n",
      "  item = getattr(nn_module, name, None)\n",
      "/home/aron/.local/lib/python3.9/site-packages/torch/jit/_recursive.py:591: LightningDeprecationWarning: `LightningModule.use_amp` was deprecated in v1.6 and will be removed in v1.8. Please use `Trainer.amp_backend`.\n",
      "  item = getattr(nn_module, name, None)\n",
      "Waiting for the remaining 64 operations to synchronize with Neptune. Do not kill this process.\n",
      "Error occurred during asynchronous operation processing: Cannot delete training/model/checkpoints/latest_checkpoint: Attribute does not exist\n"
     ]
    },
    {
     "name": "stdout",
     "output_type": "stream",
     "text": [
      "All 64 operations synced, thanks for waiting!\n"
     ]
    }
   ],
   "source": [
    "seed = 555\n",
    "seed_everything(seed)\n",
    "    \n",
    "neptune_logger = NeptuneLogger(\n",
    "    project=\"NTLAB/BCM-activity-classification\",\n",
    "    api_token=\"eyJhcGlfYWRkcmVzcyI6Imh0dHBzOi8vYXBwLm5lcHR1bmUuYWkiLCJhcGlfdXJsIjoiaHR0cHM6Ly9hcHAubmVwdHVuZS5haSIsImFwaV9rZXkiOiIxYTA4NzcxMy1lYmQ2LTQ3NTctYjRhNC02Mzk1NjdjMWM0NmYifQ==\",\n",
    "    source_files=[\"train_model.ipynb\", \"model.py\", \"BCM_dataset_v2.py\"]\n",
    ")\n",
    "\n",
    "checkpoint_callback = ModelCheckpoint(dirpath = 'checkpoints/', filename = 'latest_checkpoint')\n",
    "\n",
    "model = LSTM_Model(ft_datasets[1], window_size = 3, stride = 1 ,lstm_hidden_size = 128, seed = seed, temporal_cutout = False)\n",
    "\n",
    "trainer = Trainer(max_epochs=40, \n",
    "                min_epochs=1, \n",
    "                auto_lr_find=False, \n",
    "                auto_scale_batch_size=False,\n",
    "                enable_checkpointing=True, \n",
    "                accelerator=\"gpu\", \n",
    "                devices = 1, \n",
    "                logger=neptune_logger,\n",
    "                callbacks = [checkpoint_callback])\n",
    "trainer.tune(model)\n",
    "trainer.fit(model)\n",
    "        \n",
    "neptune_logger.experiment[\"metadata/augmentation\"].log(\"best\")\n",
    "\n",
    "# Find the latest checkpoint\n",
    "list_of_checkpoints = glob.glob('checkpoints/*') \n",
    "latest_checkpoint = max(list_of_checkpoints, key = os.path.getctime) \n",
    "print(latest_checkpoint) # Sanity check\n",
    "    \n",
    "    \n",
    "    \n",
    "trainer_finetune = Trainer(max_epochs=80, \n",
    "                    min_epochs=100, \n",
    "                    auto_lr_find=False, \n",
    "                    auto_scale_batch_size=False,\n",
    "                    enable_checkpointing=True, \n",
    "                    accelerator=\"gpu\", \n",
    "                    devices = 1, \n",
    "                    logger=neptune_logger,\n",
    "                    callbacks = [checkpoint_callback])\n",
    "trainer_finetune.tune(model)\n",
    "    \n",
    "# Create a dataloader from the new subject specific data\n",
    "\n",
    "dataset = ft_datasets[1]\n",
    "\n",
    "dataset_finetune, _ = concat_train_test_datasets([dataset[2],dataset[2]], window_size = 3, stride = 1)\n",
    "    \n",
    "neptune_logger.experiment[\"metadata/train_set_length\"].log(len(dataset_finetune))\n",
    "    \n",
    "finetuning_dataloader = DataLoader(dataset_finetune, batch_size=32, shuffle=True, num_workers = 8)\n",
    "    \n",
    "trainer_finetune.fit(model, finetuning_dataloader, ckpt_path=latest_checkpoint)\n",
    "        \n",
    "        \n",
    "model_scripted = torch.jit.script(model) # Export to TorchScript\n",
    "model_scripted.save(f\"trained_models/ft_final_ft_file_2022-11-09_14-34-16\") # Save\n",
    "        \n",
    "        \n",
    "# Stop logging\n",
    "neptune_logger.experiment.stop()\n",
    "        "
   ]
  },
  {
   "cell_type": "raw",
   "metadata": {},
   "source": [
    "\n",
    "for dataset in loso_datasets:\n",
    "    for seed in range(1):\n",
    "    \n",
    "        seed = 555\n",
    "        seed_everything(seed)\n",
    "    \n",
    "        neptune_logger = NeptuneLogger(\n",
    "            project=\"NTLAB/BCM-activity-classification\",\n",
    "            api_token=\"eyJhcGlfYWRkcmVzcyI6Imh0dHBzOi8vYXBwLm5lcHR1bmUuYWkiLCJhcGlfdXJsIjoiaHR0cHM6Ly9hcHAubmVwdHVuZS5haSIsImFwaV9rZXkiOiIxYTA4NzcxMy1lYmQ2LTQ3NTctYjRhNC02Mzk1NjdjMWM0NmYifQ==\",\n",
    "            source_files=[\"train_model.ipynb\", \"model.py\", \"BCM_dataset_v2.py\"]\n",
    "        )\n",
    "\n",
    "        model = LSTM_Model(dataset, window_size = 3, stride = 1 ,lstm_hidden_size = 128, seed = seed, temporal_cutout = False)\n",
    "\n",
    "        trainer = Trainer(max_epochs=40, \n",
    "                        min_epochs=1, \n",
    "                        auto_lr_find=False, \n",
    "                        auto_scale_batch_size=False,\n",
    "                        enable_checkpointing=False, \n",
    "                        accelerator=\"gpu\", \n",
    "                        devices = 1, \n",
    "                        logger=neptune_logger)\n",
    "        trainer.tune(model)\n",
    "        trainer.fit(model)\n",
    "        \n",
    "        neptune_logger.experiment[\"metadata/augmentation\"].log(\"best\")\n",
    "        \n",
    "        \n",
    "        model_scripted = torch.jit.script(model) # Export to TorchScript\n",
    "        model_scripted.save(f\"trained_models/final_loso_val_subject{subject_num}\") # Save\n",
    "        \n",
    "        \n",
    "        # Stop logging\n",
    "        neptune_logger.experiment.stop()\n",
    "        \n",
    "        "
   ]
  },
  {
   "cell_type": "raw",
   "metadata": {},
   "source": [
    "# Fine-tuning model\n",
    "\n",
    "for dataset in ft_datasets:\n",
    "    seed = 100\n",
    "    seed_everything(seed)\n",
    "    \n",
    "    neptune_logger = NeptuneLogger(\n",
    "        project=\"NTLAB/BCM-activity-classification\",\n",
    "        api_token=\"eyJhcGlfYWRkcmVzcyI6Imh0dHBzOi8vYXBwLm5lcHR1bmUuYWkiLCJhcGlfdXJsIjoiaHR0cHM6Ly9hcHAubmVwdHVuZS5haSIsImFwaV9rZXkiOiIxYTA4NzcxMy1lYmQ2LTQ3NTctYjRhNC02Mzk1NjdjMWM0NmYifQ==\",\n",
    "        source_files=[\"train_model.ipynb\", \"model.py\", \"BCM_dataset_v2.py\"]\n",
    "    )\n",
    "    \n",
    "    checkpoint_callback = ModelCheckpoint(dirpath = 'checkpoints/', filename = 'latest_checkpoint')\n",
    "\n",
    "    model = LSTM_Model(dataset, window_size = 3, stride = 1 ,lstm_hidden_size = 128, seed = seed)\n",
    "\n",
    "    trainer = Trainer(max_epochs=40, \n",
    "                    min_epochs=1, \n",
    "                    auto_lr_find=False, \n",
    "                    auto_scale_batch_size=False,\n",
    "                    enable_checkpointing=True, \n",
    "                    accelerator=\"gpu\", \n",
    "                    devices = 1, \n",
    "                    logger=neptune_logger,\n",
    "                    callbacks = [checkpoint_callback])\n",
    "    trainer.tune(model)\n",
    "    trainer.fit(model)\n",
    "    \n",
    "    # Find the latest checkpoint\n",
    "    list_of_checkpoints = glob.glob('checkpoints/*') \n",
    "    latest_checkpoint = max(list_of_checkpoints, key = os.path.getctime) \n",
    "    print(latest_checkpoint) # Sanity check\n",
    "    \n",
    "    \n",
    "    \n",
    "    trainer_finetune = Trainer(max_epochs=80, \n",
    "                    min_epochs=100, \n",
    "                    auto_lr_find=False, \n",
    "                    auto_scale_batch_size=False,\n",
    "                    enable_checkpointing=False, \n",
    "                    accelerator=\"gpu\", \n",
    "                    devices = 1, \n",
    "                    logger=neptune_logger)\n",
    "    trainer_finetune.tune(model)\n",
    "    \n",
    "    # Create a dataloader from the new subject specific data\n",
    "    dataset_finetune, _ = concat_train_test_datasets([dataset[2],dataset[2]], window_size = 3, stride = 1)\n",
    "    \n",
    "    neptune_logger.experiment[\"metadata/train_set_length\"].log(len(dataset_finetune))\n",
    "    \n",
    "    finetuning_dataloader = DataLoader(dataset_finetune, batch_size=32, shuffle=True, num_workers = 8)\n",
    "    \n",
    "    trainer_finetune.fit(model, finetuning_dataloader, ckpt_path=latest_checkpoint)\n",
    "    \n",
    "    \n",
    "    model_scripted = torch.jit.script(model) # Export to TorchScript\n",
    "    model_scripted.save(f\"trained_models/ft_model_val_subject_1_ft_file_2022-09-20_15-38-11\") # Save\n",
    "    \n",
    "    # Stop logging\n",
    "    neptune_logger.experiment.stop()"
   ]
  },
  {
   "cell_type": "code",
   "execution_count": 4,
   "metadata": {},
   "outputs": [],
   "source": [
    "\n",
    "\n",
    "#model_scripted = torch.jit.script(model) # Export to TorchScript\n",
    "#model_scripted.save(\"trained_models/oct_31\") # Save"
   ]
  }
 ],
 "metadata": {
  "kernelspec": {
   "display_name": "Python 3 (ipykernel)",
   "language": "python",
   "name": "python3"
  },
  "language_info": {
   "codemirror_mode": {
    "name": "ipython",
    "version": 3
   },
   "file_extension": ".py",
   "mimetype": "text/x-python",
   "name": "python",
   "nbconvert_exporter": "python",
   "pygments_lexer": "ipython3",
   "version": "3.9.12"
  },
  "vscode": {
   "interpreter": {
    "hash": "8a5edab282632443219e051e4ade2d1d5bbc671c781051bf1437897cbdfea0f1"
   }
  }
 },
 "nbformat": 4,
 "nbformat_minor": 4
}
