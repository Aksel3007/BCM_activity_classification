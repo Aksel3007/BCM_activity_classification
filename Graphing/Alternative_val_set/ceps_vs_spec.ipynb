{
 "cells": [
  {
   "cell_type": "code",
   "execution_count": 3,
   "metadata": {},
   "outputs": [],
   "source": [
    "import glob\n",
    "import pandas as pd\n",
    "import matplotlib.pyplot as plt"
   ]
  },
  {
   "cell_type": "code",
   "execution_count": 7,
   "metadata": {},
   "outputs": [
    {
     "name": "stdout",
     "output_type": "stream",
     "text": [
      "Index(['Id', 'Creation Time', 'Owner', 'Val acc (last)', 'Window (s) (last)',\n",
      "       'lstm_hidden_size (last)', 'metadata/weight_decay (last)', 'LR (last)',\n",
      "       'Monitoring Time', 'training/val_acc_epoch (max)',\n",
      "       'metadata/occlusion (average)', 'Epoch (last)',\n",
      "       'metadata/lstm_layers (last)', 'metadata/stride (average)',\n",
      "       'metadata/seed (last)', 'metadata/file_path'],\n",
      "      dtype='object')\n"
     ]
    },
    {
     "data": {
      "image/png": "[encoded data removed]",
      "text/plain": [
       "<Figure size 576x432 with 1 Axes>"
      ]
     },
     "metadata": {
      "needs_background": "light"
     },
     "output_type": "display_data"
    }
   ],
   "source": [
    "hs_csv = pd.read_csv(\"BCM-activity-classification(2).csv\")\n",
    "\n",
    "# List the keys in the csv file\n",
    "print(hs_csv.keys())\n",
    "\n",
    "# Separate into 5 different dataframes\n",
    "ceps = hs_csv[hs_csv['metadata/file_path'] == \"data/bcm/\"] # cepstral\n",
    "spec = hs_csv[hs_csv['metadata/file_path'] == \"data/bcm_spectrograms/\"] # spectrogram\n",
    "\n",
    "# Plot the boxplot\n",
    "# Set the figure size\n",
    "plt.figure(figsize=(8, 6))\n",
    "\n",
    "# Create the boxplot\n",
    "plt.boxplot([spec['training/val_acc_epoch (max)']*100, ceps['training/val_acc_epoch (max)']*100], labels=['Mel-spectrogram', 'MFCC'], widths=0.6)\n",
    "\n",
    "# Add title and axis names\n",
    "plt.title('Spectrogram vs MFCC')\n",
    "plt.ylabel('Validation Accuracy (%)')\n",
    "plt.xlabel('Preprocessing')\n",
    "\n",
    "plt.show()\n"
   ]
  }
 ],
 "metadata": {
  "kernelspec": {
   "display_name": "Python 3.9.13 64-bit (microsoft store)",
   "language": "python",
   "name": "python3"
  },
  "language_info": {
   "codemirror_mode": {
    "name": "ipython",
    "version": 3
   },
   "file_extension": ".py",
   "mimetype": "text/x-python",
   "name": "python",
   "nbconvert_exporter": "python",
   "pygments_lexer": "ipython3",
   "version": "3.9.13"
  },
  "orig_nbformat": 4,
  "vscode": {
   "interpreter": {
    "hash": "e6848c120d0a9aa3672e78bcd909e87169c882c06b3afbb00ae4a3da7ec7a7fc"
   }
  }
 },
 "nbformat": 4,
 "nbformat_minor": 2
}
