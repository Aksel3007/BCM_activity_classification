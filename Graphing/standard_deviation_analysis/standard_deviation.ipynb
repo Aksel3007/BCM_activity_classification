{
 "cells": [
  {
   "cell_type": "code",
   "execution_count": 7,
   "metadata": {},
   "outputs": [],
   "source": [
    "import glob\n",
    "import pandas as pd\n",
    "import matplotlib.pyplot as plt\n",
    "import seaborn as sns\n"
   ]
  },
  {
   "cell_type": "code",
   "execution_count": 8,
   "metadata": {},
   "outputs": [
    {
     "name": "stdout",
     "output_type": "stream",
     "text": [
      "full_datasets_data_std:  0.04811594827089576\n",
      "indiv_dataset_seed_std:  0.0056094618130294645\n",
      "indiv_datasets_data_std:  0.06772805767315135\n",
      "loso_dataset_seed_std:  0.03343753580356012\n",
      "loso_datasets_data_std:  0.05271589157170444\n",
      "full_dataset_seed_std:  0.008404830138996825\n",
      "ft_dataset_seed_std:  0.0041887882013500145\n",
      "ft_datasets_data_std:  0.03062019805408598\n",
      "loso_dataset_seed2_std:  0.01743923758124644\n"
     ]
    }
   ],
   "source": [
    "sns.set_theme(style=\"darkgrid\", palette=\"deep\")\n",
    "# seaborn styles are: white, dark, whitegrid, darkgrid, ticks\n",
    "\n",
    "'''\n",
    "import the following files:\n",
    "\n",
    "full_datasets_data.csv\n",
    "indiv_dataset_seed.csv\n",
    "indiv_datasets_data.csv\n",
    "loso_dataset_seed.csv\n",
    "loso_datasets_data.csv\n",
    "full_dataset_seed.csv\n",
    "ft_dataset_seed.csv\n",
    "ft_datasets data.csv\n",
    "loso_dataset_seed2.csv\n",
    "'''\n",
    "\n",
    "full_datasets_data = pd.read_csv(\"full_datasets_data.csv\")\n",
    "indiv_dataset_seed = pd.read_csv(\"indiv_dataset_seed.csv\")\n",
    "indiv_datasets_data = pd.read_csv(\"indiv_datasets_data.csv\")\n",
    "loso_dataset_seed = pd.read_csv(\"loso_dataset_seed.csv\")\n",
    "loso_datasets_data = pd.read_csv(\"loso_datasets_data.csv\")\n",
    "full_dataset_seed = pd.read_csv(\"full_dataset_seed.csv\")\n",
    "ft_dataset_seed = pd.read_csv(\"ft_dataset_seed.csv\")\n",
    "ft_datasets_data = pd.read_csv(\"ft_datasets_data.csv\")\n",
    "loso_dataset_seed2 = pd.read_csv(\"loso_dataset_seed2.csv\")\n",
    "\n",
    "# For each file, find the standard deviation of the \"Val acc (last)\" column\n",
    "full_datasets_data_std = full_datasets_data[\"Val acc (last)\"].std()\n",
    "indiv_dataset_seed_std = indiv_dataset_seed[\"Val acc (last)\"].std()\n",
    "indiv_datasets_data_std = indiv_datasets_data[\"Val acc (last)\"].std()\n",
    "loso_dataset_seed_std = loso_dataset_seed[\"Val acc (last)\"].std()\n",
    "loso_datasets_data_std = loso_datasets_data[\"Val acc (last)\"].std()\n",
    "full_dataset_seed_std = full_dataset_seed[\"Val acc (last)\"].std()\n",
    "ft_dataset_seed_std = ft_dataset_seed[\"Val acc (last)\"].std()\n",
    "ft_datasets_data_std = ft_datasets_data[\"Val acc (last)\"].std()\n",
    "loso_dataset_seed2_std = loso_dataset_seed2[\"Val acc (last)\"].std()\n",
    "\n",
    "\n",
    "# Print all the standart deviations\n",
    "print(\"full_datasets_data_std: \", full_datasets_data_std)\n",
    "print(\"indiv_dataset_seed_std: \", indiv_dataset_seed_std)\n",
    "print(\"indiv_datasets_data_std: \", indiv_datasets_data_std)\n",
    "print(\"loso_dataset_seed_std: \", loso_dataset_seed_std)\n",
    "print(\"loso_datasets_data_std: \", loso_datasets_data_std)\n",
    "print(\"full_dataset_seed_std: \", full_dataset_seed_std)\n",
    "print(\"ft_dataset_seed_std: \", ft_dataset_seed_std)\n",
    "print(\"ft_datasets_data_std: \", ft_datasets_data_std)\n",
    "print(\"loso_dataset_seed2_std: \", loso_dataset_seed2_std)\n",
    "\n",
    "\n",
    "\n"
   ]
  }
 ],
 "metadata": {
  "kernelspec": {
   "display_name": "Python 3.9.13 64-bit (microsoft store)",
   "language": "python",
   "name": "python3"
  },
  "language_info": {
   "codemirror_mode": {
    "name": "ipython",
    "version": 3
   },
   "file_extension": ".py",
   "mimetype": "text/x-python",
   "name": "python",
   "nbconvert_exporter": "python",
   "pygments_lexer": "ipython3",
   "version": "3.9.13"
  },
  "orig_nbformat": 4,
  "vscode": {
   "interpreter": {
    "hash": "e6848c120d0a9aa3672e78bcd909e87169c882c06b3afbb00ae4a3da7ec7a7fc"
   }
  }
 },
 "nbformat": 4,
 "nbformat_minor": 2
}
