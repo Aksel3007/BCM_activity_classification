{
 "cells": [
  {
   "cell_type": "code",
   "execution_count": 16,
   "metadata": {},
   "outputs": [
    {
     "data": {
      "text/plain": [
       "<torch._C.Generator at 0x7f8f704e9770>"
      ]
     },
     "execution_count": 16,
     "metadata": {},
     "output_type": "execute_result"
    }
   ],
   "source": [
    "\n",
    "#!python3 -m pip install pytorch_lightning\n",
    "#!pip3 install torch torchvision torchaudio --extra-index-url https://download.pytorch.org/whl/cu113\n",
    "import torch\n",
    "import torch.nn as nn\n",
    "import torch.nn.functional as F\n",
    "import torch.optim as optim\n",
    "from model import LSTM_Model\n",
    "from pytorch_lightning import seed_everything, LightningModule, Trainer\n",
    "from torch import save\n",
    "from pytorch_lightning.callbacks import EarlyStopping\n",
    "from torch.utils.data import DataLoader\n",
    "\n",
    "torch.manual_seed(1)"
   ]
  },
  {
   "cell_type": "code",
   "execution_count": 17,
   "metadata": {},
   "outputs": [
    {
     "name": "stderr",
     "output_type": "stream",
     "text": [
      "Global seed set to 42\n"
     ]
    },
    {
     "name": "stdout",
     "output_type": "stream",
     "text": [
      "Using cuda device\n",
      "data/bcm//0.npy\n",
      "data/bcm//1.npy\n",
      "data/bcm//2.npy\n",
      "data/bcm//3.npy\n",
      "data/bcm//4.npy\n"
     ]
    },
    {
     "name": "stderr",
     "output_type": "stream",
     "text": [
      "GPU available: True (cuda), used: True\n",
      "TPU available: False, using: 0 TPU cores\n",
      "IPU available: False, using: 0 IPUs\n",
      "HPU available: False, using: 0 HPUs\n",
      "LOCAL_RANK: 0 - CUDA_VISIBLE_DEVICES: [0,1]\n",
      "\n",
      "  | Name         | Type             | Params\n",
      "--------------------------------------------------\n",
      "0 | lstm         | LSTM             | 42.0 K\n",
      "1 | fc           | Linear           | 645   \n",
      "2 | flatten      | Flatten          | 0     \n",
      "3 | output       | Sigmoid          | 0     \n",
      "4 | sm           | Softmax          | 0     \n",
      "5 | loss         | CrossEntropyLoss | 0     \n",
      "6 | accuracy     | Accuracy         | 0     \n",
      "7 | val_accuracy | Accuracy         | 0     \n",
      "--------------------------------------------------\n",
      "42.6 K    Trainable params\n",
      "0         Non-trainable params\n",
      "42.6 K    Total params\n",
      "0.171     Total estimated model params size (MB)\n"
     ]
    },
    {
     "data": {
      "application/vnd.jupyter.widget-view+json": {
       "model_id": "",
       "version_major": 2,
       "version_minor": 0
      },
      "text/plain": [
       "Sanity Checking: 0it [00:00, ?it/s]"
      ]
     },
     "metadata": {},
     "output_type": "display_data"
    },
    {
     "name": "stdout",
     "output_type": "stream",
     "text": [
      "{'progress_bar': {'val_loss': 1.6091797351837158}, 'log': {'val_loss': 1.6091797351837158}, 'val_loss': 1.6091797351837158}\n",
      "Accuracy: 0.265625\n"
     ]
    },
    {
     "data": {
      "application/vnd.jupyter.widget-view+json": {
       "model_id": "b16eca97b137476ab11f99446c44f5b0",
       "version_major": 2,
       "version_minor": 0
      },
      "text/plain": [
       "Training: 0it [00:00, ?it/s]"
      ]
     },
     "metadata": {},
     "output_type": "display_data"
    },
    {
     "data": {
      "application/vnd.jupyter.widget-view+json": {
       "model_id": "",
       "version_major": 2,
       "version_minor": 0
      },
      "text/plain": [
       "Validation: 0it [00:00, ?it/s]"
      ]
     },
     "metadata": {},
     "output_type": "display_data"
    },
    {
     "name": "stderr",
     "output_type": "stream",
     "text": [
      "IOPub message rate exceeded.\n",
      "The Jupyter server will temporarily stop sending output\n",
      "to the client in order to avoid crashing it.\n",
      "To change this limit, set the config variable\n",
      "`--ServerApp.iopub_msg_rate_limit`.\n",
      "\n",
      "Current values:\n",
      "ServerApp.iopub_msg_rate_limit=1000.0 (msgs/sec)\n",
      "ServerApp.rate_limit_window=3.0 (secs)\n",
      "\n",
      "`Trainer.fit` stopped: `max_epochs=1` reached.\n"
     ]
    },
    {
     "name": "stdout",
     "output_type": "stream",
     "text": [
      "{'progress_bar': {'val_loss': 1.4332674741744995}, 'log': {'val_loss': 1.4332674741744995}, 'val_loss': 1.4332674741744995}\n",
      "Accuracy: 0.7938022017478943\n",
      "Accuracy: 0.7867531180381775\n"
     ]
    }
   ],
   "source": [
    "seed_everything(42)\n",
    "device = 'cuda' if torch.cuda.is_available() else 'cpu' #Check for cuda \n",
    "#device = 'cpu'\n",
    "print(f'Using {device} device')\n",
    "\n",
    "\n",
    "model = LSTM_Model('data/bcm/').to(device)\n",
    "\n",
    "trainer = Trainer(max_epochs=1, min_epochs=1, auto_lr_find=False, auto_scale_batch_size=False,enable_checkpointing=False, accelerator=\"gpu\", devices = 1)\n",
    "\n",
    "trainer.tune(model)\n",
    "\n",
    "trainer.fit(model)\n",
    "#save(model.state_dict(), '/trained_model')"
   ]
  },
  {
   "cell_type": "code",
   "execution_count": 23,
   "metadata": {},
   "outputs": [
    {
     "name": "stderr",
     "output_type": "stream",
     "text": [
      "/home/aron/.local/lib/python3.9/site-packages/torch/jit/_recursive.py:621: LightningDeprecationWarning: `LightningModule.use_amp` was deprecated in v1.6 and will be removed in v1.8. Please use `Trainer.amp_backend`.\n",
      "  item = getattr(mod, name, None)\n",
      "/home/aron/.local/lib/python3.9/site-packages/torch/jit/_recursive.py:708: LightningDeprecationWarning: `LightningModule.use_amp` was deprecated in v1.6 and will be removed in v1.8. Please use `Trainer.amp_backend`.\n",
      "  item = getattr(nn_module, name, None)\n",
      "/home/aron/.local/lib/python3.9/site-packages/torch/jit/_recursive.py:508: LightningDeprecationWarning: `LightningModule.use_amp` was deprecated in v1.6 and will be removed in v1.8. Please use `Trainer.amp_backend`.\n",
      "  item = getattr(nn_module, name, None)\n",
      "/home/aron/.local/lib/python3.9/site-packages/torch/jit/_recursive.py:591: LightningDeprecationWarning: `LightningModule.use_amp` was deprecated in v1.6 and will be removed in v1.8. Please use `Trainer.amp_backend`.\n",
      "  item = getattr(nn_module, name, None)\n"
     ]
    }
   ],
   "source": [
    "torch.save(model.state_dict(), \"trained_models/3\")\n",
    "\n",
    "model_scripted = torch.jit.script(model) # Export to TorchScript\n",
    "model_scripted.save(\"trained_models/3\") # Save"
   ]
  },
  {
   "cell_type": "code",
   "execution_count": 25,
   "metadata": {},
   "outputs": [
    {
     "name": "stdout",
     "output_type": "stream",
     "text": [
      "torch.Size([93, 16])\n",
      "tensor([[0.3219, 0.1187, 0.3223, 0.1186, 0.1186]], grad_fn=<SoftmaxBackward0>)\n",
      "tensor([[0.4046, 0.1488, 0.1488, 0.1488, 0.1488]], grad_fn=<SoftmaxBackward0>)\n"
     ]
    }
   ],
   "source": [
    "from BCM_dataset_v2 import bcmDataset\n",
    "from torch.utils.data import DataLoader\n",
    "\n",
    "model.eval()\n",
    "\n",
    "model_loaded = torch.jit.load('trained_models/2')\n",
    "model_loaded.eval()\n",
    "\n",
    "ds = bcmDataset('data/bcm/0.npy', class_id = 0, window_size = 3, stride = 3, MFCC_stride = 0.032)\n",
    "\n",
    "print(ds[0][0].shape)\n",
    "\n",
    "# Remeber to insert empty/None dimension to test a single datapoint!!!!!!!!!\n",
    "test = ds[0][0]\n",
    "test = test[None,:,:]\n",
    "\n",
    "print(model(test))\n",
    "print(model_loaded(test))\n"
   ]
  }
 ],
 "metadata": {
  "kernelspec": {
   "display_name": "Python 3 (ipykernel)",
   "language": "python",
   "name": "python3"
  },
  "language_info": {
   "codemirror_mode": {
    "name": "ipython",
    "version": 3
   },
   "file_extension": ".py",
   "mimetype": "text/x-python",
   "name": "python",
   "nbconvert_exporter": "python",
   "pygments_lexer": "ipython3",
   "version": "3.9.12"
  },
  "vscode": {
   "interpreter": {
    "hash": "916dbcbb3f70747c44a77c7bcd40155683ae19c65e1c03b4aa3499c5328201f1"
   }
  }
 },
 "nbformat": 4,
 "nbformat_minor": 4
}
