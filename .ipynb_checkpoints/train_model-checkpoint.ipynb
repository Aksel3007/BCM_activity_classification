{
 "cells": [
  {
   "cell_type": "code",
   "execution_count": 1,
   "metadata": {},
   "outputs": [
    {
     "name": "stdout",
     "output_type": "stream",
     "text": [
      "Dataset version: 2.1\n"
     ]
    }
   ],
   "source": [
    "\n",
    "#!python3 -m pip install pytorch_lightning\n",
    "#!pip3 install torch torchvision torchaudio --extra-index-url https://download.pytorch.org/whl/cu113\n",
    "import torch\n",
    "import torch.nn as nn\n",
    "import torch.nn.functional as F\n",
    "import torch.optim as optim\n",
    "from model import LSTM_Model\n",
    "from pytorch_lightning import seed_everything, LightningModule, Trainer\n",
    "from torch import save\n",
    "from pytorch_lightning.callbacks import EarlyStopping\n",
    "from torch.utils.data import DataLoader\n",
    "import neptune.new as neptune\n",
    "from pytorch_lightning.loggers import NeptuneLogger\n",
    "\n",
    "\n",
    "\n",
    "torch.manual_seed(1)\n",
    "#!python3 -m pip install neptune-client\n",
    "\n",
    "# Install pip packages in the current Jupyter kernel\n",
    "import sys\n",
    "#!{sys.executable} -m pip install torchinfo\n",
    "#!{sys.executable} -m pip install neptune-notebooks\n",
    "#!{sys.executable} -m pip install neptune-client\n",
    "\n",
    "#!pip install neptune-notebooks\n",
    "#!jupyter nbextension enable --py neptune-notebooks\n"
   ]
  },
  {
   "cell_type": "code",
   "execution_count": null,
   "metadata": {
    "scrolled": true,
    "tags": []
   },
   "outputs": [
    {
     "name": "stderr",
     "output_type": "stream",
     "text": [
      "Global seed set to 0\n"
     ]
    },
    {
     "name": "stdout",
     "output_type": "stream",
     "text": [
      "Using cuda device\n",
      "Validation set\n",
      "data/bcm//validation/0.npy\n",
      "data/bcm//validation/1.npy\n",
      "data/bcm//validation/2.npy\n",
      "data/bcm//validation/3.npy\n",
      "data/bcm//validation/4.npy\n",
      "Training set\n",
      "data/bcm//train/0.npy\n",
      "data/bcm//train/1.npy\n",
      "data/bcm//train/2.npy\n",
      "data/bcm//train/3.npy\n",
      "data/bcm//train/4.npy\n"
     ]
    },
    {
     "name": "stderr",
     "output_type": "stream",
     "text": [
      "GPU available: True (cuda), used: True\n",
      "TPU available: False, using: 0 TPU cores\n",
      "IPU available: False, using: 0 IPUs\n",
      "HPU available: False, using: 0 HPUs\n",
      "LOCAL_RANK: 0 - CUDA_VISIBLE_DEVICES: [0,1]\n"
     ]
    },
    {
     "name": "stdout",
     "output_type": "stream",
     "text": [
      "https://app.neptune.ai/NTLAB/BCM-activity-classification/e/BCMAC-88\n",
      "Remember to stop your run once you’ve finished logging your metadata (https://docs.neptune.ai/api-reference/run#.stop). It will be stopped automatically only when the notebook kernel/interactive console is terminated.\n"
     ]
    },
    {
     "name": "stderr",
     "output_type": "stream",
     "text": [
      "\n",
      "  | Name         | Type             | Params\n",
      "--------------------------------------------------\n",
      "0 | lstm         | LSTM             | 149 K \n",
      "1 | flatten      | Flatten          | 0     \n",
      "2 | fc           | Linear           | 1.3 K \n",
      "3 | output       | Sigmoid          | 0     \n",
      "4 | sm           | Softmax          | 0     \n",
      "5 | loss         | CrossEntropyLoss | 0     \n",
      "6 | accuracy     | Accuracy         | 0     \n",
      "7 | val_accuracy | Accuracy         | 0     \n",
      "--------------------------------------------------\n",
      "150 K     Trainable params\n",
      "0         Non-trainable params\n",
      "150 K     Total params\n",
      "0.603     Total estimated model params size (MB)\n"
     ]
    },
    {
     "data": {
      "application/vnd.jupyter.widget-view+json": {
       "model_id": "",
       "version_major": 2,
       "version_minor": 0
      },
      "text/plain": [
       "Sanity Checking: 0it [00:00, ?it/s]"
      ]
     },
     "metadata": {},
     "output_type": "display_data"
    },
    {
     "name": "stdout",
     "output_type": "stream",
     "text": [
      "{'progress_bar': {'val_loss': 1.609828233718872}, 'log': {'val_loss': 1.609828233718872}, 'val_loss': 1.609828233718872}\n",
      "Accuracy: 0.0625\n"
     ]
    },
    {
     "name": "stderr",
     "output_type": "stream",
     "text": [
      "/home/aron/.local/lib/python3.9/site-packages/pytorch_lightning/core/module.py:555: UserWarning: To copy construct from a tensor, it is recommended to use sourceTensor.clone().detach() or sourceTensor.clone().detach().requires_grad_(True), rather than torch.tensor(sourceTensor).\n",
      "  value = torch.tensor(value, device=self.device)\n"
     ]
    },
    {
     "data": {
      "application/vnd.jupyter.widget-view+json": {
       "model_id": "6aed66d6162846c5a58a0ca37b70d5d8",
       "version_major": 2,
       "version_minor": 0
      },
      "text/plain": [
       "Training: 0it [00:00, ?it/s]"
      ]
     },
     "metadata": {},
     "output_type": "display_data"
    },
    {
     "data": {
      "application/vnd.jupyter.widget-view+json": {
       "model_id": "b3be1be1c9d545f289759b364c4d93d2",
       "version_major": 2,
       "version_minor": 0
      },
      "text/plain": [
       "Validation: 0it [00:00, ?it/s]"
      ]
     },
     "metadata": {},
     "output_type": "display_data"
    },
    {
     "name": "stderr",
     "output_type": "stream",
     "text": [
      "IOPub message rate exceeded.\n",
      "The Jupyter server will temporarily stop sending output\n",
      "to the client in order to avoid crashing it.\n",
      "To change this limit, set the config variable\n",
      "`--ServerApp.iopub_msg_rate_limit`.\n",
      "\n",
      "Current values:\n",
      "ServerApp.iopub_msg_rate_limit=1000.0 (msgs/sec)\n",
      "ServerApp.rate_limit_window=3.0 (secs)\n",
      "\n",
      "IOPub message rate exceeded.\n",
      "The Jupyter server will temporarily stop sending output\n",
      "to the client in order to avoid crashing it.\n",
      "To change this limit, set the config variable\n",
      "`--ServerApp.iopub_msg_rate_limit`.\n",
      "\n",
      "Current values:\n",
      "ServerApp.iopub_msg_rate_limit=1000.0 (msgs/sec)\n",
      "ServerApp.rate_limit_window=3.0 (secs)\n",
      "\n",
      "GPU available: True (cuda), used: True\n",
      "TPU available: False, using: 0 TPU cores\n",
      "IPU available: False, using: 0 IPUs\n",
      "HPU available: False, using: 0 HPUs\n",
      "LOCAL_RANK: 0 - CUDA_VISIBLE_DEVICES: [0,1]\n"
     ]
    },
    {
     "name": "stdout",
     "output_type": "stream",
     "text": [
      "https://app.neptune.ai/NTLAB/BCM-activity-classification/e/BCMAC-89\n",
      "Remember to stop your run once you’ve finished logging your metadata (https://docs.neptune.ai/api-reference/run#.stop). It will be stopped automatically only when the notebook kernel/interactive console is terminated.\n"
     ]
    },
    {
     "name": "stderr",
     "output_type": "stream",
     "text": [
      "\n",
      "  | Name         | Type             | Params\n",
      "--------------------------------------------------\n",
      "0 | lstm         | LSTM             | 149 K \n",
      "1 | flatten      | Flatten          | 0     \n",
      "2 | fc           | Linear           | 1.3 K \n",
      "3 | output       | Sigmoid          | 0     \n",
      "4 | sm           | Softmax          | 0     \n",
      "5 | loss         | CrossEntropyLoss | 0     \n",
      "6 | accuracy     | Accuracy         | 0     \n",
      "7 | val_accuracy | Accuracy         | 0     \n",
      "--------------------------------------------------\n",
      "150 K     Trainable params\n",
      "0         Non-trainable params\n",
      "150 K     Total params\n",
      "0.603     Total estimated model params size (MB)\n"
     ]
    },
    {
     "data": {
      "application/vnd.jupyter.widget-view+json": {
       "model_id": "",
       "version_major": 2,
       "version_minor": 0
      },
      "text/plain": [
       "Sanity Checking: 0it [00:00, ?it/s]"
      ]
     },
     "metadata": {},
     "output_type": "display_data"
    },
    {
     "name": "stdout",
     "output_type": "stream",
     "text": [
      "{'progress_bar': {'val_loss': 1.6103265285491943}, 'log': {'val_loss': 1.6103265285491943}, 'val_loss': 1.6103265285491943}\n",
      "Accuracy: 0.0625\n"
     ]
    },
    {
     "name": "stderr",
     "output_type": "stream",
     "text": [
      "/home/aron/.local/lib/python3.9/site-packages/pytorch_lightning/core/module.py:555: UserWarning: To copy construct from a tensor, it is recommended to use sourceTensor.clone().detach() or sourceTensor.clone().detach().requires_grad_(True), rather than torch.tensor(sourceTensor).\n",
      "  value = torch.tensor(value, device=self.device)\n"
     ]
    },
    {
     "data": {
      "application/vnd.jupyter.widget-view+json": {
       "model_id": "1aab96046f444f599bcc1d65d3339eef",
       "version_major": 2,
       "version_minor": 0
      },
      "text/plain": [
       "Training: 0it [00:00, ?it/s]"
      ]
     },
     "metadata": {},
     "output_type": "display_data"
    },
    {
     "data": {
      "application/vnd.jupyter.widget-view+json": {
       "model_id": "013be5c9e61d493cba948f6ae11d1ec2",
       "version_major": 2,
       "version_minor": 0
      },
      "text/plain": [
       "Validation: 0it [00:00, ?it/s]"
      ]
     },
     "metadata": {},
     "output_type": "display_data"
    },
    {
     "name": "stderr",
     "output_type": "stream",
     "text": [
      "IOPub message rate exceeded.\n",
      "The Jupyter server will temporarily stop sending output\n",
      "to the client in order to avoid crashing it.\n",
      "To change this limit, set the config variable\n",
      "`--ServerApp.iopub_msg_rate_limit`.\n",
      "\n",
      "Current values:\n",
      "ServerApp.iopub_msg_rate_limit=1000.0 (msgs/sec)\n",
      "ServerApp.rate_limit_window=3.0 (secs)\n",
      "\n",
      "IOPub message rate exceeded.\n",
      "The Jupyter server will temporarily stop sending output\n",
      "to the client in order to avoid crashing it.\n",
      "To change this limit, set the config variable\n",
      "`--ServerApp.iopub_msg_rate_limit`.\n",
      "\n",
      "Current values:\n",
      "ServerApp.iopub_msg_rate_limit=1000.0 (msgs/sec)\n",
      "ServerApp.rate_limit_window=3.0 (secs)\n",
      "\n",
      "Global seed set to 0\n"
     ]
    },
    {
     "name": "stdout",
     "output_type": "stream",
     "text": [
      "Using cuda device\n",
      "Validation set\n",
      "data/bcm//validation/0.npy\n",
      "data/bcm//validation/1.npy\n",
      "data/bcm//validation/2.npy\n",
      "data/bcm//validation/3.npy\n",
      "data/bcm//validation/4.npy\n",
      "Training set\n",
      "data/bcm//train/0.npy\n",
      "data/bcm//train/1.npy\n",
      "data/bcm//train/2.npy\n",
      "data/bcm//train/3.npy\n",
      "data/bcm//train/4.npy\n"
     ]
    },
    {
     "name": "stderr",
     "output_type": "stream",
     "text": [
      "GPU available: True (cuda), used: True\n",
      "TPU available: False, using: 0 TPU cores\n",
      "IPU available: False, using: 0 IPUs\n",
      "HPU available: False, using: 0 HPUs\n",
      "LOCAL_RANK: 0 - CUDA_VISIBLE_DEVICES: [0,1]\n"
     ]
    },
    {
     "name": "stdout",
     "output_type": "stream",
     "text": [
      "https://app.neptune.ai/NTLAB/BCM-activity-classification/e/BCMAC-90\n",
      "Remember to stop your run once you’ve finished logging your metadata (https://docs.neptune.ai/api-reference/run#.stop). It will be stopped automatically only when the notebook kernel/interactive console is terminated.\n"
     ]
    },
    {
     "name": "stderr",
     "output_type": "stream",
     "text": [
      "\n",
      "  | Name         | Type             | Params\n",
      "--------------------------------------------------\n",
      "0 | lstm         | LSTM             | 149 K \n",
      "1 | flatten      | Flatten          | 0     \n",
      "2 | fc           | Linear           | 1.3 K \n",
      "3 | output       | Sigmoid          | 0     \n",
      "4 | sm           | Softmax          | 0     \n",
      "5 | loss         | CrossEntropyLoss | 0     \n",
      "6 | accuracy     | Accuracy         | 0     \n",
      "7 | val_accuracy | Accuracy         | 0     \n",
      "--------------------------------------------------\n",
      "150 K     Trainable params\n",
      "0         Non-trainable params\n",
      "150 K     Total params\n",
      "0.603     Total estimated model params size (MB)\n"
     ]
    },
    {
     "data": {
      "application/vnd.jupyter.widget-view+json": {
       "model_id": "",
       "version_major": 2,
       "version_minor": 0
      },
      "text/plain": [
       "Sanity Checking: 0it [00:00, ?it/s]"
      ]
     },
     "metadata": {},
     "output_type": "display_data"
    },
    {
     "name": "stdout",
     "output_type": "stream",
     "text": [
      "{'progress_bar': {'val_loss': 1.609309196472168}, 'log': {'val_loss': 1.609309196472168}, 'val_loss': 1.609309196472168}\n",
      "Accuracy: 0.109375\n"
     ]
    },
    {
     "name": "stderr",
     "output_type": "stream",
     "text": [
      "/home/aron/.local/lib/python3.9/site-packages/pytorch_lightning/core/module.py:555: UserWarning: To copy construct from a tensor, it is recommended to use sourceTensor.clone().detach() or sourceTensor.clone().detach().requires_grad_(True), rather than torch.tensor(sourceTensor).\n",
      "  value = torch.tensor(value, device=self.device)\n"
     ]
    },
    {
     "data": {
      "application/vnd.jupyter.widget-view+json": {
       "model_id": "232b0714356b4da7886934c18f263f32",
       "version_major": 2,
       "version_minor": 0
      },
      "text/plain": [
       "Training: 0it [00:00, ?it/s]"
      ]
     },
     "metadata": {},
     "output_type": "display_data"
    },
    {
     "name": "stderr",
     "output_type": "stream",
     "text": [
      "/home/aron/.local/lib/python3.9/site-packages/pytorch_lightning/trainer/trainer.py:653: UserWarning: Detected KeyboardInterrupt, attempting graceful shutdown...\n",
      "  rank_zero_warn(\"Detected KeyboardInterrupt, attempting graceful shutdown...\")\n",
      "Global seed set to 0\n"
     ]
    },
    {
     "name": "stdout",
     "output_type": "stream",
     "text": [
      "Using cuda device\n",
      "Validation set\n",
      "data/bcm//validation/0.npy\n",
      "data/bcm//validation/1.npy\n",
      "data/bcm//validation/2.npy\n",
      "data/bcm//validation/3.npy\n",
      "data/bcm//validation/4.npy\n",
      "Training set\n",
      "data/bcm//train/0.npy\n",
      "data/bcm//train/1.npy\n",
      "data/bcm//train/2.npy\n",
      "data/bcm//train/3.npy\n",
      "data/bcm//train/4.npy\n"
     ]
    },
    {
     "name": "stderr",
     "output_type": "stream",
     "text": [
      "GPU available: True (cuda), used: True\n",
      "TPU available: False, using: 0 TPU cores\n",
      "IPU available: False, using: 0 IPUs\n",
      "HPU available: False, using: 0 HPUs\n",
      "LOCAL_RANK: 0 - CUDA_VISIBLE_DEVICES: [0,1]\n"
     ]
    },
    {
     "name": "stdout",
     "output_type": "stream",
     "text": [
      "https://app.neptune.ai/NTLAB/BCM-activity-classification/e/BCMAC-91\n",
      "Remember to stop your run once you’ve finished logging your metadata (https://docs.neptune.ai/api-reference/run#.stop). It will be stopped automatically only when the notebook kernel/interactive console is terminated.\n"
     ]
    },
    {
     "name": "stderr",
     "output_type": "stream",
     "text": [
      "\n",
      "  | Name         | Type             | Params\n",
      "--------------------------------------------------\n",
      "0 | lstm         | LSTM             | 149 K \n",
      "1 | flatten      | Flatten          | 0     \n",
      "2 | fc           | Linear           | 1.3 K \n",
      "3 | output       | Sigmoid          | 0     \n",
      "4 | sm           | Softmax          | 0     \n",
      "5 | loss         | CrossEntropyLoss | 0     \n",
      "6 | accuracy     | Accuracy         | 0     \n",
      "7 | val_accuracy | Accuracy         | 0     \n",
      "--------------------------------------------------\n",
      "150 K     Trainable params\n",
      "0         Non-trainable params\n",
      "150 K     Total params\n",
      "0.603     Total estimated model params size (MB)\n"
     ]
    },
    {
     "data": {
      "application/vnd.jupyter.widget-view+json": {
       "model_id": "",
       "version_major": 2,
       "version_minor": 0
      },
      "text/plain": [
       "Sanity Checking: 0it [00:00, ?it/s]"
      ]
     },
     "metadata": {},
     "output_type": "display_data"
    },
    {
     "name": "stdout",
     "output_type": "stream",
     "text": [
      "{'progress_bar': {'val_loss': 1.6071897745132446}, 'log': {'val_loss': 1.6071897745132446}, 'val_loss': 1.6071897745132446}\n",
      "Accuracy: 0.21875\n"
     ]
    },
    {
     "name": "stderr",
     "output_type": "stream",
     "text": [
      "/home/aron/.local/lib/python3.9/site-packages/pytorch_lightning/core/module.py:555: UserWarning: To copy construct from a tensor, it is recommended to use sourceTensor.clone().detach() or sourceTensor.clone().detach().requires_grad_(True), rather than torch.tensor(sourceTensor).\n",
      "  value = torch.tensor(value, device=self.device)\n"
     ]
    },
    {
     "data": {
      "application/vnd.jupyter.widget-view+json": {
       "model_id": "6771a19d614f494abb40e2ffd2eab602",
       "version_major": 2,
       "version_minor": 0
      },
      "text/plain": [
       "Training: 0it [00:00, ?it/s]"
      ]
     },
     "metadata": {},
     "output_type": "display_data"
    },
    {
     "name": "stderr",
     "output_type": "stream",
     "text": [
      "Exception ignored in: <function _MultiProcessingDataLoaderIter.__del__ at 0x7f7dd2e6d1f0>\n",
      "Traceback (most recent call last):\n",
      "Exception ignored in:   File \"/home/aron/.local/lib/python3.9/site-packages/torch/utils/data/dataloader.py\", line 1510, in __del__\n",
      "<function _MultiProcessingDataLoaderIter.__del__ at 0x7f7dd2e6d1f0>\n",
      "Traceback (most recent call last):\n",
      "  File \"/home/aron/.local/lib/python3.9/site-packages/torch/utils/data/dataloader.py\", line 1510, in __del__\n",
      "Exception ignored in: <function _MultiProcessingDataLoaderIter.__del__ at 0x7f7dd2e6d1f0>\n",
      "Traceback (most recent call last):\n",
      "  File \"/home/aron/.local/lib/python3.9/site-packages/torch/utils/data/dataloader.py\", line 1510, in __del__\n",
      "    self._shutdown_workers()        self._shutdown_workers()\n",
      "self._shutdown_workers()\n",
      "  File \"/home/aron/.local/lib/python3.9/site-packages/torch/utils/data/dataloader.py\", line 1493, in _shutdown_workers\n",
      "\n",
      "  File \"/home/aron/.local/lib/python3.9/site-packages/torch/utils/data/dataloader.py\", line 1493, in _shutdown_workers\n",
      "  File \"/home/aron/.local/lib/python3.9/site-packages/torch/utils/data/dataloader.py\", line 1493, in _shutdown_workers\n",
      "        if w.is_alive():    if w.is_alive():\n",
      "if w.is_alive():\n",
      "  File \"/opt/anaconda-2022.05/lib/python3.9/multiprocessing/process.py\", line 160, in is_alive\n",
      "\n",
      "  File \"/opt/anaconda-2022.05/lib/python3.9/multiprocessing/process.py\", line 160, in is_alive\n",
      "  File \"/opt/anaconda-2022.05/lib/python3.9/multiprocessing/process.py\", line 160, in is_alive\n",
      "            assert self._parent_pid == os.getpid(), 'can only test a child process'assert self._parent_pid == os.getpid(), 'can only test a child process'assert self._parent_pid == os.getpid(), 'can only test a child process'\n",
      "\n",
      "AssertionError\n",
      ": AssertionErrorAssertionErrorcan only test a child process: : \n",
      "can only test a child processcan only test a child process\n",
      "\n",
      "Exception ignored in: <function _MultiProcessingDataLoaderIter.__del__ at 0x7f7dd2e6d1f0>Traceback (most recent call last):\n",
      "Exception ignored in: \n",
      "<function _MultiProcessingDataLoaderIter.__del__ at 0x7f7dd2e6d1f0>Exception ignored in: \n",
      "  File \"/home/aron/.local/lib/python3.9/site-packages/torch/utils/data/dataloader.py\", line 1510, in __del__\n",
      "Traceback (most recent call last):\n",
      "<function _MultiProcessingDataLoaderIter.__del__ at 0x7f7dd2e6d1f0>      File \"/home/aron/.local/lib/python3.9/site-packages/torch/utils/data/dataloader.py\", line 1510, in __del__\n",
      "\n",
      "self._shutdown_workers()Traceback (most recent call last):\n",
      "    \n",
      "  File \"/home/aron/.local/lib/python3.9/site-packages/torch/utils/data/dataloader.py\", line 1510, in __del__\n",
      "self._shutdown_workers()  File \"/home/aron/.local/lib/python3.9/site-packages/torch/utils/data/dataloader.py\", line 1493, in _shutdown_workers\n",
      "\n",
      "          File \"/home/aron/.local/lib/python3.9/site-packages/torch/utils/data/dataloader.py\", line 1493, in _shutdown_workers\n",
      "self._shutdown_workers()if w.is_alive():    \n",
      "\n",
      "if w.is_alive():  File \"/home/aron/.local/lib/python3.9/site-packages/torch/utils/data/dataloader.py\", line 1493, in _shutdown_workers\n",
      "  File \"/opt/anaconda-2022.05/lib/python3.9/multiprocessing/process.py\", line 160, in is_alive\n",
      "\n",
      "      File \"/opt/anaconda-2022.05/lib/python3.9/multiprocessing/process.py\", line 160, in is_alive\n",
      "    assert self._parent_pid == os.getpid(), 'can only test a child process'    if w.is_alive():\n",
      "assert self._parent_pid == os.getpid(), 'can only test a child process'\n",
      "AssertionError\n",
      "  File \"/opt/anaconda-2022.05/lib/python3.9/multiprocessing/process.py\", line 160, in is_alive\n",
      ": AssertionError    can only test a child process: assert self._parent_pid == os.getpid(), 'can only test a child process'\n",
      "can only test a child process\n",
      "\n",
      "AssertionError: can only test a child process\n",
      "Exception ignored in: <function _MultiProcessingDataLoaderIter.__del__ at 0x7f7dd2e6d1f0>\n",
      "Traceback (most recent call last):\n",
      "  File \"/home/aron/.local/lib/python3.9/site-packages/torch/utils/data/dataloader.py\", line 1510, in __del__\n",
      "    self._shutdown_workers()\n",
      "  File \"/home/aron/.local/lib/python3.9/site-packages/torch/utils/data/dataloader.py\", line 1493, in _shutdown_workers\n",
      "    if w.is_alive():\n",
      "  File \"/opt/anaconda-2022.05/lib/python3.9/multiprocessing/process.py\", line 160, in is_alive\n",
      "    assert self._parent_pid == os.getpid(), 'can only test a child process'\n",
      "AssertionError: can only test a child process\n",
      "Exception ignored in: <function _MultiProcessingDataLoaderIter.__del__ at 0x7f7dd2e6d1f0>\n",
      "Traceback (most recent call last):\n",
      "  File \"/home/aron/.local/lib/python3.9/site-packages/torch/utils/data/dataloader.py\", line 1510, in __del__\n",
      "    self._shutdown_workers()\n",
      "  File \"/home/aron/.local/lib/python3.9/site-packages/torch/utils/data/dataloader.py\", line 1493, in _shutdown_workers\n",
      "    if w.is_alive():\n",
      "  File \"/opt/anaconda-2022.05/lib/python3.9/multiprocessing/process.py\", line 160, in is_alive\n",
      "    assert self._parent_pid == os.getpid(), 'can only test a child process'\n",
      "AssertionError: can only test a child process\n",
      "Exception ignored in: <function _MultiProcessingDataLoaderIter.__del__ at 0x7f7dd2e6d1f0>\n",
      "Traceback (most recent call last):\n",
      "  File \"/home/aron/.local/lib/python3.9/site-packages/torch/utils/data/dataloader.py\", line 1510, in __del__\n",
      "    self._shutdown_workers()\n",
      "  File \"/home/aron/.local/lib/python3.9/site-packages/torch/utils/data/dataloader.py\", line 1493, in _shutdown_workers\n",
      "    if w.is_alive():\n",
      "  File \"/opt/anaconda-2022.05/lib/python3.9/multiprocessing/process.py\", line 160, in is_alive\n",
      "    assert self._parent_pid == os.getpid(), 'can only test a child process'\n",
      "AssertionError: can only test a child process\n",
      "Exception ignored in: <function _MultiProcessingDataLoaderIter.__del__ at 0x7f7dd2e6d1f0>\n",
      "Traceback (most recent call last):\n",
      "  File \"/home/aron/.local/lib/python3.9/site-packages/torch/utils/data/dataloader.py\", line 1510, in __del__\n",
      "    self._shutdown_workers()\n",
      "  File \"/home/aron/.local/lib/python3.9/site-packages/torch/utils/data/dataloader.py\", line 1493, in _shutdown_workers\n",
      "    if w.is_alive():\n",
      "  File \"/opt/anaconda-2022.05/lib/python3.9/multiprocessing/process.py\", line 160, in is_alive\n",
      "    assert self._parent_pid == os.getpid(), 'can only test a child process'\n",
      "AssertionError: can only test a child process\n",
      "Exception ignored in: <function _MultiProcessingDataLoaderIter.__del__ at 0x7f7dd2e6d1f0>"
     ]
    }
   ],
   "source": [
    "for window_size in [1,2,3,5,8]:\n",
    "    for seed in range(10):    \n",
    "        seed_everything(seed) # Original seed: 42\n",
    "        device = 'cuda' if torch.cuda.is_available() else 'cpu' #Check for cuda \n",
    "        print(f'Using {device} device')\n",
    "\n",
    "        neptune_logger = NeptuneLogger(\n",
    "            project=\"NTLAB/BCM-activity-classification\",\n",
    "            api_token=\"eyJhcGlfYWRkcmVzcyI6Imh0dHBzOi8vYXBwLm5lcHR1bmUuYWkiLCJhcGlfdXJsIjoiaHR0cHM6Ly9hcHAubmVwdHVuZS5haSIsImFwaV9rZXkiOiIxYTA4NzcxMy1lYmQ2LTQ3NTctYjRhNC02Mzk1NjdjMWM0NmYifQ==\",\n",
    "            source_files=[\"train_model.ipynb\", \"model.py\", \"BCM_dataset_v2.py\"]\n",
    "        )\n",
    "\n",
    "        model = LSTM_Model('data/bcm/', window_size = window_size, stride = 0.032,lstm_hidden_size = 128, seed = seed)\n",
    "\n",
    "        trainer = Trainer(max_epochs=1, \n",
    "                        min_epochs=1, \n",
    "                        auto_lr_find=False, \n",
    "                        auto_scale_batch_size=False,\n",
    "                        enable_checkpointing=False, \n",
    "                        accelerator=\"gpu\", \n",
    "                        devices = 1, \n",
    "                        logger=neptune_logger,\n",
    "                        callbacks=[EarlyStopping(monitor=\"val_acc_epoch\", mode=\"max\", patience = 10)])\n",
    "        trainer.tune(model)\n",
    "        trainer.fit(model)\n",
    "        \n",
    "        \n",
    "        break\n",
    "\n"
   ]
  },
  {
   "cell_type": "code",
   "execution_count": null,
   "metadata": {},
   "outputs": [],
   "source": []
  },
  {
   "cell_type": "code",
   "execution_count": null,
   "metadata": {},
   "outputs": [],
   "source": [
    "#torch.save(model.state_dict(), \"trained_models/oct_6_3_sec_window\")\n",
    "\n",
    "model_scripted = torch.jit.script(model) # Export to TorchScript\n",
    "model_scripted.save(\"trained_models/oct_31\") # Save"
   ]
  }
 ],
 "metadata": {
  "kernelspec": {
   "display_name": "Python 3 (ipykernel)",
   "language": "python",
   "name": "python3"
  },
  "language_info": {
   "codemirror_mode": {
    "name": "ipython",
    "version": 3
   },
   "file_extension": ".py",
   "mimetype": "text/x-python",
   "name": "python",
   "nbconvert_exporter": "python",
   "pygments_lexer": "ipython3",
   "version": "3.9.12"
  },
  "vscode": {
   "interpreter": {
    "hash": "916dbcbb3f70747c44a77c7bcd40155683ae19c65e1c03b4aa3499c5328201f1"
   }
  }
 },
 "nbformat": 4,
 "nbformat_minor": 4
}
