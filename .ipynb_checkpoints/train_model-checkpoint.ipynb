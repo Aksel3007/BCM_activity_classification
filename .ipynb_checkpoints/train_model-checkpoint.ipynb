{
 "cells": [
  {
   "cell_type": "code",
   "execution_count": 1,
   "metadata": {},
   "outputs": [
    {
     "name": "stdout",
     "output_type": "stream",
     "text": [
      "Dataset version: 2.0\n"
     ]
    }
   ],
   "source": [
    "\n",
    "#!python3 -m pip install pytorch_lightning\n",
    "#!pip3 install torch torchvision torchaudio --extra-index-url https://download.pytorch.org/whl/cu113\n",
    "import torch\n",
    "import torch.nn as nn\n",
    "import torch.nn.functional as F\n",
    "import torch.optim as optim\n",
    "from model import LSTM_Model\n",
    "from pytorch_lightning import seed_everything, LightningModule, Trainer\n",
    "from torch import save\n",
    "from pytorch_lightning.callbacks import EarlyStopping\n",
    "from torch.utils.data import DataLoader\n",
    "import neptune.new as neptune\n",
    "from pytorch_lightning.loggers import NeptuneLogger\n",
    "\n",
    "\n",
    "\n",
    "torch.manual_seed(1)\n",
    "#!python3 -m pip install neptune-client\n",
    "\n",
    "# Install pip packages in the current Jupyter kernel\n",
    "import sys\n",
    "#!{sys.executable} -m pip install torchinfo\n",
    "#!{sys.executable} -m pip install neptune-notebooks\n",
    "#!{sys.executable} -m pip install neptune-client\n",
    "\n",
    "#!pip install neptune-notebooks\n",
    "#!jupyter nbextension enable --py neptune-notebooks\n"
   ]
  },
  {
   "cell_type": "code",
   "execution_count": null,
   "metadata": {},
   "outputs": [],
   "source": [
    "seed_everything(42)\n",
    "device = 'cuda' if torch.cuda.is_available() else 'cpu' #Check for cuda \n",
    "print(f'Using {device} device')\n",
    "\n",
    "neptune_logger = NeptuneLogger(\n",
    "    project=\"NTLAB/BCM-activity-classification\",\n",
    "    api_token=\"eyJhcGlfYWRkcmVzcyI6Imh0dHBzOi8vYXBwLm5lcHR1bmUuYWkiLCJhcGlfdXJsIjoiaHR0cHM6Ly9hcHAubmVwdHVuZS5haSIsImFwaV9rZXkiOiIxYTA4NzcxMy1lYmQ2LTQ3NTctYjRhNC02Mzk1NjdjMWM0NmYifQ==\",\n",
    "    source_files=[\"train_model.ipynb\", \"model.py\", \"BCM_dataset_v2.py\"]\n",
    ") \n",
    "\n",
    "model = LSTM_Model('data/bcm/', window_size = 3, stride = 0.032,lstm_hidden_size = 128,occlusion = [1,1,1,1,1,1,1,1,0,0,0,0,0,0,0,0])\n",
    "\n",
    "trainer = Trainer(max_epochs=200, min_epochs=1, auto_lr_find=False, auto_scale_batch_size=False,enable_checkpointing=False, accelerator=\"gpu\", devices = 1, logger=neptune_logger)\n",
    "trainer.tune(model)\n",
    "trainer.fit(model)\n"
   ]
  },
  {
   "cell_type": "code",
   "execution_count": null,
   "metadata": {},
   "outputs": [],
   "source": [
    "seed_everything(42)\n",
    "device = 'cuda' if torch.cuda.is_available() else 'cpu' #Check for cuda \n",
    "print(f'Using {device} device')\n",
    "\n",
    "neptune_logger2 = NeptuneLogger(\n",
    "    project=\"NTLAB/BCM-activity-classification\",\n",
    "    api_token=\"eyJhcGlfYWRkcmVzcyI6Imh0dHBzOi8vYXBwLm5lcHR1bmUuYWkiLCJhcGlfdXJsIjoiaHR0cHM6Ly9hcHAubmVwdHVuZS5haSIsImFwaV9rZXkiOiIxYTA4NzcxMy1lYmQ2LTQ3NTctYjRhNC02Mzk1NjdjMWM0NmYifQ==\",\n",
    "    source_files=[\"train_model.ipynb\", \"model.py\", \"BCM_dataset_v2.py\"]\n",
    ") \n",
    "\n",
    "model = LSTM_Model('data/bcm/', window_size = 3, stride = 0.032,lstm_hidden_size = 128,occlusion = [0,0,0,0,0,0,0,0,1,1,1,1,1,1,1,1])\n",
    "\n",
    "trainer = Trainer(max_epochs=200, min_epochs=1, auto_lr_find=False, auto_scale_batch_size=False,enable_checkpointing=False, accelerator=\"gpu\", devices = 1, logger=neptune_logger2)\n",
    "trainer.tune(model)\n",
    "trainer.fit(model)"
   ]
  },
  {
   "cell_type": "code",
   "execution_count": null,
   "metadata": {},
   "outputs": [],
   "source": [
    "#torch.save(model.state_dict(), \"trained_models/oct_6_3_sec_window\")\n",
    "\n",
    "model_scripted = torch.jit.script(model) # Export to TorchScript\n",
    "#model_scripted.save(\"trained_models/oct_14\") # Save"
   ]
  },
  {
   "cell_type": "code",
   "execution_count": null,
   "metadata": {},
   "outputs": [],
   "source": [
    "\n"
   ]
  },
  {
   "cell_type": "code",
   "execution_count": null,
   "metadata": {},
   "outputs": [],
   "source": [
    "\n"
   ]
  }
 ],
 "metadata": {
  "kernelspec": {
   "display_name": "Python 3 (ipykernel)",
   "language": "python",
   "name": "python3"
  },
  "language_info": {
   "codemirror_mode": {
    "name": "ipython",
    "version": 3
   },
   "file_extension": ".py",
   "mimetype": "text/x-python",
   "name": "python",
   "nbconvert_exporter": "python",
   "pygments_lexer": "ipython3",
   "version": "3.9.12"
  },
  "vscode": {
   "interpreter": {
    "hash": "916dbcbb3f70747c44a77c7bcd40155683ae19c65e1c03b4aa3499c5328201f1"
   }
  }
 },
 "nbformat": 4,
 "nbformat_minor": 4
}
