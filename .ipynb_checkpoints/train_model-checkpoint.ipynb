{
 "cells": [
  {
   "cell_type": "code",
   "execution_count": 1,
   "metadata": {},
   "outputs": [
    {
     "name": "stdout",
     "output_type": "stream",
     "text": [
      "Dataset version: 5\n"
     ]
    }
   ],
   "source": [
    "\n",
    "#!python3 -m pip install pytorch_lightning\n",
    "#!pip3 install torch torchvision torchaudio --extra-index-url https://download.pytorch.org/whl/cu113\n",
    "import torch\n",
    "import torch.nn as nn\n",
    "import torch.nn.functional as F\n",
    "import torch.optim as optim\n",
    "from model import LSTM_Model\n",
    "from pytorch_lightning import seed_everything, LightningModule, Trainer\n",
    "from torch import save\n",
    "from pytorch_lightning.callbacks import EarlyStopping\n",
    "from torch.utils.data import DataLoader\n",
    "import neptune.new as neptune\n",
    "from pytorch_lightning.loggers import NeptuneLogger\n",
    "import numpy as np\n",
    "from pytorch_lightning.callbacks import ModelCheckpoint\n",
    "from BCM_dataset_v2 import bcmDataset, concat_train_test_datasets\n",
    "import glob\n",
    "import os\n",
    "import sys\n",
    "from collect_dataset import*"
   ]
  },
  {
   "cell_type": "code",
   "execution_count": 2,
   "metadata": {},
   "outputs": [
    {
     "name": "stdout",
     "output_type": "stream",
     "text": [
      "\n",
      "Fint-tuning datasets\n",
      "\n",
      "\n",
      "train\n",
      "\n",
      "0\n",
      "bcm_behaviour_data_multi_subject/subject2/2022-11-09_14-34-16\n",
      "bcm_behaviour_data_multi_subject/subject2/2022-11-09_14-52-7\n",
      "bcm_behaviour_data_multi_subject/subject2/2022-11-09_14-15-6\n",
      "bcm_behaviour_data_multi_subject/subject2/2022-11-09_13-56-0\n",
      "bcm_behaviour_data_multi_subject/subject3/2022-11-09_15-47-1\n",
      "bcm_behaviour_data_multi_subject/subject3/2022-11-09_16-26-13\n",
      "bcm_behaviour_data_multi_subject/subject3/2022-11-09_15-27-14\n",
      "bcm_behaviour_data_multi_subject/subject3/2022-11-09_16-7-9\n",
      "bcm_behaviour_data_multi_subject/subject2/2022-11-09_14-15-6speed\n",
      "bcm_behaviour_data_multi_subject/subject2/2022-11-09_13-56-0speed\n",
      "bcm_behaviour_data_multi_subject/subject2/2022-11-09_14-34-16speed\n",
      "bcm_behaviour_data_multi_subject/subject2/2022-11-09_14-52-7speed\n",
      "bcm_behaviour_data_multi_subject/subject3/2022-11-09_15-47-1speed\n",
      "bcm_behaviour_data_multi_subject/subject3/2022-11-09_16-26-13speed\n",
      "bcm_behaviour_data_multi_subject/subject3/2022-11-09_15-27-14speed\n",
      "bcm_behaviour_data_multi_subject/subject3/2022-11-09_16-7-9speed\n",
      "1\n",
      "bcm_behaviour_data_multi_subject/subject3/2022-11-09_15-47-1\n",
      "bcm_behaviour_data_multi_subject/subject3/2022-11-09_16-26-13\n",
      "bcm_behaviour_data_multi_subject/subject3/2022-11-09_15-27-14\n",
      "bcm_behaviour_data_multi_subject/subject3/2022-11-09_16-7-9\n",
      "bcm_behaviour_data_multi_subject/subject1/2022-09-20_15-38-11\n",
      "bcm_behaviour_data_multi_subject/subject1/2022-09-20_14-58-39\n",
      "bcm_behaviour_data_multi_subject/subject1/2022-09-20_15-18-27\n",
      "bcm_behaviour_data_multi_subject/subject1/2022-09-20_15-57-37\n",
      "bcm_behaviour_data_multi_subject/subject3/2022-11-09_15-47-1speed\n",
      "bcm_behaviour_data_multi_subject/subject3/2022-11-09_16-26-13speed\n",
      "bcm_behaviour_data_multi_subject/subject3/2022-11-09_15-27-14speed\n",
      "bcm_behaviour_data_multi_subject/subject3/2022-11-09_16-7-9speed\n",
      "bcm_behaviour_data_multi_subject/subject1/2022-09-20_14-58-39speed\n",
      "bcm_behaviour_data_multi_subject/subject1/2022-09-20_15-57-37speed\n",
      "bcm_behaviour_data_multi_subject/subject1/2022-09-20_15-38-11speed\n",
      "bcm_behaviour_data_multi_subject/subject1/2022-09-20_15-18-27speed\n",
      "2\n",
      "bcm_behaviour_data_multi_subject/subject1/2022-09-20_15-38-11\n",
      "bcm_behaviour_data_multi_subject/subject1/2022-09-20_14-58-39\n",
      "bcm_behaviour_data_multi_subject/subject1/2022-09-20_15-18-27\n",
      "bcm_behaviour_data_multi_subject/subject1/2022-09-20_15-57-37\n",
      "bcm_behaviour_data_multi_subject/subject2/2022-11-09_14-34-16\n",
      "bcm_behaviour_data_multi_subject/subject2/2022-11-09_14-52-7\n",
      "bcm_behaviour_data_multi_subject/subject2/2022-11-09_14-15-6\n",
      "bcm_behaviour_data_multi_subject/subject2/2022-11-09_13-56-0\n",
      "bcm_behaviour_data_multi_subject/subject1/2022-09-20_14-58-39speed\n",
      "bcm_behaviour_data_multi_subject/subject1/2022-09-20_15-57-37speed\n",
      "bcm_behaviour_data_multi_subject/subject1/2022-09-20_15-38-11speed\n",
      "bcm_behaviour_data_multi_subject/subject1/2022-09-20_15-18-27speed\n",
      "bcm_behaviour_data_multi_subject/subject2/2022-11-09_14-15-6speed\n",
      "bcm_behaviour_data_multi_subject/subject2/2022-11-09_13-56-0speed\n",
      "bcm_behaviour_data_multi_subject/subject2/2022-11-09_14-34-16speed\n",
      "bcm_behaviour_data_multi_subject/subject2/2022-11-09_14-52-7speed\n",
      "3\n",
      "bcm_behaviour_data_multi_subject/subject2/2022-11-09_14-34-16\n",
      "bcm_behaviour_data_multi_subject/subject2/2022-11-09_14-52-7\n",
      "bcm_behaviour_data_multi_subject/subject2/2022-11-09_14-15-6\n",
      "bcm_behaviour_data_multi_subject/subject2/2022-11-09_13-56-0\n",
      "bcm_behaviour_data_multi_subject/subject3/2022-11-09_15-47-1\n",
      "bcm_behaviour_data_multi_subject/subject3/2022-11-09_16-26-13\n",
      "bcm_behaviour_data_multi_subject/subject3/2022-11-09_15-27-14\n",
      "bcm_behaviour_data_multi_subject/subject3/2022-11-09_16-7-9\n",
      "bcm_behaviour_data_multi_subject/subject2/2022-11-09_14-15-6speed\n",
      "bcm_behaviour_data_multi_subject/subject2/2022-11-09_13-56-0speed\n",
      "bcm_behaviour_data_multi_subject/subject2/2022-11-09_14-34-16speed\n",
      "bcm_behaviour_data_multi_subject/subject2/2022-11-09_14-52-7speed\n",
      "bcm_behaviour_data_multi_subject/subject3/2022-11-09_15-47-1speed\n",
      "bcm_behaviour_data_multi_subject/subject3/2022-11-09_16-26-13speed\n",
      "bcm_behaviour_data_multi_subject/subject3/2022-11-09_15-27-14speed\n",
      "bcm_behaviour_data_multi_subject/subject3/2022-11-09_16-7-9speed\n",
      "4\n",
      "bcm_behaviour_data_multi_subject/subject3/2022-11-09_15-47-1\n",
      "bcm_behaviour_data_multi_subject/subject3/2022-11-09_16-26-13\n",
      "bcm_behaviour_data_multi_subject/subject3/2022-11-09_15-27-14\n",
      "bcm_behaviour_data_multi_subject/subject3/2022-11-09_16-7-9\n",
      "bcm_behaviour_data_multi_subject/subject1/2022-09-20_15-38-11\n",
      "bcm_behaviour_data_multi_subject/subject1/2022-09-20_14-58-39\n",
      "bcm_behaviour_data_multi_subject/subject1/2022-09-20_15-18-27\n",
      "bcm_behaviour_data_multi_subject/subject1/2022-09-20_15-57-37\n",
      "bcm_behaviour_data_multi_subject/subject3/2022-11-09_15-47-1speed\n",
      "bcm_behaviour_data_multi_subject/subject3/2022-11-09_16-26-13speed\n",
      "bcm_behaviour_data_multi_subject/subject3/2022-11-09_15-27-14speed\n",
      "bcm_behaviour_data_multi_subject/subject3/2022-11-09_16-7-9speed\n",
      "bcm_behaviour_data_multi_subject/subject1/2022-09-20_14-58-39speed\n",
      "bcm_behaviour_data_multi_subject/subject1/2022-09-20_15-57-37speed\n",
      "bcm_behaviour_data_multi_subject/subject1/2022-09-20_15-38-11speed\n",
      "bcm_behaviour_data_multi_subject/subject1/2022-09-20_15-18-27speed\n",
      "5\n",
      "bcm_behaviour_data_multi_subject/subject1/2022-09-20_15-38-11\n",
      "bcm_behaviour_data_multi_subject/subject1/2022-09-20_14-58-39\n",
      "bcm_behaviour_data_multi_subject/subject1/2022-09-20_15-18-27\n",
      "bcm_behaviour_data_multi_subject/subject1/2022-09-20_15-57-37\n",
      "bcm_behaviour_data_multi_subject/subject2/2022-11-09_14-34-16\n",
      "bcm_behaviour_data_multi_subject/subject2/2022-11-09_14-52-7\n",
      "bcm_behaviour_data_multi_subject/subject2/2022-11-09_14-15-6\n",
      "bcm_behaviour_data_multi_subject/subject2/2022-11-09_13-56-0\n",
      "bcm_behaviour_data_multi_subject/subject1/2022-09-20_14-58-39speed\n",
      "bcm_behaviour_data_multi_subject/subject1/2022-09-20_15-57-37speed\n",
      "bcm_behaviour_data_multi_subject/subject1/2022-09-20_15-38-11speed\n",
      "bcm_behaviour_data_multi_subject/subject1/2022-09-20_15-18-27speed\n",
      "bcm_behaviour_data_multi_subject/subject2/2022-11-09_14-15-6speed\n",
      "bcm_behaviour_data_multi_subject/subject2/2022-11-09_13-56-0speed\n",
      "bcm_behaviour_data_multi_subject/subject2/2022-11-09_14-34-16speed\n",
      "bcm_behaviour_data_multi_subject/subject2/2022-11-09_14-52-7speed\n",
      "6\n",
      "bcm_behaviour_data_multi_subject/subject2/2022-11-09_14-34-16\n",
      "bcm_behaviour_data_multi_subject/subject2/2022-11-09_14-52-7\n",
      "bcm_behaviour_data_multi_subject/subject2/2022-11-09_14-15-6\n",
      "bcm_behaviour_data_multi_subject/subject2/2022-11-09_13-56-0\n",
      "bcm_behaviour_data_multi_subject/subject3/2022-11-09_15-47-1\n",
      "bcm_behaviour_data_multi_subject/subject3/2022-11-09_16-26-13\n",
      "bcm_behaviour_data_multi_subject/subject3/2022-11-09_15-27-14\n",
      "bcm_behaviour_data_multi_subject/subject3/2022-11-09_16-7-9\n",
      "bcm_behaviour_data_multi_subject/subject2/2022-11-09_14-15-6speed\n",
      "bcm_behaviour_data_multi_subject/subject2/2022-11-09_13-56-0speed\n",
      "bcm_behaviour_data_multi_subject/subject2/2022-11-09_14-34-16speed\n",
      "bcm_behaviour_data_multi_subject/subject2/2022-11-09_14-52-7speed\n",
      "bcm_behaviour_data_multi_subject/subject3/2022-11-09_15-47-1speed\n",
      "bcm_behaviour_data_multi_subject/subject3/2022-11-09_16-26-13speed\n",
      "bcm_behaviour_data_multi_subject/subject3/2022-11-09_15-27-14speed\n",
      "bcm_behaviour_data_multi_subject/subject3/2022-11-09_16-7-9speed\n",
      "7\n",
      "bcm_behaviour_data_multi_subject/subject3/2022-11-09_15-47-1\n",
      "bcm_behaviour_data_multi_subject/subject3/2022-11-09_16-26-13\n",
      "bcm_behaviour_data_multi_subject/subject3/2022-11-09_15-27-14\n",
      "bcm_behaviour_data_multi_subject/subject3/2022-11-09_16-7-9\n",
      "bcm_behaviour_data_multi_subject/subject1/2022-09-20_15-38-11\n",
      "bcm_behaviour_data_multi_subject/subject1/2022-09-20_14-58-39\n",
      "bcm_behaviour_data_multi_subject/subject1/2022-09-20_15-18-27\n",
      "bcm_behaviour_data_multi_subject/subject1/2022-09-20_15-57-37\n",
      "bcm_behaviour_data_multi_subject/subject3/2022-11-09_15-47-1speed\n",
      "bcm_behaviour_data_multi_subject/subject3/2022-11-09_16-26-13speed\n",
      "bcm_behaviour_data_multi_subject/subject3/2022-11-09_15-27-14speed\n",
      "bcm_behaviour_data_multi_subject/subject3/2022-11-09_16-7-9speed\n",
      "bcm_behaviour_data_multi_subject/subject1/2022-09-20_14-58-39speed\n",
      "bcm_behaviour_data_multi_subject/subject1/2022-09-20_15-57-37speed\n",
      "bcm_behaviour_data_multi_subject/subject1/2022-09-20_15-38-11speed\n",
      "bcm_behaviour_data_multi_subject/subject1/2022-09-20_15-18-27speed\n",
      "8\n",
      "bcm_behaviour_data_multi_subject/subject1/2022-09-20_15-38-11\n",
      "bcm_behaviour_data_multi_subject/subject1/2022-09-20_14-58-39\n",
      "bcm_behaviour_data_multi_subject/subject1/2022-09-20_15-18-27\n",
      "bcm_behaviour_data_multi_subject/subject1/2022-09-20_15-57-37\n",
      "bcm_behaviour_data_multi_subject/subject2/2022-11-09_14-34-16\n",
      "bcm_behaviour_data_multi_subject/subject2/2022-11-09_14-52-7\n",
      "bcm_behaviour_data_multi_subject/subject2/2022-11-09_14-15-6\n",
      "bcm_behaviour_data_multi_subject/subject2/2022-11-09_13-56-0\n",
      "bcm_behaviour_data_multi_subject/subject1/2022-09-20_14-58-39speed\n",
      "bcm_behaviour_data_multi_subject/subject1/2022-09-20_15-57-37speed\n",
      "bcm_behaviour_data_multi_subject/subject1/2022-09-20_15-38-11speed\n",
      "bcm_behaviour_data_multi_subject/subject1/2022-09-20_15-18-27speed\n",
      "bcm_behaviour_data_multi_subject/subject2/2022-11-09_14-15-6speed\n",
      "bcm_behaviour_data_multi_subject/subject2/2022-11-09_13-56-0speed\n",
      "bcm_behaviour_data_multi_subject/subject2/2022-11-09_14-34-16speed\n",
      "bcm_behaviour_data_multi_subject/subject2/2022-11-09_14-52-7speed\n",
      "9\n",
      "bcm_behaviour_data_multi_subject/subject2/2022-11-09_14-34-16\n",
      "bcm_behaviour_data_multi_subject/subject2/2022-11-09_14-52-7\n",
      "bcm_behaviour_data_multi_subject/subject2/2022-11-09_14-15-6\n",
      "bcm_behaviour_data_multi_subject/subject2/2022-11-09_13-56-0\n",
      "bcm_behaviour_data_multi_subject/subject3/2022-11-09_15-47-1\n",
      "bcm_behaviour_data_multi_subject/subject3/2022-11-09_16-26-13\n",
      "bcm_behaviour_data_multi_subject/subject3/2022-11-09_15-27-14\n",
      "bcm_behaviour_data_multi_subject/subject3/2022-11-09_16-7-9\n",
      "bcm_behaviour_data_multi_subject/subject2/2022-11-09_14-15-6speed\n",
      "bcm_behaviour_data_multi_subject/subject2/2022-11-09_13-56-0speed\n",
      "bcm_behaviour_data_multi_subject/subject2/2022-11-09_14-34-16speed\n",
      "bcm_behaviour_data_multi_subject/subject2/2022-11-09_14-52-7speed\n",
      "bcm_behaviour_data_multi_subject/subject3/2022-11-09_15-47-1speed\n",
      "bcm_behaviour_data_multi_subject/subject3/2022-11-09_16-26-13speed\n",
      "bcm_behaviour_data_multi_subject/subject3/2022-11-09_15-27-14speed\n",
      "bcm_behaviour_data_multi_subject/subject3/2022-11-09_16-7-9speed\n",
      "10\n",
      "bcm_behaviour_data_multi_subject/subject3/2022-11-09_15-47-1\n",
      "bcm_behaviour_data_multi_subject/subject3/2022-11-09_16-26-13\n",
      "bcm_behaviour_data_multi_subject/subject3/2022-11-09_15-27-14\n",
      "bcm_behaviour_data_multi_subject/subject3/2022-11-09_16-7-9\n",
      "bcm_behaviour_data_multi_subject/subject1/2022-09-20_15-38-11\n",
      "bcm_behaviour_data_multi_subject/subject1/2022-09-20_14-58-39\n",
      "bcm_behaviour_data_multi_subject/subject1/2022-09-20_15-18-27\n",
      "bcm_behaviour_data_multi_subject/subject1/2022-09-20_15-57-37\n",
      "bcm_behaviour_data_multi_subject/subject3/2022-11-09_15-47-1speed\n",
      "bcm_behaviour_data_multi_subject/subject3/2022-11-09_16-26-13speed\n",
      "bcm_behaviour_data_multi_subject/subject3/2022-11-09_15-27-14speed\n",
      "bcm_behaviour_data_multi_subject/subject3/2022-11-09_16-7-9speed\n",
      "bcm_behaviour_data_multi_subject/subject1/2022-09-20_14-58-39speed\n",
      "bcm_behaviour_data_multi_subject/subject1/2022-09-20_15-57-37speed\n",
      "bcm_behaviour_data_multi_subject/subject1/2022-09-20_15-38-11speed\n",
      "bcm_behaviour_data_multi_subject/subject1/2022-09-20_15-18-27speed\n",
      "11\n",
      "bcm_behaviour_data_multi_subject/subject1/2022-09-20_15-38-11\n",
      "bcm_behaviour_data_multi_subject/subject1/2022-09-20_14-58-39\n",
      "bcm_behaviour_data_multi_subject/subject1/2022-09-20_15-18-27\n",
      "bcm_behaviour_data_multi_subject/subject1/2022-09-20_15-57-37\n",
      "bcm_behaviour_data_multi_subject/subject2/2022-11-09_14-34-16\n",
      "bcm_behaviour_data_multi_subject/subject2/2022-11-09_14-52-7\n",
      "bcm_behaviour_data_multi_subject/subject2/2022-11-09_14-15-6\n",
      "bcm_behaviour_data_multi_subject/subject2/2022-11-09_13-56-0\n",
      "bcm_behaviour_data_multi_subject/subject1/2022-09-20_14-58-39speed\n",
      "bcm_behaviour_data_multi_subject/subject1/2022-09-20_15-57-37speed\n",
      "bcm_behaviour_data_multi_subject/subject1/2022-09-20_15-38-11speed\n",
      "bcm_behaviour_data_multi_subject/subject1/2022-09-20_15-18-27speed\n",
      "bcm_behaviour_data_multi_subject/subject2/2022-11-09_14-15-6speed\n",
      "bcm_behaviour_data_multi_subject/subject2/2022-11-09_13-56-0speed\n",
      "bcm_behaviour_data_multi_subject/subject2/2022-11-09_14-34-16speed\n",
      "bcm_behaviour_data_multi_subject/subject2/2022-11-09_14-52-7speed\n",
      "\n",
      "val\n",
      "\n",
      "0\n",
      "bcm_behaviour_data_multi_subject/subject1/2022-09-20_14-58-39\n",
      "bcm_behaviour_data_multi_subject/subject1/2022-09-20_15-18-27\n",
      "bcm_behaviour_data_multi_subject/subject1/2022-09-20_15-57-37\n",
      "1\n",
      "bcm_behaviour_data_multi_subject/subject2/2022-11-09_14-52-7\n",
      "bcm_behaviour_data_multi_subject/subject2/2022-11-09_14-15-6\n",
      "bcm_behaviour_data_multi_subject/subject2/2022-11-09_13-56-0\n",
      "2\n",
      "bcm_behaviour_data_multi_subject/subject3/2022-11-09_16-26-13\n",
      "bcm_behaviour_data_multi_subject/subject3/2022-11-09_15-27-14\n",
      "bcm_behaviour_data_multi_subject/subject3/2022-11-09_16-7-9\n",
      "3\n",
      "bcm_behaviour_data_multi_subject/subject1/2022-09-20_15-38-11\n",
      "bcm_behaviour_data_multi_subject/subject1/2022-09-20_15-18-27\n",
      "bcm_behaviour_data_multi_subject/subject1/2022-09-20_15-57-37\n",
      "4\n",
      "bcm_behaviour_data_multi_subject/subject2/2022-11-09_14-34-16\n",
      "bcm_behaviour_data_multi_subject/subject2/2022-11-09_14-15-6\n",
      "bcm_behaviour_data_multi_subject/subject2/2022-11-09_13-56-0\n",
      "5\n",
      "bcm_behaviour_data_multi_subject/subject3/2022-11-09_15-47-1\n",
      "bcm_behaviour_data_multi_subject/subject3/2022-11-09_15-27-14\n",
      "bcm_behaviour_data_multi_subject/subject3/2022-11-09_16-7-9\n",
      "6\n",
      "bcm_behaviour_data_multi_subject/subject1/2022-09-20_15-38-11\n",
      "bcm_behaviour_data_multi_subject/subject1/2022-09-20_14-58-39\n",
      "bcm_behaviour_data_multi_subject/subject1/2022-09-20_15-57-37\n",
      "7\n",
      "bcm_behaviour_data_multi_subject/subject2/2022-11-09_14-34-16\n",
      "bcm_behaviour_data_multi_subject/subject2/2022-11-09_14-52-7\n",
      "bcm_behaviour_data_multi_subject/subject2/2022-11-09_13-56-0\n",
      "8\n",
      "bcm_behaviour_data_multi_subject/subject3/2022-11-09_15-47-1\n",
      "bcm_behaviour_data_multi_subject/subject3/2022-11-09_16-26-13\n",
      "bcm_behaviour_data_multi_subject/subject3/2022-11-09_16-7-9\n",
      "9\n",
      "bcm_behaviour_data_multi_subject/subject1/2022-09-20_15-38-11\n",
      "bcm_behaviour_data_multi_subject/subject1/2022-09-20_14-58-39\n",
      "bcm_behaviour_data_multi_subject/subject1/2022-09-20_15-18-27\n",
      "10\n",
      "bcm_behaviour_data_multi_subject/subject2/2022-11-09_14-34-16\n",
      "bcm_behaviour_data_multi_subject/subject2/2022-11-09_14-52-7\n",
      "bcm_behaviour_data_multi_subject/subject2/2022-11-09_14-15-6\n",
      "11\n",
      "bcm_behaviour_data_multi_subject/subject3/2022-11-09_15-47-1\n",
      "bcm_behaviour_data_multi_subject/subject3/2022-11-09_16-26-13\n",
      "bcm_behaviour_data_multi_subject/subject3/2022-11-09_15-27-14\n",
      "\n",
      "Finetune\n",
      "\n",
      "0\n",
      "bcm_behaviour_data_multi_subject/subject1/2022-09-20_15-38-11\n",
      "1\n",
      "bcm_behaviour_data_multi_subject/subject2/2022-11-09_14-34-16\n",
      "2\n",
      "bcm_behaviour_data_multi_subject/subject3/2022-11-09_15-47-1\n",
      "3\n",
      "bcm_behaviour_data_multi_subject/subject1/2022-09-20_14-58-39\n",
      "4\n",
      "bcm_behaviour_data_multi_subject/subject2/2022-11-09_14-52-7\n",
      "5\n",
      "bcm_behaviour_data_multi_subject/subject3/2022-11-09_16-26-13\n",
      "6\n",
      "bcm_behaviour_data_multi_subject/subject1/2022-09-20_15-18-27\n",
      "7\n",
      "bcm_behaviour_data_multi_subject/subject2/2022-11-09_14-15-6\n",
      "8\n",
      "bcm_behaviour_data_multi_subject/subject3/2022-11-09_15-27-14\n",
      "9\n",
      "bcm_behaviour_data_multi_subject/subject1/2022-09-20_15-57-37\n",
      "10\n",
      "bcm_behaviour_data_multi_subject/subject2/2022-11-09_13-56-0\n",
      "11\n",
      "bcm_behaviour_data_multi_subject/subject3/2022-11-09_16-7-9\n"
     ]
    }
   ],
   "source": [
    "\n",
    "ft_datasets = create_ft_datasets_da()\n",
    "                                                   \n",
    "\n",
    "#loso_datasets = create_loso_datasets()"
   ]
  },
  {
   "cell_type": "code",
   "execution_count": 3,
   "metadata": {
    "scrolled": true,
    "tags": []
   },
   "outputs": [
    {
     "name": "stderr",
     "output_type": "stream",
     "text": [
      "Global seed set to 555\n"
     ]
    },
    {
     "name": "stdout",
     "output_type": "stream",
     "text": [
      "_____________________\n",
      "<class 'list'>\n",
      "_____________________\n",
      "Validation set\n",
      "bcm_behaviour_data_multi_subject/subject1/2022-09-20_14-58-39/0.npy\n",
      "bcm_behaviour_data_multi_subject/subject1/2022-09-20_14-58-39/1.npy\n",
      "bcm_behaviour_data_multi_subject/subject1/2022-09-20_14-58-39/2.npy\n",
      "bcm_behaviour_data_multi_subject/subject1/2022-09-20_14-58-39/3.npy\n",
      "bcm_behaviour_data_multi_subject/subject1/2022-09-20_14-58-39/4.npy\n",
      "bcm_behaviour_data_multi_subject/subject1/2022-09-20_15-18-27/0.npy\n",
      "bcm_behaviour_data_multi_subject/subject1/2022-09-20_15-18-27/1.npy\n",
      "bcm_behaviour_data_multi_subject/subject1/2022-09-20_15-18-27/2.npy\n",
      "bcm_behaviour_data_multi_subject/subject1/2022-09-20_15-18-27/3.npy\n",
      "bcm_behaviour_data_multi_subject/subject1/2022-09-20_15-18-27/4.npy\n",
      "bcm_behaviour_data_multi_subject/subject1/2022-09-20_15-57-37/0.npy\n",
      "bcm_behaviour_data_multi_subject/subject1/2022-09-20_15-57-37/1.npy\n",
      "bcm_behaviour_data_multi_subject/subject1/2022-09-20_15-57-37/2.npy\n",
      "bcm_behaviour_data_multi_subject/subject1/2022-09-20_15-57-37/3.npy\n",
      "bcm_behaviour_data_multi_subject/subject1/2022-09-20_15-57-37/4.npy\n",
      "Training set\n",
      "bcm_behaviour_data_multi_subject/subject2/2022-11-09_14-34-16/0.npy\n",
      "bcm_behaviour_data_multi_subject/subject2/2022-11-09_14-34-16/1.npy\n",
      "bcm_behaviour_data_multi_subject/subject2/2022-11-09_14-34-16/2.npy\n",
      "bcm_behaviour_data_multi_subject/subject2/2022-11-09_14-34-16/3.npy\n",
      "bcm_behaviour_data_multi_subject/subject2/2022-11-09_14-34-16/4.npy\n",
      "bcm_behaviour_data_multi_subject/subject2/2022-11-09_14-52-7/0.npy\n",
      "bcm_behaviour_data_multi_subject/subject2/2022-11-09_14-52-7/1.npy\n",
      "bcm_behaviour_data_multi_subject/subject2/2022-11-09_14-52-7/2.npy\n",
      "bcm_behaviour_data_multi_subject/subject2/2022-11-09_14-52-7/3.npy\n",
      "bcm_behaviour_data_multi_subject/subject2/2022-11-09_14-52-7/4.npy\n",
      "bcm_behaviour_data_multi_subject/subject2/2022-11-09_14-15-6/0.npy\n",
      "bcm_behaviour_data_multi_subject/subject2/2022-11-09_14-15-6/1.npy\n",
      "bcm_behaviour_data_multi_subject/subject2/2022-11-09_14-15-6/2.npy\n",
      "bcm_behaviour_data_multi_subject/subject2/2022-11-09_14-15-6/3.npy\n",
      "bcm_behaviour_data_multi_subject/subject2/2022-11-09_14-15-6/4.npy\n",
      "bcm_behaviour_data_multi_subject/subject2/2022-11-09_13-56-0/0.npy\n",
      "bcm_behaviour_data_multi_subject/subject2/2022-11-09_13-56-0/1.npy\n",
      "bcm_behaviour_data_multi_subject/subject2/2022-11-09_13-56-0/2.npy\n",
      "bcm_behaviour_data_multi_subject/subject2/2022-11-09_13-56-0/3.npy\n",
      "bcm_behaviour_data_multi_subject/subject2/2022-11-09_13-56-0/4.npy\n",
      "bcm_behaviour_data_multi_subject/subject3/2022-11-09_15-47-1/0.npy\n",
      "bcm_behaviour_data_multi_subject/subject3/2022-11-09_15-47-1/1.npy\n",
      "bcm_behaviour_data_multi_subject/subject3/2022-11-09_15-47-1/2.npy\n",
      "bcm_behaviour_data_multi_subject/subject3/2022-11-09_15-47-1/3.npy\n",
      "bcm_behaviour_data_multi_subject/subject3/2022-11-09_15-47-1/4.npy\n",
      "bcm_behaviour_data_multi_subject/subject3/2022-11-09_16-26-13/0.npy\n",
      "bcm_behaviour_data_multi_subject/subject3/2022-11-09_16-26-13/1.npy\n",
      "bcm_behaviour_data_multi_subject/subject3/2022-11-09_16-26-13/2.npy\n",
      "bcm_behaviour_data_multi_subject/subject3/2022-11-09_16-26-13/3.npy\n",
      "bcm_behaviour_data_multi_subject/subject3/2022-11-09_16-26-13/4.npy\n",
      "bcm_behaviour_data_multi_subject/subject3/2022-11-09_15-27-14/0.npy\n",
      "bcm_behaviour_data_multi_subject/subject3/2022-11-09_15-27-14/1.npy\n",
      "bcm_behaviour_data_multi_subject/subject3/2022-11-09_15-27-14/2.npy\n",
      "bcm_behaviour_data_multi_subject/subject3/2022-11-09_15-27-14/3.npy\n",
      "bcm_behaviour_data_multi_subject/subject3/2022-11-09_15-27-14/4.npy\n",
      "bcm_behaviour_data_multi_subject/subject3/2022-11-09_16-7-9/0.npy\n",
      "bcm_behaviour_data_multi_subject/subject3/2022-11-09_16-7-9/1.npy\n",
      "bcm_behaviour_data_multi_subject/subject3/2022-11-09_16-7-9/2.npy\n",
      "bcm_behaviour_data_multi_subject/subject3/2022-11-09_16-7-9/3.npy\n",
      "bcm_behaviour_data_multi_subject/subject3/2022-11-09_16-7-9/4.npy\n",
      "bcm_behaviour_data_multi_subject/subject2/2022-11-09_14-15-6speed/0.npy\n",
      "bcm_behaviour_data_multi_subject/subject2/2022-11-09_14-15-6speed/1.npy\n",
      "bcm_behaviour_data_multi_subject/subject2/2022-11-09_14-15-6speed/2.npy\n",
      "bcm_behaviour_data_multi_subject/subject2/2022-11-09_14-15-6speed/3.npy\n",
      "bcm_behaviour_data_multi_subject/subject2/2022-11-09_14-15-6speed/4.npy\n",
      "bcm_behaviour_data_multi_subject/subject2/2022-11-09_13-56-0speed/0.npy\n",
      "bcm_behaviour_data_multi_subject/subject2/2022-11-09_13-56-0speed/1.npy\n",
      "bcm_behaviour_data_multi_subject/subject2/2022-11-09_13-56-0speed/2.npy\n",
      "bcm_behaviour_data_multi_subject/subject2/2022-11-09_13-56-0speed/3.npy\n",
      "bcm_behaviour_data_multi_subject/subject2/2022-11-09_13-56-0speed/4.npy\n",
      "bcm_behaviour_data_multi_subject/subject2/2022-11-09_14-34-16speed/0.npy\n",
      "bcm_behaviour_data_multi_subject/subject2/2022-11-09_14-34-16speed/1.npy\n",
      "bcm_behaviour_data_multi_subject/subject2/2022-11-09_14-34-16speed/2.npy\n",
      "bcm_behaviour_data_multi_subject/subject2/2022-11-09_14-34-16speed/3.npy\n",
      "bcm_behaviour_data_multi_subject/subject2/2022-11-09_14-34-16speed/4.npy\n",
      "bcm_behaviour_data_multi_subject/subject2/2022-11-09_14-52-7speed/0.npy\n",
      "bcm_behaviour_data_multi_subject/subject2/2022-11-09_14-52-7speed/1.npy\n",
      "bcm_behaviour_data_multi_subject/subject2/2022-11-09_14-52-7speed/2.npy\n",
      "bcm_behaviour_data_multi_subject/subject2/2022-11-09_14-52-7speed/3.npy\n",
      "bcm_behaviour_data_multi_subject/subject2/2022-11-09_14-52-7speed/4.npy\n",
      "bcm_behaviour_data_multi_subject/subject3/2022-11-09_15-47-1speed/0.npy\n",
      "bcm_behaviour_data_multi_subject/subject3/2022-11-09_15-47-1speed/1.npy\n",
      "bcm_behaviour_data_multi_subject/subject3/2022-11-09_15-47-1speed/2.npy\n",
      "bcm_behaviour_data_multi_subject/subject3/2022-11-09_15-47-1speed/3.npy\n",
      "bcm_behaviour_data_multi_subject/subject3/2022-11-09_15-47-1speed/4.npy\n",
      "bcm_behaviour_data_multi_subject/subject3/2022-11-09_16-26-13speed/0.npy\n",
      "bcm_behaviour_data_multi_subject/subject3/2022-11-09_16-26-13speed/1.npy\n",
      "bcm_behaviour_data_multi_subject/subject3/2022-11-09_16-26-13speed/2.npy\n",
      "bcm_behaviour_data_multi_subject/subject3/2022-11-09_16-26-13speed/3.npy\n",
      "bcm_behaviour_data_multi_subject/subject3/2022-11-09_16-26-13speed/4.npy\n",
      "bcm_behaviour_data_multi_subject/subject3/2022-11-09_15-27-14speed/0.npy\n",
      "bcm_behaviour_data_multi_subject/subject3/2022-11-09_15-27-14speed/1.npy\n",
      "bcm_behaviour_data_multi_subject/subject3/2022-11-09_15-27-14speed/2.npy\n",
      "bcm_behaviour_data_multi_subject/subject3/2022-11-09_15-27-14speed/3.npy\n",
      "bcm_behaviour_data_multi_subject/subject3/2022-11-09_15-27-14speed/4.npy\n",
      "bcm_behaviour_data_multi_subject/subject3/2022-11-09_16-7-9speed/0.npy\n",
      "bcm_behaviour_data_multi_subject/subject3/2022-11-09_16-7-9speed/1.npy\n",
      "bcm_behaviour_data_multi_subject/subject3/2022-11-09_16-7-9speed/2.npy\n",
      "bcm_behaviour_data_multi_subject/subject3/2022-11-09_16-7-9speed/3.npy\n",
      "bcm_behaviour_data_multi_subject/subject3/2022-11-09_16-7-9speed/4.npy\n"
     ]
    },
    {
     "name": "stderr",
     "output_type": "stream",
     "text": [
      "GPU available: True (cuda), used: True\n",
      "TPU available: False, using: 0 TPU cores\n",
      "IPU available: False, using: 0 IPUs\n",
      "HPU available: False, using: 0 HPUs\n",
      "LOCAL_RANK: 0 - CUDA_VISIBLE_DEVICES: [0,1]\n"
     ]
    },
    {
     "name": "stdout",
     "output_type": "stream",
     "text": [
      "https://app.neptune.ai/NTLAB/BCM-activity-classification/e/BCMAC-1365\n",
      "Remember to stop your run once you’ve finished logging your metadata (https://docs.neptune.ai/api-reference/run#.stop). It will be stopped automatically only when the notebook kernel/interactive console is terminated.\n"
     ]
    },
    {
     "name": "stderr",
     "output_type": "stream",
     "text": [
      "Warning: string series 'metadata/file_path' value was longer than 1000 characters and was truncated. This warning is printed only once per series.\n",
      "\n",
      "  | Name         | Type             | Params\n",
      "--------------------------------------------------\n",
      "0 | lstm         | LSTM             | 149 K \n",
      "1 | flatten      | Flatten          | 0     \n",
      "2 | fc           | Linear           | 1.3 K \n",
      "3 | output       | Sigmoid          | 0     \n",
      "4 | sm           | Softmax          | 0     \n",
      "5 | loss         | CrossEntropyLoss | 0     \n",
      "6 | accuracy     | Accuracy         | 0     \n",
      "7 | val_accuracy | Accuracy         | 0     \n",
      "--------------------------------------------------\n",
      "150 K     Trainable params\n",
      "0         Non-trainable params\n",
      "150 K     Total params\n",
      "0.603     Total estimated model params size (MB)\n"
     ]
    },
    {
     "data": {
      "application/vnd.jupyter.widget-view+json": {
       "model_id": "",
       "version_major": 2,
       "version_minor": 0
      },
      "text/plain": [
       "Sanity Checking: 0it [00:00, ?it/s]"
      ]
     },
     "metadata": {},
     "output_type": "display_data"
    },
    {
     "name": "stdout",
     "output_type": "stream",
     "text": [
      "{'progress_bar': {'val_loss': 1.5980808734893799}, 'log': {'val_loss': 1.5980808734893799}, 'val_loss': 1.5980808734893799}\n",
      "Accuracy: 0.1875\n"
     ]
    },
    {
     "name": "stderr",
     "output_type": "stream",
     "text": [
      "/home/aron/.local/lib/python3.9/site-packages/pytorch_lightning/core/module.py:555: UserWarning: To copy construct from a tensor, it is recommended to use sourceTensor.clone().detach() or sourceTensor.clone().detach().requires_grad_(True), rather than torch.tensor(sourceTensor).\n",
      "  value = torch.tensor(value, device=self.device)\n"
     ]
    },
    {
     "data": {
      "application/vnd.jupyter.widget-view+json": {
       "model_id": "fdeacb37c0af411896af74a180e214e5",
       "version_major": 2,
       "version_minor": 0
      },
      "text/plain": [
       "Training: 0it [00:00, ?it/s]"
      ]
     },
     "metadata": {},
     "output_type": "display_data"
    },
    {
     "data": {
      "application/vnd.jupyter.widget-view+json": {
       "model_id": "",
       "version_major": 2,
       "version_minor": 0
      },
      "text/plain": [
       "Validation: 0it [00:00, ?it/s]"
      ]
     },
     "metadata": {},
     "output_type": "display_data"
    },
    {
     "name": "stdout",
     "output_type": "stream",
     "text": [
      "{'progress_bar': {'val_loss': 1.4719443321228027}, 'log': {'val_loss': 1.4719443321228027}, 'val_loss': 1.4719443321228027}\n",
      "Accuracy: 0.7218198776245117\n",
      "Accuracy: 0.7470157742500305\n"
     ]
    },
    {
     "data": {
      "application/vnd.jupyter.widget-view+json": {
       "model_id": "",
       "version_major": 2,
       "version_minor": 0
      },
      "text/plain": [
       "Validation: 0it [00:00, ?it/s]"
      ]
     },
     "metadata": {},
     "output_type": "display_data"
    },
    {
     "name": "stdout",
     "output_type": "stream",
     "text": [
      "{'progress_bar': {'val_loss': 1.4542781114578247}, 'log': {'val_loss': 1.4542781114578247}, 'val_loss': 1.4542781114578247}\n",
      "Accuracy: 0.7758588790893555\n",
      "Accuracy: 0.7685090899467468\n"
     ]
    },
    {
     "data": {
      "application/vnd.jupyter.widget-view+json": {
       "model_id": "",
       "version_major": 2,
       "version_minor": 0
      },
      "text/plain": [
       "Validation: 0it [00:00, ?it/s]"
      ]
     },
     "metadata": {},
     "output_type": "display_data"
    },
    {
     "name": "stdout",
     "output_type": "stream",
     "text": [
      "{'progress_bar': {'val_loss': 1.457258701324463}, 'log': {'val_loss': 1.457258701324463}, 'val_loss': 1.457258701324463}\n",
      "Accuracy: 0.7645310759544373\n",
      "Accuracy: 0.7778555750846863\n"
     ]
    },
    {
     "data": {
      "application/vnd.jupyter.widget-view+json": {
       "model_id": "",
       "version_major": 2,
       "version_minor": 0
      },
      "text/plain": [
       "Validation: 0it [00:00, ?it/s]"
      ]
     },
     "metadata": {},
     "output_type": "display_data"
    },
    {
     "name": "stdout",
     "output_type": "stream",
     "text": [
      "{'progress_bar': {'val_loss': 1.463701844215393}, 'log': {'val_loss': 1.463701844215393}, 'val_loss': 1.463701844215393}\n",
      "Accuracy: 0.7478179931640625\n",
      "Accuracy: 0.7818812131881714\n"
     ]
    },
    {
     "data": {
      "application/vnd.jupyter.widget-view+json": {
       "model_id": "",
       "version_major": 2,
       "version_minor": 0
      },
      "text/plain": [
       "Validation: 0it [00:00, ?it/s]"
      ]
     },
     "metadata": {},
     "output_type": "display_data"
    },
    {
     "name": "stdout",
     "output_type": "stream",
     "text": [
      "{'progress_bar': {'val_loss': 1.4581410884857178}, 'log': {'val_loss': 1.4581410884857178}, 'val_loss': 1.4581410884857178}\n",
      "Accuracy: 0.7792015075683594\n",
      "Accuracy: 0.7812861204147339\n"
     ]
    },
    {
     "data": {
      "application/vnd.jupyter.widget-view+json": {
       "model_id": "",
       "version_major": 2,
       "version_minor": 0
      },
      "text/plain": [
       "Validation: 0it [00:00, ?it/s]"
      ]
     },
     "metadata": {},
     "output_type": "display_data"
    },
    {
     "name": "stdout",
     "output_type": "stream",
     "text": [
      "{'progress_bar': {'val_loss': 1.4537214040756226}, 'log': {'val_loss': 1.4537214040756226}, 'val_loss': 1.4537214040756226}\n",
      "Accuracy: 0.7740018367767334\n",
      "Accuracy: 0.7832463979721069\n"
     ]
    },
    {
     "data": {
      "application/vnd.jupyter.widget-view+json": {
       "model_id": "",
       "version_major": 2,
       "version_minor": 0
      },
      "text/plain": [
       "Validation: 0it [00:00, ?it/s]"
      ]
     },
     "metadata": {},
     "output_type": "display_data"
    },
    {
     "name": "stdout",
     "output_type": "stream",
     "text": [
      "{'progress_bar': {'val_loss': 1.4596443176269531}, 'log': {'val_loss': 1.4596443176269531}, 'val_loss': 1.4596443176269531}\n",
      "Accuracy: 0.7483751177787781\n",
      "Accuracy: 0.7841565608978271\n"
     ]
    },
    {
     "data": {
      "application/vnd.jupyter.widget-view+json": {
       "model_id": "",
       "version_major": 2,
       "version_minor": 0
      },
      "text/plain": [
       "Validation: 0it [00:00, ?it/s]"
      ]
     },
     "metadata": {},
     "output_type": "display_data"
    },
    {
     "name": "stdout",
     "output_type": "stream",
     "text": [
      "{'progress_bar': {'val_loss': 1.4646663665771484}, 'log': {'val_loss': 1.4646663665771484}, 'val_loss': 1.4646663665771484}\n",
      "Accuracy: 0.7199628353118896\n",
      "Accuracy: 0.7864319086074829\n"
     ]
    },
    {
     "data": {
      "application/vnd.jupyter.widget-view+json": {
       "model_id": "",
       "version_major": 2,
       "version_minor": 0
      },
      "text/plain": [
       "Validation: 0it [00:00, ?it/s]"
      ]
     },
     "metadata": {},
     "output_type": "display_data"
    },
    {
     "name": "stdout",
     "output_type": "stream",
     "text": [
      "{'progress_bar': {'val_loss': 1.4614661931991577}, 'log': {'val_loss': 1.4614661931991577}, 'val_loss': 1.4614661931991577}\n",
      "Accuracy: 0.7277622818946838\n",
      "Accuracy: 0.7876920700073242\n"
     ]
    },
    {
     "data": {
      "application/vnd.jupyter.widget-view+json": {
       "model_id": "",
       "version_major": 2,
       "version_minor": 0
      },
      "text/plain": [
       "Validation: 0it [00:00, ?it/s]"
      ]
     },
     "metadata": {},
     "output_type": "display_data"
    },
    {
     "name": "stdout",
     "output_type": "stream",
     "text": [
      "{'progress_bar': {'val_loss': 1.4757494926452637}, 'log': {'val_loss': 1.4757494926452637}, 'val_loss': 1.4757494926452637}\n",
      "Accuracy: 0.6939647197723389\n",
      "Accuracy: 0.7964784502983093\n"
     ]
    },
    {
     "data": {
      "application/vnd.jupyter.widget-view+json": {
       "model_id": "",
       "version_major": 2,
       "version_minor": 0
      },
      "text/plain": [
       "Validation: 0it [00:00, ?it/s]"
      ]
     },
     "metadata": {},
     "output_type": "display_data"
    },
    {
     "name": "stdout",
     "output_type": "stream",
     "text": [
      "{'progress_bar': {'val_loss': 1.462219476699829}, 'log': {'val_loss': 1.462219476699829}, 'val_loss': 1.462219476699829}\n",
      "Accuracy: 0.7376044392585754\n",
      "Accuracy: 0.7933979630470276\n"
     ]
    },
    {
     "data": {
      "application/vnd.jupyter.widget-view+json": {
       "model_id": "",
       "version_major": 2,
       "version_minor": 0
      },
      "text/plain": [
       "Validation: 0it [00:00, ?it/s]"
      ]
     },
     "metadata": {},
     "output_type": "display_data"
    },
    {
     "name": "stdout",
     "output_type": "stream",
     "text": [
      "{'progress_bar': {'val_loss': 1.4702645540237427}, 'log': {'val_loss': 1.4702645540237427}, 'val_loss': 1.4702645540237427}\n",
      "Accuracy: 0.7244197130203247\n",
      "Accuracy: 0.8053698539733887\n"
     ]
    },
    {
     "data": {
      "application/vnd.jupyter.widget-view+json": {
       "model_id": "",
       "version_major": 2,
       "version_minor": 0
      },
      "text/plain": [
       "Validation: 0it [00:00, ?it/s]"
      ]
     },
     "metadata": {},
     "output_type": "display_data"
    },
    {
     "name": "stdout",
     "output_type": "stream",
     "text": [
      "{'progress_bar': {'val_loss': 1.4572168588638306}, 'log': {'val_loss': 1.4572168588638306}, 'val_loss': 1.4572168588638306}\n",
      "Accuracy: 0.763602614402771\n",
      "Accuracy: 0.8195470571517944\n"
     ]
    },
    {
     "data": {
      "application/vnd.jupyter.widget-view+json": {
       "model_id": "",
       "version_major": 2,
       "version_minor": 0
      },
      "text/plain": [
       "Validation: 0it [00:00, ?it/s]"
      ]
     },
     "metadata": {},
     "output_type": "display_data"
    },
    {
     "name": "stdout",
     "output_type": "stream",
     "text": [
      "{'progress_bar': {'val_loss': 1.463768720626831}, 'log': {'val_loss': 1.463768720626831}, 'val_loss': 1.463768720626831}\n",
      "Accuracy: 0.7259052991867065\n",
      "Accuracy: 0.8083803057670593\n"
     ]
    },
    {
     "data": {
      "application/vnd.jupyter.widget-view+json": {
       "model_id": "",
       "version_major": 2,
       "version_minor": 0
      },
      "text/plain": [
       "Validation: 0it [00:00, ?it/s]"
      ]
     },
     "metadata": {},
     "output_type": "display_data"
    },
    {
     "name": "stdout",
     "output_type": "stream",
     "text": [
      "{'progress_bar': {'val_loss': 1.4675379991531372}, 'log': {'val_loss': 1.4675379991531372}, 'val_loss': 1.4675379991531372}\n",
      "Accuracy: 0.7062209844589233\n",
      "Accuracy: 0.8147863149642944\n"
     ]
    },
    {
     "data": {
      "application/vnd.jupyter.widget-view+json": {
       "model_id": "",
       "version_major": 2,
       "version_minor": 0
      },
      "text/plain": [
       "Validation: 0it [00:00, ?it/s]"
      ]
     },
     "metadata": {},
     "output_type": "display_data"
    },
    {
     "name": "stdout",
     "output_type": "stream",
     "text": [
      "{'progress_bar': {'val_loss': 1.4517829418182373}, 'log': {'val_loss': 1.4517829418182373}, 'val_loss': 1.4517829418182373}\n",
      "Accuracy: 0.8376973271369934\n",
      "Accuracy: 0.9038401246070862\n"
     ]
    },
    {
     "data": {
      "application/vnd.jupyter.widget-view+json": {
       "model_id": "",
       "version_major": 2,
       "version_minor": 0
      },
      "text/plain": [
       "Validation: 0it [00:00, ?it/s]"
      ]
     },
     "metadata": {},
     "output_type": "display_data"
    },
    {
     "name": "stdout",
     "output_type": "stream",
     "text": [
      "{'progress_bar': {'val_loss': 1.4541027545928955}, 'log': {'val_loss': 1.4541027545928955}, 'val_loss': 1.4541027545928955}\n",
      "Accuracy: 0.8246982097625732\n",
      "Accuracy: 0.9491370916366577\n"
     ]
    },
    {
     "data": {
      "application/vnd.jupyter.widget-view+json": {
       "model_id": "",
       "version_major": 2,
       "version_minor": 0
      },
      "text/plain": [
       "Validation: 0it [00:00, ?it/s]"
      ]
     },
     "metadata": {},
     "output_type": "display_data"
    },
    {
     "name": "stdout",
     "output_type": "stream",
     "text": [
      "{'progress_bar': {'val_loss': 1.4774640798568726}, 'log': {'val_loss': 1.4774640798568726}, 'val_loss': 1.4774640798568726}\n",
      "Accuracy: 0.735561728477478\n",
      "Accuracy: 0.9519375562667847\n"
     ]
    },
    {
     "data": {
      "application/vnd.jupyter.widget-view+json": {
       "model_id": "",
       "version_major": 2,
       "version_minor": 0
      },
      "text/plain": [
       "Validation: 0it [00:00, ?it/s]"
      ]
     },
     "metadata": {},
     "output_type": "display_data"
    },
    {
     "name": "stdout",
     "output_type": "stream",
     "text": [
      "{'progress_bar': {'val_loss': 1.479353427886963}, 'log': {'val_loss': 1.479353427886963}, 'val_loss': 1.479353427886963}\n",
      "Accuracy: 0.7225626707077026\n",
      "Accuracy: 0.9534428119659424\n"
     ]
    },
    {
     "data": {
      "application/vnd.jupyter.widget-view+json": {
       "model_id": "",
       "version_major": 2,
       "version_minor": 0
      },
      "text/plain": [
       "Validation: 0it [00:00, ?it/s]"
      ]
     },
     "metadata": {},
     "output_type": "display_data"
    },
    {
     "name": "stdout",
     "output_type": "stream",
     "text": [
      "{'progress_bar': {'val_loss': 1.4567867517471313}, 'log': {'val_loss': 1.4567867517471313}, 'val_loss': 1.4567867517471313}\n",
      "Accuracy: 0.8098421692848206\n",
      "Accuracy: 0.9538278579711914\n"
     ]
    },
    {
     "data": {
      "application/vnd.jupyter.widget-view+json": {
       "model_id": "",
       "version_major": 2,
       "version_minor": 0
      },
      "text/plain": [
       "Validation: 0it [00:00, ?it/s]"
      ]
     },
     "metadata": {},
     "output_type": "display_data"
    },
    {
     "name": "stdout",
     "output_type": "stream",
     "text": [
      "{'progress_bar': {'val_loss': 1.4595519304275513}, 'log': {'val_loss': 1.4595519304275513}, 'val_loss': 1.4595519304275513}\n",
      "Accuracy: 0.7981429696083069\n",
      "Accuracy: 0.9549829959869385\n"
     ]
    },
    {
     "data": {
      "application/vnd.jupyter.widget-view+json": {
       "model_id": "",
       "version_major": 2,
       "version_minor": 0
      },
      "text/plain": [
       "Validation: 0it [00:00, ?it/s]"
      ]
     },
     "metadata": {},
     "output_type": "display_data"
    },
    {
     "name": "stdout",
     "output_type": "stream",
     "text": [
      "{'progress_bar': {'val_loss': 1.4758808612823486}, 'log': {'val_loss': 1.4758808612823486}, 'val_loss': 1.4758808612823486}\n",
      "Accuracy: 0.7335190176963806\n",
      "Accuracy: 0.9564182162284851\n"
     ]
    },
    {
     "data": {
      "application/vnd.jupyter.widget-view+json": {
       "model_id": "",
       "version_major": 2,
       "version_minor": 0
      },
      "text/plain": [
       "Validation: 0it [00:00, ?it/s]"
      ]
     },
     "metadata": {},
     "output_type": "display_data"
    },
    {
     "name": "stdout",
     "output_type": "stream",
     "text": [
      "{'progress_bar': {'val_loss': 1.4568053483963013}, 'log': {'val_loss': 1.4568053483963013}, 'val_loss': 1.4568053483963013}\n",
      "Accuracy: 0.8148560523986816\n",
      "Accuracy: 0.9572233557701111\n"
     ]
    },
    {
     "data": {
      "application/vnd.jupyter.widget-view+json": {
       "model_id": "",
       "version_major": 2,
       "version_minor": 0
      },
      "text/plain": [
       "Validation: 0it [00:00, ?it/s]"
      ]
     },
     "metadata": {},
     "output_type": "display_data"
    },
    {
     "name": "stdout",
     "output_type": "stream",
     "text": [
      "{'progress_bar': {'val_loss': 1.4533865451812744}, 'log': {'val_loss': 1.4533865451812744}, 'val_loss': 1.4533865451812744}\n",
      "Accuracy: 0.8280408382415771\n",
      "Accuracy: 0.9564182162284851\n"
     ]
    },
    {
     "data": {
      "application/vnd.jupyter.widget-view+json": {
       "model_id": "",
       "version_major": 2,
       "version_minor": 0
      },
      "text/plain": [
       "Validation: 0it [00:00, ?it/s]"
      ]
     },
     "metadata": {},
     "output_type": "display_data"
    },
    {
     "name": "stdout",
     "output_type": "stream",
     "text": [
      "{'progress_bar': {'val_loss': 1.4616121053695679}, 'log': {'val_loss': 1.4616121053695679}, 'val_loss': 1.4616121053695679}\n",
      "Accuracy: 0.7842153906822205\n",
      "Accuracy: 0.9577484726905823\n"
     ]
    },
    {
     "data": {
      "application/vnd.jupyter.widget-view+json": {
       "model_id": "",
       "version_major": 2,
       "version_minor": 0
      },
      "text/plain": [
       "Validation: 0it [00:00, ?it/s]"
      ]
     },
     "metadata": {},
     "output_type": "display_data"
    },
    {
     "name": "stdout",
     "output_type": "stream",
     "text": [
      "{'progress_bar': {'val_loss': 1.4599261283874512}, 'log': {'val_loss': 1.4599261283874512}, 'val_loss': 1.4599261283874512}\n",
      "Accuracy: 0.7968431115150452\n",
      "Accuracy: 0.9589036107063293\n"
     ]
    },
    {
     "data": {
      "application/vnd.jupyter.widget-view+json": {
       "model_id": "",
       "version_major": 2,
       "version_minor": 0
      },
      "text/plain": [
       "Validation: 0it [00:00, ?it/s]"
      ]
     },
     "metadata": {},
     "output_type": "display_data"
    },
    {
     "name": "stdout",
     "output_type": "stream",
     "text": [
      "{'progress_bar': {'val_loss': 1.4620989561080933}, 'log': {'val_loss': 1.4620989561080933}, 'val_loss': 1.4620989561080933}\n",
      "Accuracy: 0.7897864580154419\n",
      "Accuracy: 0.9585185647010803\n"
     ]
    },
    {
     "data": {
      "application/vnd.jupyter.widget-view+json": {
       "model_id": "",
       "version_major": 2,
       "version_minor": 0
      },
      "text/plain": [
       "Validation: 0it [00:00, ?it/s]"
      ]
     },
     "metadata": {},
     "output_type": "display_data"
    },
    {
     "name": "stdout",
     "output_type": "stream",
     "text": [
      "{'progress_bar': {'val_loss': 1.4738988876342773}, 'log': {'val_loss': 1.4738988876342773}, 'val_loss': 1.4738988876342773}\n",
      "Accuracy: 0.7392757534980774\n",
      "Accuracy: 0.9606888890266418\n"
     ]
    },
    {
     "data": {
      "application/vnd.jupyter.widget-view+json": {
       "model_id": "",
       "version_major": 2,
       "version_minor": 0
      },
      "text/plain": [
       "Validation: 0it [00:00, ?it/s]"
      ]
     },
     "metadata": {},
     "output_type": "display_data"
    },
    {
     "name": "stdout",
     "output_type": "stream",
     "text": [
      "{'progress_bar': {'val_loss': 1.4536787271499634}, 'log': {'val_loss': 1.4536787271499634}, 'val_loss': 1.4536787271499634}\n",
      "Accuracy: 0.821169912815094\n",
      "Accuracy: 0.9593936800956726\n"
     ]
    },
    {
     "data": {
      "application/vnd.jupyter.widget-view+json": {
       "model_id": "",
       "version_major": 2,
       "version_minor": 0
      },
      "text/plain": [
       "Validation: 0it [00:00, ?it/s]"
      ]
     },
     "metadata": {},
     "output_type": "display_data"
    },
    {
     "name": "stdout",
     "output_type": "stream",
     "text": [
      "{'progress_bar': {'val_loss': 1.4524742364883423}, 'log': {'val_loss': 1.4524742364883423}, 'val_loss': 1.4524742364883423}\n",
      "Accuracy: 0.8367688059806824\n",
      "Accuracy: 0.9613890051841736\n"
     ]
    },
    {
     "data": {
      "application/vnd.jupyter.widget-view+json": {
       "model_id": "",
       "version_major": 2,
       "version_minor": 0
      },
      "text/plain": [
       "Validation: 0it [00:00, ?it/s]"
      ]
     },
     "metadata": {},
     "output_type": "display_data"
    },
    {
     "name": "stdout",
     "output_type": "stream",
     "text": [
      "{'progress_bar': {'val_loss': 1.4685289859771729}, 'log': {'val_loss': 1.4685289859771729}, 'val_loss': 1.4685289859771729}\n",
      "Accuracy: 0.7628598213195801\n",
      "Accuracy: 0.9606539011001587\n"
     ]
    },
    {
     "data": {
      "application/vnd.jupyter.widget-view+json": {
       "model_id": "",
       "version_major": 2,
       "version_minor": 0
      },
      "text/plain": [
       "Validation: 0it [00:00, ?it/s]"
      ]
     },
     "metadata": {},
     "output_type": "display_data"
    },
    {
     "name": "stdout",
     "output_type": "stream",
     "text": [
      "{'progress_bar': {'val_loss': 1.4612867832183838}, 'log': {'val_loss': 1.4612867832183838}, 'val_loss': 1.4612867832183838}\n",
      "Accuracy: 0.7948004007339478\n",
      "Accuracy: 0.9621241092681885\n"
     ]
    },
    {
     "data": {
      "application/vnd.jupyter.widget-view+json": {
       "model_id": "",
       "version_major": 2,
       "version_minor": 0
      },
      "text/plain": [
       "Validation: 0it [00:00, ?it/s]"
      ]
     },
     "metadata": {},
     "output_type": "display_data"
    },
    {
     "name": "stdout",
     "output_type": "stream",
     "text": [
      "{'progress_bar': {'val_loss': 1.4621622562408447}, 'log': {'val_loss': 1.4621622562408447}, 'val_loss': 1.4621622562408447}\n",
      "Accuracy: 0.7961002588272095\n",
      "Accuracy: 0.9622991681098938\n"
     ]
    },
    {
     "data": {
      "application/vnd.jupyter.widget-view+json": {
       "model_id": "",
       "version_major": 2,
       "version_minor": 0
      },
      "text/plain": [
       "Validation: 0it [00:00, ?it/s]"
      ]
     },
     "metadata": {},
     "output_type": "display_data"
    },
    {
     "name": "stdout",
     "output_type": "stream",
     "text": [
      "{'progress_bar': {'val_loss': 1.4681544303894043}, 'log': {'val_loss': 1.4681544303894043}, 'val_loss': 1.4681544303894043}\n",
      "Accuracy: 0.7682451009750366\n",
      "Accuracy: 0.9620891213417053\n"
     ]
    },
    {
     "data": {
      "application/vnd.jupyter.widget-view+json": {
       "model_id": "",
       "version_major": 2,
       "version_minor": 0
      },
      "text/plain": [
       "Validation: 0it [00:00, ?it/s]"
      ]
     },
     "metadata": {},
     "output_type": "display_data"
    },
    {
     "name": "stdout",
     "output_type": "stream",
     "text": [
      "{'progress_bar': {'val_loss': 1.4602898359298706}, 'log': {'val_loss': 1.4602898359298706}, 'val_loss': 1.4602898359298706}\n",
      "Accuracy: 0.8048282265663147\n",
      "Accuracy: 0.9654146432876587\n"
     ]
    },
    {
     "data": {
      "application/vnd.jupyter.widget-view+json": {
       "model_id": "",
       "version_major": 2,
       "version_minor": 0
      },
      "text/plain": [
       "Validation: 0it [00:00, ?it/s]"
      ]
     },
     "metadata": {},
     "output_type": "display_data"
    },
    {
     "name": "stdout",
     "output_type": "stream",
     "text": [
      "{'progress_bar': {'val_loss': 1.4758131504058838}, 'log': {'val_loss': 1.4758131504058838}, 'val_loss': 1.4758131504058838}\n",
      "Accuracy: 0.7455896139144897\n",
      "Accuracy: 0.9646444916725159\n"
     ]
    },
    {
     "data": {
      "application/vnd.jupyter.widget-view+json": {
       "model_id": "",
       "version_major": 2,
       "version_minor": 0
      },
      "text/plain": [
       "Validation: 0it [00:00, ?it/s]"
      ]
     },
     "metadata": {},
     "output_type": "display_data"
    },
    {
     "name": "stdout",
     "output_type": "stream",
     "text": [
      "{'progress_bar': {'val_loss': 1.4678961038589478}, 'log': {'val_loss': 1.4678961038589478}, 'val_loss': 1.4678961038589478}\n",
      "Accuracy: 0.7717734575271606\n",
      "Accuracy: 0.9667448401451111\n"
     ]
    },
    {
     "data": {
      "application/vnd.jupyter.widget-view+json": {
       "model_id": "",
       "version_major": 2,
       "version_minor": 0
      },
      "text/plain": [
       "Validation: 0it [00:00, ?it/s]"
      ]
     },
     "metadata": {},
     "output_type": "display_data"
    },
    {
     "name": "stdout",
     "output_type": "stream",
     "text": [
      "{'progress_bar': {'val_loss': 1.4594018459320068}, 'log': {'val_loss': 1.4594018459320068}, 'val_loss': 1.4594018459320068}\n",
      "Accuracy: 0.8042711019515991\n",
      "Accuracy: 0.9671298861503601\n"
     ]
    },
    {
     "data": {
      "application/vnd.jupyter.widget-view+json": {
       "model_id": "",
       "version_major": 2,
       "version_minor": 0
      },
      "text/plain": [
       "Validation: 0it [00:00, ?it/s]"
      ]
     },
     "metadata": {},
     "output_type": "display_data"
    },
    {
     "name": "stdout",
     "output_type": "stream",
     "text": [
      "{'progress_bar': {'val_loss': 1.462050199508667}, 'log': {'val_loss': 1.462050199508667}, 'val_loss': 1.462050199508667}\n",
      "Accuracy: 0.7877437472343445\n",
      "Accuracy: 0.9657996892929077\n"
     ]
    },
    {
     "data": {
      "application/vnd.jupyter.widget-view+json": {
       "model_id": "",
       "version_major": 2,
       "version_minor": 0
      },
      "text/plain": [
       "Validation: 0it [00:00, ?it/s]"
      ]
     },
     "metadata": {},
     "output_type": "display_data"
    },
    {
     "name": "stderr",
     "output_type": "stream",
     "text": [
      "`Trainer.fit` stopped: `max_epochs=40` reached.\n"
     ]
    },
    {
     "name": "stdout",
     "output_type": "stream",
     "text": [
      "{'progress_bar': {'val_loss': 1.4588369131088257}, 'log': {'val_loss': 1.4588369131088257}, 'val_loss': 1.4588369131088257}\n",
      "Accuracy: 0.8064995408058167\n",
      "Accuracy: 0.9652045965194702\n"
     ]
    },
    {
     "ename": "ValueError",
     "evalue": "max() arg is an empty sequence",
     "output_type": "error",
     "traceback": [
      "\u001b[0;31m---------------------------------------------------------------------------\u001b[0m",
      "\u001b[0;31mValueError\u001b[0m                                Traceback (most recent call last)",
      "\u001b[0;32m/tmp/ipykernel_3887989/2596135709.py\u001b[0m in \u001b[0;36m<cell line: 29>\u001b[0;34m()\u001b[0m\n\u001b[1;32m     27\u001b[0m \u001b[0;31m# Find the latest checkpoint\u001b[0m\u001b[0;34m\u001b[0m\u001b[0;34m\u001b[0m\u001b[0m\n\u001b[1;32m     28\u001b[0m \u001b[0mlist_of_checkpoints\u001b[0m \u001b[0;34m=\u001b[0m \u001b[0mglob\u001b[0m\u001b[0;34m.\u001b[0m\u001b[0mglob\u001b[0m\u001b[0;34m(\u001b[0m\u001b[0;34m'checkpoints/*'\u001b[0m\u001b[0;34m)\u001b[0m\u001b[0;34m\u001b[0m\u001b[0;34m\u001b[0m\u001b[0m\n\u001b[0;32m---> 29\u001b[0;31m \u001b[0mlatest_checkpoint\u001b[0m \u001b[0;34m=\u001b[0m \u001b[0mmax\u001b[0m\u001b[0;34m(\u001b[0m\u001b[0mlist_of_checkpoints\u001b[0m\u001b[0;34m,\u001b[0m \u001b[0mkey\u001b[0m \u001b[0;34m=\u001b[0m \u001b[0mos\u001b[0m\u001b[0;34m.\u001b[0m\u001b[0mpath\u001b[0m\u001b[0;34m.\u001b[0m\u001b[0mgetctime\u001b[0m\u001b[0;34m)\u001b[0m\u001b[0;34m\u001b[0m\u001b[0;34m\u001b[0m\u001b[0m\n\u001b[0m\u001b[1;32m     30\u001b[0m \u001b[0mprint\u001b[0m\u001b[0;34m(\u001b[0m\u001b[0mlatest_checkpoint\u001b[0m\u001b[0;34m)\u001b[0m \u001b[0;31m# Sanity check\u001b[0m\u001b[0;34m\u001b[0m\u001b[0;34m\u001b[0m\u001b[0m\n\u001b[1;32m     31\u001b[0m \u001b[0;34m\u001b[0m\u001b[0m\n",
      "\u001b[0;31mValueError\u001b[0m: max() arg is an empty sequence"
     ]
    }
   ],
   "source": [
    "seed = 555\n",
    "seed_everything(seed)\n",
    "    \n",
    "neptune_logger = NeptuneLogger(\n",
    "    project=\"NTLAB/BCM-activity-classification\",\n",
    "    api_token=\"eyJhcGlfYWRkcmVzcyI6Imh0dHBzOi8vYXBwLm5lcHR1bmUuYWkiLCJhcGlfdXJsIjoiaHR0cHM6Ly9hcHAubmVwdHVuZS5haSIsImFwaV9rZXkiOiIxYTA4NzcxMy1lYmQ2LTQ3NTctYjRhNC02Mzk1NjdjMWM0NmYifQ==\",\n",
    "    source_files=[\"train_model.ipynb\", \"model.py\", \"BCM_dataset_v2.py\"]\n",
    ")\n",
    "\n",
    "checkpoint_callback = ModelCheckpoint(dirpath = 'checkpoints/', filename = 'latest_checkpoint')\n",
    "\n",
    "model = LSTM_Model(ft_datasets[0], window_size = 3, stride = 1 ,lstm_hidden_size = 128, seed = seed, temporal_cutout = False)\n",
    "\n",
    "trainer = Trainer(max_epochs=40, \n",
    "                min_epochs=1, \n",
    "                auto_lr_find=False, \n",
    "                auto_scale_batch_size=False,\n",
    "                enable_checkpointing=False, \n",
    "                accelerator=\"gpu\", \n",
    "                devices = 1, \n",
    "                logger=neptune_logger,\n",
    "                callbacks = [checkpoint_callback])\n",
    "trainer.tune(model)\n",
    "trainer.fit(model)\n",
    "        \n",
    "neptune_logger.experiment[\"metadata/augmentation\"].log(\"best\")\n",
    "\n",
    "# Find the latest checkpoint\n",
    "list_of_checkpoints = glob.glob('checkpoints/*') \n",
    "latest_checkpoint = max(list_of_checkpoints, key = os.path.getctime) \n",
    "print(latest_checkpoint) # Sanity check\n",
    "    \n",
    "    \n",
    "    \n",
    "trainer_finetune = Trainer(max_epochs=80, \n",
    "                    min_epochs=100, \n",
    "                    auto_lr_find=False, \n",
    "                    auto_scale_batch_size=False,\n",
    "                    enable_checkpointing=False, \n",
    "                    accelerator=\"gpu\", \n",
    "                    devices = 1, \n",
    "                    logger=neptune_logger,\n",
    "                    callbacks = [checkpoint_callback])\n",
    "trainer_finetune.tune(model)\n",
    "    \n",
    "# Create a dataloader from the new subject specific data\n",
    "\n",
    "dataset = ft_datasets[0]\n",
    "\n",
    "dataset_finetune, _ = concat_train_test_datasets([dataset[2],dataset[2]], window_size = 3, stride = 1)\n",
    "    \n",
    "neptune_logger.experiment[\"metadata/train_set_length\"].log(len(dataset_finetune))\n",
    "    \n",
    "finetuning_dataloader = DataLoader(dataset_finetune, batch_size=32, shuffle=True, num_workers = 8)\n",
    "    \n",
    "trainer_finetune.fit(model, finetuning_dataloader, ckpt_path=latest_checkpoint)\n",
    "        \n",
    "        \n",
    "model_scripted = torch.jit.script(model) # Export to TorchScript\n",
    "model_scripted.save(f\"trained_models/ft_final_ft_file_2022-09-20_15-38-11\") # Save\n",
    "        \n",
    "        \n",
    "# Stop logging\n",
    "neptune_logger.experiment.stop()\n",
    "        "
   ]
  },
  {
   "cell_type": "raw",
   "metadata": {},
   "source": [
    "\n",
    "for dataset in loso_datasets:\n",
    "    for seed in range(1):\n",
    "    \n",
    "        seed = 555\n",
    "        seed_everything(seed)\n",
    "    \n",
    "        neptune_logger = NeptuneLogger(\n",
    "            project=\"NTLAB/BCM-activity-classification\",\n",
    "            api_token=\"eyJhcGlfYWRkcmVzcyI6Imh0dHBzOi8vYXBwLm5lcHR1bmUuYWkiLCJhcGlfdXJsIjoiaHR0cHM6Ly9hcHAubmVwdHVuZS5haSIsImFwaV9rZXkiOiIxYTA4NzcxMy1lYmQ2LTQ3NTctYjRhNC02Mzk1NjdjMWM0NmYifQ==\",\n",
    "            source_files=[\"train_model.ipynb\", \"model.py\", \"BCM_dataset_v2.py\"]\n",
    "        )\n",
    "\n",
    "        model = LSTM_Model(dataset, window_size = 3, stride = 1 ,lstm_hidden_size = 128, seed = seed, temporal_cutout = False)\n",
    "\n",
    "        trainer = Trainer(max_epochs=40, \n",
    "                        min_epochs=1, \n",
    "                        auto_lr_find=False, \n",
    "                        auto_scale_batch_size=False,\n",
    "                        enable_checkpointing=False, \n",
    "                        accelerator=\"gpu\", \n",
    "                        devices = 1, \n",
    "                        logger=neptune_logger)\n",
    "        trainer.tune(model)\n",
    "        trainer.fit(model)\n",
    "        \n",
    "        neptune_logger.experiment[\"metadata/augmentation\"].log(\"best\")\n",
    "        \n",
    "        \n",
    "        model_scripted = torch.jit.script(model) # Export to TorchScript\n",
    "        model_scripted.save(f\"trained_models/final_loso_val_subject{subject_num}\") # Save\n",
    "        \n",
    "        \n",
    "        # Stop logging\n",
    "        neptune_logger.experiment.stop()\n",
    "        \n",
    "        "
   ]
  },
  {
   "cell_type": "raw",
   "metadata": {},
   "source": [
    "# Fine-tuning model\n",
    "\n",
    "for dataset in ft_datasets:\n",
    "    seed = 100\n",
    "    seed_everything(seed)\n",
    "    \n",
    "    neptune_logger = NeptuneLogger(\n",
    "        project=\"NTLAB/BCM-activity-classification\",\n",
    "        api_token=\"eyJhcGlfYWRkcmVzcyI6Imh0dHBzOi8vYXBwLm5lcHR1bmUuYWkiLCJhcGlfdXJsIjoiaHR0cHM6Ly9hcHAubmVwdHVuZS5haSIsImFwaV9rZXkiOiIxYTA4NzcxMy1lYmQ2LTQ3NTctYjRhNC02Mzk1NjdjMWM0NmYifQ==\",\n",
    "        source_files=[\"train_model.ipynb\", \"model.py\", \"BCM_dataset_v2.py\"]\n",
    "    )\n",
    "    \n",
    "    checkpoint_callback = ModelCheckpoint(dirpath = 'checkpoints/', filename = 'latest_checkpoint')\n",
    "\n",
    "    model = LSTM_Model(dataset, window_size = 3, stride = 1 ,lstm_hidden_size = 128, seed = seed)\n",
    "\n",
    "    trainer = Trainer(max_epochs=40, \n",
    "                    min_epochs=1, \n",
    "                    auto_lr_find=False, \n",
    "                    auto_scale_batch_size=False,\n",
    "                    enable_checkpointing=True, \n",
    "                    accelerator=\"gpu\", \n",
    "                    devices = 1, \n",
    "                    logger=neptune_logger,\n",
    "                    callbacks = [checkpoint_callback])\n",
    "    trainer.tune(model)\n",
    "    trainer.fit(model)\n",
    "    \n",
    "    # Find the latest checkpoint\n",
    "    list_of_checkpoints = glob.glob('checkpoints/*') \n",
    "    latest_checkpoint = max(list_of_checkpoints, key = os.path.getctime) \n",
    "    print(latest_checkpoint) # Sanity check\n",
    "    \n",
    "    \n",
    "    \n",
    "    trainer_finetune = Trainer(max_epochs=80, \n",
    "                    min_epochs=100, \n",
    "                    auto_lr_find=False, \n",
    "                    auto_scale_batch_size=False,\n",
    "                    enable_checkpointing=False, \n",
    "                    accelerator=\"gpu\", \n",
    "                    devices = 1, \n",
    "                    logger=neptune_logger)\n",
    "    trainer_finetune.tune(model)\n",
    "    \n",
    "    # Create a dataloader from the new subject specific data\n",
    "    dataset_finetune, _ = concat_train_test_datasets([dataset[2],dataset[2]], window_size = 3, stride = 1)\n",
    "    \n",
    "    neptune_logger.experiment[\"metadata/train_set_length\"].log(len(dataset_finetune))\n",
    "    \n",
    "    finetuning_dataloader = DataLoader(dataset_finetune, batch_size=32, shuffle=True, num_workers = 8)\n",
    "    \n",
    "    trainer_finetune.fit(model, finetuning_dataloader, ckpt_path=latest_checkpoint)\n",
    "    \n",
    "    \n",
    "    model_scripted = torch.jit.script(model) # Export to TorchScript\n",
    "    model_scripted.save(f\"trained_models/ft_model_val_subject_1_ft_file_2022-09-20_15-38-11\") # Save\n",
    "    \n",
    "    # Stop logging\n",
    "    neptune_logger.experiment.stop()"
   ]
  },
  {
   "cell_type": "code",
   "execution_count": null,
   "metadata": {},
   "outputs": [],
   "source": [
    "\n",
    "\n",
    "#model_scripted = torch.jit.script(model) # Export to TorchScript\n",
    "#model_scripted.save(\"trained_models/oct_31\") # Save"
   ]
  }
 ],
 "metadata": {
  "kernelspec": {
   "display_name": "Python 3 (ipykernel)",
   "language": "python",
   "name": "python3"
  },
  "language_info": {
   "codemirror_mode": {
    "name": "ipython",
    "version": 3
   },
   "file_extension": ".py",
   "mimetype": "text/x-python",
   "name": "python",
   "nbconvert_exporter": "python",
   "pygments_lexer": "ipython3",
   "version": "3.9.12"
  },
  "vscode": {
   "interpreter": {
    "hash": "8a5edab282632443219e051e4ade2d1d5bbc671c781051bf1437897cbdfea0f1"
   }
  }
 },
 "nbformat": 4,
 "nbformat_minor": 4
}
