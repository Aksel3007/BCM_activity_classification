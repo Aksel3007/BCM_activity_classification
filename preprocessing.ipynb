{
 "cells": [
  {
   "cell_type": "markdown",
   "metadata": {},
   "source": [
    "# Preprocessing files \n"
   ]
  },
  {
   "cell_type": "code",
   "execution_count": 1,
   "metadata": {},
   "outputs": [],
   "source": [
    "import os\n",
    "import torch\n",
    "from torch.utils.data import Dataset, DataLoader\n",
    "import numpy as np\n",
    "import h5py\n",
    "from python_speech_features import mfcc\n",
    "import matplotlib.pyplot as plt\n",
    "import tracemalloc\n",
    "\n",
    "tracemalloc.start() # Enable memory profiling"
   ]
  },
  {
   "cell_type": "markdown",
   "metadata": {},
   "source": [
    "#"
   ]
  },
  {
   "cell_type": "markdown",
   "metadata": {},
   "source": [
    "## Find files, and list structure"
   ]
  },
  {
   "cell_type": "code",
   "execution_count": 2,
   "metadata": {},
   "outputs": [
    {
     "name": "stdout",
     "output_type": "stream",
     "text": [
      "//uni.au.dk/dfs/Tech_EarEEG/Students/Msc2022_BCM_AkselStark\\data/sourcedata_subj-01.hdf5\n",
      "['DAQ970A', 'gTec', 'streaminfo']\n",
      "Index of the hdf5 file: 0\n",
      "DAQ970A\n",
      "    ['data', 'labels']\n",
      "gTec\n",
      "    ['data', 'labels']\n",
      "streaminfo\n",
      "    No subkeys\n",
      "    [(8, b'cf_float32', 8649.913, b'5125-240-003', b'gTec',  1200, b'gTecUSBamp_UB-2015.01-11', b'Mixed')\n",
      " (3, b'cf_float32', 8651.712, b'5125-240-003', b'DAQ970A', 50000, b'DAQ970A::TCPIP::192.168.56.100', b'Generic')]\n"
     ]
    }
   ],
   "source": [
    "\n",
    "# OS walk through the directory to find the files\n",
    "root_dir = '//uni.au.dk/dfs/Tech_EarEEG/Students/Msc2022_BCM_AkselStark'\n",
    "data = [] # Empty list to store all hdf5 files in the directory\n",
    "\n",
    "for subdir, dirs, files in sorted(os.walk(root_dir)):\n",
    "    for file in files:\n",
    "        if \"hdf5\" in file:\n",
    "            # Load the hdf5 file, and append to the list\n",
    "            data.append(h5py.File(os.path.join(subdir, file), 'r'))\n",
    "            \n",
    "            print(f'{subdir}/{file}') # Print the filename\n",
    "            keylist = list(data[0].keys())\n",
    "            print( keylist) # Print the keys of the hdf5 file\n",
    "            for i,j in enumerate(data):\n",
    "                print(f'Index of the hdf5 file: {i}') # Print the index of the hdf5 file\n",
    "                for key in keylist:\n",
    "                    print(key)\n",
    "                    try: # Try to print the keys. If it fails, print the data\n",
    "                        print(f\"    {list(data[i][key].keys())}\")\n",
    "                    except:\n",
    "                        print(\"    No subkeys\")\n",
    "                        print(f\"    {np.array(data[i][key])}\")\n",
    "                        s = data[i][key]\n",
    "            "
   ]
  },
  {
   "cell_type": "markdown",
   "metadata": {},
   "source": [
    "## Load data, and calculate cepstrum"
   ]
  },
  {
   "cell_type": "code",
   "execution_count": 3,
   "metadata": {},
   "outputs": [
    {
     "name": "stdout",
     "output_type": "stream",
     "text": [
      "Memory usage: 0.12743 MB\n",
      "\n",
      "Memory usage: 1493.107355 MB\n",
      "\n"
     ]
    }
   ],
   "source": [
    "print(f'Memory usage: {tracemalloc.get_traced_memory()[0]/1000000} MB\\n')\n",
    "data_bcm = []\n",
    "data_full = np.array(data[0]['DAQ970A']['data'])\n",
    "data_bcm.append(data_full[:,0])\n",
    "data_bcm.append(data_full[:,1])\n",
    "print(f'Memory usage: {tracemalloc.get_traced_memory()[0]/1000000} MB\\n')\n",
    "\n",
    "pass"
   ]
  },
  {
   "cell_type": "code",
   "execution_count": 4,
   "metadata": {},
   "outputs": [
    {
     "name": "stdout",
     "output_type": "stream",
     "text": [
      "Memory usage: 1499.630736 MB\n",
      "\n",
      "Memory usage: 1506.100419 MB\n",
      "\n",
      "Memory usage: 1512.570147 MB\n",
      "\n",
      "Memory usage: 1519.039859 MB\n",
      "\n",
      "Memory usage: 1525.509603 MB\n",
      "\n",
      "Memory usage: 1531.979339 MB\n",
      "\n",
      "Memory usage: 1538.449051 MB\n",
      "\n",
      "Memory usage: 1544.918763 MB\n",
      "\n",
      "Memory usage: 1544.919437 MB\n",
      "\n"
     ]
    }
   ],
   "source": [
    "data_mfcc = [] # Empty list to store the mel frequency cepstral coefficients (list of numpy arrays)\n",
    "\n",
    "for datastream in data_bcm:\n",
    "    if datastream.shape[0] > 100000000: # Crashes if the datastream is too long. Split into chunks\n",
    "        section_len = int(datastream.shape[0]/4)\n",
    "        data_mfcc.append(mfcc(datastream[0:section_len],samplerate = 50000, nfft = 1250)) # Sample rate is important when using mel scale\n",
    "        print(f'Memory usage: {tracemalloc.get_traced_memory()[0]/1000000} MB\\n')\n",
    "        data_mfcc.append(mfcc(datastream[section_len : section_len * 2],samplerate = 50000, nfft = 1250)) \n",
    "        print(f'Memory usage: {tracemalloc.get_traced_memory()[0]/1000000} MB\\n')\n",
    "        data_mfcc.append(mfcc(datastream[section_len * 2 : section_len * 3],samplerate = 50000, nfft = 1250)) \n",
    "        print(f'Memory usage: {tracemalloc.get_traced_memory()[0]/1000000} MB\\n')\n",
    "        data_mfcc.append(mfcc(datastream[section_len * 3 :],samplerate = 50000, nfft = 1250)) \n",
    "        print(f'Memory usage: {tracemalloc.get_traced_memory()[0]/1000000} MB\\n')\n",
    "        \n",
    "        #data_mfcc.append(mfcc(datastream[int(datastream.shape[0]/2):],samplerate = 50000, nfft = 1250)) # Sample rate is important when using mel scale\n",
    "    else:\n",
    "        #data_mfcc.append(mfcc(datastream,samplerate = 50000, nfft = 1250))\n",
    "        print('!!!!!!!!!!!')\n",
    "        pass\n",
    "    \n",
    "\n",
    "print(f'Memory usage: {tracemalloc.get_traced_memory()[0]/1000000} MB\\n')\n",
    "\n",
    "\n"
   ]
  },
  {
   "cell_type": "markdown",
   "metadata": {},
   "source": [
    "## Save to files"
   ]
  },
  {
   "cell_type": "code",
   "execution_count": null,
   "metadata": {},
   "outputs": [],
   "source": []
  },
  {
   "cell_type": "markdown",
   "metadata": {},
   "source": [
    "## Plot cepstrum\n"
   ]
  },
  {
   "cell_type": "code",
   "execution_count": null,
   "metadata": {},
   "outputs": [
    {
     "name": "stderr",
     "output_type": "stream",
     "text": [
      "C:\\Users\\Aksel\\AppData\\Local\\Temp\\ipykernel_17936\\1889299385.py:3: RuntimeWarning: invalid value encountered in log\n",
      "  plt.pcolormesh(np.log(mfcc_test[0:50,1:].transpose()),shading='auto')\n"
     ]
    },
    {
     "data": {
      "image/png": "[encoded data removed]",
      "text/plain": [
       "<Figure size 432x288 with 1 Axes>"
      ]
     },
     "metadata": {
      "needs_background": "light"
     },
     "output_type": "display_data"
    }
   ],
   "source": [
    "# Plot spectrogram\n",
    "#plt.pcolormesh(t[0:20], f, np.log(spectrogram_list[segment_index]),shading='auto')\n",
    "plt.pcolormesh(np.log(mfcc_test[0:50,1:].transpose()),shading='auto')\n",
    "plt.ylabel('Cepstrum Coefficients')\n",
    "plt.xlabel('Time [sec]')\n",
    "plt.show()"
   ]
  },
  {
   "cell_type": "code",
   "execution_count": null,
   "metadata": {},
   "outputs": [],
   "source": [
    "pass"
   ]
  }
 ],
 "metadata": {
  "kernelspec": {
   "display_name": "Python 3.9.4 64-bit",
   "language": "python",
   "name": "python3"
  },
  "language_info": {
   "codemirror_mode": {
    "name": "ipython",
    "version": 3
   },
   "file_extension": ".py",
   "mimetype": "text/x-python",
   "name": "python",
   "nbconvert_exporter": "python",
   "pygments_lexer": "ipython3",
   "version": "3.9.4"
  },
  "orig_nbformat": 4,
  "vscode": {
   "interpreter": {
    "hash": "5b608601bcce3d66bb15d8ba50334176c9c54db5e2e6c3520f282aef80df0bf0"
   }
  }
 },
 "nbformat": 4,
 "nbformat_minor": 2
}
