{
 "cells": [
  {
   "cell_type": "markdown",
   "metadata": {},
   "source": [
    "# Preprocessing files \n"
   ]
  },
  {
   "cell_type": "code",
   "execution_count": 19,
   "metadata": {},
   "outputs": [],
   "source": [
    "import os\n",
    "import torch\n",
    "from torch.utils.data import Dataset, DataLoader\n",
    "import numpy as np\n",
    "import h5py\n",
    "from python_speech_features import mfcc\n",
    "import matplotlib.pyplot as plt"
   ]
  },
  {
   "cell_type": "markdown",
   "metadata": {},
   "source": [
    "#"
   ]
  },
  {
   "cell_type": "markdown",
   "metadata": {},
   "source": [
    "## Find files, and list structure"
   ]
  },
  {
   "cell_type": "code",
   "execution_count": 5,
   "metadata": {},
   "outputs": [
    {
     "name": "stdout",
     "output_type": "stream",
     "text": [
      "//uni.au.dk/dfs/Tech_EarEEG/Students/Msc2022_BCM_AkselStark\\data/sourcedata_subj-01.hdf5\n",
      "['DAQ970A', 'gTec', 'streaminfo']\n",
      "Index of the hdf5 file: 0\n",
      "DAQ970A\n",
      "    ['data', 'labels']\n",
      "gTec\n",
      "    ['data', 'labels']\n",
      "streaminfo\n",
      "    No subkeys\n",
      "    [(8, b'cf_float32', 8649.913, b'5125-240-003', b'gTec',  1200, b'gTecUSBamp_UB-2015.01-11', b'Mixed')\n",
      " (3, b'cf_float32', 8651.712, b'5125-240-003', b'DAQ970A', 50000, b'DAQ970A::TCPIP::192.168.56.100', b'Generic')]\n"
     ]
    }
   ],
   "source": [
    "\n",
    "# OS walk through the directory to find the files\n",
    "root_dir = '//uni.au.dk/dfs/Tech_EarEEG/Students/Msc2022_BCM_AkselStark'\n",
    "data = [] # Empty list to store all hdf5 files in the directory\n",
    "\n",
    "for subdir, dirs, files in sorted(os.walk(root_dir)):\n",
    "    for file in files:\n",
    "        if \"hdf5\" in file:\n",
    "            # Load the hdf5 file, and append to the list\n",
    "            data.append(h5py.File(os.path.join(subdir, file), 'r'))\n",
    "            \n",
    "            print(f'{subdir}/{file}') # Print the filename\n",
    "            keylist = list(data[0].keys())\n",
    "            print( keylist) # Print the keys of the hdf5 file\n",
    "            for i,j in enumerate(data):\n",
    "                print(f'Index of the hdf5 file: {i}') # Print the index of the hdf5 file\n",
    "                for key in keylist:\n",
    "                    print(key)\n",
    "                    try: # Try to print the keys. If it fails, print the data\n",
    "                        print(f\"    {list(data[i][key].keys())}\")\n",
    "                    except:\n",
    "                        print(\"    No subkeys\")\n",
    "                        print(f\"    {np.array(data[i][key])}\")\n",
    "                        s = data[i][key]\n",
    "            "
   ]
  },
  {
   "cell_type": "markdown",
   "metadata": {},
   "source": [
    "## Load data, and calculate cepstrum"
   ]
  },
  {
   "cell_type": "code",
   "execution_count": 6,
   "metadata": {},
   "outputs": [],
   "source": [
    "data_bcm = np.array(data[0]['DAQ970A']['data'])\n",
    "\n",
    "pass"
   ]
  },
  {
   "cell_type": "code",
   "execution_count": 59,
   "metadata": {},
   "outputs": [],
   "source": [
    "mfcc_test = mfcc(data_bcm[0:10000000,0],samplerate = 50000, nfft = 1250) # Sample rate is important when using mel scale\n"
   ]
  },
  {
   "cell_type": "markdown",
   "metadata": {},
   "source": [
    "## Plot cepstrum\n"
   ]
  },
  {
   "cell_type": "code",
   "execution_count": 64,
   "metadata": {},
   "outputs": [
    {
     "name": "stderr",
     "output_type": "stream",
     "text": [
      "C:\\Users\\Aksel\\AppData\\Local\\Temp\\ipykernel_17936\\424681871.py:3: RuntimeWarning: invalid value encountered in log\n",
      "  plt.pcolormesh(np.log(mfcc_test[0:50].transpose()),shading='auto')\n"
     ]
    },
    {
     "data": {
      "image/png": "[encoded data removed]",
      "text/plain": [
       "<Figure size 432x288 with 1 Axes>"
      ]
     },
     "metadata": {
      "needs_background": "light"
     },
     "output_type": "display_data"
    }
   ],
   "source": [
    "# Plot spectrogram\n",
    "#plt.pcolormesh(t[0:20], f, np.log(spectrogram_list[segment_index]),shading='auto')\n",
    "plt.pcolormesh(np.log(mfcc_test[0:50].transpose()),shading='auto')\n",
    "plt.ylabel('Cepstrum Coefficients')\n",
    "plt.xlabel('Time [sec]')\n",
    "plt.show()"
   ]
  },
  {
   "cell_type": "code",
   "execution_count": 47,
   "metadata": {},
   "outputs": [],
   "source": [
    "pass"
   ]
  }
 ],
 "metadata": {
  "kernelspec": {
   "display_name": "Python 3.9.4 64-bit",
   "language": "python",
   "name": "python3"
  },
  "language_info": {
   "codemirror_mode": {
    "name": "ipython",
    "version": 3
   },
   "file_extension": ".py",
   "mimetype": "text/x-python",
   "name": "python",
   "nbconvert_exporter": "python",
   "pygments_lexer": "ipython3",
   "version": "3.9.4"
  },
  "orig_nbformat": 4,
  "vscode": {
   "interpreter": {
    "hash": "5b608601bcce3d66bb15d8ba50334176c9c54db5e2e6c3520f282aef80df0bf0"
   }
  }
 },
 "nbformat": 4,
 "nbformat_minor": 2
}
