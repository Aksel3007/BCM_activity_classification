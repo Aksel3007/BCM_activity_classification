{
 "cells": [
  {
   "cell_type": "markdown",
   "metadata": {},
   "source": [
    "# Preprocessing files \n"
   ]
  },
  {
   "cell_type": "code",
   "execution_count": 93,
   "metadata": {},
   "outputs": [],
   "source": [
    "#!python3 -m pip install python_speech_features # Install PSF specifically on python3.\n",
    "import os\n",
    "import torch\n",
    "from torch.utils.data import Dataset, DataLoader\n",
    "import numpy as np\n",
    "import h5py\n",
    "from python_speech_features import mfcc\n",
    "import matplotlib.pyplot as plt\n",
    "import tracemalloc\n",
    "from SerialTriggerDecoder import SerialTriggerDecoder\n",
    "\n",
    "tracemalloc.start() # Enable memory profiling"
   ]
  },
  {
   "cell_type": "markdown",
   "metadata": {},
   "source": [
    "#"
   ]
  },
  {
   "cell_type": "markdown",
   "metadata": {},
   "source": [
    "## Find files, and list structure"
   ]
  },
  {
   "cell_type": "code",
   "execution_count": 4,
   "metadata": {},
   "outputs": [
    {
     "name": "stdout",
     "output_type": "stream",
     "text": [
      "\n",
      "\n",
      "\n",
      "\n",
      "2022-09-20_14-58-39.hdf5\n",
      "bcm_activity_dataset/2022-09-20_14-58-39.hdf5\n",
      "['DAQ970A', 'streaminfo']\n",
      "\n",
      "\n",
      "\n",
      "\n",
      "2022-09-20_15-57-37.hdf5\n",
      "bcm_activity_dataset/2022-09-20_15-57-37.hdf5\n",
      "['DAQ970A', 'streaminfo']\n",
      "\n",
      "\n",
      "\n",
      "\n",
      "2022-09-20_15-18-27.hdf5\n",
      "bcm_activity_dataset/2022-09-20_15-18-27.hdf5\n",
      "['DAQ970A', 'streaminfo']\n",
      "\n",
      "\n",
      "\n",
      "\n",
      "2022-09-20_15-38-11.hdf5\n",
      "bcm_activity_dataset/2022-09-20_15-38-11.hdf5\n",
      "['DAQ970A', 'streaminfo']\n",
      "\n",
      "\n",
      "\n",
      "\n",
      "Index of the hdf5 file: 0\n",
      "DAQ970A\n",
      "    ['data', 'labels']\n",
      "streaminfo\n",
      "    No subkeys\n",
      "    [(4, b'cf_float32', 1695.5818, b'5125-240-002', b'DAQ970A', 50000, b'DAQ970A_TCPIP_192_168_56_100', b'Generic')]\n",
      "\n",
      "\n",
      "\n",
      "\n",
      "Index of the hdf5 file: 1\n",
      "DAQ970A\n",
      "    ['data', 'labels']\n",
      "streaminfo\n",
      "    No subkeys\n",
      "    [(4, b'cf_float32', 5233.929, b'5125-240-002', b'DAQ970A', 50000, b'DAQ970A_TCPIP_192_168_56_100', b'Generic')]\n",
      "\n",
      "\n",
      "\n",
      "\n",
      "Index of the hdf5 file: 2\n",
      "DAQ970A\n",
      "    ['data', 'labels']\n",
      "streaminfo\n",
      "    No subkeys\n",
      "    [(4, b'cf_float32', 2884.1384, b'5125-240-002', b'DAQ970A', 50000, b'DAQ970A_TCPIP_192_168_56_100', b'Generic')]\n",
      "\n",
      "\n",
      "\n",
      "\n",
      "Index of the hdf5 file: 3\n",
      "DAQ970A\n",
      "    ['data', 'labels']\n",
      "streaminfo\n",
      "    No subkeys\n",
      "    [(4, b'cf_float32', 4067.6292, b'5125-240-002', b'DAQ970A', 50000, b'DAQ970A_TCPIP_192_168_56_100', b'Generic')]\n"
     ]
    }
   ],
   "source": [
    "\n",
    "# OS walk through the directory to find the files\n",
    "#root_dir = '//uni.au.dk/dfs/Tech_EarEEG/Students/Msc2022_BCM_AkselStark'\n",
    "root_dir = 'bcm_activity_dataset'\n",
    "data = [] # Empty list to store all hdf5 files in the directory\n",
    "\n",
    "for subdir, dirs, files in sorted(os.walk(root_dir)):\n",
    "    for file in files:\n",
    "        if \"hdf5\" in file:\n",
    "            print(\"\\n\\n\\n\")\n",
    "            # Load the hdf5 file, and append to the list\n",
    "            print(file)\n",
    "            \n",
    "            data.append(h5py.File(os.path.join(subdir, file), 'r'))\n",
    "            \n",
    "            print(f'{subdir}/{file}') # Print the filename\n",
    "            keylist = list(data[0].keys())\n",
    "            print( keylist) # Print the keys of the hdf5 file\n",
    "for i,j in enumerate(data):\n",
    "    print(\"\\n\\n\\n\")\n",
    "    print(f'Index of the hdf5 file: {i}') # Print the index of the hdf5 file\n",
    "    for key in keylist:\n",
    "        print(key)\n",
    "        try: # Try to print the keys. If it fails, print the data\n",
    "            print(f\"    {list(data[i][key].keys())}\")\n",
    "        except:\n",
    "            print(\"    No subkeys\")\n",
    "            print(f\"    {np.array(data[i][key])}\")\n",
    "            s = data[i][key]\n",
    "                        \n",
    "                        \n",
    "pass\n",
    "            "
   ]
  },
  {
   "cell_type": "markdown",
   "metadata": {},
   "source": [
    "## Load data, and calculate cepstrum"
   ]
  },
  {
   "cell_type": "code",
   "execution_count": 43,
   "metadata": {},
   "outputs": [
    {
     "name": "stdout",
     "output_type": "stream",
     "text": [
      "Memory usage: 4059.075812 MB\n",
      "\n",
      "data    [<HDF5 file \"2022-09-20_14-58-39.hdf5\" (mode r)>, <HDF5 file \"2022-09-20_15-57-37.hdf5\" (mode r)>, <HDF5 file \"2022-09-20_15-18-27.hdf5\" (mode r)>, <HDF5 file \"2022-09-20_15-38-11.hdf5\" (mode r)>]\n",
      "Memory usage: 1707.070726 MB\n",
      "\n",
      "Labels    [<HDF5 file \"2022-09-20_14-58-39.hdf5\" (mode r)>, <HDF5 file \"2022-09-20_15-57-37.hdf5\" (mode r)>, <HDF5 file \"2022-09-20_15-18-27.hdf5\" (mode r)>, <HDF5 file \"2022-09-20_15-38-11.hdf5\" (mode r)>]\n",
      "Memory usage: 1903.072118 MB\n",
      "\n",
      "data    [<HDF5 file \"2022-09-20_14-58-39.hdf5\" (mode r)>, <HDF5 file \"2022-09-20_15-57-37.hdf5\" (mode r)>, <HDF5 file \"2022-09-20_15-18-27.hdf5\" (mode r)>, <HDF5 file \"2022-09-20_15-38-11.hdf5\" (mode r)>]\n",
      "Memory usage: 2687.073838 MB\n",
      "\n",
      "Labels    [<HDF5 file \"2022-09-20_14-58-39.hdf5\" (mode r)>, <HDF5 file \"2022-09-20_15-57-37.hdf5\" (mode r)>, <HDF5 file \"2022-09-20_15-18-27.hdf5\" (mode r)>, <HDF5 file \"2022-09-20_15-38-11.hdf5\" (mode r)>]\n",
      "Memory usage: 2883.073942 MB\n",
      "\n",
      "data    [<HDF5 file \"2022-09-20_14-58-39.hdf5\" (mode r)>, <HDF5 file \"2022-09-20_15-57-37.hdf5\" (mode r)>, <HDF5 file \"2022-09-20_15-18-27.hdf5\" (mode r)>, <HDF5 file \"2022-09-20_15-38-11.hdf5\" (mode r)>]\n",
      "Memory usage: 3667.074486 MB\n",
      "\n",
      "Labels    [<HDF5 file \"2022-09-20_14-58-39.hdf5\" (mode r)>, <HDF5 file \"2022-09-20_15-57-37.hdf5\" (mode r)>, <HDF5 file \"2022-09-20_15-18-27.hdf5\" (mode r)>, <HDF5 file \"2022-09-20_15-38-11.hdf5\" (mode r)>]\n",
      "Memory usage: 3863.074606 MB\n",
      "\n",
      "data    [<HDF5 file \"2022-09-20_14-58-39.hdf5\" (mode r)>, <HDF5 file \"2022-09-20_15-57-37.hdf5\" (mode r)>, <HDF5 file \"2022-09-20_15-18-27.hdf5\" (mode r)>, <HDF5 file \"2022-09-20_15-38-11.hdf5\" (mode r)>]\n",
      "Memory usage: 4647.075134 MB\n",
      "\n",
      "Labels    [<HDF5 file \"2022-09-20_14-58-39.hdf5\" (mode r)>, <HDF5 file \"2022-09-20_15-57-37.hdf5\" (mode r)>, <HDF5 file \"2022-09-20_15-18-27.hdf5\" (mode r)>, <HDF5 file \"2022-09-20_15-38-11.hdf5\" (mode r)>]\n",
      "Memory usage: 4843.075246 MB\n",
      "\n"
     ]
    }
   ],
   "source": [
    "# Load data\n",
    "\n",
    "print(f'Memory usage: {tracemalloc.get_traced_memory()[0]/1000000} MB\\n')\n",
    "data_bcm = []\n",
    "labels_bcm = []\n",
    "for file in data:\n",
    "    print(f\"data    {data}\")\n",
    "    data_full = np.array(data[0]['DAQ970A']['data'])\n",
    "    data_bcm.append(data_full[:,0])\n",
    "    data_bcm.append(data_full[:,1])\n",
    "    print(f'Memory usage: {tracemalloc.get_traced_memory()[0]/1000000} MB\\n')\n",
    "\n",
    "    print(f\"Labels    {data}\")\n",
    "    labels_bcm.append(data[0]['DAQ970A']['data'][:,3])\n",
    "    print(f'Memory usage: {tracemalloc.get_traced_memory()[0]/1000000} MB\\n')\n",
    "\n",
    "pass"
   ]
  },
  {
   "cell_type": "code",
   "execution_count": 6,
   "metadata": {},
   "outputs": [
    {
     "name": "stdout",
     "output_type": "stream",
     "text": [
      "!!!!!!!!!!!\n",
      "!!!!!!!!!!!\n",
      "!!!!!!!!!!!\n",
      "!!!!!!!!!!!\n",
      "!!!!!!!!!!!\n",
      "!!!!!!!!!!!\n",
      "!!!!!!!!!!!\n",
      "!!!!!!!!!!!\n",
      "Memory usage: 3953.129315 MB\n",
      "\n"
     ]
    }
   ],
   "source": [
    "# Create MFCC's\n",
    "\n",
    "data_mfcc = [] # Empty list to store the mel frequency cepstral coefficients (list of numpy arrays)\n",
    "\n",
    "for datastream in data_bcm:\n",
    "    data_mfcc.append(mfcc(datastream,samplerate = 50000, nfft = 1600, winlen=0.032, winstep=0.032, numcep=16))\n",
    "    print('MFCC created')\n",
    "    \n",
    "print(f'Memory usage: {tracemalloc.get_traced_memory()[0]/1000000} MB\\n')"
   ]
  },
  {
   "cell_type": "markdown",
   "metadata": {},
   "source": [
    "## Save to files"
   ]
  },
  {
   "cell_type": "code",
   "execution_count": 8,
   "metadata": {},
   "outputs": [],
   "source": [
    "for i, array in enumerate(data_mfcc):\n",
    "    #save the array to a numpy file\n",
    "    np.save(f'data/bcm/mfcc_array{i}.npy', array)\n"
   ]
  },
  {
   "cell_type": "markdown",
   "metadata": {},
   "source": [
    "## Plot cepstrum\n"
   ]
  },
  {
   "cell_type": "code",
   "execution_count": 39,
   "metadata": {},
   "outputs": [
    {
     "data": {
      "image/png": "[encoded data removed]",
      "text/plain": [
       "<Figure size 432x288 with 1 Axes>"
      ]
     },
     "metadata": {
      "needs_background": "light"
     },
     "output_type": "display_data"
    }
   ],
   "source": [
    "# Plot spectrogram\n",
    "#plt.pcolormesh(t[0:20], f, np.log(spectrogram_list[segment_index]),shading='auto')\n",
    "#plt.pcolormesh(np.log(data_mfcc[4][20605:20610,1:].transpose()),shading='auto')\n",
    "plt.pcolormesh((data_mfcc[4][0:31*90,1:].transpose()),shading='auto')\n",
    "plt.ylabel('Cepstrum Coefficients')\n",
    "plt.xlabel('Time [sec]')\n",
    "plt.show()"
   ]
  },
  {
   "cell_type": "markdown",
   "metadata": {},
   "source": [
    "# Create the labels"
   ]
  },
  {
   "cell_type": "code",
   "execution_count": 129,
   "metadata": {},
   "outputs": [
    {
     "data": {
      "image/png": "[encoded data removed]",
      "text/plain": [
       "<Figure size 720x360 with 1 Axes>"
      ]
     },
     "metadata": {
      "needs_background": "light"
     },
     "output_type": "display_data"
    },
    {
     "name": "stdout",
     "output_type": "stream",
     "text": [
      "[1, 0, 1]\n"
     ]
    }
   ],
   "source": [
    "# Plot the label channel\n",
    "\n",
    "\n",
    "fig = plt.figure(figsize=(10, 5))\n",
    "\n",
    "jump = 1700*2\n",
    "len = 100000\n",
    "#pos = 4010000\n",
    "pos = 4000000+10*50000\n",
    "\n",
    "\n",
    "segment = labels_bcm[0][pos:pos+len][0::jump]\n",
    "\n",
    "\n",
    "\n",
    "plt.plot(segment, label='Label Channel')\n",
    "plt.xlabel('Samples')\n",
    "plt.ylabel('Amplitude')\n",
    "plt.legend()\n",
    "\n",
    "\n",
    "\n",
    "\n",
    "plt.grid(which = 'minor')\n",
    "plt.show()\n",
    "\n",
    "#decode signal from manchester encoding\n",
    "def manchester_decode(data):\n",
    "    manchester_decoded = []\n",
    "    for i in range(0,data.shape[0]-1,2):\n",
    "        if data[i] == 0 and data[i+1] == 1:\n",
    "            manchester_decoded.append(0)\n",
    "        elif data[i] == 1 and data[i+1] == 0:\n",
    "            manchester_decoded.append(1)\n",
    "        #else:\n",
    "            #manchester_decoded.append(2) #error\n",
    "    return manchester_decoded\n",
    "    \n",
    "\n",
    "#print(np.rint(segment))\n",
    "print(manchester_decode(np.rint(segment)))"
   ]
  },
  {
   "cell_type": "code",
   "execution_count": 99,
   "metadata": {},
   "outputs": [
    {
     "ename": "TypeError",
     "evalue": "__init__() missing 1 required positional argument: 'trigger'",
     "output_type": "error",
     "traceback": [
      "\u001b[0;31m---------------------------------------------------------------------------\u001b[0m",
      "\u001b[0;31mTypeError\u001b[0m                                 Traceback (most recent call last)",
      "\u001b[1;32m/home/aron/BCM_activity_classification/preprocessing_bcm.ipynb Cell 15\u001b[0m in \u001b[0;36m<module>\u001b[0;34m\u001b[0m\n\u001b[0;32m----> <a href='vscode-notebook-cell://ssh-remote%2Bgpucluster.st.lab.au.dk/home/aron/BCM_activity_classification/preprocessing_bcm.ipynb#X20sdnNjb2RlLXJlbW90ZQ%3D%3D?line=0'>1</a>\u001b[0m decoder \u001b[39m=\u001b[39m SerialTriggerDecoder(fsEEG \u001b[39m=\u001b[39;49m \u001b[39m50000\u001b[39;49m,clkSerial \u001b[39m=\u001b[39;49m \u001b[39m1695.5818\u001b[39;49m, transError \u001b[39m=\u001b[39;49m \u001b[39m0.01\u001b[39;49m, thrError \u001b[39m=\u001b[39;49m \u001b[39m0.01\u001b[39;49m)\n\u001b[1;32m      <a href='vscode-notebook-cell://ssh-remote%2Bgpucluster.st.lab.au.dk/home/aron/BCM_activity_classification/preprocessing_bcm.ipynb#X20sdnNjb2RlLXJlbW90ZQ%3D%3D?line=2'>3</a>\u001b[0m test \u001b[39m=\u001b[39m decoder\u001b[39m.\u001b[39mdecode(manchester_decode([data[\u001b[39m0\u001b[39m]]))\n",
      "\u001b[0;31mTypeError\u001b[0m: __init__() missing 1 required positional argument: 'trigger'"
     ]
    }
   ],
   "source": [
    "decoder = SerialTriggerDecoder(fsEEG = 50000,clkSerial = 1695.5818, transError = 0.01, thrError = 0.01)\n",
    "\n",
    "test = decoder.decode(manchester_decode([data[0]]))"
   ]
  }
 ],
 "metadata": {
  "kernelspec": {
   "display_name": "Python 3 (ipykernel)",
   "language": "python",
   "name": "python3"
  },
  "language_info": {
   "codemirror_mode": {
    "name": "ipython",
    "version": 3
   },
   "file_extension": ".py",
   "mimetype": "text/x-python",
   "name": "python",
   "nbconvert_exporter": "python",
   "pygments_lexer": "ipython3",
   "version": "3.8.10"
  },
  "vscode": {
   "interpreter": {
    "hash": "916dbcbb3f70747c44a77c7bcd40155683ae19c65e1c03b4aa3499c5328201f1"
   }
  }
 },
 "nbformat": 4,
 "nbformat_minor": 4
}
