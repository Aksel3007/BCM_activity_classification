{
 "cells": [
  {
   "cell_type": "markdown",
   "metadata": {},
   "source": [
    "# Preprocessing files \n"
   ]
  },
  {
   "cell_type": "code",
   "execution_count": 1,
   "metadata": {},
   "outputs": [],
   "source": [
    "#!python3 -m pip install python_speech_features # Install PSF specifically on python3.\n",
    "import os\n",
    "import torch\n",
    "from torch.utils.data import Dataset, DataLoader\n",
    "import numpy as np\n",
    "import h5py\n",
    "from python_speech_features import mfcc\n",
    "import matplotlib.pyplot as plt\n",
    "import tracemalloc\n",
    "from SerialTriggerDecoder import SerialTriggerDecoder\n",
    "from scipy import signal\n",
    "\n",
    "tracemalloc.start() # Enable memory profiling"
   ]
  },
  {
   "cell_type": "markdown",
   "metadata": {},
   "source": [
    "#"
   ]
  },
  {
   "cell_type": "markdown",
   "metadata": {},
   "source": [
    "## Find files, and list structure"
   ]
  },
  {
   "cell_type": "code",
   "execution_count": 2,
   "metadata": {},
   "outputs": [
    {
     "name": "stdout",
     "output_type": "stream",
     "text": [
      "\n",
      "\n",
      "\n",
      "\n",
      "2022-09-20_14-58-39.hdf5\n",
      "bcm_activity_dataset/2022-09-20_14-58-39.hdf5\n",
      "['DAQ970A', 'streaminfo']\n",
      "\n",
      "\n",
      "\n",
      "\n",
      "2022-09-20_15-57-37.hdf5\n",
      "bcm_activity_dataset/2022-09-20_15-57-37.hdf5\n",
      "['DAQ970A', 'streaminfo']\n",
      "\n",
      "\n",
      "\n",
      "\n",
      "2022-09-20_15-18-27.hdf5\n",
      "bcm_activity_dataset/2022-09-20_15-18-27.hdf5\n",
      "['DAQ970A', 'streaminfo']\n",
      "\n",
      "\n",
      "\n",
      "\n",
      "2022-09-20_15-38-11.hdf5\n",
      "bcm_activity_dataset/2022-09-20_15-38-11.hdf5\n",
      "['DAQ970A', 'streaminfo']\n",
      "\n",
      "\n",
      "\n",
      "\n",
      "Index of the hdf5 file: 0\n",
      "DAQ970A\n",
      "    ['data', 'labels']\n",
      "streaminfo\n",
      "    No subkeys\n",
      "    [(4, b'cf_float32', 5233.929, b'5125-240-002', b'DAQ970A', 50000, b'DAQ970A_TCPIP_192_168_56_100', b'Generic')]\n",
      "\n",
      "\n",
      "\n",
      "\n",
      "Index of the hdf5 file: 1\n",
      "DAQ970A\n",
      "    ['data', 'labels']\n",
      "streaminfo\n",
      "    No subkeys\n",
      "    [(4, b'cf_float32', 2884.1384, b'5125-240-002', b'DAQ970A', 50000, b'DAQ970A_TCPIP_192_168_56_100', b'Generic')]\n",
      "\n",
      "\n",
      "\n",
      "\n",
      "Index of the hdf5 file: 2\n",
      "DAQ970A\n",
      "    ['data', 'labels']\n",
      "streaminfo\n",
      "    No subkeys\n",
      "    [(4, b'cf_float32', 4067.6292, b'5125-240-002', b'DAQ970A', 50000, b'DAQ970A_TCPIP_192_168_56_100', b'Generic')]\n"
     ]
    }
   ],
   "source": [
    "\n",
    "# OS walk through the directory to find the files\n",
    "#root_dir = '//uni.au.dk/dfs/Tech_EarEEG/Students/Msc2022_BCM_AkselStark'\n",
    "root_dir = 'bcm_activity_dataset'\n",
    "data = [] # Empty list to store all hdf5 files in the directory\n",
    "\n",
    "for subdir, dirs, files in sorted(os.walk(root_dir)):\n",
    "    for file in files:\n",
    "        if \"hdf5\" in file:\n",
    "            print(\"\\n\\n\\n\")\n",
    "            # Load the hdf5 file, and append to the list\n",
    "            print(file)\n",
    "            \n",
    "            data.append(h5py.File(os.path.join(subdir, file), 'r'))\n",
    "            \n",
    "            print(f'{subdir}/{file}') # Print the filename\n",
    "            keylist = list(data[0].keys())\n",
    "            print( keylist) # Print the keys of the hdf5 file\n",
    "            \n",
    "            \n",
    "data = data[1:] # Create subset of the files, to create training and validation set\n",
    "\n",
    "for i,j in enumerate(data):\n",
    "    print(\"\\n\\n\\n\")\n",
    "    print(f'Index of the hdf5 file: {i}') # Print the index of the hdf5 file\n",
    "    for key in keylist:\n",
    "        print(key)\n",
    "        try: # Try to print the keys. If it fails, print the data\n",
    "            print(f\"    {list(data[i][key].keys())}\")\n",
    "        except:\n",
    "            print(\"    No subkeys\")\n",
    "            print(f\"    {np.array(data[i][key])}\")\n",
    "            s = data[i][key]\n",
    "                        \n",
    "                        \n",
    "\n"
   ]
  },
  {
   "cell_type": "markdown",
   "metadata": {},
   "source": [
    "## Load data, and labels/triggers"
   ]
  },
  {
   "cell_type": "code",
   "execution_count": 3,
   "metadata": {},
   "outputs": [
    {
     "name": "stdout",
     "output_type": "stream",
     "text": [
      "Memory usage: 0.156605 MB\n",
      "\n",
      "data    <HDF5 file \"2022-09-20_15-57-37.hdf5\" (mode r)>\n",
      "Memory usage: 784.156932 MB\n",
      "\n",
      "Labels    <HDF5 file \"2022-09-20_15-57-37.hdf5\" (mode r)>\n",
      "Memory usage: 980.158148 MB\n",
      "\n",
      "data    <HDF5 file \"2022-09-20_15-18-27.hdf5\" (mode r)>\n",
      "Memory usage: 1764.15974 MB\n",
      "\n",
      "Labels    <HDF5 file \"2022-09-20_15-18-27.hdf5\" (mode r)>\n",
      "Memory usage: 1960.159852 MB\n",
      "\n",
      "data    <HDF5 file \"2022-09-20_15-38-11.hdf5\" (mode r)>\n",
      "Memory usage: 2744.1605 MB\n",
      "\n",
      "Labels    <HDF5 file \"2022-09-20_15-38-11.hdf5\" (mode r)>\n",
      "Memory usage: 2940.160612 MB\n",
      "\n"
     ]
    }
   ],
   "source": [
    "# Load data\n",
    "\n",
    "print(f'Memory usage: {tracemalloc.get_traced_memory()[0]/1000000} MB\\n')\n",
    "data_bcm = []\n",
    "labels_bcm = []\n",
    "for file in data:\n",
    "    print(f\"data    {file}\")\n",
    "    data_full = np.array(file['DAQ970A']['data'])\n",
    "    data_bcm.append(data_full[:,0])\n",
    "    data_bcm.append(data_full[:,1])\n",
    "    print(f'Memory usage: {tracemalloc.get_traced_memory()[0]/1000000} MB\\n')\n",
    "\n",
    "    print(f\"Labels    {file}\")\n",
    "    labels_bcm.append(file['DAQ970A']['data'][:,3])\n",
    "    print(f'Memory usage: {tracemalloc.get_traced_memory()[0]/1000000} MB\\n')\n",
    "\n",
    "pass"
   ]
  },
  {
   "cell_type": "markdown",
   "metadata": {},
   "source": [
    "## Plot cepstrum\n"
   ]
  },
  {
   "cell_type": "code",
   "execution_count": 18,
   "metadata": {},
   "outputs": [],
   "source": [
    "# Plot spectrogram\n",
    "#plt.pcolormesh(t[0:20], f, np.log(spectrogram_list[segment_index]),shading='auto')\n",
    "#plt.pcolormesh(np.log(data_mfcc[4][20605:20610,1:].transpose()),shading='auto')\n",
    "def plot_mfcc(data_mfcc):\n",
    "    fig = plt.figure(figsize=(30, 5))\n",
    "    plt.pcolormesh((data_mfcc),shading='auto')\n",
    "    plt.ylabel('Mel Cepstrum Coefficients')\n",
    "    plt.xlabel('Time [sec]')\n",
    "    plt.show()"
   ]
  },
  {
   "cell_type": "markdown",
   "metadata": {},
   "source": [
    "# Create the labels"
   ]
  },
  {
   "cell_type": "markdown",
   "metadata": {},
   "source": [
    "## Plot and test the manchester encoding"
   ]
  },
  {
   "cell_type": "code",
   "execution_count": 19,
   "metadata": {},
   "outputs": [
    {
     "data": {
      "image/png": "[encoded data removed]",
      "text/plain": [
       "<Figure size 2160x360 with 1 Axes>"
      ]
     },
     "metadata": {
      "needs_background": "light"
     },
     "output_type": "display_data"
    }
   ],
   "source": [
    "# Doesn't work right now\n",
    "\n",
    "# Plot the label channel\n",
    "pos = 0\n",
    "\n",
    "fig = plt.figure(figsize=(30, 5))\n",
    "\n",
    "jump = 2 # Measured: clock of manchester encoding\n",
    "seg_len = 60000\n",
    "segment = labels_bcm[0][pos:pos+seg_len][0::jump]\n",
    "\n",
    "plt.plot(segment, label='Label Channel')\n",
    "plt.xlabel('Samples')\n",
    "plt.ylabel('Amplitude')\n",
    "plt.legend()\n",
    "\n",
    "plt.grid(which = 'minor')\n",
    "\n",
    "#decode signal from manchester encoding\n",
    "def manchester_decode(data):\n",
    "    manchester_decoded = []\n",
    "    for i in range(0,data.shape[0]-1,2):\n",
    "        if data[i] == 0 and data[i+1] == 1:\n",
    "            manchester_decoded.append(0)\n",
    "        elif data[i] == 1 and data[i+1] == 0:\n",
    "            manchester_decoded.append(1)\n",
    "        else:\n",
    "            manchester_decoded.append(8888) #error\n",
    "    return manchester_decoded\n",
    "    \n",
    "\n",
    "#print(np.rint(segment))\n",
    "#print(manchester_decode(np.rint(segment)))\n",
    "plt.show()"
   ]
  },
  {
   "cell_type": "markdown",
   "metadata": {},
   "source": [
    "## Find the sections, and label them"
   ]
  },
  {
   "cell_type": "code",
   "execution_count": 4,
   "metadata": {},
   "outputs": [
    {
     "name": "stdout",
     "output_type": "stream",
     "text": [
      "i: 21350\n",
      "Time: 0.427 s\n",
      "i: 521347\n",
      "Time: 10.42694 s\n",
      "i: 1021344\n",
      "Time: 20.42688 s\n",
      "i: 1521341\n",
      "Time: 30.42682 s\n",
      "i: 2021339\n",
      "Time: 40.42678 s\n",
      "i: 2521336\n",
      "Time: 50.42672 s\n",
      "i: 3021333\n",
      "Time: 60.42666 s\n",
      "i: 3521330\n",
      "Time: 70.4266 s\n",
      "i: 4021327\n",
      "Time: 80.42654 s\n",
      "i: 4521324\n",
      "Time: 90.42648 s\n",
      "i: 5021084\n",
      "Time: 100.42168 s\n",
      "i: 5521081\n",
      "Time: 110.42162 s\n",
      "i: 6021078\n",
      "Time: 120.42156 s\n",
      "i: 6521075\n",
      "Time: 130.4215 s\n",
      "i: 7021072\n",
      "Time: 140.42144 s\n",
      "i: 7469096\n",
      "Time: 149.38192 s\n",
      "i: 8021066\n",
      "Time: 160.42132 s\n",
      "i: 8521064\n",
      "Time: 170.42128 s\n",
      "i: 9021061\n",
      "Time: 180.42122 s\n",
      "i: 9521058\n",
      "Time: 190.42116 s\n",
      "i: 10018479\n",
      "Time: 200.36958 s\n",
      "i: 10518476\n",
      "Time: 210.36952 s\n",
      "i: 11018473\n",
      "Time: 220.36946 s\n",
      "i: 11518470\n",
      "Time: 230.3694 s\n",
      "i: 12018467\n",
      "Time: 240.36934 s\n",
      "i: 12518464\n",
      "Time: 250.36928 s\n",
      "i: 13018461\n",
      "Time: 260.36922 s\n",
      "i: 13518459\n",
      "Time: 270.36918 s\n",
      "i: 14018456\n",
      "Time: 280.36912 s\n",
      "i: 14518453\n",
      "Time: 290.36906 s\n",
      "i: 15022377\n",
      "Time: 300.44754 s\n",
      "i: 15522374\n",
      "Time: 310.44748 s\n",
      "i: 16022371\n",
      "Time: 320.44742 s\n",
      "i: 16522368\n",
      "Time: 330.44736 s\n",
      "i: 17022366\n",
      "Time: 340.44732 s\n",
      "i: 17522363\n",
      "Time: 350.44726 s\n",
      "i: 18022360\n",
      "Time: 360.4472 s\n",
      "i: 18522357\n",
      "Time: 370.44714 s\n",
      "i: 19022354\n",
      "Time: 380.44708 s\n",
      "i: 19522351\n",
      "Time: 390.44702 s\n",
      "i: 20020312\n",
      "Time: 400.40624 s\n",
      "i: 20520309\n",
      "Time: 410.40618 s\n",
      "i: 21020307\n",
      "Time: 420.40614 s\n",
      "i: 21520304\n",
      "Time: 430.40608 s\n",
      "i: 22020301\n",
      "Time: 440.40602 s\n",
      "i: 22520298\n",
      "Time: 450.40596 s\n",
      "i: 23020295\n",
      "Time: 460.4059 s\n",
      "i: 23520292\n",
      "Time: 470.40584 s\n",
      "i: 24020289\n",
      "Time: 480.40578 s\n",
      "i: 24520286\n",
      "Time: 490.40572 s\n",
      "i: 25021190\n",
      "Time: 500.4238 s\n",
      "i: 25521187\n",
      "Time: 510.42374 s\n",
      "i: 26021184\n",
      "Time: 520.42368 s\n",
      "i: 26521181\n",
      "Time: 530.42362 s\n",
      "i: 27021178\n",
      "Time: 540.42356 s\n",
      "i: 27521176\n",
      "Time: 550.42352 s\n",
      "i: 28021173\n",
      "Time: 560.42346 s\n",
      "i: 28521170\n",
      "Time: 570.4234 s\n",
      "i: 29021167\n",
      "Time: 580.42334 s\n",
      "i: 29521164\n",
      "Time: 590.42328 s\n",
      "i: 30030510\n",
      "Time: 600.6102 s\n",
      "i: 30530507\n",
      "Time: 610.61014 s\n",
      "i: 31030504\n",
      "Time: 620.61008 s\n",
      "i: 31530502\n",
      "Time: 630.61004 s\n",
      "i: 32030499\n",
      "Time: 640.60998 s\n",
      "i: 32530496\n",
      "Time: 650.60992 s\n",
      "i: 33024096\n",
      "Time: 660.48192 s\n",
      "i: 33530490\n",
      "Time: 670.6098 s\n",
      "i: 34030487\n",
      "Time: 680.60974 s\n",
      "i: 34530484\n",
      "Time: 690.60968 s\n",
      "i: 35030481\n",
      "Time: 700.60962 s\n",
      "i: 35530479\n",
      "Time: 710.60958 s\n",
      "i: 36030476\n",
      "Time: 720.60952 s\n",
      "i: 36530473\n",
      "Time: 730.60946 s\n",
      "i: 37030470\n",
      "Time: 740.6094 s\n",
      "i: 37530467\n",
      "Time: 750.60934 s\n",
      "i: 38030464\n",
      "Time: 760.60928 s\n",
      "i: 38530461\n",
      "Time: 770.60922 s\n",
      "i: 39030459\n",
      "Time: 780.60918 s\n",
      "i: 39561715\n",
      "Time: 791.2343 s\n",
      "i: 40061712\n",
      "Time: 801.23424 s\n",
      "i: 40561709\n",
      "Time: 811.23418 s\n",
      "i: 41061706\n",
      "Time: 821.23412 s\n",
      "i: 41561704\n",
      "Time: 831.23408 s\n",
      "i: 42061701\n",
      "Time: 841.23402 s\n",
      "i: 42561698\n",
      "Time: 851.23396 s\n",
      "i: 43061695\n",
      "Time: 861.2339 s\n",
      "i: 43561692\n",
      "Time: 871.23384 s\n",
      "i: 44061689\n",
      "Time: 881.23378 s\n",
      "i: 44561686\n",
      "Time: 891.23372 s\n",
      "i: 45061683\n",
      "Time: 901.23366 s\n",
      "i: 45561681\n",
      "Time: 911.23362 s\n",
      "i: 46061678\n",
      "Time: 921.23356 s\n",
      "i: 46561675\n",
      "Time: 931.2335 s\n",
      "i: 47061672\n",
      "Time: 941.23344 s\n",
      "i: 47561669\n",
      "Time: 951.23338 s\n",
      "i: 48061666\n",
      "Time: 961.23332 s\n",
      "i: 48561663\n",
      "Time: 971.23326 s\n"
     ]
    }
   ],
   "source": [
    "# Creates a list of the positions of the triggers (and plot them for verification)\n",
    "\n",
    "last_decoded = -500000\n",
    "label_index_list = [] # List of the indices of the labels\n",
    "for i, j in enumerate(np.rint(labels_bcm[0])):\n",
    "    \n",
    "    if int(j) and (i > last_decoded+50000*8):\n",
    "        #print(manchester_decode(np.rint(labels_bcm[0][i-900:i+100000][0::2480])))\n",
    "        print(f\"i: {i}\")\n",
    "        print(f\"Time: {i/50000} s\")\n",
    "        last_decoded = i\n",
    "        \n",
    "        label_index_list.append(i)\n",
    "        ''' # Plot\n",
    "        fig = plt.figure(figsize=(30, 5))\n",
    "        plt.plot(labels_bcm[1][i-900:i+50000], label='Label Channel')\n",
    "        plt.xlabel('Samples')\n",
    "        plt.ylabel('Amplitude')\n",
    "        plt.legend()\n",
    "\n",
    "        plt.grid(which = 'minor')\n",
    "        plt.show()\n",
    "        '''\n",
    "    \n"
   ]
  },
  {
   "cell_type": "code",
   "execution_count": 5,
   "metadata": {},
   "outputs": [],
   "source": [
    "# Make a list of the labels for the triggers\n",
    "\n",
    "index_labels = [] # A list of labels for the indexes in label_index_list\n",
    "\n",
    "for i in range(6):\n",
    "    index_labels.extend([0,0,0,1,1,1,2,2,2,-1])\n",
    "\n",
    "for i in range(18): index_labels.append(3)\n",
    "index_labels.append(-1)\n",
    "\n",
    "for i in range(18): index_labels.append(4)\n",
    "index_labels.append(-1)"
   ]
  },
  {
   "cell_type": "markdown",
   "metadata": {},
   "source": [
    "## Concatenate the data from each class, calculate the mfcc's and save to 5 files (one for each class)"
   ]
  },
  {
   "cell_type": "code",
   "execution_count": 6,
   "metadata": {},
   "outputs": [],
   "source": [
    "# Add the sections to 5 lists corresponding to the 5 different labels/classes\n",
    "''' \n",
    "Classes:\n",
    "    Breathing: 0\n",
    "    Snoring: 1\n",
    "    Hold_breath: 2\n",
    "    Chewing: 3\n",
    "    Talking: 4\n",
    "'''\n",
    "fs = 50000\n",
    "nested_class_list = [[],[],[],[],[]]\n",
    "\n",
    "\n",
    "for datastream in data_bcm: # Loop through the data \n",
    "    for i, j in enumerate(label_index_list):\n",
    "        if index_labels[i]>=0:\n",
    "            nested_class_list[index_labels[i]].append(datastream[j:j+fs*10]) # Append \n",
    "            \n"
   ]
  },
  {
   "cell_type": "code",
   "execution_count": 9,
   "metadata": {},
   "outputs": [],
   "source": [
    "\n",
    "# Concatenate the arrays, calc mfccs and save them to files\n",
    "for i, j in enumerate(nested_class_list):\n",
    "    stacked_array = np.hstack(j)\n",
    "    \n",
    "    # Plot the stacked array\n",
    "    '''fig = plt.figure(figsize=(30, 5))\n",
    "    plt.plot(stacked_array, label=f'Data for label {i}')\n",
    "    plt.xlabel('Samples')\n",
    "    plt.ylabel('Amplitude')\n",
    "    plt.legend()\n",
    "    plt.grid(which = 'minor')\n",
    "    plt.show()'''\n",
    "    \n",
    "    # Create and save mfccs\n",
    "    data_mfcc = mfcc(stacked_array, samplerate = fs, nfft = 1600, winlen=0.032, winstep=0.032, numcep=16) # Sample rate is important when using mel scale\n",
    "    \n",
    "    #plot_mfcc(data_mfcc)\n",
    "    np.save(f'data/bcm/train/{i}.npy', data_mfcc)\n",
    "    \n",
    "    '''# Create and save periodogram data\n",
    "    f,t, Pxx = signal.spectrogram(stacked_array, fs = fs ,nperseg=int(0.032*fs), noverlap = 0)\n",
    "    print(data_mfcc.shape)\n",
    "    print(Pxx.shape)\n",
    "    pass\n",
    "    Pxx_out = np.zeros(data_mfcc.shape)\n",
    "    for i, row in enumerate(Pxx):\n",
    "        if i '''\n",
    "    \n",
    "    #np.save(f'data/bcm_spectrograms/{i}.npy', data_mfcc)\n",
    "    \n",
    "    \n",
    "    "
   ]
  },
  {
   "cell_type": "code",
   "execution_count": 24,
   "metadata": {},
   "outputs": [
    {
     "data": {
      "text/plain": [
       "\"\\nfor i in labels_bcm:\\n    fig = plt.figure(figsize=(30, 5))\\n    plt.plot(i, label='Label Channel')\\n    plt.xlabel('Samples')\\n    plt.ylabel('Amplitude')\\n    plt.legend()\\n    plt.grid(which = 'minor')\\n    plt.show()\""
      ]
     },
     "execution_count": 24,
     "metadata": {},
     "output_type": "execute_result"
    }
   ],
   "source": [
    "\n",
    "\n",
    "# Plot the full measurements\n",
    "'''for i in data_bcm:\n",
    "    fig = plt.figure(figsize=(30, 5))\n",
    "    plt.plot(i, label='Label Channel')\n",
    "    plt.xlabel('Samples')\n",
    "    plt.ylabel('Amplitude')\n",
    "    plt.legend()\n",
    "    plt.grid(which = 'minor')\n",
    "    plt.show()\n",
    "'''\n",
    "'''\n",
    "for i in data_bcm: \n",
    "    mfccs = mfcc(i, samplerate = fs, nfft = 1600, winlen=0.032, winstep=0.032, numcep=16)\n",
    "    plot_mfcc(mfccs)\n",
    "'''\n",
    "'''\n",
    "for i in labels_bcm:\n",
    "    fig = plt.figure(figsize=(30, 5))\n",
    "    plt.plot(i, label='Label Channel')\n",
    "    plt.xlabel('Samples')\n",
    "    plt.ylabel('Amplitude')\n",
    "    plt.legend()\n",
    "    plt.grid(which = 'minor')\n",
    "    plt.show()'''"
   ]
  },
  {
   "cell_type": "code",
   "execution_count": 25,
   "metadata": {},
   "outputs": [
    {
     "name": "stdout",
     "output_type": "stream",
     "text": [
      "data/bcm//0.npy\n",
      "data/bcm//1.npy\n",
      "data/bcm//2.npy\n",
      "data/bcm//3.npy\n",
      "data/bcm//4.npy\n"
     ]
    }
   ],
   "source": [
    "# Import the dataset class, and make sure the data is unchanged after loading\n",
    "from BCM_dataset_v2 import bcmDataset\n",
    "from BCM_dataset_v2 import concat_train_test_datasets\n",
    "\n",
    "train_set, val_set = concat_train_test_datasets('data/bcm/', window_size = 3, stride = 3, MFCC_stride = 0.032)\n"
   ]
  },
  {
   "cell_type": "code",
   "execution_count": 26,
   "metadata": {},
   "outputs": [
    {
     "name": "stdout",
     "output_type": "stream",
     "text": [
      "torch.Size([93, 16])\n",
      "tensor([0., 0., 0., 0., 1.])\n",
      "tensor([0., 1., 0., 0., 0.])\n",
      "tensor([0., 1., 0., 0., 0.])\n",
      "tensor([0., 0., 1., 0., 0.])\n",
      "(372, 16)\n"
     ]
    },
    {
     "data": {
      "image/png": "[encoded data removed]",
      "text/plain": [
       "<Figure size 2160x360 with 1 Axes>"
      ]
     },
     "metadata": {
      "needs_background": "light"
     },
     "output_type": "display_data"
    }
   ],
   "source": [
    "\n",
    "print(train_set[0][0].shape)\n",
    "\n",
    "mfcc_from_dataset_list = []\n",
    "\n",
    "for i,j in enumerate(val_set):\n",
    "    if i > 4:\n",
    "        mfcc_from_dataset_list.append(j[0])\n",
    "        print(j[1])\n",
    "    if len(mfcc_from_dataset_list) > 3: break\n",
    "    \n",
    "dataset_mfccs = np.vstack(mfcc_from_dataset_list)\n",
    "\n",
    "print(dataset_mfccs.shape)\n",
    "    \n",
    "\n",
    "plot_mfcc(dataset_mfccs.transpose())"
   ]
  }
 ],
 "metadata": {
  "kernelspec": {
   "display_name": "Python 3 (ipykernel)",
   "language": "python",
   "name": "python3"
  },
  "language_info": {
   "codemirror_mode": {
    "name": "ipython",
    "version": 3
   },
   "file_extension": ".py",
   "mimetype": "text/x-python",
   "name": "python",
   "nbconvert_exporter": "python",
   "pygments_lexer": "ipython3",
   "version": "3.8.10"
  },
  "vscode": {
   "interpreter": {
    "hash": "916dbcbb3f70747c44a77c7bcd40155683ae19c65e1c03b4aa3499c5328201f1"
   }
  }
 },
 "nbformat": 4,
 "nbformat_minor": 4
}
